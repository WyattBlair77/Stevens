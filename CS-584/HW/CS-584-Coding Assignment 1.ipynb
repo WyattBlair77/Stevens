{
 "cells": [
  {
   "cell_type": "markdown",
   "metadata": {},
   "source": [
    "# M1.C4: Assignment: Python Coding \\#1\n",
    "Wyatt Blair\n",
    "\n",
    "9/17/24\n",
    "\n",
    "___\n",
    "\n",
    "## Assignment\n",
    "\n",
    "This assignment is designed to have you apply the concepts discussed in this module. If you have questions about the assignment, consider posting your question on the discussion board or reach out to the instructor. \n",
    "\n",
    "Write a Python program that will read a NxN matrix A and an NxN matrix B from an input file and outputs the NxN matrix product to C. N can be of any size >= 2. The output should display on the terminal screen.\n",
    "\n",
    "Download the input file “A1data.txt Download A1data.txt” and place it within the current directory. \n",
    "\n",
    "The first line in the file is the number of rows and columns for matrix A. Depending on these values, the data will follow. Once matrix A is populated, the number of rows and columns for matrix B follow along with the data to populate matrix B.\n",
    "\n",
    "An example of input file ‘A1data.txt’:\n",
    "\n",
    " \n",
    "```bash\n",
    "2 3\n",
    "1 2 3\n",
    "4 5 6\n",
    "3 2\n",
    "1 2\n",
    "3 4\n",
    "5 6\n",
    "```\n",
    " \n",
    "\n",
    "This indicates that matrix A is 2 rows and 3 columns and would be populated with the next 2 rows:  \n",
    "\n",
    "Matrix A:\n",
    "\n",
    "CS584_M1.C4_MatrixA.png\n",
    "\n",
    "The next row indicates matrix B is 3 rows and 2 columns and would be populated with the next 3 rows:\n",
    "\n",
    "Matrix B:\n",
    "\n",
    "CS584_M1.C4_MatrixB.png\n",
    "\n",
    "Matrix C would be the product of matrix A and matrix B:\n",
    "\n",
    "Matrix C:\n",
    "\n",
    "CS584_M1.C4_MatrixC.png\n",
    "\n",
    "In your submission, you must:\n",
    "\n",
    "Place your name and a short description of what the program is doing as comments on the first lines in the source code.\n",
    "Submit (upload) your .py file (or ipynb file) on or before the due date and time.\n",
    "Be sure the output is easy and clear to read.\n",
    "Comment throughout the source file(s).\n",
    "NOTE:\n",
    "\n",
    "You may resubmit as many times as needed prior to the due date. \n",
    "The assignment will not be graded by your instructor until after the due date.\n",
    "\n",
    "___\n",
    "\n",
    "## Description\n",
    "\n",
    "My plan here is to first write a function which does not use NumPy and which instead uses my own understanding of matrix multiplication to perform the multiplication. Then I will write a separate function which takes the same input but which uses NumPy under the hood. That way I can compare later on and see if my homebrewed function works the same as the NumPy function. Then I will write a function which reads the matrix in from the data file `A1data.txt`. Combining all of these functions which show that the homebreweed function is working."
   ]
  },
  {
   "cell_type": "code",
   "execution_count": 1,
   "metadata": {},
   "outputs": [],
   "source": [
    "import os\n",
    "from typing import Literal\n",
    "import numpy as np\n",
    "from pprint import pprint"
   ]
  },
  {
   "cell_type": "code",
   "execution_count": 2,
   "metadata": {},
   "outputs": [],
   "source": [
    "# homebrew solution\n",
    "def matrix_multiplication_without_numpy(A: np.ndarray, B: np.ndarray) -> np.ndarray:\n",
    "\n",
    "    # check that the shape makes sense\n",
    "    if A.shape[1] != B.shape[0]:\n",
    "        raise ValueError(\"Cannot multiply matrices of shape {} and {}\".format(A.shape, B.shape))\n",
    "    \n",
    "    # create a blank version of the output matrix\n",
    "    C = np.zeros((A.shape[0], B.shape[1]))\n",
    "\n",
    "    # iterate over the rows of A\n",
    "    for i in range(A.shape[0]):\n",
    "\n",
    "        # iterate over the columns of B\n",
    "        for j in range(B.shape[1]):\n",
    "\n",
    "            # iterate over the columns of A\n",
    "            for k in range(A.shape[1]):\n",
    "\n",
    "                C[i, j] += A[i, k] * B[k, j]\n",
    "    \n",
    "    return C\n",
    "\n",
    "# numpy solution for sanity check\n",
    "def matrix_multiplication_with_numpy(A: np.ndarray, B: np.ndarray) -> np.ndarray:\n",
    "    return A @ B"
   ]
  },
  {
   "cell_type": "code",
   "execution_count": 3,
   "metadata": {},
   "outputs": [
    {
     "name": "stdout",
     "output_type": "stream",
     "text": [
      "A @ B = C\n",
      "- - -\n",
      "A: [[0.34240275 0.12708762 0.17517395 0.29725269 0.09764981 0.94783783\n",
      "  0.43921348]\n",
      " [0.35374825 0.96552578 0.26449338 0.21451254 0.81951775 0.4941837\n",
      "  0.7207057 ]] \n",
      "\n",
      "B: [[0.89770828 0.70779331 0.42238211 0.14386039 0.26511473 0.33221975]\n",
      " [0.85468992 0.79821247 0.57421737 0.24698207 0.07050501 0.2543112 ]\n",
      " [0.33231005 0.85816645 0.17224509 0.39448823 0.01203992 0.57939161]\n",
      " [0.84093868 0.61864506 0.36540863 0.04552193 0.58646469 0.72559104]\n",
      " [0.25557175 0.57705659 0.17608585 0.03231303 0.5480696  0.6422195 ]\n",
      " [0.09018275 0.42007959 0.04084345 0.71378616 0.14245136 0.39657018]\n",
      " [0.01739614 0.90775308 0.44932095 0.0628684  0.82998204 0.31659822]] \n",
      " - - -\n",
      "Without NumPy: \n",
      "C: [[0.84225741 1.5312298  0.6096478  0.87060367 0.82925259 1.040902  ]\n",
      " [1.67762351 2.71548926 1.31609884 0.82799467 1.40856948 1.62242274]] \n",
      "\n",
      "With NumPy:\n",
      "C: [[0.84225741 1.5312298  0.6096478  0.87060367 0.82925259 1.040902  ]\n",
      " [1.67762351 2.71548926 1.31609884 0.82799467 1.40856948 1.62242274]] \n",
      "\n",
      "The same?:\n",
      "True\n"
     ]
    }
   ],
   "source": [
    "# sanity check with my own test matrices and provided test matrices later on\n",
    "def sanity_check(A: np.ndarray, B: np.ndarray) -> np.ndarray:\n",
    "    \n",
    "    print('A @ B = C\\n- - -')\n",
    "    print('A:', A, '\\n')\n",
    "    print('B:', B, '\\n - - -')\n",
    "\n",
    "    C_wo = matrix_multiplication_without_numpy(A, B)\n",
    "    C_w = matrix_multiplication_with_numpy(A, B)\n",
    "\n",
    "    print('Without NumPy: ')\n",
    "    print('C:', C_wo, '\\n')\n",
    "    print('With NumPy:')\n",
    "    print('C:', C_w, '\\n')\n",
    "    print('The same?:')\n",
    "    print(np.allclose(C_wo, C_w))\n",
    "\n",
    "# make two random matrices\n",
    "M, N, P = np.random.randint(2, 8), np.random.randint(2, 8), np.random.randint(2, 8)\n",
    "A = np.random.rand(M, N)\n",
    "B = np.random.rand(N, P)\n",
    "\n",
    "sanity_check(A, B)"
   ]
  },
  {
   "cell_type": "code",
   "execution_count": 4,
   "metadata": {},
   "outputs": [],
   "source": [
    "# write a function to read the matrix file\n",
    "def read_matrix_file(file_path: str) -> dict[Literal['A', 'B'], np.ndarray]:\n",
    "    \n",
    "    # load the text file into a list of strings\n",
    "    with open(file_path, 'r') as f:\n",
    "        lines = f.readlines()\n",
    "    \n",
    "    # get the size of the A matrix\n",
    "    num_rows_A, num_cols_A = map(int, lines[0].split(' '))\n",
    "\n",
    "    # build the A matrix (skip the line which contains the size)\n",
    "    data_A = lines[1:1+int(num_rows_A)]\n",
    "    A = np.array([\n",
    "        list(map(int, row.split(' ')))\n",
    "        for row in data_A\n",
    "    ])\n",
    "\n",
    "    # build the B matrix\n",
    "    starting_ind = num_rows_A + 1\n",
    "    data_B = lines[starting_ind+1:]\n",
    "    B = np.array([\n",
    "        list(map(int, row.split(' ')))\n",
    "        for row in data_B\n",
    "    ])\n",
    "\n",
    "    return {\n",
    "        'A': A,\n",
    "        'B': B,\n",
    "    }"
   ]
  },
  {
   "cell_type": "code",
   "execution_count": 5,
   "metadata": {},
   "outputs": [],
   "source": [
    "fp = '../data/A1data.txt'\n",
    "matrices = read_matrix_file(fp)"
   ]
  },
  {
   "cell_type": "code",
   "execution_count": 6,
   "metadata": {},
   "outputs": [
    {
     "data": {
      "text/plain": [
       "{'A': array([[1, 2, 3],\n",
       "        [4, 5, 6]]),\n",
       " 'B': array([[1, 2],\n",
       "        [3, 4],\n",
       "        [5, 6]])}"
      ]
     },
     "execution_count": 6,
     "metadata": {},
     "output_type": "execute_result"
    }
   ],
   "source": [
    "matrices"
   ]
  },
  {
   "cell_type": "code",
   "execution_count": 7,
   "metadata": {},
   "outputs": [
    {
     "name": "stdout",
     "output_type": "stream",
     "text": [
      "A @ B = C\n",
      "- - -\n",
      "A: [[1 2 3]\n",
      " [4 5 6]] \n",
      "\n",
      "B: [[1 2]\n",
      " [3 4]\n",
      " [5 6]] \n",
      " - - -\n",
      "Without NumPy: \n",
      "C: [[22. 28.]\n",
      " [49. 64.]] \n",
      "\n",
      "With NumPy:\n",
      "C: [[22 28]\n",
      " [49 64]] \n",
      "\n",
      "The same?:\n",
      "True\n"
     ]
    }
   ],
   "source": [
    "sanity_check(**matrices)"
   ]
  },
  {
   "cell_type": "code",
   "execution_count": null,
   "metadata": {},
   "outputs": [],
   "source": []
  }
 ],
 "metadata": {
  "kernelspec": {
   "display_name": "Python 3",
   "language": "python",
   "name": "python3"
  },
  "language_info": {
   "codemirror_mode": {
    "name": "ipython",
    "version": 3
   },
   "file_extension": ".py",
   "mimetype": "text/x-python",
   "name": "python",
   "nbconvert_exporter": "python",
   "pygments_lexer": "ipython3",
   "version": "3.11.0"
  }
 },
 "nbformat": 4,
 "nbformat_minor": 2
}
