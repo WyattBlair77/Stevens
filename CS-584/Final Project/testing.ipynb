{
 "cells": [
  {
   "cell_type": "code",
   "execution_count": 1,
   "metadata": {},
   "outputs": [],
   "source": [
    "import glob"
   ]
  },
  {
   "cell_type": "code",
   "execution_count": 3,
   "metadata": {},
   "outputs": [],
   "source": [
    "annotated_transcript_fps = glob.glob(\"./data/annotated_transcripts/*.txt\")"
   ]
  },
  {
   "cell_type": "code",
   "execution_count": 4,
   "metadata": {},
   "outputs": [],
   "source": [
    "annotated_transcripts = []\n",
    "for annotated_transcript_fp in annotated_transcript_fps:\n",
    "    with open(annotated_transcript_fp, 'r') as f:\n",
    "\n",
    "        transcript = f.read()\n",
    "        annotated_transcripts.append(transcript)\n"
   ]
  },
  {
   "cell_type": "code",
   "execution_count": 5,
   "metadata": {},
   "outputs": [],
   "source": [
    "annotated_transcript = '\\n============================\\n'.join(annotated_transcripts)\n",
    "with open('./data/annotated_transcripts/output.txt', 'w') as f:\n",
    "\n",
    "    f.write(annotated_transcript)\n",
    "    "
   ]
  },
  {
   "cell_type": "code",
   "execution_count": null,
   "metadata": {},
   "outputs": [],
   "source": []
  }
 ],
 "metadata": {
  "kernelspec": {
   "display_name": "ouroboros",
   "language": "python",
   "name": "python3"
  },
  "language_info": {
   "codemirror_mode": {
    "name": "ipython",
    "version": 3
   },
   "file_extension": ".py",
   "mimetype": "text/x-python",
   "name": "python",
   "nbconvert_exporter": "python",
   "pygments_lexer": "ipython3",
   "version": "3.12.3"
  }
 },
 "nbformat": 4,
 "nbformat_minor": 2
}
