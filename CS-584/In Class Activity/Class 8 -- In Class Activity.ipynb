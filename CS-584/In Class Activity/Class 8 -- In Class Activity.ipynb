{
 "cells": [
  {
   "cell_type": "markdown",
   "metadata": {},
   "source": [
    "# Class 8 -- In Class Activity\n",
    "Wyatt Blair\n",
    "\n",
    "11/6/2024\n"
   ]
  },
  {
   "cell_type": "markdown",
   "metadata": {},
   "source": [
    "# Objective\n",
    "Translate the sentence ”The sun is shining” from English to French by coding\n",
    "each step in the translation process."
   ]
  },
  {
   "cell_type": "markdown",
   "metadata": {},
   "source": [
    "# Step 1: Phrase Segmentation\n",
    "Write a function to segment the sentence into predefined phrases.\n",
    "Task: Complete the function segment phrases to split ”The sun is shining”\n",
    "into the phrases [\"The sun\", \"is\", \"shining\"]."
   ]
  },
  {
   "cell_type": "code",
   "execution_count": 1,
   "metadata": {},
   "outputs": [],
   "source": [
    "import re\n",
    "import string\n",
    "import sys"
   ]
  },
  {
   "cell_type": "code",
   "execution_count": null,
   "metadata": {},
   "outputs": [],
   "source": [
    "def segment_phrases(sentence):\n",
    "    # Split the sentence by spaces and form predefined phrases\n",
    "    words = sentence.strip().split()\n",
    "    phrases = [\" \".join(words[:2]), words[2], words[3]]  # [\"The sun\", \"is\", \"shining\"]\n",
    "    \n",
    "    return phrases\n",
    "    "
   ]
  },
  {
   "cell_type": "code",
   "execution_count": 3,
   "metadata": {},
   "outputs": [
    {
     "name": "stdout",
     "output_type": "stream",
     "text": [
      "Phrases: ['The sun', 'is', 'shining']\n"
     ]
    }
   ],
   "source": [
    "# Test the function\n",
    "sentence = \"The sun is shining\"\n",
    "segments = segment_phrases(sentence)\n",
    "print(\"Phrases:\",segments)"
   ]
  },
  {
   "cell_type": "markdown",
   "metadata": {},
   "source": [
    "# Step 2: Define the translation dictionary"
   ]
  },
  {
   "cell_type": "code",
   "execution_count": 4,
   "metadata": {},
   "outputs": [
    {
     "name": "stdout",
     "output_type": "stream",
     "text": [
      "Translated Phrases: ['Le soleil', 'est', 'brille']\n"
     ]
    }
   ],
   "source": [
    "translation_dict={\n",
    "    \"The sun\":\"Le soleil\",\n",
    "    \"is\":\"est\",\n",
    "    \"shining\":\"brille\"\n",
    "}\n",
    "\n",
    "def translate_phrases(phrases: list[str], translation_dict: dict):\n",
    "    translations = []\n",
    "    for phrase in phrases:\n",
    "        translation = translation_dict.get(phrase)\n",
    "        translations.append(translation)\n",
    "    return translations\n",
    "\n",
    "translations = translate_phrases(segments, translation_dict)\n",
    "print(\"Translated Phrases:\", translations)"
   ]
  },
  {
   "cell_type": "markdown",
   "metadata": {},
   "source": [
    "# Step 3: Reorder and combine phrases into a final sentence\n"
   ]
  },
  {
   "cell_type": "code",
   "execution_count": 5,
   "metadata": {},
   "outputs": [
    {
     "name": "stdout",
     "output_type": "stream",
     "text": [
      "Final Sentence: Le soleil est brille\n"
     ]
    }
   ],
   "source": [
    "def combine_phrases(translations):\n",
    "    final_sentence = \" \".join(translations)\n",
    "    return final_sentence\n",
    "\n",
    "final_sentence = combine_phrases(translations)\n",
    "print(\"Final Sentence:\", final_sentence)"
   ]
  },
  {
   "cell_type": "markdown",
   "metadata": {},
   "source": [
    "# (Optional) Step 4: Probability Calculation"
   ]
  },
  {
   "cell_type": "code",
   "execution_count": 7,
   "metadata": {},
   "outputs": [
    {
     "name": "stdout",
     "output_type": "stream",
     "text": [
      "Total Probability: 0.72675\n"
     ]
    }
   ],
   "source": [
    "# Step 4: Calculate translation probabilities\n",
    "phrase_probabilities={\n",
    "    \"Le soleil\":0.9,\n",
    "    \"est\":0.95,\n",
    "    \"brille\":0.85\n",
    "}\n",
    "def calculate_probability(translations,phrase_probabilities):\n",
    "    probability = 1.0\n",
    "    for phrase in translations :\n",
    "        # Multiply probabilities for each translated phrase\n",
    "        probability *= phrase_probabilities.get(phrase)\n",
    "\n",
    "    return probability\n",
    "\n",
    "total_probability = calculate_probability(translations, phrase_probabilities)\n",
    "print(\"Total Probability:\", total_probability)"
   ]
  },
  {
   "cell_type": "code",
   "execution_count": null,
   "metadata": {},
   "outputs": [],
   "source": []
  }
 ],
 "metadata": {
  "kernelspec": {
   "display_name": "ouroboros",
   "language": "python",
   "name": "python3"
  },
  "language_info": {
   "codemirror_mode": {
    "name": "ipython",
    "version": 3
   },
   "file_extension": ".py",
   "mimetype": "text/x-python",
   "name": "python",
   "nbconvert_exporter": "python",
   "pygments_lexer": "ipython3",
   "version": "3.12.3"
  }
 },
 "nbformat": 4,
 "nbformat_minor": 2
}
