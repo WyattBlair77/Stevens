{
 "cells": [
  {
   "cell_type": "code",
   "execution_count": 1,
   "metadata": {},
   "outputs": [
    {
     "name": "stdout",
     "output_type": "stream",
     "text": [
      "Requirement already satisfied: gradio in /Users/wyatthenryblair/anaconda3/lib/python3.11/site-packages (5.8.0)\n",
      "Requirement already satisfied: accelerate in /Users/wyatthenryblair/anaconda3/lib/python3.11/site-packages (1.2.0)\n",
      "Requirement already satisfied: aiofiles<24.0,>=22.0 in /Users/wyatthenryblair/anaconda3/lib/python3.11/site-packages (from gradio) (22.1.0)\n",
      "Requirement already satisfied: anyio<5.0,>=3.0 in /Users/wyatthenryblair/anaconda3/lib/python3.11/site-packages (from gradio) (3.5.0)\n",
      "Requirement already satisfied: fastapi<1.0,>=0.115.2 in /Users/wyatthenryblair/anaconda3/lib/python3.11/site-packages (from gradio) (0.115.6)\n",
      "Requirement already satisfied: ffmpy in /Users/wyatthenryblair/anaconda3/lib/python3.11/site-packages (from gradio) (0.4.0)\n",
      "Requirement already satisfied: gradio-client==1.5.1 in /Users/wyatthenryblair/anaconda3/lib/python3.11/site-packages (from gradio) (1.5.1)\n",
      "Requirement already satisfied: httpx>=0.24.1 in /Users/wyatthenryblair/anaconda3/lib/python3.11/site-packages (from gradio) (0.26.0)\n",
      "Requirement already satisfied: huggingface-hub>=0.25.1 in /Users/wyatthenryblair/anaconda3/lib/python3.11/site-packages (from gradio) (0.26.5)\n",
      "Requirement already satisfied: jinja2<4.0 in /Users/wyatthenryblair/anaconda3/lib/python3.11/site-packages (from gradio) (3.1.2)\n",
      "Requirement already satisfied: markupsafe~=2.0 in /Users/wyatthenryblair/anaconda3/lib/python3.11/site-packages (from gradio) (2.1.1)\n",
      "Requirement already satisfied: numpy<3.0,>=1.0 in /Users/wyatthenryblair/anaconda3/lib/python3.11/site-packages (from gradio) (1.24.3)\n",
      "Requirement already satisfied: orjson~=3.0 in /Users/wyatthenryblair/anaconda3/lib/python3.11/site-packages (from gradio) (3.10.12)\n",
      "Requirement already satisfied: packaging in /Users/wyatthenryblair/anaconda3/lib/python3.11/site-packages (from gradio) (23.2)\n",
      "Requirement already satisfied: pandas<3.0,>=1.0 in /Users/wyatthenryblair/anaconda3/lib/python3.11/site-packages (from gradio) (1.5.3)\n",
      "Requirement already satisfied: pillow<12.0,>=8.0 in /Users/wyatthenryblair/anaconda3/lib/python3.11/site-packages (from gradio) (10.0.1)\n",
      "Requirement already satisfied: pydantic>=2.0 in /Users/wyatthenryblair/anaconda3/lib/python3.11/site-packages (from gradio) (2.10.3)\n",
      "Requirement already satisfied: pydub in /Users/wyatthenryblair/anaconda3/lib/python3.11/site-packages (from gradio) (0.25.1)\n",
      "Requirement already satisfied: python-multipart>=0.0.18 in /Users/wyatthenryblair/anaconda3/lib/python3.11/site-packages (from gradio) (0.0.19)\n",
      "Requirement already satisfied: pyyaml<7.0,>=5.0 in /Users/wyatthenryblair/anaconda3/lib/python3.11/site-packages (from gradio) (6.0)\n",
      "Requirement already satisfied: ruff>=0.2.2 in /Users/wyatthenryblair/anaconda3/lib/python3.11/site-packages (from gradio) (0.8.2)\n",
      "Requirement already satisfied: safehttpx<0.2.0,>=0.1.6 in /Users/wyatthenryblair/anaconda3/lib/python3.11/site-packages (from gradio) (0.1.6)\n",
      "Requirement already satisfied: semantic-version~=2.0 in /Users/wyatthenryblair/anaconda3/lib/python3.11/site-packages (from gradio) (2.10.0)\n",
      "Requirement already satisfied: starlette<1.0,>=0.40.0 in /Users/wyatthenryblair/anaconda3/lib/python3.11/site-packages (from gradio) (0.41.3)\n",
      "Requirement already satisfied: tomlkit<0.14.0,>=0.12.0 in /Users/wyatthenryblair/anaconda3/lib/python3.11/site-packages (from gradio) (0.13.2)\n",
      "Requirement already satisfied: typer<1.0,>=0.12 in /Users/wyatthenryblair/anaconda3/lib/python3.11/site-packages (from gradio) (0.15.1)\n",
      "Requirement already satisfied: typing-extensions~=4.0 in /Users/wyatthenryblair/anaconda3/lib/python3.11/site-packages (from gradio) (4.12.2)\n",
      "Requirement already satisfied: uvicorn>=0.14.0 in /Users/wyatthenryblair/anaconda3/lib/python3.11/site-packages (from gradio) (0.32.1)\n",
      "Requirement already satisfied: fsspec in /Users/wyatthenryblair/anaconda3/lib/python3.11/site-packages (from gradio-client==1.5.1->gradio) (2024.10.0)\n",
      "Requirement already satisfied: websockets<15.0,>=10.0 in /Users/wyatthenryblair/anaconda3/lib/python3.11/site-packages (from gradio-client==1.5.1->gradio) (14.1)\n",
      "Requirement already satisfied: psutil in /Users/wyatthenryblair/anaconda3/lib/python3.11/site-packages (from accelerate) (5.9.0)\n",
      "Requirement already satisfied: torch>=1.10.0 in /Users/wyatthenryblair/anaconda3/lib/python3.11/site-packages (from accelerate) (2.0.1)\n",
      "Requirement already satisfied: safetensors>=0.4.3 in /Users/wyatthenryblair/anaconda3/lib/python3.11/site-packages (from accelerate) (0.4.5)\n",
      "Requirement already satisfied: idna>=2.8 in /Users/wyatthenryblair/anaconda3/lib/python3.11/site-packages (from anyio<5.0,>=3.0->gradio) (3.4)\n",
      "Requirement already satisfied: sniffio>=1.1 in /Users/wyatthenryblair/anaconda3/lib/python3.11/site-packages (from anyio<5.0,>=3.0->gradio) (1.2.0)\n",
      "Requirement already satisfied: certifi in /Users/wyatthenryblair/anaconda3/lib/python3.11/site-packages (from httpx>=0.24.1->gradio) (2023.11.17)\n",
      "Requirement already satisfied: httpcore==1.* in /Users/wyatthenryblair/anaconda3/lib/python3.11/site-packages (from httpx>=0.24.1->gradio) (1.0.2)\n",
      "Requirement already satisfied: h11<0.15,>=0.13 in /Users/wyatthenryblair/anaconda3/lib/python3.11/site-packages (from httpcore==1.*->httpx>=0.24.1->gradio) (0.14.0)\n",
      "Requirement already satisfied: filelock in /Users/wyatthenryblair/anaconda3/lib/python3.11/site-packages (from huggingface-hub>=0.25.1->gradio) (3.9.0)\n",
      "Requirement already satisfied: requests in /Users/wyatthenryblair/anaconda3/lib/python3.11/site-packages (from huggingface-hub>=0.25.1->gradio) (2.31.0)\n",
      "Requirement already satisfied: tqdm>=4.42.1 in /Users/wyatthenryblair/anaconda3/lib/python3.11/site-packages (from huggingface-hub>=0.25.1->gradio) (4.65.0)\n",
      "Requirement already satisfied: python-dateutil>=2.8.1 in /Users/wyatthenryblair/anaconda3/lib/python3.11/site-packages (from pandas<3.0,>=1.0->gradio) (2.8.2)\n",
      "Requirement already satisfied: pytz>=2020.1 in /Users/wyatthenryblair/anaconda3/lib/python3.11/site-packages (from pandas<3.0,>=1.0->gradio) (2022.7)\n",
      "Requirement already satisfied: annotated-types>=0.6.0 in /Users/wyatthenryblair/anaconda3/lib/python3.11/site-packages (from pydantic>=2.0->gradio) (0.7.0)\n",
      "Requirement already satisfied: pydantic-core==2.27.1 in /Users/wyatthenryblair/anaconda3/lib/python3.11/site-packages (from pydantic>=2.0->gradio) (2.27.1)\n",
      "Requirement already satisfied: sympy in /Users/wyatthenryblair/anaconda3/lib/python3.11/site-packages (from torch>=1.10.0->accelerate) (1.11.1)\n",
      "Requirement already satisfied: networkx in /Users/wyatthenryblair/anaconda3/lib/python3.11/site-packages (from torch>=1.10.0->accelerate) (3.1)\n",
      "Requirement already satisfied: click>=8.0.0 in /Users/wyatthenryblair/anaconda3/lib/python3.11/site-packages (from typer<1.0,>=0.12->gradio) (8.0.4)\n",
      "Requirement already satisfied: shellingham>=1.3.0 in /Users/wyatthenryblair/anaconda3/lib/python3.11/site-packages (from typer<1.0,>=0.12->gradio) (1.5.4)\n",
      "Requirement already satisfied: rich>=10.11.0 in /Users/wyatthenryblair/anaconda3/lib/python3.11/site-packages (from typer<1.0,>=0.12->gradio) (13.9.4)\n",
      "Requirement already satisfied: six>=1.5 in /Users/wyatthenryblair/anaconda3/lib/python3.11/site-packages (from python-dateutil>=2.8.1->pandas<3.0,>=1.0->gradio) (1.16.0)\n",
      "Requirement already satisfied: markdown-it-py>=2.2.0 in /Users/wyatthenryblair/anaconda3/lib/python3.11/site-packages (from rich>=10.11.0->typer<1.0,>=0.12->gradio) (2.2.0)\n",
      "Requirement already satisfied: pygments<3.0.0,>=2.13.0 in /Users/wyatthenryblair/anaconda3/lib/python3.11/site-packages (from rich>=10.11.0->typer<1.0,>=0.12->gradio) (2.15.1)\n",
      "Requirement already satisfied: charset-normalizer<4,>=2 in /Users/wyatthenryblair/anaconda3/lib/python3.11/site-packages (from requests->huggingface-hub>=0.25.1->gradio) (2.0.4)\n",
      "Requirement already satisfied: urllib3<3,>=1.21.1 in /Users/wyatthenryblair/anaconda3/lib/python3.11/site-packages (from requests->huggingface-hub>=0.25.1->gradio) (1.26.16)\n",
      "Requirement already satisfied: mpmath>=0.19 in /Users/wyatthenryblair/anaconda3/lib/python3.11/site-packages (from sympy->torch>=1.10.0->accelerate) (1.3.0)\n",
      "Requirement already satisfied: mdurl~=0.1 in /Users/wyatthenryblair/anaconda3/lib/python3.11/site-packages (from markdown-it-py>=2.2.0->rich>=10.11.0->typer<1.0,>=0.12->gradio) (0.1.0)\n",
      "Note: you may need to restart the kernel to use updated packages.\n"
     ]
    }
   ],
   "source": [
    "%pip install --upgrade gradio accelerate"
   ]
  },
  {
   "cell_type": "code",
   "execution_count": 2,
   "metadata": {},
   "outputs": [],
   "source": [
    "import os\n",
    "import json\n",
    "import re\n",
    "import sys\n",
    "from tqdm.auto import tqdm\n",
    "import gradio as gr\n",
    "from transformers import GPT2LMHeadModel, GPT2Tokenizer, Trainer, TrainingArguments\n",
    "from datasets import Dataset\n"
   ]
  },
  {
   "cell_type": "code",
   "execution_count": 3,
   "metadata": {},
   "outputs": [],
   "source": [
    "transcript_fp = '../Final Project/data/transcripts_separated-1.txt'\n",
    "with open(transcript_fp, 'r') as f:\n",
    "    transcript = f.read()\n",
    "\n",
    "delimter = '=================================================='\n",
    "transcripts = transcript.split(delimter)\n",
    "_ = transcripts.pop(0)"
   ]
  },
  {
   "cell_type": "code",
   "execution_count": 4,
   "metadata": {},
   "outputs": [
    {
     "data": {
      "text/plain": [
       "\"\\n[Music] Runk hello hello hello [Music] H I used to list that in my car I used to like it dude I used to like it you still like it I I do yeah but I us that soundtrack was a banger it was a really good soundtrack yeah surprised you liked it you don't like any music what other movies is that song in Pulp Fiction was the song I want to know what other definitely one of those movies like a bugs life that ripped off that ripped off you definitely Dick Dale say s wordss so yeah so welcome to Lifeline thank you very much sign on up for a patreon lifeline.com I'm sorry patreon.com Lifeline that's where you see the live shows that's where you see Lifeline luxury we do extra episodes of Lifeline we do Lifeline luxury we do at least two three a month um so uh at least three a month you you still say two and that pisses me off I want to do what I want to do we've grown it we've grown it we've expanded it used to be two now it's three you get three episodes a month at least at patreon.com lifeand luxury it's happy birthday Sinbad and synbad is one of my favorite comedians and actors we love sbad um yeah I'll be in bismar I'll be in uh what's the other one um sou Falls go to chia.com and Irvine I have got shows and get tickets to the live Lifeline show in oxar California uh chris.com uh December 5th yeah so there we go what is happening baby a fation why is so what is he Dick Dale what what else does he what what what other um oh say Thing movie is it in that's not in other movies that's what mak's saying isn't that the name of that song yes but oh I mean not what we're not what we're talking about but it's only you can't use that song after Pulp Fiction you know definitely people did in A Bug's Life or something yeah A Bug's Life may be ants you know with a z right uh B movie missu It's called what is that miseru I don't know how it's called Myer don't make me have to ask that twice though right and then Matt once wow there's so much text on this who would read all of that about song that's crazy oh it just was getting to the part where it was where it was telling us and then you went out the internet has everything dude and now with AI it has everything you can because whatever it doesn't have you can create it also who who is still looking for this um me it's you of course it is you could tell by the way we searching yeah that's true but it's so boring that it doesn't matter just skip it right oh yeah it's true we're be like oh it was in singles oh there isn't there isn't there is some stuff that I want to be on the internet that isn't there's a show from the 80s called Jennifer slept here and it is not online anywhere and I'm pissed also you can't watch uh what was the name of that show uh the one with Thomas Hayden Church and deor messing uh oh wings no no no no WIS that was sick and that's available and I've watched it what was it it Ned and Stacy Ned and Stacy that show's not on 2005 or something no 1990s for it was before Will and Grace deorah was on a hit show before Will and Grace is that really 93 95 what does it say okay I didn't know about this I did yeah but I didn't know it before funny dude I found the pilot on uh YouTube and then there's like Random episodes but it's not streaming anywhere there's like a big H show things you know what's not streaming or at least last time I checked the office British oh that's weird what wasn't streaming anywhere what the when I checked it has you know they come back they come back and forth yeah sure yeah um the movie Old Boy couldn't get it oh you told me that yeah uh can now but um anyway yeah so that that that that is weird when you can't find anything right how how times have changed well dude you used to literally I mean it's just nuts in our lifetime to get something to watch you had to go to a store to rent a physical copy of it before that you had to go hire the actors before film let me hire actors let me really trip you out though people don't even think about this but it's true movies before VHS was even a thing movies people made them knowing knowing that the audience was very likely only going to see it one time because it was in theaters and then it went away and then it was never to be seen again for all of Cinema history until VHS and the intent behind the that matters because now filmmakers make movies so that you can not only watch them over and over if you want but rewind right away go back pause it go to the bathroom come back it's so different think about how much that affects the way movies are made not just watching them wow it's crazy right that's why when you watch an old movie and you're like oh they messed up there it's like no they didn't they didn't care they just thought no one was going to see it and even if they did what are you going to do stop the whole theater hey in the projection room go back 10 seconds I could have sworn I saw the boom yeah it's done the moment's over and you're never going to see it again wow crazy right that's pretty much a mind-blowing fact and um it's too early to have a mind-blowing fact in the episode I say that later instead minds and if you want to have blinds blinds Minds blown blind you stick with me okay thank you very worst worst president so um stick with me you want your mind blown you stick with me kid both for me so uh yeah guess what but I do you remember four years ago my jaw I got um uh what do you call it lock jaw uh yeah the what do they call it TM uh oh TMJ whatever that is TJ Maxx I got TJ Maxx right my jaw I got it right and uh first of all do you remember yet that I got it or no what do you mean do I remember yet does this do you remember I got oh you do you already remember okay I was going to describe it in further um I went to the dentist uh he made me a a thing to sleep in you didn't know about this or did you I don't I don't think you probably did but whatever anyway um SL slept with it and he's like eventually your jaw will unhinge it'll be fine and you okay that didn't work oh try went on online looked at YouTube videos and how to you know hacks I was like these are probably terrible for my body but I'm going to try them anyway put a pencil way back there oh my God smash my didn't work nothing worked okay a pencil that's what they say to get the pencil back there and then it gets you here gets you right here get the pencil back there and then you push this and this way it'll like kind of unhook you know didn't work so now uh I it's it's been four four almost yeah four years four years kind of forgot about it I mean it's still there I can't open my mouth as much as I used to but I guess it's just going to be like okay it's basically the 1400s and there's no doctors and I can just this is how it was back then life now yeah yeah so fine uh I go to sleep two nights ago I have a crazy dream uh I mean I was on stage stage under a blanket and people uh hiding on stage from Olivia Rodriguez is that a a singer Olia Rodrigo okay why were you hiding from her at her concert what she was singing okay and I was like and and and people were looking for me I needed certain people to find me but not her you were on stage under a blanket under people you should have been elsewhere if you were hiding from a dream it seemed like a good logical place to go in a dream logic is out the window okay she just left the arena but okay in the the thing I'm peeking through the the blanket and I see people rushing like oh I wish they knew I was here so they could help you know but she's singing right there I don't want to dma and I I'm tired because I'm laying down on the on the I'm also asleep but I don't know that in the dream yeah no no I'm asleep in real life uhhuh and I'm laying down in under the thing in the dream okay but I'm I'm I'm tired un in the dream in the dream I'm like man I've been laying down for so long so your life is in Jeopardy and you're scared out of your mind you're tired and going to fall asleep okay in the meantime she's just like women or whatever the [\\xa0__\\xa0] she sings Right worst song ever and and so I it gets so tired that I yawn oh mistake dude what a mistake okay uh and I'm stretching as I yawn okay have you ever done that yeah of course it makes your jaw do this weird thing where it's like yes it shakes [\\xa0__\\xa0] yeah you know it I didn't know you'd know it so it starts shaking my jaw starts shaking unlocks uhhuh in the dream only unlocks as I wake up my jaw unlocks and I go oh my gosh mhm four years in the making I have this dream boom my jaws back to normal four years you got to go online present your hack have a dream about Olivia rgo and you're hiding from her on stage and you have you're tired from laying much Inception the worst it's like we we got them have this dream we got the dream where Olivia's is singing and you're hiding from her yes if you have TMJ come you know and that's crazy yeah and but how crazy is that it's now it's better now it's better that's really wild and you know what it happened I think it happened because well you don't know what you know of course not but I my thing was I wasn't sleeping right I was it was very stressed in that time of my life we you know four years ago I was like completely going through it I thought my life was over um so I think that that happened because of stress so when I woke up during the dream I go am my jaw unlocked and I and I literally go I I I I say I'm not canceled anymore oh my God yeah well I mean cuz your jaw yeah I guess that's it's a little different yeah I woke up and I told Kristen and she was proud of me proud of you she was like yeah you know what that's right that does mean that it's symbolic I was like oh nice dude you really uh all good doesn't seem bad my jaw's good how weird though baby steps you know uh good for you man I'm G to get a movie offer soon because of that that's great dude good for you good for your jaw bad boy six Army Hammer's doing a movie what is he he's a guy an actor what's he doing a movie I don't know I just saw the headie you know what I think he's doing a movie with actually I think he's in a movie with Kevin spacy no way I think so oh I'm not sure I might have made that up I'll see that so fast but uh yeah yeah this is Jennifer slep here this is the show it's on YouTube but here's the problem it's so low res that you can't even watch it anymore so wait what is this so the idea for this show oh it's a show is this woman she was a big big famous celebrity in this house she lived in this house and she died young okay and the people that live there now they move in they're just like out of out of they don't live in La they they they're from out of town they come to live in LA they live in this house the house is like this uh on a Star Tours like there's a legendary famous actress died in this house uh Jennifer's house and the it's like this normal family and they live with among the the ghost of Jennifer wow the famous person she she's and she's like you can't move that that's my couch that you know Errol Flynn [\\xa0__\\xa0] poured champagne on or whatever and I think only the sun can see her oh wow at first but seems pretty bad the woman in it is the woman that is trying to sleep with Michael Keaton in Mr Mom to get him away from Terry gar wow of course it is lot of sleeping in her R and Jillian or something like that uh all right well anyway I know things at some point but I know things that are both valuable I know things that are both not valuable I know things about pop culture I know things about history I know things about world history I know things about individual history at a carnival barking out a carnival I know about candy I know about other things too okay what do we got next so uh that go on over to Lifeline luxury patreon.com luxury uh but right now let's get into it hey man Chris bit of a situation here so I'm 28 years old and it took me that long to realize that my mustache is not symmetrical it actually only connects on this side and not this side and a bit of a problem because I kind of hate when mustaches don't connect to beards and I've apparently been lying to myself my whole life yeah and what theck do I do do I shave the bottom of this side like I have SC a littleit you can see do I leave it asymmetrical um I feel like my face looks a lot better when it's symmetrical um or do I pencil in the other side maybe oh my God bring it down get it to pay on um yeah I don't know help me out uh Chris saw you in Detroit great show thanks dude um my fiance wouldn't stop talking to you about how she was in SLP because of Calvin and I didn't get to say anything to you so and yeah mat you're pretty cool okay bye oh what oh cute that was cute did at the end dude I used to my used to have the same problem just get older yeah but here's the other thing but I used to have the same problem it didn't connect here and and it did connect here and now it does you see it's still a little bit yeah anyway think about this I look great the reason you didn't like it is because subconsciously you knew that your beard didn't connect either now the key to all of this what he said I don't like I don't like that he said what so we're going to start with that all right but I still don't know but we're going to start with that fine I don't give a [\\xa0__\\xa0] if you don't like it I'm going to start from there okay so we're starting with I don't like that you ask me what fine okay that does nothing for me it does something for me though what I'm now more at peace with it than I was before I said that cuz Okay well I'm even more at peace than you are got it off don't give a [\\xa0__\\xa0] at greater peace than you because I did that a monk all right uh uh so what I'm saying is he said it pitches him off that he realized it doesn't connect because he hates when beards don't connect okay and what I'm saying is subconsciously he knew that his beard didn't connect and he hated that about himself so he projected that out onto the world I'm saying to this guy now you got an ally realize that that's what was going on this whole time be at peace with yourself like I am when I told my brother I don't like that he said what and more at peace and then it won't be is it won't even be an issue in the first place you won't have to pencil it in or worry about shaving it here you'll be at peace with yourself in your stupid [\\xa0__\\xa0] ugly ass beard dick so why don't you just shave your whole beard also you honestly the beard it looked good on him don't you think it's okay you know what you know what's interesting I got pissed that um one of our producer sneezed while I was talking yeah how about he did it off mic but still how about that though um what am I supposed to do well you're not talking to them now you're not talking to the mic you're supposed to not sneeze yeah yeah hold it do this hey this works so I think that um I think this has never worked for anybody in history Ohana absolutely destroy me no you know what works this for real Matt Matt what this works no it doesn't it works every single time for me but well you know what would work better this cuz what this is what's better this what this is accomplishing is you're not letting more air go in and tickle your nose hair so you have to sneeze again what really happens the best the best fix that's not what it is that's not what it is a magician that's not what it is that's actually not what it is what it is no it's not you're pushing up against the sensitivity and it's making it overwhelming so the sensitivity of the nose hairs is getting overwhelmed by the pushing in in the Hitler mustache area I'm interested so now you what do you do you where do you push in the Hitler mustache area the top of the Hitler mustach so what you're doing when you do this is pushing toward your face correct oh nobody ever told me that I thought it was I thought you were holding your finger here so air no no no no no no you've got to push oh the push is oh my God and we push and we don't sneeze and we push and we don't sneeze that's really really good wow yeah it works dude good for me and it's awesome anyway next time good for me anyway your beard looks fine just confront your own issues about yourself and you'll be okay yeah okay now next Russian transplant at 7-Eleven what do you have to say everything in my life is going wrong everything if it can go wrong and all it's going wrong wow for like the last pause it Tom Cruz n months how much is he he's totally perfectly hiding bread under his hat which he's clearly trying place okay so not everything go ahead okay okay now I'm pissed now I'm pissed in my life is going wrong the way he leans in and says it is amazing if it can go wrong like it's a secret at all it's going wrong for like the last 9 months anything that's gone right about this much something wrong the opening monolog this what's his not only one time but 5 10 15 times so DUS long movie what the [\\xa0__\\xa0] do I do it's hard to stay hopeful and positive and motivated okay love you guys the end he got shot with a bow and arrow what was in his hand it looked like he was holding a a window washer in his in his right hand everything goes wrong and I don't know what to do anyway love you guys dude sometimes life is it comes in streaks man dog just is on his shin okay oh wait gets the reported all right I'm just saying back to Russia anyway so it happens in streaks dude you got bad streaks you got good streaks 9 months is a long time for a bad streak but all that means is it's more likely to come to an end because it's already gone on for so long know that the end is in sight it's going to come and then things are going to turn and then suddenly one thing two thing then three things and suddenly you're on a good streak okay so just wait it out you seem to be doing good you're clearly able to keep a sensey hear him about it you're clearly able to hide bread under your hat successfully um yeah just dress different I thought he was dressed fine I mean he had no undershirt on with a chain you know it's Russian but yeah but I mean that's the style sir Monclair New Jersey yeah it is look at him wow everything in my life also the way he says everything is wrong everything in my life the way the way he leaned in and did it like it's a secret is amazing I mean did it at the at the the liquor store you know yeah what was anyway going to get some drinks I want to know so bad what he had in his right what okay all right next next one what's up guys your show's great fantastic brother banter wonderful question is parenting and uh bloody guts take away the magic I guess so Halloween's about to come my son asked last night if the witch was real and we're talking about the switch witch I don't know if you guys do this where we take all of his Halloween candy and steal it and then give him a toy and then the the morning his Katie's gone and he has a new toy hence the switch witch so last night he goes are you guys the Witch and we go what are you talking about anyway so he's 8 years old and now he does not believe in the switch witch or the Easter Bunny he didn't bring up Santa so we'll see about that one uh what age you guys tell them oh then he was like tell me the truth and then in that moment do you have to all right what do you guys think thanks for show I what a great question I think when the kid is finally like look I know it is a lie now please just tell me that is when you have to say all right man it's not a lie we did it for fun and it's always been fun and we love you and we like the magic of it all the spirit of Halloween the spirit of Christmas is you know you don't have to be like there's no Santa B and then right but I can speak firsthand to this when you know and your parents just won't admit it it's it's very actually like destabilizing it cuz you're just like what the [\\xa0__\\xa0] dad tell me it's not real I know it's not why are you lying I will say that was not disabil ising for me but I will say it was beyond when you know and they were still saying it was beyond that Mom told me there was no Santa and then Dad tried to retell me there was a there was a Santa really how old were you I mean old at this point I was old I was like 13 oh my God dad was like you so cuz there is a Santa and I was like Wow dad what is what is up with you you you didn't even know I knew you wanted that so Santa left that so he must have he must have maybe Santa knew right so there's a Santa Dad yeah give it up well I still believe so I'm only 44 but I I I yeah Mom said I remember we were in New Jersey I guess I was 12 we were in New Jersey 12 was like come on Mom was like well you know Daddy and uh mommy are the guy are the ones who put the the thing for the tooth fairy and the and you know and what about Santa she's yeah it's all the same you know and then and then the next year my Dad tried to reintroduce that there actually is s Santa wow oh yeah 100% wow dad naughty naughty on Christmas of all days being naughty y uh yeah so I how [\\xa0__\\xa0] hilarious is that that's really funny if your 8-year-old comes I started killing people and is like I know it's a maybe it's early but 8 I don't know 8 isn't that it's not that early I mean it's around the time that starts at least though yeah you know I think I think it's good to be honest at that at that point God you only have a few years of that huh yeah very very not long yeah interesting right CU I'm not going to want to give that up either uh yeah you probably won't but you should when it's time I get it when they come to you dude that's the time you or you could just be like this oh what was that and then run away and never never come back no no come back like I forgot what we were talking about but anyway want some pakes oh my come back when they're 18 died oh died and then came back to life sitting here in the kitchen early as [\\xa0__\\xa0] in the morning feeding the kids and a thought came to me I need some advices the other day my mother came over to watch the kids and she was like you know pardon me well I you know I don't know my way around the kitchen for stuff or whatever and then while I was driving to work I was thinking you know how well should you know somebody else's house like you know you know where the bedrooms are and that they're there and how many and you know where the bathroom is and where the trash can is probably at like your brother's house mother's house or whatever but like how well what's the level of weirdness or allowability of like knowing where [\\xa0__\\xa0] is in somebody's house it got me all [\\xa0__\\xa0] up when I was driving to work anyway what do you think uh love the show love super good been a fan since super SCH uh can't say it but super SCH you know what I mean love you guys true baby for life nice uh that's a good question that's really hard to answer though what the dog pissed again wow the dog the studio dog Tina just goes you know I loose you know why I know that because I know this place well enough that that's where the dog pisses and that's what this guy's talking about me too I realized it quickly before you you said what what I told no no that is not true you I knew because I knew all right so let's answer the question but so I think that you should I I don't think there's any weirdness ever unless you're like this is where your wife keeps your panties but even that's kind of obvious because the panty drawer is the panty drawer panty you know yeah but I'm just saying like there's no there's no it's not weird you the forks pretty much are in the where the forks are in the kitchen if they're not in the one you open they're in the next one you open if they're not in the next one they're definitely in the next one if you are looking at four five draws you're just a plain idiot you know where the garbage supposal is it's right in the sink you know where the trash can is because you look you just look oh there it is or it's under the sink I mean correct me if I'm wrong here snack cabinet it's the biggest one where is it am I wrong correct me if I'm wrong maybe maybe where's the bread probably on the counter somewhere under one of those things bread boxes now what you're saying I generally agree with but you can't tell tell me you've never been to a house and looked for a thing and been like well I know where these things are generally not found it in one place then be like oh it's got to be there not found it there not found it there then you're like wait what the [\\xa0__\\xa0] why do people do the houses so differently why why are you sing I've never been to a house no I will be if that happen that has happened if that happens I leave the house I never come back in the middle of a sandwich I'm looking for I'm looking for a knife can't find it I go home if I open four drawers I go home I mean if half made the flip side of this question is if somebody came to my house and knew where everything was automatically I wouldn't even be like that weirded out I would only be impressed I would only be impressed I'd be like whoa dude good job well you're like Sherlock Holmes or I would feel like I did it all right I'd be like oh dude I must put things in the right place cuz people just knew where shit's supposed to be egotistical you know I'm doing it right egotistical so yeah I don't know if there is a level that is weird whether it's the only thing that's weird is like how dumb are you to think like the the knives are in the [\\xa0__\\xa0] bedroom closet come yeah man nobody's doing that that's what I'm saying like the only only if you're like the most idiotic guess would make me feel weird yeah everything else it's all good do you think if we asked Dad if there was a Santa now dude that's good question I bet well at least a part of him would want to say yes but I bet he would try to convince us that there's some kind of idea that Santa is real no tell you exactly what he would do what and I know so I know this so much that when I'm done you're just going to agree cuz it's just true I'm I'm with you he wouldn't try to convince us that there is a Santa he would just answer in a way that obfuscates and doesn't get right on the nose that there is no Santa he just would leave room for the possibility that there is based on the way he answers yeah so Dad we got you we got you pegged and we know your game and that's the way it's going to dad's unbelievable with that stuff man yeah how far is it it's on the right yeah it's unbelievable dude how far is it I've been there yeah huh oh good how far is it it's up there dude it's unbelievable have youve been there before it's on the right yeah it's like there's a bag of possible answers to possible me about yeah and he just reaches in and grabs in his mind any answer it's unbelievable any question yeah that could be asked instead of the one you asked yeah crazy and poor mom imagine dealing with that for they 78 years they're over 100 years old I loved getting into those conversations with dad though yeah it's hilarious just being like what the [\\xa0__\\xa0] yeah I mean he he never didn't do it too he the things dad does now he's done 5 years ago 10 years ago 20 years ago he's done since as early as I can remember nobody's more consistently [\\xa0__\\xa0] do it different than that I've never met somebody who does that before whatever that is in a way it's kind of what like that it it's kind of what like those John cetes movies did or or like where people were just talking and [\\xa0__\\xa0] and you're like that's not what they're talking about or like uh uh uh uh Vince vaugh and Jim favro and Maid made up made up a guy John frro yeah yeah John frro it's like it's so weird it's like double talking on almost kind of in a way but not really what I think it is is that I mean it's it's like the way people talk in those movies but people talk those movies talk the way they talk in those movies because it's a reflection of how people really talk whereas most movies everything's very ordered and right nobody's listening to each other in their life exactly and I think that someone like dad likes that life is like that yes and is embracing it by just right almost consciously doing that yeah and and and making it extra sort of ridiculous yeah cuz it already is ridiculous and it's fun to be that way so he just goes with it have you ever seen Arachnophobia I like Jeff Daniels right yeah unbelievable dude yeah yeah yeah yeah okay next one how's the Godfather 3 the first one best big fan of the podcast you guys keep me from going insane but I kind of got a dilemma right now wonder you help me assassin my Dad recently sold his place to move in with his brother my uncle yeah that's how that works and he said if it doesn't work out if he could then move in with me my wife and my my child so we've only had this house for 3 months saved a very long time to get this house yeah good for you um prior to us getting in the house though we asked them several times times if he want to move in with us if so then he could help us with making a down payment for a house I'm so house wow um said no each time we asked him now that I have a house he asked me if he could then move in unbel so great wow my uncle that's so funny um I don't want my dad to be homeless if it doesn't work out with him too [\\xa0__\\xa0] bad is what I say but also now it's kind of too late we don't have enough room in our house and we don't have enough money to support him either course um let me know what you guys have any helps life issue dude I just I just don't know what to do I'm kind of kind of stuck here thanks what a real life issue dude let's start with the already happened already is the casee before we tell you how to move forward first of all your dad is a king [\\xa0__\\xa0] of the world your dad is a such a big [\\xa0__\\xa0] [\\xa0__\\xa0] it's hard to even like probably not going to like that you said that it doesn't matter dude telling it like it is your dad is a [\\xa0__\\xa0] so dick [\\xa0__\\xa0] so hardcore it's just unbelievable how big of an [\\xa0__\\xa0] your dad is he is a king [\\xa0__\\xa0] Emperor [\\xa0__\\xa0] this guy [\\xa0__\\xa0] you were asking him over and over again Dad if you want you could live with us right let's pull our money together get an even bigger house so all of us can live comfortably that's cheap dad says no well I want to know what it let me just let me just do this dad says no okay fine saves up saves up saves up him and his wife and his kid finally get to buy a house it's not big barely fits just the three of him but it's good enough and it is a house and that's all that matters they buy it 3 weeks after that happens dad sells his own house wow or three months maybe but Max three months three months and then he comes to him with this [\\xa0__\\xa0] what but here what a [\\xa0__\\xa0] [\\xa0__\\xa0] boundaries right I I don't like the word boundaries I don't like when people are like my boundaries because they always overshare their boundaries but this is definitely a boundary situation okay unbeliev I think that I'm mad for him here's some advices well no I want to know what I want to know is what I want to know is what does it mean if it doesn't work out when I live with my brother it means I'm happy you guys bought a house without my money so now that can [\\xa0__\\xa0] mooch off you when this inevitably doesn't [\\xa0__\\xa0] work out but no no I understand but what is not working out living with your brother it's just annoying no [\\xa0__\\xa0] it is annoying because you you want to not live with your brother you want to live on your own you're 50 or whatever the [\\xa0__\\xa0] old you are 60 so you eat that you do it anyway you don't move into your son after you said no don't worry about me I'm not helping I think I'm assuming what it meant is if the uncle ends up not okay with it if if my brother ends up not ultimately being Oh I thought he already was in with the uncle I don't know oh whatever either way what I took it as as if longer term my brother realizes yeah it's terrible dude also you're his son the opposite that should not be how it works like if Dad or Mom did that to us we would have to be like okay but it would s we'd be like that sucks we we asked them if they wanted to before we bought the house and now we bought the house we don't have enough room oh man how mad is his wife also he did end up selling his house he could have had enough money to go in and also it sucks for yeah his wife oh my oh my god dude God honestly have your wife answer to your dad no [\\xa0__\\xa0] you get out of here yeah you could also I mean go perfectly like if if this happened to my to Kristen's mom or dad or whatever I like them and you know but this isn't about that but if that do with you I know I know I would say oh use me as an excuse say I yeah so maybe your wife is down with you yeah get your your wife is the ticket here damn that's that is aggravating damn [\\xa0__\\xa0] that [\\xa0__\\xa0] your dad dude okay [\\xa0__\\xa0] your father you know he's a king [\\xa0__\\xa0] okay next one okay hi guys this is Shannon and my daughter B oh we're both babies I do have an interesting one for you today that little my mom and I don't say I love you to each other your mom and um wow obviously we do love each other very much that's not obvious we've just never been that way we don't casually say it like you hang up just never done it and um she's an amazing woman she's very strong she raised me herself um but she's also IR is so she doesn't like love to talk about her feelings oh yeah I get it say no more it's just always been unspoken with us that we love each other uh all that being said my husband and I say it to each other constantly every day um say it to her daughter constantly every day so as she grows up I'm starting to wonder MH is she going to be confused as to why Mom and Grandma don't say it but we all say it and um you know there's million ways you can screw up your kids so I guess I'm just wondering what you think about that and if I shouldn't start saying it to my mom or like is that so weird to start saying it up BL sounds dumb but like I don't want to make her uncomfortable yeah please let me know here and also please do Lifeline live in Boston and please offer VIP because it's a dream of mine to meet you both a okay thank you very much love you bye look at that baby dude so cute look at her eyes uh I think I said look at her eyes before you did okay well you always say look at the person's eyes that left of thing so you said it this time and I'm just letting you know so now that I'm doing it that I said it first but now that I'm doing it really means something see what happens I think here's what happens when you have kids okay you start realizing how [\\xa0__\\xa0] up your parents are and what you don't have because you're like oh wait why didn't my parents do this it seems so obvious to you but it wasn't to your parents because they're a different person and your kids are going to think about you but um so you know I'm glad that you're breaking the cycle and telling your daughter you know how much you love her and all that [\\xa0__\\xa0] every day uh but it's just like this is exactly what happens when you have kids it makes you realize things about you and it it it invites you to think about things that you need to now uh take control of or uh you know re uh rethink of your of your life of your life so yeah I think that it is something you should think about doing talking about this with your mom because you're going to be around a lot longer than she is it's on your mind if it's not on hers she's your mom she's still got to take care of you in a way so it is something to bring up if you want to bring it up I mean I I I think that that's exactly one of the reasons why kids make you they make you think of that having them yeah I think definitely bring it up with your mom not like hey hey Mom what's wrong with you why did you never say you love me just be like hey I love you but I never say it and I realize we never say it in general it's less about why is that and is there a reason for that and let's dig deep but like don't you think maybe we should start saying it I've realize this because my relationship with my own daughter she can't even talk yet she doesn't know what I'm saying yet but I'm telling her I love her and it's made me think about our relationship and I think we should start saying it to each other that yeah it's all about just moving forward what if your mom's like like every day every time we hang up the phone I let you hang up first and I say I love you to the dial tone you know you don't know poetry I mean that doesn't happen obviously because that's not what happens because it could be no because by then she by then she would have said hey sweetie wait don't hang up I've something else to say and that is yeah no cuz she lets it do cuz she's too insecure to say oh she does it on purpose on purpose got it got it got it you hang up and she goes I love you I love you yeah it could be and dude I um yeah that's that's uh you know what a bummer yeah I I don't know I mean you seem like a well adjusted cool person but I mean what the [\\xa0__\\xa0] do I know but like you know that's nice that you're you're you're saying it to your I mean how could you not love a little baby like that doesn't have to be a bummer you could start saying it now be Beau no I'm saying it's a bummer between you and your mom I know if it is but but you could start saying it now and it wouldn't be a bummer all right sure it's just you know it's it's yeah what Wow real life issues huh real life issues yeah I say I love you to my kids so much I can't even believe it I think that it's probably annoys them maybe cut it out a little bit tone it down what if my now future Calvin and Billy call into a show Lifeline whoever the post start then when they're older they're like hey man my dad told me he love me too much I never said it to my kids hey my dad told me he loves me too much now I'm a serial killer because of that yeah I'm on the run I don't know yeah it's interesting how kids do that though do what they make you think of things about about your childhood oh yeah so crazy dude sometimes I'm sitting with it's mostly Calvin because Calvin's older and and and I remember kind of myself you remember [\\xa0__\\xa0] at Billy age so sometimes I'm just like holding Calvin and I feel not only like uh me but I also feel like and I have nothing to compare to to cuz I'm not him but I also feel like Dad to me and what what what what I feel like Dad I feel like I'm the dad now and then I feel I imagine myself as Dad okay our dad and then Calvin also another version of me and that's when I have to sit down dude because it's really weird when I get when I start feeling that way um and I and then I I snap back and I look at Calvin as Calvin and then me also as me and then I can also feel what it was like when I was Calvin's age me as Calvin's age it's it's the hardest thing to describe and it's the most wild most wildest feeling in my life uh but yeah it's just it's just it's just crazy that's that's the wildest feeling you ever had I think so cuz when I when I when I cuz when I imagine our parents passing right like it's going to be sad of course and then I think about oh at least I still have my family you know what I'm saying it's not like my whole family is passed away my family of origin has passed so I have now my own family and not that I transfer that love to that all the love is all the love but it just that support and that love feels like it can hold me down and I think about like people who then don't have kids and are really close with their parents and then their parents pass like what the [\\xa0__\\xa0] do they do party it up D DMX [\\xa0__\\xa0] [\\xa0__\\xa0] [\\xa0__\\xa0] you know what I'm saying oh [\\xa0__\\xa0] mom and dad are dead gonna make me lose my mind up in here with the casket yep with the Paul Bears yeah yeah dude anyway crazy man life huh didn't mean to get too deep life huh you said that was the weird craziest feeling have you ever have you ever busted a nut on ecstasy cuz that's up there too did you bust out on ecstasy what have you have I yeah no I was kidding oh so judging me so hard I never busted a nut on ecstasy or anything I've actually never been on ecstasy so that's the only reason I haven't busted a n it you know I bet if I did ecstasy I would be really trying to bust us somewhere though that's what they say about ecstasy I heard about this what I'm coming to busting I think it's a I think it's an urban legend that it people say oh it ruins sex you got to be careful can that be true no that can't be right no okay next next so [\\xa0__\\xa0] sure someway hey K and Matt I am calling on behalf of a friend because she's too shy but she is looking for advices for you guys tell me about her um she is somebody who uh her job is to work with colleges in her area and she does these trainings where she's training them on how to use uh their software um but she is running into a problem where she is getting hit on in the middle of these trainings and Jesus Christ she is too modest she doesn't she's an attractive lady she won't say she is but she is um she needs something funny to say in that moment because you know she wants to keep it professional but she just does not know how to handle these situations when she is just so blatantly getting hit on during these trainings any advices for her would be much appreciated love you guys thank you I wonder I mean the more overt they are about hitting on her the better it would be to sort of clap back but that's tough because you're still at the end of the day in a work setting yeah I don't think you need to be funny I think it's like you got all the power in the world if that happens so what would you suggest uh for instance like obviously we don't have any specific well she probably doesn't want she's modest she probably doesn't want to be in an uncomfortable situation that's what I'm saying like you don't want to make this so [\\xa0__\\xa0] weird uh unless the person's so super overt wear a wedding wear a ring to I'm married oh [\\xa0__\\xa0] like you always say that and that's I never think such a a uh what do you call it no-brainer yeah I maybe you don't want to wear a ring you don't want to lie or what if what if you do see a guy that you like and you meet you're like oh [\\xa0__\\xa0] you got to take your ring off it's like yeah so um yeah I don't know I but I think that you could do that and like trying to think of something funny is not is is just not going to work on a guy guys are they're just going to be like um you want good Ruth's Chris they could they could be taking even even a joke as as an invitation for more too that's what I'm saying yeah like oh you're and she's funny right right dude it's like yeah yeah geez God guys are so dumb you want to go to Il foro about this kind of [\\xa0__\\xa0] IL foro wow I'll get the risoto it's got such good risoto dude oh the risoto is bomb at El forio the M the mushroom the saffron mushroom risoto dude yo what you're married oh man I didn't see your ring okay fine damn I guess uh walking back to class cuz she's out of college I guess uh wear a ring that's a good idea I always think that's good because it's like it's so what guys do are so annoying it's so annoying when that happens it's fine look it's hard to hit on a a woman if you're a single guy it's hard you just there's a lot at stake you don't want to [\\xa0__\\xa0] be embarrassed you I'd get it uh so when a guy does it you don't owe him anything but it's like oh it's it's a it's sweet unless he's a dick about it right so the hard thing for you is declining so we each have our [\\xa0__\\xa0] that we have to deal with but uh that's annoying yeah that is annoying I don't know if there's any way to joke out of that situation because then because then again guys are idiots right and then there's the thing of like do you want to really be a dick in the situation because then not only are you in a work setting but you're also potentially like again this sucks this only makes your only highlights how annoying it is for you even more but like then you run the risk of the guy being like Oh okay whoa you're like that and it's lose I know but that's a lose lose too it's just it's a loss all the way around that's why the wedding ring is good because it's sort of like plugs the hole before anything even gets close to slipping into it you know in that hole if you don't say sexual all right all right next one what up Chris what up Matt me hope you guys are doing well thank you for everything that you guys do love you very much thanks man um my question is is it annoying it's very annoying to me it's a millennial thing I am a millennial drunk I don't feel like one yeah same cuz of the lingo I I'm not in it I don't all right yeah say it I don't get it but the one thing that gets me enough is when people say tell me why don't be saying that unless you're a backstreet boy am I right what tell me why I don't know it gets me every time wow the lingo of the the new generation I'm I'm not in it I don't get it I guess what he um but thank you guys so much for everything you do he's saying cuz you could just always say why right have you guys heard that no this is what I'm sensing go ahead yeah yeah I don't know what he's talking about I do oh oh go I mean I do yeah oh he do Anthony does yeah it's like tell me why this happens when you can just say why does this happen Anthony that's what Chris just said it's right okay which I do yes on its face that's annoying that it's become a thing but I've never thought of it uh no it doesn't bother me at all so much haven't thought of it that I'm still confused I would argue I would argue that it's not even really a colloquialism yeah it's not a thing I mean a thing is what you mean by when you say you mean cism yeah yeah yeah I it's not like uh I did a thing or what were the other ones you guys always talk about you don't like uh life it's oh life is a movie last night was a movie yeah that kind of [\\xa0__\\xa0] or like um you know or somebody says like standing on business yeah standing on business is a yeah of all the ones to not like that's an that's a that's a really odd one actually I would say say I don't get me wrong I like that it bothers you because I love when stuff bothers people and then you you know get some humor out of it but like that's that's a one that that's one that I haven't even registered and now I will so thanks a lot maybe he's just a really big uh Backstreet Boys fan he takes offense they're just throwing around the lyrics willy-nilly and he doesn't appreciate that well it's like it's giving that one that that that's that's obviously you don't you don't dislike that more than tell me why it's giving is the worst dude it'd be weird if the back street boys were just like why ain't nothing nothing but a heartache it wouldn't make any sense well actually tell literally just walked out of the entire tell me why ain't nothing but a heartache doesn't make sense either now that I think about it this guy look this up kind of no I don't think it's a thing dude dude I think how did it get on the thing if you don't even know what he's talking about I I wanted to know if you guys I think it's a thing it has to be a thing dude no otherwise it doesn't make sense maybe he doesn't make sense maybe he maybe he's wrong then I'm pissed at him I'm not pissed at him because I like that he's thought about something very important in his life people say tell me why a lot but it's not a thing it's like saying hi it's just what it is but I agree with him about saying you could just say why I I I don't I okay here you know what I don't like but no you know what I don't like go ahead when when when you ask somebody a question and they do that school teacher thing which is where they go like this and then answer maybe you never register that registered that registrated aren't they thinking that yeah but you can do that without doing oh bro that's as annoying as tell me why being upset with tell me why no that's just somebody thinking no but my I dated do okay well that's different somebody you dated I'm like dude I'm not in an interview with you we love each other don't be pontificating bro you have got some what [\\xa0__\\xa0] to loosen you need to loosen your [\\xa0__\\xa0] what that is crazy to be bent about that to That's crazy dude I don't have my [\\xa0__\\xa0] to loosen to be to be Tupac shent about that is when people are just you know like you know like Tucker Carl would do that on his show to be Tupac shent about that is just to explain Tupac shent wacky okay did you find anything no didn't look the way it said no didn't look all right let's do another it's giving is one of the worst ones it's giving is unbelievably bad yeah a hi guys um I have a question about um siblings I am in two minds about having one or two children Chris's question is more so aimed towards you obviously um did you find the transition one to two harder or Z to one harder um Matt I would like your opinion on siblings in general I suppose I know guys would probably not have it any other way um love you both Chris I saw you in Brisbane and it was one of the best comedy shows I've ever seen I love your Australian accent please never stop doing your saw Impressions all right thanks guys fortunate for you I'm very annoying and I won't stop doing that so um that baby huh that Brisbane show I can't remember which one that was which that was the one you said was kind of crazy it was that's what you said no that was the uh Adelaide one that's what you said yeah Adelaide yeah Perth was the [\\xa0__\\xa0] kill was the [\\xa0__\\xa0] killer yeah but wait what the [\\xa0__\\xa0] Brisbane bris was good bris was good bris was good I remember that you know what weren't there I'm I'm remembering what you said you remember what I said yeah wow okay um so one is the hardest [\\xa0__\\xa0] yeah yeah whatever One is the Loneliest Number yeah yeah yeah I know so uh one's the one's the one's the hardest because it's your whole life is uprooted two and also you don't know what you're doing here's what I say about something that has nothing to do with kids okay stand up all right one show to do a show is tiring to do two shows is not doubly exhausting sure it's more than doubly exhausting because you already don't do it no I'm going well [\\xa0__\\xa0] you it's distracting all right I'll pause momentarily no no no I mean dude don't make it real you know what I I'll pause it I'll pause it for as long it but I'll put it on hold as long as I feel like this thing will you make me feel bad I'll put it that's your that's a you problem dude boundaries you do boundaries dude congratulations man stop saying bound you're a millennial stop saying bound I'm a millennial you're a gen Z [\\xa0__\\xa0] continue malovic talking to a trained conductor um cuz it stopped go continue it's it's doubly exhausting because you already are tired from the first show you go into the second show and it's not like you're starting from scratch that would be double you're now starting at a disadvantage of the tiredness and then you're getting exponentially tired as the show goes on that is not what it's like having two kids it is not doubly hard MH your life has already been uprooted by this one kid and you kind of just add the other kid on it's not it's not it's not the same yeah it's more it's harder but you start doing things where you realize and this is cool if you have two kids when one kid is napping enjoy just the one kid now that is a relief it's like you're on vacation it actually feels like that um so yeah I I I don't think it's too nuts to go two now three if I have three if we have three I I don't I don't know you're then outnumbered hopefully the oldest seems like the changer of all it does it does seem like it but I don't know hopefully the the oldest one is old enough to he's pretty self-sufficient and then the the second one is at least old enough to do things like feed himself you know what I mean and tell you what he needs because if not like some people just go Irish on it three years two years we I got three-year-old two-y old Oney old my family it's like oh my god dude seems so crazy I you don't ever know what anyone's talking about everything's a mess always and you're tired that's people do it all the time though it's nuts I know to think about so yeah I don't know I I I I don't I I think for us and look I know people are going to be like oh but you have money you have it people you you it's easy for you to get help I get it I get that I understand that oh yeah that's a big big thing and and yes it is a big thing it is that I still thought is is I still thought that it was going to be way harder and it's not as hard as I thought it was going to be yeah but you have money it's easy for you to say wow you know um anyway maybe she has money you don't know she looks like she's Rich you know she looked Rich to me cuz she's white racist no because Mone she's wow you know uh yeah she looked she looked Rich to me um rich in Spirit uh should we do another one before we get done yeah whatever sure oh so indifferent oh that's great oh hey Chris and Matt how you guys doing not on the phone so my wife and I we went out to dinner we live in New York City I know this guy voice and we got sat obviously at a tiny table with the table next to us basically in our laps um so that was cool anyways everything's great we order our food we get our first app and as our waiter is placing down our food the guy next to us goes that [\\xa0__\\xa0] looks fire we should have gotten that to the girl that he's with now my wife wife being my wife oh no she hears that and goes do you guys want to try some of course they say no they're being polite and we continue on with the night Kristen we do that as we're getting our second appetizer oh no he goes again babe wow that looks so good we should have got that an [\\xa0__\\xa0] the other guy now I don't even have time to react to that second one because the table behind my wife gets some sort of like extravagant food Seafood Tower and again he goes okay we really should have gotten that and I let out a soft Snicker we're now at the point where my wife is like looking directly at me because she knows how I'm feeling she knows like what I'm thinking yeah that's H either this couple is so bad at going out to eat that they pick all the wrong things this guy has unlimited money because how you going to should have gotten everything yeah yeah anyways time has passed so I'm not thinking about the guy they've been enjoying their food so obviously he won't say anything okay but we get our pastas and he goes babe those are the pastas we should have got and I ably go uh-uh it slipped pre it slipped nice now in my head my wife and I leave to the waiter we're heading out you can leave the check on his table because our food is now theirs oh nice this really is a table for four and congratulations he's paying yeah dude now would you guys have stopped this guy dead in his tracks after the first app second app what should I have done any chr.com for tickets he'll be in Toronto bismar sou Falls and check out the private record obviously bye dude that does sound like a voice we've heard before but let me hold on though before we even get into that man I wish that happened to me dude [\\xa0__\\xa0] well what would you have done I want to know what I would say bro yeah what's the deal man by by the last one what did you get dog [\\xa0__\\xa0] by the last one I would have said like what come on what are you doing like what you just did you get a play of crackers and piss yeah what the [\\xa0__\\xa0] but but beyond that like what's with the commentary oh it's great bro how boring are you have you ever been somewhere it' be great if each time he said it he moved his table a little bit over more and more and then he just joined them yeah bet but yeah you know what say it again I'm going to make you eat what I get next open up I'm doing the airplane thing of part of me would have thought it's like a a con like he's trying to get food or he's [\\xa0__\\xa0] with you right that's what I mean it's like too much to be normal that's so oh imagine being that guy's date well me who knows if she was as Quirky as he's not getting laid she's not [\\xa0__\\xa0] that guy he could have been [\\xa0__\\xa0] sitting across from Jan cuac though you don't know how quirky she is it's not quirky that's just like it's definitely [\\xa0__\\xa0] it's just weird oh man look could you okay so imagine yourself in that situation the appetizer come out oh man we should have got that do you want some oh no that's I'm okay then the second one comes out oh babe that's what we should have got already I feel weird already that's insane and this guy did it two more times oh the pasta babe dude that's insane and I never wanted to see someone's face on the audio call more than that why would he not show his face on the I don't know maybe we do know him we must voice does sound familiar sounds so familiar but sometimes it's just somebody from The Real World you know you never know the real world you just have heard the voice before or maybe they call before no I think we know that person and I want to know who it was and I'm pissed what the [\\xa0__\\xa0] well they probably know but dude it's uh that is just crazy man that is so funny that's really funny I love that I also we'll tell you this much I want to be I I'm that guy's friend now the other guy yeah you know me you're also this guy's friend you just you made two friends yeah yeah yeah I oh great I just made great friends yeah right there if I was another person witnessing this guy witnessed that and now all of a sudden I got to buy more Christmas gifts come Christmas cuz this is great close friends I got close new friends they're basically family hey guys you mind if I join you two cuz you're obviously together and then we're all together yeah I'll pay the bill [\\xa0__\\xa0] it you know yeah uh that's great and he is right I'm gonna be in Toronto and Bismark oh no Toronto this will be after the Toronto show this will come out after the Toronto show uh cuz we shot it early uh but yeah Bismark and uh so Falls chris.com thank you very much patreon.com Lifeline luxury make sure you if you're in the area and it's possible on December 5th come to the lifeline live show if you can't make it make sure you are signed up for the patreon at patreon.com Lifeline luxury all of the live shows will be taped and up there for the patreon members to see thank you very much hello H helloo hello hello hello\\n\\n\""
      ]
     },
     "execution_count": 4,
     "metadata": {},
     "output_type": "execute_result"
    }
   ],
   "source": [
    "transcripts[0]"
   ]
  },
  {
   "cell_type": "code",
   "execution_count": 5,
   "metadata": {},
   "outputs": [
    {
     "name": "stdout",
     "output_type": "stream",
     "text": [
      "Transcripts have been saved to ./data/transcripts/transcripts_separated.txt\n",
      "Transcripts have been saved to ./data/transcripts/transcripts_separated.json\n"
     ]
    }
   ],
   "source": [
    "# -----------------------------------------\n",
    "# Instructions:\n",
    "# 1. Replace 'your_local_path_here' with a local directory on your machine.\n",
    "#    For example: transcripts_dir = 'C:/Users/YourName/Documents/Transcripts'\n",
    "#\n",
    "# 2. Ensure that the directory exists or use os.makedirs to create it.\n",
    "#\n",
    "# 3. Provide your own list of transcripts or load them from a file.\n",
    "# -----------------------------------------\n",
    "\n",
    "# Your transcripts as a Python list of strings.\n",
    "# Replace these with your own transcripts from YouTube or another source.\n",
    "\n",
    "# Set your local directory for storing transcripts\n",
    "transcripts_dir = './data/transcripts/'  # e.g. 'C:/Users/YourName/Documents/Transcripts'\n",
    "os.makedirs(transcripts_dir, exist_ok=True)\n",
    "\n",
    "# Option 1: Save as a Text File with Separators\n",
    "text_file_path = os.path.join(transcripts_dir, 'transcripts_separated.txt')\n",
    "separator = \"\\n\" + \"=\"*50 + \"\\n\"\n",
    "\n",
    "with open(text_file_path, 'w', encoding='utf-8') as txt_file:\n",
    "    for transcript in transcripts:\n",
    "        txt_file.write(separator)\n",
    "        txt_file.write(transcript + \"\\n\")\n",
    "\n",
    "print(f\"Transcripts have been saved to {text_file_path}\")\n",
    "\n",
    "# Option 2: Save as a JSON File with Pretty-Printing\n",
    "json_file_path = os.path.join(transcripts_dir, 'transcripts_separated.json')\n",
    "\n",
    "with open(json_file_path, 'w', encoding='utf-8') as json_file:\n",
    "    json.dump(transcripts, json_file, ensure_ascii=False, indent=4)\n",
    "\n",
    "print(f\"Transcripts have been saved to {json_file_path}\")\n",
    "\n"
   ]
  },
  {
   "cell_type": "code",
   "execution_count": 6,
   "metadata": {},
   "outputs": [],
   "source": [
    "\n",
    "# -----------------------------------------\n",
    "# Cleaning function for text\n",
    "# -----------------------------------------\n",
    "def clean_text(text):\n",
    "    # Remove non-verbal cues like [Applause], [Laughter], etc.\n",
    "    text = re.sub(r\"\\[.*?\\]\", \"\", text)\n",
    "    # Replace multiple spaces with a single space\n",
    "    text = re.sub(r\"\\s+\", \" \", text)\n",
    "    # Strip leading and trailing spaces\n",
    "    text = text.strip()\n",
    "\n",
    "    # Insert commas for likely sentence continuations\n",
    "    text = re.sub(r\"\\b(and|but|so|or)\\b\", r\", \\1\", text, flags=re.IGNORECASE)\n",
    "\n",
    "    # Insert periods before capital letters indicating new sentences\n",
    "    text = re.sub(r\"(?<!\\w)([a-zA-Z]+)(\\s+)([A-Z])\", r\"\\1.\\2\\3\", text)\n",
    "\n",
    "    # Capitalize the start of each sentence after periods\n",
    "    sentences = text.split(\". \")\n",
    "    sentences = [sentence.capitalize() for sentence in sentences]\n",
    "    text = \". \".join(sentences)\n",
    "\n",
    "    # Add a period at the end if missing\n",
    "    if text and text[-1] not in \".!?\":\n",
    "        text += \".\"\n",
    "\n",
    "    return text\n",
    "\n",
    "# Clean each transcript\n",
    "cleaned_transcripts = [clean_text(transcript) for transcript in transcripts]"
   ]
  },
  {
   "cell_type": "code",
   "execution_count": 7,
   "metadata": {},
   "outputs": [
    {
     "name": "stderr",
     "output_type": "stream",
     "text": [
      "/Users/wyatthenryblair/anaconda3/lib/python3.11/site-packages/huggingface_hub/file_download.py:797: FutureWarning: `resume_download` is deprecated and will be removed in version 1.0.0. Downloads always resume when possible. If you want to force a new download, use `force_download=True`.\n",
      "  warnings.warn(\n"
     ]
    },
    {
     "data": {
      "application/vnd.jupyter.widget-view+json": {
       "model_id": "5d069a0c0f294bd2a6881d1f6066bd8b",
       "version_major": 2,
       "version_minor": 0
      },
      "text/plain": [
       "Map:   0%|          | 0/426 [00:00<?, ? examples/s]"
      ]
     },
     "metadata": {},
     "output_type": "display_data"
    },
    {
     "data": {
      "application/vnd.jupyter.widget-view+json": {
       "model_id": "cbf2b185b8694d8097f53f4d6364f017",
       "version_major": 2,
       "version_minor": 0
      },
      "text/plain": [
       "Map:   0%|          | 0/48 [00:00<?, ? examples/s]"
      ]
     },
     "metadata": {},
     "output_type": "display_data"
    },
    {
     "data": {
      "application/vnd.jupyter.widget-view+json": {
       "model_id": "bedf5aaede1143e98cf89b7b9eed5cc0",
       "version_major": 2,
       "version_minor": 0
      },
      "text/plain": [
       "model.safetensors:   0%|          | 0.00/548M [00:00<?, ?B/s]"
      ]
     },
     "metadata": {},
     "output_type": "display_data"
    },
    {
     "name": "stderr",
     "output_type": "stream",
     "text": [
      "Using the `WANDB_DISABLED` environment variable is deprecated and will be removed in v5. Use the --report_to flag to control the integrations used for logging result (for instance --report_to none).\n",
      "/Users/wyatthenryblair/anaconda3/lib/python3.11/site-packages/transformers/optimization.py:407: FutureWarning: This implementation of AdamW is deprecated and will be removed in a future version. Use the PyTorch implementation torch.optim.AdamW instead, or set `no_deprecation_warning=True` to disable this warning\n",
      "  warnings.warn(\n"
     ]
    },
    {
     "data": {
      "application/vnd.jupyter.widget-view+json": {
       "model_id": "14bee51678e4428795e3cb5141d3b4e5",
       "version_major": 2,
       "version_minor": 0
      },
      "text/plain": [
       "  0%|          | 0/639 [00:00<?, ?it/s]"
      ]
     },
     "metadata": {},
     "output_type": "display_data"
    },
    {
     "data": {
      "application/vnd.jupyter.widget-view+json": {
       "model_id": "d1ad6b32694c478e82ad9dc734092e8f",
       "version_major": 2,
       "version_minor": 0
      },
      "text/plain": [
       "  0%|          | 0/24 [00:00<?, ?it/s]"
      ]
     },
     "metadata": {},
     "output_type": "display_data"
    },
    {
     "name": "stdout",
     "output_type": "stream",
     "text": [
      "{'eval_loss': 3.1370296478271484, 'eval_runtime': 13.2729, 'eval_samples_per_second': 3.616, 'eval_steps_per_second': 1.808, 'epoch': 1.0}\n"
     ]
    },
    {
     "data": {
      "application/vnd.jupyter.widget-view+json": {
       "model_id": "97352cd68c124db788f881a04b30f11e",
       "version_major": 2,
       "version_minor": 0
      },
      "text/plain": [
       "  0%|          | 0/24 [00:00<?, ?it/s]"
      ]
     },
     "metadata": {},
     "output_type": "display_data"
    },
    {
     "name": "stdout",
     "output_type": "stream",
     "text": [
      "{'eval_loss': 3.0843374729156494, 'eval_runtime': 13.5434, 'eval_samples_per_second': 3.544, 'eval_steps_per_second': 1.772, 'epoch': 2.0}\n",
      "{'loss': 3.1023, 'learning_rate': 1.0876369327073553e-05, 'epoch': 2.35}\n"
     ]
    },
    {
     "data": {
      "application/vnd.jupyter.widget-view+json": {
       "model_id": "291821c9d95e48fb98d5e4ab35cdf137",
       "version_major": 2,
       "version_minor": 0
      },
      "text/plain": [
       "  0%|          | 0/24 [00:00<?, ?it/s]"
      ]
     },
     "metadata": {},
     "output_type": "display_data"
    },
    {
     "name": "stdout",
     "output_type": "stream",
     "text": [
      "{'eval_loss': 3.0744972229003906, 'eval_runtime': 12.3103, 'eval_samples_per_second': 3.899, 'eval_steps_per_second': 1.95, 'epoch': 3.0}\n",
      "{'train_runtime': 1444.272, 'train_samples_per_second': 0.885, 'train_steps_per_second': 0.442, 'train_loss': 3.0630564323986453, 'epoch': 3.0}\n",
      "Model and tokenizer saved to your_local_path_here/ComBot\n"
     ]
    }
   ],
   "source": [
    "\n",
    "# -----------------------------------------\n",
    "# Fine-tuning the GPT-2 model\n",
    "# -----------------------------------------\n",
    "os.environ[\"WANDB_DISABLED\"] = \"true\"\n",
    "\n",
    "# Create a Hugging Face Dataset from the cleaned transcripts\n",
    "dataset = Dataset.from_dict({'text': cleaned_transcripts})\n",
    "\n",
    "# Split the dataset into training and test sets (e.g., 90-10 split)\n",
    "train_test_split = dataset.train_test_split(test_size=0.1)\n",
    "train_dataset = train_test_split['train']\n",
    "test_dataset = train_test_split['test']\n",
    "\n",
    "# Load the GPT-2 tokenizer and set up padding\n",
    "tokenizer = GPT2Tokenizer.from_pretrained(\"gpt2\")\n",
    "tokenizer.pad_token = tokenizer.eos_token  # Pad token set to EOS\n",
    "\n",
    "# Tokenize the data\n",
    "def tokenize(batch):\n",
    "    encoding = tokenizer(batch[\"text\"], padding=True, truncation=True, max_length=512)\n",
    "    encoding[\"labels\"] = encoding[\"input_ids\"].copy()  # labels = input_ids for language modeling\n",
    "    return encoding\n",
    "\n",
    "train_dataset = train_dataset.map(tokenize, batched=True, remove_columns=[\"text\"])\n",
    "test_dataset = test_dataset.map(tokenize, batched=True, remove_columns=[\"text\"])\n",
    "\n",
    "train_dataset.set_format(\"torch\", columns=[\"input_ids\", \"attention_mask\", \"labels\"])\n",
    "test_dataset.set_format(\"torch\", columns=[\"input_ids\", \"attention_mask\", \"labels\"])\n",
    "\n",
    "# Load the pre-trained GPT-2 model\n",
    "model = GPT2LMHeadModel.from_pretrained(\"gpt2\")\n",
    "\n",
    "# Define training arguments\n",
    "training_args = TrainingArguments(\n",
    "    output_dir=\"./my_chatbot_model\",\n",
    "    evaluation_strategy=\"epoch\",\n",
    "    learning_rate=5e-5,\n",
    "    per_device_train_batch_size=2,\n",
    "    per_device_eval_batch_size=2,\n",
    "    num_train_epochs=3,\n",
    "    weight_decay=0.01,\n",
    "    save_steps=500,\n",
    "    save_total_limit=2,\n",
    "    logging_dir='./logs',\n",
    ")\n",
    "\n",
    "trainer = Trainer(\n",
    "    model=model,\n",
    "    args=training_args,\n",
    "    train_dataset=train_dataset,\n",
    "    eval_dataset=test_dataset,\n",
    ")\n",
    "\n",
    "# Start fine-tuning\n",
    "trainer.train()\n",
    "\n",
    "# Save the Fine-Tuned Model and tokenizer to a local directory\n",
    "local_model_dir = 'your_local_path_here/ComBot'  # e.g. 'C:/Users/YourName/Documents/ComBot'\n",
    "os.makedirs(local_model_dir, exist_ok=True)\n",
    "model.save_pretrained(local_model_dir)\n",
    "tokenizer.save_pretrained(local_model_dir)\n",
    "\n",
    "print(f\"Model and tokenizer saved to {local_model_dir}\")\n"
   ]
  },
  {
   "cell_type": "code",
   "execution_count": 10,
   "metadata": {},
   "outputs": [
    {
     "name": "stdout",
     "output_type": "stream",
     "text": [
      "* Running on local URL:  http://127.0.0.1:7862\n",
      "\n",
      "To create a public link, set `share=True` in `launch()`.\n"
     ]
    },
    {
     "data": {
      "text/html": [
       "<div><iframe src=\"http://127.0.0.1:7862/\" width=\"100%\" height=\"500\" allow=\"autoplay; camera; microphone; clipboard-read; clipboard-write;\" frameborder=\"0\" allowfullscreen></iframe></div>"
      ],
      "text/plain": [
       "<IPython.core.display.HTML object>"
      ]
     },
     "metadata": {},
     "output_type": "display_data"
    },
    {
     "data": {
      "text/plain": []
     },
     "execution_count": 10,
     "metadata": {},
     "output_type": "execute_result"
    },
    {
     "name": "stderr",
     "output_type": "stream",
     "text": [
      "The attention mask and the pad token id were not set. As a consequence, you may observe unexpected behavior. Please pass your input's `attention_mask` to obtain reliable results.\n",
      "Setting `pad_token_id` to `eos_token_id`:50256 for open-end generation.\n",
      "The attention mask and the pad token id were not set. As a consequence, you may observe unexpected behavior. Please pass your input's `attention_mask` to obtain reliable results.\n",
      "Setting `pad_token_id` to `eos_token_id`:50256 for open-end generation.\n"
     ]
    }
   ],
   "source": [
    "\n",
    "# -----------------------------------------\n",
    "# Creating a Chat Interface using Gradio\n",
    "# -----------------------------------------\n",
    "\n",
    "# Load the fine-tuned model and tokenizer from local directory\n",
    "model = GPT2LMHeadModel.from_pretrained(local_model_dir)\n",
    "tokenizer = GPT2Tokenizer.from_pretrained(local_model_dir)\n",
    "\n",
    "def generate_response(prompt):\n",
    "    inputs = tokenizer(prompt, return_tensors=\"pt\")\n",
    "    outputs = model.generate(inputs.input_ids, max_length=100, \n",
    "                             num_return_sequences=1, do_sample=True, top_k=50, top_p=0.95)\n",
    "    response = tokenizer.decode(outputs[0], skip_special_tokens=True)\n",
    "    return response\n",
    "\n",
    "iface = gr.Interface(\n",
    "    fn=generate_response,\n",
    "    inputs=\"text\",\n",
    "    outputs=\"text\",\n",
    "    title=\"My Fine-Tuned Chatbot\",\n",
    "    description=\"Interact with your chatbot trained on your custom transcripts!\"\n",
    ")\n",
    "\n",
    "# Launch the Gradio interface\n",
    "iface.launch()"
   ]
  },
  {
   "cell_type": "code",
   "execution_count": null,
   "metadata": {},
   "outputs": [],
   "source": []
  }
 ],
 "metadata": {
  "kernelspec": {
   "display_name": "base",
   "language": "python",
   "name": "python3"
  },
  "language_info": {
   "codemirror_mode": {
    "name": "ipython",
    "version": 3
   },
   "file_extension": ".py",
   "mimetype": "text/x-python",
   "name": "python",
   "nbconvert_exporter": "python",
   "pygments_lexer": "ipython3",
   "version": "3.11.4"
  }
 },
 "nbformat": 4,
 "nbformat_minor": 2
}
