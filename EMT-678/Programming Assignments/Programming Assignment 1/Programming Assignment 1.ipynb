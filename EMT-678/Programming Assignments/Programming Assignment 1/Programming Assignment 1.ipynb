{
 "cells": [
  {
   "cell_type": "code",
   "execution_count": 0,
   "metadata": {
    "application/vnd.databricks.v1+cell": {
     "cellMetadata": {
      "byteLimit": 2048000,
      "rowLimit": 10000
     },
     "inputWidgets": {},
     "nuid": "31a59600-0c02-42b8-beea-1e3be7b15d1e",
     "showTitle": false,
     "tableResultSettingsMap": {},
     "title": ""
    }
   },
   "outputs": [],
   "source": [
    "from pyspark.sql.functions import lower, regexp_replace, split, explode, col, udf\n",
    "from pyspark.sql.types import ArrayType, StringType"
   ]
  },
  {
   "cell_type": "code",
   "execution_count": 0,
   "metadata": {
    "application/vnd.databricks.v1+cell": {
     "cellMetadata": {
      "byteLimit": 2048000,
      "rowLimit": 10000
     },
     "inputWidgets": {},
     "nuid": "8ef793a2-7e16-4e5a-9693-138a18af8698",
     "showTitle": false,
     "tableResultSettingsMap": {},
     "title": ""
    }
   },
   "outputs": [],
   "source": [
    "# Step 1: Load the Data\n",
    "fp = 'dbfs:/FileStore/tables/programming_assignment_1/Class_6___Text_File_for_Letter_Pairs.txt'\n",
    "df = spark.read.text(fp)"
   ]
  },
  {
   "cell_type": "code",
   "execution_count": 0,
   "metadata": {
    "application/vnd.databricks.v1+cell": {
     "cellMetadata": {
      "byteLimit": 2048000,
      "implicitDf": true,
      "rowLimit": 10000
     },
     "inputWidgets": {},
     "nuid": "7232ddb4-fa65-4bf0-9c77-3115f221a8a3",
     "showTitle": false,
     "tableResultSettingsMap": {},
     "title": ""
    }
   },
   "outputs": [
    {
     "output_type": "display_data",
     "data": {
      "text/html": [
       "<style scoped>\n",
       "  .table-result-container {\n",
       "    max-height: 300px;\n",
       "    overflow: auto;\n",
       "  }\n",
       "  table, th, td {\n",
       "    border: 1px solid black;\n",
       "    border-collapse: collapse;\n",
       "  }\n",
       "  th, td {\n",
       "    padding: 5px;\n",
       "  }\n",
       "  th {\n",
       "    text-align: left;\n",
       "  }\n",
       "</style><div class='table-result-container'><table class='table-result'><thead style='background-color: white'><tr><th>value</th></tr></thead><tbody><tr><td></td></tr><tr><td>Data have become a torrent flowing into every area of the global economy.1 Companies churn out a </td></tr><tr><td>burgeoning volume of transactional data, capturing trillions of bytes of information about their </td></tr><tr><td>customers, suppliers, and operations. millions of networked sensors are being embedded in the </td></tr><tr><td>physical world in devices such as mobile phones, smart energy meters, automobiles, and industrial </td></tr><tr><td>machines that sense, create, and communicate data in the age of the Internet of Things.2 Indeed, as </td></tr><tr><td>companies and organizations go about their business and interact with individuals, they are </td></tr><tr><td>generating a tremendous amount of digital “exhaust data,” i.e., data that</td></tr><tr><td>are created as a by-product of other activities. Social media sites, smartphones, and other </td></tr><tr><td>consumer devices including PCs and laptops have allowed billions of individuals around the world to </td></tr><tr><td>contribute to the amount of big data available. And the growing volume of multimedia content has </td></tr><tr><td>played a major role in the exponential</td></tr><tr><td>growth in the amount of big data (see Box 1, “What do we mean by ‘big data’?”). Each second of </td></tr><tr><td>high-definition video, for example, generates more than 2,000 times as many bytes as required to </td></tr><tr><td>store a single page of text. In a digitized world, consumers going about their day—communicating, </td></tr><tr><td>browsing, buying, sharing, searching—</td></tr><tr><td>create their own enormous trails of data.</td></tr><tr><td>In itself, the sheer volume of data is a global phenomenon—but what does it mean? Many citizens </td></tr><tr><td>around the world regard this collection of information with deep suspicion, seeing the data flood </td></tr><tr><td>as nothing more than an intrusion of their privacy. But there is strong evidence that big data can </td></tr><tr><td>play a significant economic role to the benefit not only of private commerce but also of national </td></tr><tr><td>economies and their citizens. Our research finds that data can create significant value for the </td></tr><tr><td>world economy, enhancing the productivity and competitiveness of companies and the</td></tr><tr><td></td></tr><tr><td>public sector and creating substantial economic surplus for consumers. For instance, if US health </td></tr><tr><td>care could use big data creatively and effectively to drive efficiency and quality, we estimate </td></tr><tr><td>that the potential value from data in the sector could be more  than $300 billion in value every </td></tr><tr><td>year, two-thirds of which would be in the form of reducing national health care expenditures by </td></tr><tr><td>about 8 percent. In the private sector, we estimate, for example, that a retailer using big data to </td></tr><tr><td>the full has the potential to increase its operating margin by more than 60 percent. In the </td></tr><tr><td>developed economies of Europe, we estimate that government administration could save more than</td></tr><tr><td>€100 billion ($149 billion) in operational efficiency improvements alone by using big data. This </td></tr><tr><td>estimate does not include big data levers that could reduce fraud, errors, and tax gaps (i.e., the </td></tr><tr><td>gap between potential and actual tax revenue).</td></tr><tr><td></td></tr><tr><td>Digital data is now everywhere—in every sector, in every economy, in every organization and user of </td></tr><tr><td>digital technology. While this topic might once have concerned only a few data geeks, big data is </td></tr><tr><td>now relevant for leaders across every sector, and consumers of products and services stand to </td></tr><tr><td>benefit from its application. The ability to store, aggregate, and combine data and then use the </td></tr><tr><td>results to perform deep analyses has become ever more accessible as trends such as Moore’s Law</td></tr><tr><td>in computing, its equivalent in digital storage, and cloud computing continue to lower costs and </td></tr><tr><td>other technology barriers.3 For less than $600, an individual can purchase a disk drive with the </td></tr><tr><td>capacity to store all of the world’s music.4 The means to extract insight from data are also </td></tr><tr><td>markedly improving as software available to apply increasingly sophisticated techniques combines </td></tr><tr><td>with growing computing horsepower. Further, the ability to generate, communicate, share, and access </td></tr><tr><td>data has been revolutionized by the increasing number of people, devices, and sensors that are now </td></tr><tr><td>connected by digital networks. In 2010, more than 4 billion people,</td></tr><tr><td>or 60 percent of the world’s population, were using mobile phones, and about 12 percent of those </td></tr><tr><td>people had smartphones, whose penetration is growing at</td></tr><tr><td>more than 20 percent a year. More than 30 million networked sensor nodes are now present in the </td></tr><tr><td>transportation, automotive, industrial, utilities, and retail sectors. The number of these sensors </td></tr><tr><td>is increasing at a rate of more than 30 percent a year.</td></tr><tr><td></td></tr><tr><td>There are many ways that big data can be used to create value across sectors of the global economy. </td></tr><tr><td>Indeed, our research suggests that we are on the cusp of a tremendous wave of innovation, </td></tr><tr><td>productivity, and growth, as well as new modes of</td></tr><tr><td>competition and value capture—all driven by big data as consumers, companies, and economic sectors </td></tr><tr><td>exploit its potential. But why should this be the case now? Haven’t data always been part of the </td></tr><tr><td>impact of information and communication technology?</td></tr><tr><td>Yes, but our research suggests that the scale and scope of changes that big data are bringing about </td></tr><tr><td>are at an inflection point, set to expand greatly, as a series of</td></tr><tr><td>technology trends accelerate and converge. We are already seeing visible changes in the economic </td></tr><tr><td>landscape as a result of this convergence.</td></tr><tr><td></td></tr><tr><td>Many pioneering companies are already using big data to create value, and others need to explore </td></tr><tr><td>how they can do the same if they are to compete. Governments,</td></tr><tr><td>too, have a significant opportunity to boost their efficiency and the value for money</td></tr><tr><td>they offer citizens at a time when public finances are constrained—and are likely to remain so due </td></tr><tr><td>to aging populations in many countries around the world. Our research suggests that the public </td></tr><tr><td>sector can boost its productivity significantly through the effective use of big data.</td></tr><tr><td></td></tr><tr><td>However, companies and other organizations and policy makers need to address considerable </td></tr><tr><td>challenges if they are to capture the full potential of big data. A shortage of the analytical and </td></tr><tr><td>managerial talent necessary to make the most of big data is</td></tr><tr><td>a significant and pressing challenge and one that companies and policy makers can begin to address </td></tr><tr><td>in the near term. The United States alone faces a shortage of</td></tr><tr><td>140,000 to 190,000 people with deep analytical skills as well as 1.5 million managers and analysts </td></tr><tr><td>to analyze big data and make decisions based on their findings. The shortage of talent is just the </td></tr><tr><td>beginning. Other challenges we explore in this report include the need to ensure that the right </td></tr><tr><td>infrastructure is in place and that incentives and competition are in place to encourage continued </td></tr><tr><td>innovation; that the economic benefits to users, organizations, and the economy are properly </td></tr><tr><td>understood; and that safeguards are in place to address public concerns about big data.</td></tr><tr><td></td></tr><tr><td>This report seeks to understand the state of digital data, how different domains can use large </td></tr><tr><td>datasets to create value, the potential value across stakeholders, and the implications for the </td></tr><tr><td>leaders of private sector companies and public sector</td></tr><tr><td>organizations, as well as for policy makers. We have supplemented our analysis of big data as a </td></tr><tr><td>whole with a detailed examination of five domains (health care in the United States, the public </td></tr><tr><td>sector in Europe, retail in the United States, and manufacturing and personal location data </td></tr><tr><td>globally). This research by no means represents the final word on big data; instead, we see it as a </td></tr><tr><td>beginning. We fully anticipate that this is a story that will continue to evolve as technologies </td></tr><tr><td>and techniques using big data develop and data, their uses, and their economic benefits grow </td></tr><tr><td>(alongside associated</td></tr><tr><td>challenges and risks). For now, however, our research yields seven key insights:</td></tr></tbody></table></div>"
      ]
     },
     "metadata": {
      "application/vnd.databricks.v1+output": {
       "addedWidgets": {},
       "aggData": [],
       "aggError": "",
       "aggOverflow": false,
       "aggSchema": [],
       "aggSeriesLimitReached": false,
       "aggType": "",
       "arguments": {},
       "columnCustomDisplayInfos": {},
       "data": [
        [
         ""
        ],
        [
         "Data have become a torrent flowing into every area of the global economy.1 Companies churn out a "
        ],
        [
         "burgeoning volume of transactional data, capturing trillions of bytes of information about their "
        ],
        [
         "customers, suppliers, and operations. millions of networked sensors are being embedded in the "
        ],
        [
         "physical world in devices such as mobile phones, smart energy meters, automobiles, and industrial "
        ],
        [
         "machines that sense, create, and communicate data in the age of the Internet of Things.2 Indeed, as "
        ],
        [
         "companies and organizations go about their business and interact with individuals, they are "
        ],
        [
         "generating a tremendous amount of digital “exhaust data,” i.e., data that"
        ],
        [
         "are created as a by-product of other activities. Social media sites, smartphones, and other "
        ],
        [
         "consumer devices including PCs and laptops have allowed billions of individuals around the world to "
        ],
        [
         "contribute to the amount of big data available. And the growing volume of multimedia content has "
        ],
        [
         "played a major role in the exponential"
        ],
        [
         "growth in the amount of big data (see Box 1, “What do we mean by ‘big data’?”). Each second of "
        ],
        [
         "high-definition video, for example, generates more than 2,000 times as many bytes as required to "
        ],
        [
         "store a single page of text. In a digitized world, consumers going about their day—communicating, "
        ],
        [
         "browsing, buying, sharing, searching—"
        ],
        [
         "create their own enormous trails of data."
        ],
        [
         "In itself, the sheer volume of data is a global phenomenon—but what does it mean? Many citizens "
        ],
        [
         "around the world regard this collection of information with deep suspicion, seeing the data flood "
        ],
        [
         "as nothing more than an intrusion of their privacy. But there is strong evidence that big data can "
        ],
        [
         "play a significant economic role to the benefit not only of private commerce but also of national "
        ],
        [
         "economies and their citizens. Our research finds that data can create significant value for the "
        ],
        [
         "world economy, enhancing the productivity and competitiveness of companies and the"
        ],
        [
         ""
        ],
        [
         "public sector and creating substantial economic surplus for consumers. For instance, if US health "
        ],
        [
         "care could use big data creatively and effectively to drive efficiency and quality, we estimate "
        ],
        [
         "that the potential value from data in the sector could be more  than $300 billion in value every "
        ],
        [
         "year, two-thirds of which would be in the form of reducing national health care expenditures by "
        ],
        [
         "about 8 percent. In the private sector, we estimate, for example, that a retailer using big data to "
        ],
        [
         "the full has the potential to increase its operating margin by more than 60 percent. In the "
        ],
        [
         "developed economies of Europe, we estimate that government administration could save more than"
        ],
        [
         "€100 billion ($149 billion) in operational efficiency improvements alone by using big data. This "
        ],
        [
         "estimate does not include big data levers that could reduce fraud, errors, and tax gaps (i.e., the "
        ],
        [
         "gap between potential and actual tax revenue)."
        ],
        [
         ""
        ],
        [
         "Digital data is now everywhere—in every sector, in every economy, in every organization and user of "
        ],
        [
         "digital technology. While this topic might once have concerned only a few data geeks, big data is "
        ],
        [
         "now relevant for leaders across every sector, and consumers of products and services stand to "
        ],
        [
         "benefit from its application. The ability to store, aggregate, and combine data and then use the "
        ],
        [
         "results to perform deep analyses has become ever more accessible as trends such as Moore’s Law"
        ],
        [
         "in computing, its equivalent in digital storage, and cloud computing continue to lower costs and "
        ],
        [
         "other technology barriers.3 For less than $600, an individual can purchase a disk drive with the "
        ],
        [
         "capacity to store all of the world’s music.4 The means to extract insight from data are also "
        ],
        [
         "markedly improving as software available to apply increasingly sophisticated techniques combines "
        ],
        [
         "with growing computing horsepower. Further, the ability to generate, communicate, share, and access "
        ],
        [
         "data has been revolutionized by the increasing number of people, devices, and sensors that are now "
        ],
        [
         "connected by digital networks. In 2010, more than 4 billion people,"
        ],
        [
         "or 60 percent of the world’s population, were using mobile phones, and about 12 percent of those "
        ],
        [
         "people had smartphones, whose penetration is growing at"
        ],
        [
         "more than 20 percent a year. More than 30 million networked sensor nodes are now present in the "
        ],
        [
         "transportation, automotive, industrial, utilities, and retail sectors. The number of these sensors "
        ],
        [
         "is increasing at a rate of more than 30 percent a year."
        ],
        [
         ""
        ],
        [
         "There are many ways that big data can be used to create value across sectors of the global economy. "
        ],
        [
         "Indeed, our research suggests that we are on the cusp of a tremendous wave of innovation, "
        ],
        [
         "productivity, and growth, as well as new modes of"
        ],
        [
         "competition and value capture—all driven by big data as consumers, companies, and economic sectors "
        ],
        [
         "exploit its potential. But why should this be the case now? Haven’t data always been part of the "
        ],
        [
         "impact of information and communication technology?"
        ],
        [
         "Yes, but our research suggests that the scale and scope of changes that big data are bringing about "
        ],
        [
         "are at an inflection point, set to expand greatly, as a series of"
        ],
        [
         "technology trends accelerate and converge. We are already seeing visible changes in the economic "
        ],
        [
         "landscape as a result of this convergence."
        ],
        [
         ""
        ],
        [
         "Many pioneering companies are already using big data to create value, and others need to explore "
        ],
        [
         "how they can do the same if they are to compete. Governments,"
        ],
        [
         "too, have a significant opportunity to boost their efficiency and the value for money"
        ],
        [
         "they offer citizens at a time when public finances are constrained—and are likely to remain so due "
        ],
        [
         "to aging populations in many countries around the world. Our research suggests that the public "
        ],
        [
         "sector can boost its productivity significantly through the effective use of big data."
        ],
        [
         ""
        ],
        [
         "However, companies and other organizations and policy makers need to address considerable "
        ],
        [
         "challenges if they are to capture the full potential of big data. A shortage of the analytical and "
        ],
        [
         "managerial talent necessary to make the most of big data is"
        ],
        [
         "a significant and pressing challenge and one that companies and policy makers can begin to address "
        ],
        [
         "in the near term. The United States alone faces a shortage of"
        ],
        [
         "140,000 to 190,000 people with deep analytical skills as well as 1.5 million managers and analysts "
        ],
        [
         "to analyze big data and make decisions based on their findings. The shortage of talent is just the "
        ],
        [
         "beginning. Other challenges we explore in this report include the need to ensure that the right "
        ],
        [
         "infrastructure is in place and that incentives and competition are in place to encourage continued "
        ],
        [
         "innovation; that the economic benefits to users, organizations, and the economy are properly "
        ],
        [
         "understood; and that safeguards are in place to address public concerns about big data."
        ],
        [
         ""
        ],
        [
         "This report seeks to understand the state of digital data, how different domains can use large "
        ],
        [
         "datasets to create value, the potential value across stakeholders, and the implications for the "
        ],
        [
         "leaders of private sector companies and public sector"
        ],
        [
         "organizations, as well as for policy makers. We have supplemented our analysis of big data as a "
        ],
        [
         "whole with a detailed examination of five domains (health care in the United States, the public "
        ],
        [
         "sector in Europe, retail in the United States, and manufacturing and personal location data "
        ],
        [
         "globally). This research by no means represents the final word on big data; instead, we see it as a "
        ],
        [
         "beginning. We fully anticipate that this is a story that will continue to evolve as technologies "
        ],
        [
         "and techniques using big data develop and data, their uses, and their economic benefits grow "
        ],
        [
         "(alongside associated"
        ],
        [
         "challenges and risks). For now, however, our research yields seven key insights:"
        ]
       ],
       "datasetInfos": [],
       "dbfsResultPath": null,
       "isJsonSchema": true,
       "metadata": {},
       "overflow": false,
       "plotOptions": {
        "customPlotOptions": {},
        "displayType": "table",
        "pivotAggregation": null,
        "pivotColumns": null,
        "xColumns": null,
        "yColumns": null
       },
       "removedWidgets": [],
       "schema": [
        {
         "metadata": "{}",
         "name": "value",
         "type": "\"string\""
        }
       ],
       "type": "table"
      }
     },
     "output_type": "display_data"
    }
   ],
   "source": [
    "# Verify the text was loaded one line at a time into a dataframe\n",
    "display(df.head(20))"
   ]
  },
  {
   "cell_type": "code",
   "execution_count": 0,
   "metadata": {
    "application/vnd.databricks.v1+cell": {
     "cellMetadata": {
      "byteLimit": 2048000,
      "rowLimit": 10000
     },
     "inputWidgets": {},
     "nuid": "a58bb255-71f3-4e4c-a2a5-0db5c60fa9a0",
     "showTitle": false,
     "tableResultSettingsMap": {},
     "title": ""
    }
   },
   "outputs": [],
   "source": [
    "# Step 2: Preprocess the Text\n",
    "df = df.withColumn('text_lower', lower(col('value')))\n",
    "df = df.withColumn('text_letters_only', regexp_replace(col('text_lower'), '[^a-z]', ' '))\n",
    "df = df.withColumn('words', split(col('text_letters_only'), ' '))\n",
    "words_df = df.select(explode(col('words')).alias('word'))\n",
    "words_df = words_df.filter(col('word') != '')"
   ]
  },
  {
   "cell_type": "code",
   "execution_count": 0,
   "metadata": {
    "application/vnd.databricks.v1+cell": {
     "cellMetadata": {
      "byteLimit": 2048000,
      "rowLimit": 10000
     },
     "inputWidgets": {},
     "nuid": "d5613ad8-1263-42df-b683-0f38c079367c",
     "showTitle": false,
     "tableResultSettingsMap": {},
     "title": ""
    }
   },
   "outputs": [
    {
     "output_type": "display_data",
     "data": {
      "text/html": [
       "<style scoped>\n",
       "  .table-result-container {\n",
       "    max-height: 300px;\n",
       "    overflow: auto;\n",
       "  }\n",
       "  table, th, td {\n",
       "    border: 1px solid black;\n",
       "    border-collapse: collapse;\n",
       "  }\n",
       "  th, td {\n",
       "    padding: 5px;\n",
       "  }\n",
       "  th {\n",
       "    text-align: left;\n",
       "  }\n",
       "</style><div class='table-result-container'><table class='table-result'><thead style='background-color: white'><tr><th>word</th></tr></thead><tbody><tr><td>data</td></tr><tr><td>have</td></tr><tr><td>become</td></tr><tr><td>a</td></tr><tr><td>torrent</td></tr><tr><td>flowing</td></tr><tr><td>into</td></tr><tr><td>every</td></tr><tr><td>area</td></tr><tr><td>of</td></tr><tr><td>the</td></tr><tr><td>global</td></tr><tr><td>economy</td></tr><tr><td>companies</td></tr><tr><td>churn</td></tr><tr><td>out</td></tr><tr><td>a</td></tr><tr><td>burgeoning</td></tr><tr><td>volume</td></tr><tr><td>of</td></tr></tbody></table></div>"
      ]
     },
     "metadata": {
      "application/vnd.databricks.v1+output": {
       "addedWidgets": {},
       "aggData": [],
       "aggError": "",
       "aggOverflow": false,
       "aggSchema": [],
       "aggSeriesLimitReached": false,
       "aggType": "",
       "arguments": {},
       "columnCustomDisplayInfos": {},
       "data": [
        [
         "data"
        ],
        [
         "have"
        ],
        [
         "become"
        ],
        [
         "a"
        ],
        [
         "torrent"
        ],
        [
         "flowing"
        ],
        [
         "into"
        ],
        [
         "every"
        ],
        [
         "area"
        ],
        [
         "of"
        ],
        [
         "the"
        ],
        [
         "global"
        ],
        [
         "economy"
        ],
        [
         "companies"
        ],
        [
         "churn"
        ],
        [
         "out"
        ],
        [
         "a"
        ],
        [
         "burgeoning"
        ],
        [
         "volume"
        ],
        [
         "of"
        ]
       ],
       "datasetInfos": [],
       "dbfsResultPath": null,
       "isJsonSchema": true,
       "metadata": {},
       "overflow": false,
       "plotOptions": {
        "customPlotOptions": {},
        "displayType": "table",
        "pivotAggregation": null,
        "pivotColumns": null,
        "xColumns": null,
        "yColumns": null
       },
       "removedWidgets": [],
       "schema": [
        {
         "metadata": "{}",
         "name": "word",
         "type": "\"string\""
        }
       ],
       "type": "table"
      }
     },
     "output_type": "display_data"
    }
   ],
   "source": [
    "# Verify the words have been properly preprocessed\n",
    "display(words_df.head(20))"
   ]
  },
  {
   "cell_type": "code",
   "execution_count": 0,
   "metadata": {
    "application/vnd.databricks.v1+cell": {
     "cellMetadata": {
      "byteLimit": 2048000,
      "rowLimit": 10000
     },
     "inputWidgets": {},
     "nuid": "9afea64c-5f9e-4559-ad22-f2cb576a32ac",
     "showTitle": false,
     "tableResultSettingsMap": {},
     "title": ""
    }
   },
   "outputs": [],
   "source": [
    "# Step 3: Extract Bi-grams\n",
    "def get_bigrams(word):\n",
    "    word = word.strip()\n",
    "    bigrams = []\n",
    "    if len(word) >= 2:\n",
    "        for i in range(len(word) - 1):\n",
    "            bigram = word[i:i+2]\n",
    "            bigrams.append(bigram)\n",
    "    return bigrams\n",
    "\n",
    "get_bigrams_udf = udf(get_bigrams, ArrayType(StringType()))\n",
    "bigrams_df = words_df.withColumn('bigrams', get_bigrams_udf(col('word')))\n",
    "bigrams_exploded_df = bigrams_df.select(explode(col('bigrams')).alias('bigram'))"
   ]
  },
  {
   "cell_type": "code",
   "execution_count": 0,
   "metadata": {
    "application/vnd.databricks.v1+cell": {
     "cellMetadata": {
      "byteLimit": 2048000,
      "rowLimit": 10000
     },
     "inputWidgets": {},
     "nuid": "3c28faad-ee52-4469-86c9-47eb64bf991f",
     "showTitle": false,
     "tableResultSettingsMap": {},
     "title": ""
    }
   },
   "outputs": [
    {
     "output_type": "display_data",
     "data": {
      "text/html": [
       "<style scoped>\n",
       "  .table-result-container {\n",
       "    max-height: 300px;\n",
       "    overflow: auto;\n",
       "  }\n",
       "  table, th, td {\n",
       "    border: 1px solid black;\n",
       "    border-collapse: collapse;\n",
       "  }\n",
       "  th, td {\n",
       "    padding: 5px;\n",
       "  }\n",
       "  th {\n",
       "    text-align: left;\n",
       "  }\n",
       "</style><div class='table-result-container'><table class='table-result'><thead style='background-color: white'><tr><th>word</th><th>bigrams</th></tr></thead><tbody><tr><td>data</td><td>List(da, at, ta)</td></tr><tr><td>have</td><td>List(ha, av, ve)</td></tr><tr><td>become</td><td>List(be, ec, co, om, me)</td></tr><tr><td>a</td><td>List()</td></tr><tr><td>torrent</td><td>List(to, or, rr, re, en, nt)</td></tr><tr><td>flowing</td><td>List(fl, lo, ow, wi, in, ng)</td></tr><tr><td>into</td><td>List(in, nt, to)</td></tr><tr><td>every</td><td>List(ev, ve, er, ry)</td></tr><tr><td>area</td><td>List(ar, re, ea)</td></tr><tr><td>of</td><td>List(of)</td></tr><tr><td>the</td><td>List(th, he)</td></tr><tr><td>global</td><td>List(gl, lo, ob, ba, al)</td></tr><tr><td>economy</td><td>List(ec, co, on, no, om, my)</td></tr><tr><td>companies</td><td>List(co, om, mp, pa, an, ni, ie, es)</td></tr><tr><td>churn</td><td>List(ch, hu, ur, rn)</td></tr><tr><td>out</td><td>List(ou, ut)</td></tr><tr><td>a</td><td>List()</td></tr><tr><td>burgeoning</td><td>List(bu, ur, rg, ge, eo, on, ni, in, ng)</td></tr><tr><td>volume</td><td>List(vo, ol, lu, um, me)</td></tr><tr><td>of</td><td>List(of)</td></tr></tbody></table></div>"
      ]
     },
     "metadata": {
      "application/vnd.databricks.v1+output": {
       "addedWidgets": {},
       "aggData": [],
       "aggError": "",
       "aggOverflow": false,
       "aggSchema": [],
       "aggSeriesLimitReached": false,
       "aggType": "",
       "arguments": {},
       "columnCustomDisplayInfos": {},
       "data": [
        [
         "data",
         [
          "da",
          "at",
          "ta"
         ]
        ],
        [
         "have",
         [
          "ha",
          "av",
          "ve"
         ]
        ],
        [
         "become",
         [
          "be",
          "ec",
          "co",
          "om",
          "me"
         ]
        ],
        [
         "a",
         []
        ],
        [
         "torrent",
         [
          "to",
          "or",
          "rr",
          "re",
          "en",
          "nt"
         ]
        ],
        [
         "flowing",
         [
          "fl",
          "lo",
          "ow",
          "wi",
          "in",
          "ng"
         ]
        ],
        [
         "into",
         [
          "in",
          "nt",
          "to"
         ]
        ],
        [
         "every",
         [
          "ev",
          "ve",
          "er",
          "ry"
         ]
        ],
        [
         "area",
         [
          "ar",
          "re",
          "ea"
         ]
        ],
        [
         "of",
         [
          "of"
         ]
        ],
        [
         "the",
         [
          "th",
          "he"
         ]
        ],
        [
         "global",
         [
          "gl",
          "lo",
          "ob",
          "ba",
          "al"
         ]
        ],
        [
         "economy",
         [
          "ec",
          "co",
          "on",
          "no",
          "om",
          "my"
         ]
        ],
        [
         "companies",
         [
          "co",
          "om",
          "mp",
          "pa",
          "an",
          "ni",
          "ie",
          "es"
         ]
        ],
        [
         "churn",
         [
          "ch",
          "hu",
          "ur",
          "rn"
         ]
        ],
        [
         "out",
         [
          "ou",
          "ut"
         ]
        ],
        [
         "a",
         []
        ],
        [
         "burgeoning",
         [
          "bu",
          "ur",
          "rg",
          "ge",
          "eo",
          "on",
          "ni",
          "in",
          "ng"
         ]
        ],
        [
         "volume",
         [
          "vo",
          "ol",
          "lu",
          "um",
          "me"
         ]
        ],
        [
         "of",
         [
          "of"
         ]
        ]
       ],
       "datasetInfos": [],
       "dbfsResultPath": null,
       "isJsonSchema": true,
       "metadata": {},
       "overflow": false,
       "plotOptions": {
        "customPlotOptions": {},
        "displayType": "table",
        "pivotAggregation": null,
        "pivotColumns": null,
        "xColumns": null,
        "yColumns": null
       },
       "removedWidgets": [],
       "schema": [
        {
         "metadata": "{}",
         "name": "word",
         "type": "\"string\""
        },
        {
         "metadata": "{}",
         "name": "bigrams",
         "type": "{\"type\":\"array\",\"elementType\":\"string\",\"containsNull\":true}"
        }
       ],
       "type": "table"
      }
     },
     "output_type": "display_data"
    }
   ],
   "source": [
    "# Verify that each word was broken into its bigrams properly\n",
    "display(bigrams_df.head(20))"
   ]
  },
  {
   "cell_type": "code",
   "execution_count": 0,
   "metadata": {
    "application/vnd.databricks.v1+cell": {
     "cellMetadata": {
      "byteLimit": 2048000,
      "rowLimit": 10000
     },
     "inputWidgets": {},
     "nuid": "0bf52c47-dbfb-44eb-97ad-c44798fdfd84",
     "showTitle": false,
     "tableResultSettingsMap": {},
     "title": ""
    }
   },
   "outputs": [
    {
     "output_type": "display_data",
     "data": {
      "text/html": [
       "<style scoped>\n",
       "  .table-result-container {\n",
       "    max-height: 300px;\n",
       "    overflow: auto;\n",
       "  }\n",
       "  table, th, td {\n",
       "    border: 1px solid black;\n",
       "    border-collapse: collapse;\n",
       "  }\n",
       "  th, td {\n",
       "    padding: 5px;\n",
       "  }\n",
       "  th {\n",
       "    text-align: left;\n",
       "  }\n",
       "</style><div class='table-result-container'><table class='table-result'><thead style='background-color: white'><tr><th>bigram</th></tr></thead><tbody><tr><td>da</td></tr><tr><td>at</td></tr><tr><td>ta</td></tr><tr><td>ha</td></tr><tr><td>av</td></tr><tr><td>ve</td></tr><tr><td>be</td></tr><tr><td>ec</td></tr><tr><td>co</td></tr><tr><td>om</td></tr><tr><td>me</td></tr><tr><td>to</td></tr><tr><td>or</td></tr><tr><td>rr</td></tr><tr><td>re</td></tr><tr><td>en</td></tr><tr><td>nt</td></tr><tr><td>fl</td></tr><tr><td>lo</td></tr><tr><td>ow</td></tr></tbody></table></div>"
      ]
     },
     "metadata": {
      "application/vnd.databricks.v1+output": {
       "addedWidgets": {},
       "aggData": [],
       "aggError": "",
       "aggOverflow": false,
       "aggSchema": [],
       "aggSeriesLimitReached": false,
       "aggType": "",
       "arguments": {},
       "columnCustomDisplayInfos": {},
       "data": [
        [
         "da"
        ],
        [
         "at"
        ],
        [
         "ta"
        ],
        [
         "ha"
        ],
        [
         "av"
        ],
        [
         "ve"
        ],
        [
         "be"
        ],
        [
         "ec"
        ],
        [
         "co"
        ],
        [
         "om"
        ],
        [
         "me"
        ],
        [
         "to"
        ],
        [
         "or"
        ],
        [
         "rr"
        ],
        [
         "re"
        ],
        [
         "en"
        ],
        [
         "nt"
        ],
        [
         "fl"
        ],
        [
         "lo"
        ],
        [
         "ow"
        ]
       ],
       "datasetInfos": [],
       "dbfsResultPath": null,
       "isJsonSchema": true,
       "metadata": {},
       "overflow": false,
       "plotOptions": {
        "customPlotOptions": {},
        "displayType": "table",
        "pivotAggregation": null,
        "pivotColumns": null,
        "xColumns": null,
        "yColumns": null
       },
       "removedWidgets": [],
       "schema": [
        {
         "metadata": "{}",
         "name": "bigram",
         "type": "\"string\""
        }
       ],
       "type": "table"
      }
     },
     "output_type": "display_data"
    }
   ],
   "source": [
    "# Verify that the bigrams_exploded_df was properly mapped from the bigrams_df\n",
    "display(bigrams_exploded_df.head(20))"
   ]
  },
  {
   "cell_type": "code",
   "execution_count": 0,
   "metadata": {
    "application/vnd.databricks.v1+cell": {
     "cellMetadata": {
      "byteLimit": 2048000,
      "rowLimit": 10000
     },
     "inputWidgets": {},
     "nuid": "270418f9-3bd5-45f1-9acc-987f8942e595",
     "showTitle": false,
     "tableResultSettingsMap": {},
     "title": ""
    }
   },
   "outputs": [
    {
     "output_type": "display_data",
     "data": {
      "text/html": [
       "<style scoped>\n",
       "  .table-result-container {\n",
       "    max-height: 300px;\n",
       "    overflow: auto;\n",
       "  }\n",
       "  table, th, td {\n",
       "    border: 1px solid black;\n",
       "    border-collapse: collapse;\n",
       "  }\n",
       "  th, td {\n",
       "    padding: 5px;\n",
       "  }\n",
       "  th {\n",
       "    text-align: left;\n",
       "  }\n",
       "</style><div class='table-result-container'><table class='table-result'><thead style='background-color: white'><tr><th>bigram</th><th>count</th></tr></thead><tbody><tr><td>ct</td><td>30</td></tr><tr><td>ld</td><td>16</td></tr><tr><td>ey</td><td>7</td></tr><tr><td>rf</td><td>1</td></tr><tr><td>en</td><td>73</td></tr><tr><td>du</td><td>13</td></tr><tr><td>ye</td><td>5</td></tr><tr><td>ss</td><td>14</td></tr><tr><td>pi</td><td>3</td></tr><tr><td>pu</td><td>12</td></tr><tr><td>cc</td><td>3</td></tr><tr><td>cr</td><td>16</td></tr><tr><td>ei</td><td>13</td></tr><tr><td>pr</td><td>15</td></tr><tr><td>us</td><td>28</td></tr><tr><td>eg</td><td>6</td></tr><tr><td>ne</td><td>37</td></tr><tr><td>vi</td><td>15</td></tr><tr><td>ty</td><td>8</td></tr><tr><td>ps</td><td>2</td></tr></tbody></table></div>"
      ]
     },
     "metadata": {
      "application/vnd.databricks.v1+output": {
       "addedWidgets": {},
       "aggData": [],
       "aggError": "",
       "aggOverflow": false,
       "aggSchema": [],
       "aggSeriesLimitReached": false,
       "aggType": "",
       "arguments": {},
       "columnCustomDisplayInfos": {},
       "data": [
        [
         "ct",
         30
        ],
        [
         "ld",
         16
        ],
        [
         "ey",
         7
        ],
        [
         "rf",
         1
        ],
        [
         "en",
         73
        ],
        [
         "du",
         13
        ],
        [
         "ye",
         5
        ],
        [
         "ss",
         14
        ],
        [
         "pi",
         3
        ],
        [
         "pu",
         12
        ],
        [
         "cc",
         3
        ],
        [
         "cr",
         16
        ],
        [
         "ei",
         13
        ],
        [
         "pr",
         15
        ],
        [
         "us",
         28
        ],
        [
         "eg",
         6
        ],
        [
         "ne",
         37
        ],
        [
         "vi",
         15
        ],
        [
         "ty",
         8
        ],
        [
         "ps",
         2
        ]
       ],
       "datasetInfos": [],
       "dbfsResultPath": null,
       "isJsonSchema": true,
       "metadata": {},
       "overflow": false,
       "plotOptions": {
        "customPlotOptions": {},
        "displayType": "table",
        "pivotAggregation": null,
        "pivotColumns": null,
        "xColumns": null,
        "yColumns": null
       },
       "removedWidgets": [],
       "schema": [
        {
         "metadata": "{}",
         "name": "bigram",
         "type": "\"string\""
        },
        {
         "metadata": "{}",
         "name": "count",
         "type": "\"long\""
        }
       ],
       "type": "table"
      }
     },
     "output_type": "display_data"
    }
   ],
   "source": [
    "# Step 4: Count Bi-gram Frequencies\n",
    "bigram_counts = bigrams_exploded_df.groupBy('bigram').count()"
   ]
  },
  {
   "cell_type": "code",
   "execution_count": 0,
   "metadata": {
    "application/vnd.databricks.v1+cell": {
     "cellMetadata": {},
     "inputWidgets": {},
     "nuid": "13e07657-f4c7-45fb-b287-1188ff1ffd48",
     "showTitle": false,
     "tableResultSettingsMap": {},
     "title": ""
    }
   },
   "outputs": [],
   "source": [
    "# Verify the counts are being done properly\n",
    "display(bigram_counts.head(20))"
   ]
  },
  {
   "cell_type": "code",
   "execution_count": 0,
   "metadata": {
    "application/vnd.databricks.v1+cell": {
     "cellMetadata": {
      "byteLimit": 2048000,
      "rowLimit": 10000
     },
     "inputWidgets": {},
     "nuid": "44dfec63-c03e-41e4-8d39-b12033523ec7",
     "showTitle": false,
     "tableResultSettingsMap": {},
     "title": ""
    }
   },
   "outputs": [
    {
     "output_type": "stream",
     "name": "stdout",
     "output_type": "stream",
     "text": [
      "Top 5 Most Frequent Bi-grams:\n+------+-----+\n|bigram|count|\n+------+-----+\n|th    |146  |\n|in    |128  |\n|an    |127  |\n|at    |126  |\n|re    |102  |\n+------+-----+\n\n"
     ]
    }
   ],
   "source": [
    "# Step 5: Find the Top 5 Most and Least Frequent Bi-grams\n",
    "# Top 5 Most Frequent Bi-grams\n",
    "top5 = bigram_counts.orderBy(col('count').desc()).limit(5)\n",
    "print(\"Top 5 Most Frequent Bi-grams:\")\n",
    "top5.show(truncate=False)"
   ]
  },
  {
   "cell_type": "code",
   "execution_count": 0,
   "metadata": {
    "application/vnd.databricks.v1+cell": {
     "cellMetadata": {
      "byteLimit": 2048000,
      "rowLimit": 10000
     },
     "inputWidgets": {},
     "nuid": "ff64ee23-1911-4277-af2e-8d81c26d1caf",
     "showTitle": false,
     "tableResultSettingsMap": {},
     "title": ""
    }
   },
   "outputs": [
    {
     "output_type": "stream",
     "name": "stdout",
     "output_type": "stream",
     "text": [
      "Top 5 Least Frequent Bi-grams:\n+------+-----+\n|bigram|count|\n+------+-----+\n|uf    |1    |\n|ju    |1    |\n|lw    |1    |\n|ft    |1    |\n|cs    |1    |\n+------+-----+\n\n"
     ]
    }
   ],
   "source": [
    "# Top 5 Least Frequent Bi-grams\n",
    "bottom5 = bigram_counts.orderBy(col('count').asc()).limit(5)\n",
    "print(\"Top 5 Least Frequent Bi-grams:\")\n",
    "bottom5.show(truncate=False)"
   ]
  },
  {
   "cell_type": "code",
   "execution_count": 0,
   "metadata": {
    "application/vnd.databricks.v1+cell": {
     "cellMetadata": {
      "byteLimit": 2048000,
      "rowLimit": 10000
     },
     "inputWidgets": {},
     "nuid": "2c082756-4b5f-4b84-bfdc-2dfe603fb34a",
     "showTitle": false,
     "tableResultSettingsMap": {},
     "title": ""
    }
   },
   "outputs": [
    {
     "output_type": "display_data",
     "data": {
      "text/plain": [
       ""
      ]
     },
     "metadata": {
      "application/vnd.databricks.v1+output": {
       "arguments": {},
       "data": "",
       "errorSummary": "Command skipped",
       "errorTraceType": "ansi",
       "metadata": {},
       "type": "ipynbError"
      }
     },
     "output_type": "display_data"
    }
   ],
   "source": []
  },
  {
   "cell_type": "code",
   "execution_count": 0,
   "metadata": {
    "application/vnd.databricks.v1+cell": {
     "cellMetadata": {
      "byteLimit": 2048000,
      "rowLimit": 10000
     },
     "inputWidgets": {},
     "nuid": "7c6f8f34-2dcd-4525-90fe-c52597ba7ed2",
     "showTitle": false,
     "tableResultSettingsMap": {},
     "title": ""
    }
   },
   "outputs": [
    {
     "output_type": "display_data",
     "data": {
      "text/plain": [
       ""
      ]
     },
     "metadata": {
      "application/vnd.databricks.v1+output": {
       "arguments": {},
       "data": "",
       "errorSummary": "Command skipped",
       "errorTraceType": "ansi",
       "metadata": {},
       "type": "ipynbError"
      }
     },
     "output_type": "display_data"
    }
   ],
   "source": []
  }
 ],
 "metadata": {
  "application/vnd.databricks.v1+notebook": {
   "dashboards": [],
   "environmentMetadata": null,
   "language": "python",
   "notebookMetadata": {
    "mostRecentlyExecutedCommandWithImplicitDF": {
     "commandId": -1,
     "dataframes": [
      "_sqldf"
     ]
    },
    "pythonIndentUnit": 4
   },
   "notebookName": "Programming Assignment 1",
   "widgets": {}
  }
 },
 "nbformat": 4,
 "nbformat_minor": 0
}
