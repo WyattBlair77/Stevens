{
 "cells": [
  {
   "cell_type": "markdown",
   "metadata": {},
   "source": [
    "# HW-9 Cluster\n",
    "Wyatt Blair\n",
    "\n",
    "SID: 10420296\n",
    "\n",
    "4/16/24\n"
   ]
  },
  {
   "cell_type": "code",
   "execution_count": 1,
   "metadata": {},
   "outputs": [],
   "source": [
    "import pandas as pd\n",
    "import numpy as np\n",
    "import matplotlib.pyplot as plt\n",
    "from tqdm.auto import tqdm\n",
    "from sklearn.metrics import confusion_matrix, f1_score\n",
    "import seaborn as sns\n",
    "\n",
    "tqdm.pandas()"
   ]
  },
  {
   "cell_type": "code",
   "execution_count": 2,
   "metadata": {},
   "outputs": [
    {
     "data": {
      "text/html": [
       "<div>\n",
       "<style scoped>\n",
       "    .dataframe tbody tr th:only-of-type {\n",
       "        vertical-align: middle;\n",
       "    }\n",
       "\n",
       "    .dataframe tbody tr th {\n",
       "        vertical-align: top;\n",
       "    }\n",
       "\n",
       "    .dataframe thead th {\n",
       "        text-align: right;\n",
       "    }\n",
       "</style>\n",
       "<table border=\"1\" class=\"dataframe\">\n",
       "  <thead>\n",
       "    <tr style=\"text-align: right;\">\n",
       "      <th></th>\n",
       "      <th>diagnosis</th>\n",
       "      <th>radius_mean</th>\n",
       "      <th>texture_mean</th>\n",
       "      <th>perimeter_mean</th>\n",
       "      <th>area_mean</th>\n",
       "      <th>smoothness_mean</th>\n",
       "      <th>compactness_mean</th>\n",
       "      <th>concavity_mean</th>\n",
       "      <th>concave points_mean</th>\n",
       "      <th>symmetry_mean</th>\n",
       "      <th>...</th>\n",
       "      <th>radius_worst</th>\n",
       "      <th>texture_worst</th>\n",
       "      <th>perimeter_worst</th>\n",
       "      <th>area_worst</th>\n",
       "      <th>smoothness_worst</th>\n",
       "      <th>compactness_worst</th>\n",
       "      <th>concavity_worst</th>\n",
       "      <th>concave points_worst</th>\n",
       "      <th>symmetry_worst</th>\n",
       "      <th>fractal_dimension_worst</th>\n",
       "    </tr>\n",
       "    <tr>\n",
       "      <th>id</th>\n",
       "      <th></th>\n",
       "      <th></th>\n",
       "      <th></th>\n",
       "      <th></th>\n",
       "      <th></th>\n",
       "      <th></th>\n",
       "      <th></th>\n",
       "      <th></th>\n",
       "      <th></th>\n",
       "      <th></th>\n",
       "      <th></th>\n",
       "      <th></th>\n",
       "      <th></th>\n",
       "      <th></th>\n",
       "      <th></th>\n",
       "      <th></th>\n",
       "      <th></th>\n",
       "      <th></th>\n",
       "      <th></th>\n",
       "      <th></th>\n",
       "      <th></th>\n",
       "    </tr>\n",
       "  </thead>\n",
       "  <tbody>\n",
       "    <tr>\n",
       "      <th>842302</th>\n",
       "      <td>1</td>\n",
       "      <td>17.99</td>\n",
       "      <td>10.38</td>\n",
       "      <td>122.80</td>\n",
       "      <td>1001.0</td>\n",
       "      <td>0.11840</td>\n",
       "      <td>0.27760</td>\n",
       "      <td>0.30010</td>\n",
       "      <td>0.14710</td>\n",
       "      <td>0.2419</td>\n",
       "      <td>...</td>\n",
       "      <td>25.380</td>\n",
       "      <td>17.33</td>\n",
       "      <td>184.60</td>\n",
       "      <td>2019.0</td>\n",
       "      <td>0.16220</td>\n",
       "      <td>0.66560</td>\n",
       "      <td>0.7119</td>\n",
       "      <td>0.2654</td>\n",
       "      <td>0.4601</td>\n",
       "      <td>0.11890</td>\n",
       "    </tr>\n",
       "    <tr>\n",
       "      <th>842517</th>\n",
       "      <td>1</td>\n",
       "      <td>20.57</td>\n",
       "      <td>17.77</td>\n",
       "      <td>132.90</td>\n",
       "      <td>1326.0</td>\n",
       "      <td>0.08474</td>\n",
       "      <td>0.07864</td>\n",
       "      <td>0.08690</td>\n",
       "      <td>0.07017</td>\n",
       "      <td>0.1812</td>\n",
       "      <td>...</td>\n",
       "      <td>24.990</td>\n",
       "      <td>23.41</td>\n",
       "      <td>158.80</td>\n",
       "      <td>1956.0</td>\n",
       "      <td>0.12380</td>\n",
       "      <td>0.18660</td>\n",
       "      <td>0.2416</td>\n",
       "      <td>0.1860</td>\n",
       "      <td>0.2750</td>\n",
       "      <td>0.08902</td>\n",
       "    </tr>\n",
       "    <tr>\n",
       "      <th>84300903</th>\n",
       "      <td>1</td>\n",
       "      <td>19.69</td>\n",
       "      <td>21.25</td>\n",
       "      <td>130.00</td>\n",
       "      <td>1203.0</td>\n",
       "      <td>0.10960</td>\n",
       "      <td>0.15990</td>\n",
       "      <td>0.19740</td>\n",
       "      <td>0.12790</td>\n",
       "      <td>0.2069</td>\n",
       "      <td>...</td>\n",
       "      <td>23.570</td>\n",
       "      <td>25.53</td>\n",
       "      <td>152.50</td>\n",
       "      <td>1709.0</td>\n",
       "      <td>0.14440</td>\n",
       "      <td>0.42450</td>\n",
       "      <td>0.4504</td>\n",
       "      <td>0.2430</td>\n",
       "      <td>0.3613</td>\n",
       "      <td>0.08758</td>\n",
       "    </tr>\n",
       "    <tr>\n",
       "      <th>84348301</th>\n",
       "      <td>1</td>\n",
       "      <td>11.42</td>\n",
       "      <td>20.38</td>\n",
       "      <td>77.58</td>\n",
       "      <td>386.1</td>\n",
       "      <td>0.14250</td>\n",
       "      <td>0.28390</td>\n",
       "      <td>0.24140</td>\n",
       "      <td>0.10520</td>\n",
       "      <td>0.2597</td>\n",
       "      <td>...</td>\n",
       "      <td>14.910</td>\n",
       "      <td>26.50</td>\n",
       "      <td>98.87</td>\n",
       "      <td>567.7</td>\n",
       "      <td>0.20980</td>\n",
       "      <td>0.86630</td>\n",
       "      <td>0.6869</td>\n",
       "      <td>0.2575</td>\n",
       "      <td>0.6638</td>\n",
       "      <td>0.17300</td>\n",
       "    </tr>\n",
       "    <tr>\n",
       "      <th>84358402</th>\n",
       "      <td>1</td>\n",
       "      <td>20.29</td>\n",
       "      <td>14.34</td>\n",
       "      <td>135.10</td>\n",
       "      <td>1297.0</td>\n",
       "      <td>0.10030</td>\n",
       "      <td>0.13280</td>\n",
       "      <td>0.19800</td>\n",
       "      <td>0.10430</td>\n",
       "      <td>0.1809</td>\n",
       "      <td>...</td>\n",
       "      <td>22.540</td>\n",
       "      <td>16.67</td>\n",
       "      <td>152.20</td>\n",
       "      <td>1575.0</td>\n",
       "      <td>0.13740</td>\n",
       "      <td>0.20500</td>\n",
       "      <td>0.4000</td>\n",
       "      <td>0.1625</td>\n",
       "      <td>0.2364</td>\n",
       "      <td>0.07678</td>\n",
       "    </tr>\n",
       "    <tr>\n",
       "      <th>...</th>\n",
       "      <td>...</td>\n",
       "      <td>...</td>\n",
       "      <td>...</td>\n",
       "      <td>...</td>\n",
       "      <td>...</td>\n",
       "      <td>...</td>\n",
       "      <td>...</td>\n",
       "      <td>...</td>\n",
       "      <td>...</td>\n",
       "      <td>...</td>\n",
       "      <td>...</td>\n",
       "      <td>...</td>\n",
       "      <td>...</td>\n",
       "      <td>...</td>\n",
       "      <td>...</td>\n",
       "      <td>...</td>\n",
       "      <td>...</td>\n",
       "      <td>...</td>\n",
       "      <td>...</td>\n",
       "      <td>...</td>\n",
       "      <td>...</td>\n",
       "    </tr>\n",
       "    <tr>\n",
       "      <th>926424</th>\n",
       "      <td>1</td>\n",
       "      <td>21.56</td>\n",
       "      <td>22.39</td>\n",
       "      <td>142.00</td>\n",
       "      <td>1479.0</td>\n",
       "      <td>0.11100</td>\n",
       "      <td>0.11590</td>\n",
       "      <td>0.24390</td>\n",
       "      <td>0.13890</td>\n",
       "      <td>0.1726</td>\n",
       "      <td>...</td>\n",
       "      <td>25.450</td>\n",
       "      <td>26.40</td>\n",
       "      <td>166.10</td>\n",
       "      <td>2027.0</td>\n",
       "      <td>0.14100</td>\n",
       "      <td>0.21130</td>\n",
       "      <td>0.4107</td>\n",
       "      <td>0.2216</td>\n",
       "      <td>0.2060</td>\n",
       "      <td>0.07115</td>\n",
       "    </tr>\n",
       "    <tr>\n",
       "      <th>926682</th>\n",
       "      <td>1</td>\n",
       "      <td>20.13</td>\n",
       "      <td>28.25</td>\n",
       "      <td>131.20</td>\n",
       "      <td>1261.0</td>\n",
       "      <td>0.09780</td>\n",
       "      <td>0.10340</td>\n",
       "      <td>0.14400</td>\n",
       "      <td>0.09791</td>\n",
       "      <td>0.1752</td>\n",
       "      <td>...</td>\n",
       "      <td>23.690</td>\n",
       "      <td>38.25</td>\n",
       "      <td>155.00</td>\n",
       "      <td>1731.0</td>\n",
       "      <td>0.11660</td>\n",
       "      <td>0.19220</td>\n",
       "      <td>0.3215</td>\n",
       "      <td>0.1628</td>\n",
       "      <td>0.2572</td>\n",
       "      <td>0.06637</td>\n",
       "    </tr>\n",
       "    <tr>\n",
       "      <th>926954</th>\n",
       "      <td>1</td>\n",
       "      <td>16.60</td>\n",
       "      <td>28.08</td>\n",
       "      <td>108.30</td>\n",
       "      <td>858.1</td>\n",
       "      <td>0.08455</td>\n",
       "      <td>0.10230</td>\n",
       "      <td>0.09251</td>\n",
       "      <td>0.05302</td>\n",
       "      <td>0.1590</td>\n",
       "      <td>...</td>\n",
       "      <td>18.980</td>\n",
       "      <td>34.12</td>\n",
       "      <td>126.70</td>\n",
       "      <td>1124.0</td>\n",
       "      <td>0.11390</td>\n",
       "      <td>0.30940</td>\n",
       "      <td>0.3403</td>\n",
       "      <td>0.1418</td>\n",
       "      <td>0.2218</td>\n",
       "      <td>0.07820</td>\n",
       "    </tr>\n",
       "    <tr>\n",
       "      <th>927241</th>\n",
       "      <td>1</td>\n",
       "      <td>20.60</td>\n",
       "      <td>29.33</td>\n",
       "      <td>140.10</td>\n",
       "      <td>1265.0</td>\n",
       "      <td>0.11780</td>\n",
       "      <td>0.27700</td>\n",
       "      <td>0.35140</td>\n",
       "      <td>0.15200</td>\n",
       "      <td>0.2397</td>\n",
       "      <td>...</td>\n",
       "      <td>25.740</td>\n",
       "      <td>39.42</td>\n",
       "      <td>184.60</td>\n",
       "      <td>1821.0</td>\n",
       "      <td>0.16500</td>\n",
       "      <td>0.86810</td>\n",
       "      <td>0.9387</td>\n",
       "      <td>0.2650</td>\n",
       "      <td>0.4087</td>\n",
       "      <td>0.12400</td>\n",
       "    </tr>\n",
       "    <tr>\n",
       "      <th>92751</th>\n",
       "      <td>0</td>\n",
       "      <td>7.76</td>\n",
       "      <td>24.54</td>\n",
       "      <td>47.92</td>\n",
       "      <td>181.0</td>\n",
       "      <td>0.05263</td>\n",
       "      <td>0.04362</td>\n",
       "      <td>0.00000</td>\n",
       "      <td>0.00000</td>\n",
       "      <td>0.1587</td>\n",
       "      <td>...</td>\n",
       "      <td>9.456</td>\n",
       "      <td>30.37</td>\n",
       "      <td>59.16</td>\n",
       "      <td>268.6</td>\n",
       "      <td>0.08996</td>\n",
       "      <td>0.06444</td>\n",
       "      <td>0.0000</td>\n",
       "      <td>0.0000</td>\n",
       "      <td>0.2871</td>\n",
       "      <td>0.07039</td>\n",
       "    </tr>\n",
       "  </tbody>\n",
       "</table>\n",
       "<p>569 rows × 31 columns</p>\n",
       "</div>"
      ],
      "text/plain": [
       "          diagnosis  radius_mean  texture_mean  perimeter_mean  area_mean  \\\n",
       "id                                                                          \n",
       "842302            1        17.99         10.38          122.80     1001.0   \n",
       "842517            1        20.57         17.77          132.90     1326.0   \n",
       "84300903          1        19.69         21.25          130.00     1203.0   \n",
       "84348301          1        11.42         20.38           77.58      386.1   \n",
       "84358402          1        20.29         14.34          135.10     1297.0   \n",
       "...             ...          ...           ...             ...        ...   \n",
       "926424            1        21.56         22.39          142.00     1479.0   \n",
       "926682            1        20.13         28.25          131.20     1261.0   \n",
       "926954            1        16.60         28.08          108.30      858.1   \n",
       "927241            1        20.60         29.33          140.10     1265.0   \n",
       "92751             0         7.76         24.54           47.92      181.0   \n",
       "\n",
       "          smoothness_mean  compactness_mean  concavity_mean  \\\n",
       "id                                                            \n",
       "842302            0.11840           0.27760         0.30010   \n",
       "842517            0.08474           0.07864         0.08690   \n",
       "84300903          0.10960           0.15990         0.19740   \n",
       "84348301          0.14250           0.28390         0.24140   \n",
       "84358402          0.10030           0.13280         0.19800   \n",
       "...                   ...               ...             ...   \n",
       "926424            0.11100           0.11590         0.24390   \n",
       "926682            0.09780           0.10340         0.14400   \n",
       "926954            0.08455           0.10230         0.09251   \n",
       "927241            0.11780           0.27700         0.35140   \n",
       "92751             0.05263           0.04362         0.00000   \n",
       "\n",
       "          concave points_mean  symmetry_mean  ...  radius_worst  \\\n",
       "id                                            ...                 \n",
       "842302                0.14710         0.2419  ...        25.380   \n",
       "842517                0.07017         0.1812  ...        24.990   \n",
       "84300903              0.12790         0.2069  ...        23.570   \n",
       "84348301              0.10520         0.2597  ...        14.910   \n",
       "84358402              0.10430         0.1809  ...        22.540   \n",
       "...                       ...            ...  ...           ...   \n",
       "926424                0.13890         0.1726  ...        25.450   \n",
       "926682                0.09791         0.1752  ...        23.690   \n",
       "926954                0.05302         0.1590  ...        18.980   \n",
       "927241                0.15200         0.2397  ...        25.740   \n",
       "92751                 0.00000         0.1587  ...         9.456   \n",
       "\n",
       "          texture_worst  perimeter_worst  area_worst  smoothness_worst  \\\n",
       "id                                                                       \n",
       "842302            17.33           184.60      2019.0           0.16220   \n",
       "842517            23.41           158.80      1956.0           0.12380   \n",
       "84300903          25.53           152.50      1709.0           0.14440   \n",
       "84348301          26.50            98.87       567.7           0.20980   \n",
       "84358402          16.67           152.20      1575.0           0.13740   \n",
       "...                 ...              ...         ...               ...   \n",
       "926424            26.40           166.10      2027.0           0.14100   \n",
       "926682            38.25           155.00      1731.0           0.11660   \n",
       "926954            34.12           126.70      1124.0           0.11390   \n",
       "927241            39.42           184.60      1821.0           0.16500   \n",
       "92751             30.37            59.16       268.6           0.08996   \n",
       "\n",
       "          compactness_worst  concavity_worst  concave points_worst  \\\n",
       "id                                                                   \n",
       "842302              0.66560           0.7119                0.2654   \n",
       "842517              0.18660           0.2416                0.1860   \n",
       "84300903            0.42450           0.4504                0.2430   \n",
       "84348301            0.86630           0.6869                0.2575   \n",
       "84358402            0.20500           0.4000                0.1625   \n",
       "...                     ...              ...                   ...   \n",
       "926424              0.21130           0.4107                0.2216   \n",
       "926682              0.19220           0.3215                0.1628   \n",
       "926954              0.30940           0.3403                0.1418   \n",
       "927241              0.86810           0.9387                0.2650   \n",
       "92751               0.06444           0.0000                0.0000   \n",
       "\n",
       "          symmetry_worst  fractal_dimension_worst  \n",
       "id                                                 \n",
       "842302            0.4601                  0.11890  \n",
       "842517            0.2750                  0.08902  \n",
       "84300903          0.3613                  0.08758  \n",
       "84348301          0.6638                  0.17300  \n",
       "84358402          0.2364                  0.07678  \n",
       "...                  ...                      ...  \n",
       "926424            0.2060                  0.07115  \n",
       "926682            0.2572                  0.06637  \n",
       "926954            0.2218                  0.07820  \n",
       "927241            0.4087                  0.12400  \n",
       "92751             0.2871                  0.07039  \n",
       "\n",
       "[569 rows x 31 columns]"
      ]
     },
     "execution_count": 2,
     "metadata": {},
     "output_type": "execute_result"
    }
   ],
   "source": [
    "dataset = pd.read_csv('../data/wisc_bc_ContinuousVar.csv', index_col='id')\n",
    "dataset['diagnosis'].replace([\"M\", \"B\"], [1, 0], inplace=True)\n",
    "dataset.dropna(inplace=True)\n",
    "\n",
    "dataset"
   ]
  },
  {
   "cell_type": "code",
   "execution_count": 3,
   "metadata": {},
   "outputs": [],
   "source": [
    "def min_max_normalization(series):\n",
    "\n",
    "    minimum, maximum = series.min(), series.max()\n",
    "    normalized_data = (series - minimum) / (maximum - minimum)\n",
    "\n",
    "    return normalized_data\n",
    "\n",
    "def z_score_standardization(series):\n",
    "\n",
    "    mean, std = series.mean(), series.std()\n",
    "    normalized_data = (series - mean) / std\n",
    "\n",
    "    return normalized_data"
   ]
  },
  {
   "cell_type": "code",
   "execution_count": 4,
   "metadata": {},
   "outputs": [],
   "source": [
    "target = 'diagnosis'\n",
    "features = dataset.columns.to_list(); features.remove(target)"
   ]
  },
  {
   "cell_type": "code",
   "execution_count": 5,
   "metadata": {},
   "outputs": [
    {
     "data": {
      "text/html": [
       "<div>\n",
       "<style scoped>\n",
       "    .dataframe tbody tr th:only-of-type {\n",
       "        vertical-align: middle;\n",
       "    }\n",
       "\n",
       "    .dataframe tbody tr th {\n",
       "        vertical-align: top;\n",
       "    }\n",
       "\n",
       "    .dataframe thead th {\n",
       "        text-align: right;\n",
       "    }\n",
       "</style>\n",
       "<table border=\"1\" class=\"dataframe\">\n",
       "  <thead>\n",
       "    <tr style=\"text-align: right;\">\n",
       "      <th></th>\n",
       "      <th>diagnosis</th>\n",
       "      <th>radius_mean</th>\n",
       "      <th>texture_mean</th>\n",
       "      <th>perimeter_mean</th>\n",
       "      <th>area_mean</th>\n",
       "      <th>smoothness_mean</th>\n",
       "      <th>compactness_mean</th>\n",
       "      <th>concavity_mean</th>\n",
       "      <th>concave points_mean</th>\n",
       "      <th>symmetry_mean</th>\n",
       "      <th>...</th>\n",
       "      <th>radius_worst</th>\n",
       "      <th>texture_worst</th>\n",
       "      <th>perimeter_worst</th>\n",
       "      <th>area_worst</th>\n",
       "      <th>smoothness_worst</th>\n",
       "      <th>compactness_worst</th>\n",
       "      <th>concavity_worst</th>\n",
       "      <th>concave points_worst</th>\n",
       "      <th>symmetry_worst</th>\n",
       "      <th>fractal_dimension_worst</th>\n",
       "    </tr>\n",
       "    <tr>\n",
       "      <th>id</th>\n",
       "      <th></th>\n",
       "      <th></th>\n",
       "      <th></th>\n",
       "      <th></th>\n",
       "      <th></th>\n",
       "      <th></th>\n",
       "      <th></th>\n",
       "      <th></th>\n",
       "      <th></th>\n",
       "      <th></th>\n",
       "      <th></th>\n",
       "      <th></th>\n",
       "      <th></th>\n",
       "      <th></th>\n",
       "      <th></th>\n",
       "      <th></th>\n",
       "      <th></th>\n",
       "      <th></th>\n",
       "      <th></th>\n",
       "      <th></th>\n",
       "      <th></th>\n",
       "    </tr>\n",
       "  </thead>\n",
       "  <tbody>\n",
       "    <tr>\n",
       "      <th>842302</th>\n",
       "      <td>1</td>\n",
       "      <td>0.521037</td>\n",
       "      <td>0.022658</td>\n",
       "      <td>0.545989</td>\n",
       "      <td>0.363733</td>\n",
       "      <td>0.593753</td>\n",
       "      <td>0.792037</td>\n",
       "      <td>0.703140</td>\n",
       "      <td>0.731113</td>\n",
       "      <td>0.686364</td>\n",
       "      <td>...</td>\n",
       "      <td>0.620776</td>\n",
       "      <td>0.141525</td>\n",
       "      <td>0.668310</td>\n",
       "      <td>0.450698</td>\n",
       "      <td>0.601136</td>\n",
       "      <td>0.619292</td>\n",
       "      <td>0.568610</td>\n",
       "      <td>0.912027</td>\n",
       "      <td>0.598462</td>\n",
       "      <td>0.418864</td>\n",
       "    </tr>\n",
       "    <tr>\n",
       "      <th>842517</th>\n",
       "      <td>1</td>\n",
       "      <td>0.643144</td>\n",
       "      <td>0.272574</td>\n",
       "      <td>0.615783</td>\n",
       "      <td>0.501591</td>\n",
       "      <td>0.289880</td>\n",
       "      <td>0.181768</td>\n",
       "      <td>0.203608</td>\n",
       "      <td>0.348757</td>\n",
       "      <td>0.379798</td>\n",
       "      <td>...</td>\n",
       "      <td>0.606901</td>\n",
       "      <td>0.303571</td>\n",
       "      <td>0.539818</td>\n",
       "      <td>0.435214</td>\n",
       "      <td>0.347553</td>\n",
       "      <td>0.154563</td>\n",
       "      <td>0.192971</td>\n",
       "      <td>0.639175</td>\n",
       "      <td>0.233590</td>\n",
       "      <td>0.222878</td>\n",
       "    </tr>\n",
       "    <tr>\n",
       "      <th>84300903</th>\n",
       "      <td>1</td>\n",
       "      <td>0.601496</td>\n",
       "      <td>0.390260</td>\n",
       "      <td>0.595743</td>\n",
       "      <td>0.449417</td>\n",
       "      <td>0.514309</td>\n",
       "      <td>0.431017</td>\n",
       "      <td>0.462512</td>\n",
       "      <td>0.635686</td>\n",
       "      <td>0.509596</td>\n",
       "      <td>...</td>\n",
       "      <td>0.556386</td>\n",
       "      <td>0.360075</td>\n",
       "      <td>0.508442</td>\n",
       "      <td>0.374508</td>\n",
       "      <td>0.483590</td>\n",
       "      <td>0.385375</td>\n",
       "      <td>0.359744</td>\n",
       "      <td>0.835052</td>\n",
       "      <td>0.403706</td>\n",
       "      <td>0.213433</td>\n",
       "    </tr>\n",
       "    <tr>\n",
       "      <th>84348301</th>\n",
       "      <td>1</td>\n",
       "      <td>0.210090</td>\n",
       "      <td>0.360839</td>\n",
       "      <td>0.233501</td>\n",
       "      <td>0.102906</td>\n",
       "      <td>0.811321</td>\n",
       "      <td>0.811361</td>\n",
       "      <td>0.565604</td>\n",
       "      <td>0.522863</td>\n",
       "      <td>0.776263</td>\n",
       "      <td>...</td>\n",
       "      <td>0.248310</td>\n",
       "      <td>0.385928</td>\n",
       "      <td>0.241347</td>\n",
       "      <td>0.094008</td>\n",
       "      <td>0.915472</td>\n",
       "      <td>0.814012</td>\n",
       "      <td>0.548642</td>\n",
       "      <td>0.884880</td>\n",
       "      <td>1.000000</td>\n",
       "      <td>0.773711</td>\n",
       "    </tr>\n",
       "    <tr>\n",
       "      <th>84358402</th>\n",
       "      <td>1</td>\n",
       "      <td>0.629893</td>\n",
       "      <td>0.156578</td>\n",
       "      <td>0.630986</td>\n",
       "      <td>0.489290</td>\n",
       "      <td>0.430351</td>\n",
       "      <td>0.347893</td>\n",
       "      <td>0.463918</td>\n",
       "      <td>0.518390</td>\n",
       "      <td>0.378283</td>\n",
       "      <td>...</td>\n",
       "      <td>0.519744</td>\n",
       "      <td>0.123934</td>\n",
       "      <td>0.506948</td>\n",
       "      <td>0.341575</td>\n",
       "      <td>0.437364</td>\n",
       "      <td>0.172415</td>\n",
       "      <td>0.319489</td>\n",
       "      <td>0.558419</td>\n",
       "      <td>0.157500</td>\n",
       "      <td>0.142595</td>\n",
       "    </tr>\n",
       "    <tr>\n",
       "      <th>...</th>\n",
       "      <td>...</td>\n",
       "      <td>...</td>\n",
       "      <td>...</td>\n",
       "      <td>...</td>\n",
       "      <td>...</td>\n",
       "      <td>...</td>\n",
       "      <td>...</td>\n",
       "      <td>...</td>\n",
       "      <td>...</td>\n",
       "      <td>...</td>\n",
       "      <td>...</td>\n",
       "      <td>...</td>\n",
       "      <td>...</td>\n",
       "      <td>...</td>\n",
       "      <td>...</td>\n",
       "      <td>...</td>\n",
       "      <td>...</td>\n",
       "      <td>...</td>\n",
       "      <td>...</td>\n",
       "      <td>...</td>\n",
       "      <td>...</td>\n",
       "    </tr>\n",
       "    <tr>\n",
       "      <th>926424</th>\n",
       "      <td>1</td>\n",
       "      <td>0.690000</td>\n",
       "      <td>0.428813</td>\n",
       "      <td>0.678668</td>\n",
       "      <td>0.566490</td>\n",
       "      <td>0.526948</td>\n",
       "      <td>0.296055</td>\n",
       "      <td>0.571462</td>\n",
       "      <td>0.690358</td>\n",
       "      <td>0.336364</td>\n",
       "      <td>...</td>\n",
       "      <td>0.623266</td>\n",
       "      <td>0.383262</td>\n",
       "      <td>0.576174</td>\n",
       "      <td>0.452664</td>\n",
       "      <td>0.461137</td>\n",
       "      <td>0.178527</td>\n",
       "      <td>0.328035</td>\n",
       "      <td>0.761512</td>\n",
       "      <td>0.097575</td>\n",
       "      <td>0.105667</td>\n",
       "    </tr>\n",
       "    <tr>\n",
       "      <th>926682</th>\n",
       "      <td>1</td>\n",
       "      <td>0.622320</td>\n",
       "      <td>0.626987</td>\n",
       "      <td>0.604036</td>\n",
       "      <td>0.474019</td>\n",
       "      <td>0.407782</td>\n",
       "      <td>0.257714</td>\n",
       "      <td>0.337395</td>\n",
       "      <td>0.486630</td>\n",
       "      <td>0.349495</td>\n",
       "      <td>...</td>\n",
       "      <td>0.560655</td>\n",
       "      <td>0.699094</td>\n",
       "      <td>0.520892</td>\n",
       "      <td>0.379915</td>\n",
       "      <td>0.300007</td>\n",
       "      <td>0.159997</td>\n",
       "      <td>0.256789</td>\n",
       "      <td>0.559450</td>\n",
       "      <td>0.198502</td>\n",
       "      <td>0.074315</td>\n",
       "    </tr>\n",
       "    <tr>\n",
       "      <th>926954</th>\n",
       "      <td>1</td>\n",
       "      <td>0.455251</td>\n",
       "      <td>0.621238</td>\n",
       "      <td>0.445788</td>\n",
       "      <td>0.303118</td>\n",
       "      <td>0.288165</td>\n",
       "      <td>0.254340</td>\n",
       "      <td>0.216753</td>\n",
       "      <td>0.263519</td>\n",
       "      <td>0.267677</td>\n",
       "      <td>...</td>\n",
       "      <td>0.393099</td>\n",
       "      <td>0.589019</td>\n",
       "      <td>0.379949</td>\n",
       "      <td>0.230731</td>\n",
       "      <td>0.282177</td>\n",
       "      <td>0.273705</td>\n",
       "      <td>0.271805</td>\n",
       "      <td>0.487285</td>\n",
       "      <td>0.128721</td>\n",
       "      <td>0.151909</td>\n",
       "    </tr>\n",
       "    <tr>\n",
       "      <th>927241</th>\n",
       "      <td>1</td>\n",
       "      <td>0.644564</td>\n",
       "      <td>0.663510</td>\n",
       "      <td>0.665538</td>\n",
       "      <td>0.475716</td>\n",
       "      <td>0.588336</td>\n",
       "      <td>0.790197</td>\n",
       "      <td>0.823336</td>\n",
       "      <td>0.755467</td>\n",
       "      <td>0.675253</td>\n",
       "      <td>...</td>\n",
       "      <td>0.633582</td>\n",
       "      <td>0.730277</td>\n",
       "      <td>0.668310</td>\n",
       "      <td>0.402035</td>\n",
       "      <td>0.619626</td>\n",
       "      <td>0.815758</td>\n",
       "      <td>0.749760</td>\n",
       "      <td>0.910653</td>\n",
       "      <td>0.497142</td>\n",
       "      <td>0.452315</td>\n",
       "    </tr>\n",
       "    <tr>\n",
       "      <th>92751</th>\n",
       "      <td>0</td>\n",
       "      <td>0.036869</td>\n",
       "      <td>0.501522</td>\n",
       "      <td>0.028540</td>\n",
       "      <td>0.015907</td>\n",
       "      <td>0.000000</td>\n",
       "      <td>0.074351</td>\n",
       "      <td>0.000000</td>\n",
       "      <td>0.000000</td>\n",
       "      <td>0.266162</td>\n",
       "      <td>...</td>\n",
       "      <td>0.054287</td>\n",
       "      <td>0.489072</td>\n",
       "      <td>0.043578</td>\n",
       "      <td>0.020497</td>\n",
       "      <td>0.124084</td>\n",
       "      <td>0.036043</td>\n",
       "      <td>0.000000</td>\n",
       "      <td>0.000000</td>\n",
       "      <td>0.257441</td>\n",
       "      <td>0.100682</td>\n",
       "    </tr>\n",
       "  </tbody>\n",
       "</table>\n",
       "<p>569 rows × 31 columns</p>\n",
       "</div>"
      ],
      "text/plain": [
       "          diagnosis  radius_mean  texture_mean  perimeter_mean  area_mean  \\\n",
       "id                                                                          \n",
       "842302            1     0.521037      0.022658        0.545989   0.363733   \n",
       "842517            1     0.643144      0.272574        0.615783   0.501591   \n",
       "84300903          1     0.601496      0.390260        0.595743   0.449417   \n",
       "84348301          1     0.210090      0.360839        0.233501   0.102906   \n",
       "84358402          1     0.629893      0.156578        0.630986   0.489290   \n",
       "...             ...          ...           ...             ...        ...   \n",
       "926424            1     0.690000      0.428813        0.678668   0.566490   \n",
       "926682            1     0.622320      0.626987        0.604036   0.474019   \n",
       "926954            1     0.455251      0.621238        0.445788   0.303118   \n",
       "927241            1     0.644564      0.663510        0.665538   0.475716   \n",
       "92751             0     0.036869      0.501522        0.028540   0.015907   \n",
       "\n",
       "          smoothness_mean  compactness_mean  concavity_mean  \\\n",
       "id                                                            \n",
       "842302           0.593753          0.792037        0.703140   \n",
       "842517           0.289880          0.181768        0.203608   \n",
       "84300903         0.514309          0.431017        0.462512   \n",
       "84348301         0.811321          0.811361        0.565604   \n",
       "84358402         0.430351          0.347893        0.463918   \n",
       "...                   ...               ...             ...   \n",
       "926424           0.526948          0.296055        0.571462   \n",
       "926682           0.407782          0.257714        0.337395   \n",
       "926954           0.288165          0.254340        0.216753   \n",
       "927241           0.588336          0.790197        0.823336   \n",
       "92751            0.000000          0.074351        0.000000   \n",
       "\n",
       "          concave points_mean  symmetry_mean  ...  radius_worst  \\\n",
       "id                                            ...                 \n",
       "842302               0.731113       0.686364  ...      0.620776   \n",
       "842517               0.348757       0.379798  ...      0.606901   \n",
       "84300903             0.635686       0.509596  ...      0.556386   \n",
       "84348301             0.522863       0.776263  ...      0.248310   \n",
       "84358402             0.518390       0.378283  ...      0.519744   \n",
       "...                       ...            ...  ...           ...   \n",
       "926424               0.690358       0.336364  ...      0.623266   \n",
       "926682               0.486630       0.349495  ...      0.560655   \n",
       "926954               0.263519       0.267677  ...      0.393099   \n",
       "927241               0.755467       0.675253  ...      0.633582   \n",
       "92751                0.000000       0.266162  ...      0.054287   \n",
       "\n",
       "          texture_worst  perimeter_worst  area_worst  smoothness_worst  \\\n",
       "id                                                                       \n",
       "842302         0.141525         0.668310    0.450698          0.601136   \n",
       "842517         0.303571         0.539818    0.435214          0.347553   \n",
       "84300903       0.360075         0.508442    0.374508          0.483590   \n",
       "84348301       0.385928         0.241347    0.094008          0.915472   \n",
       "84358402       0.123934         0.506948    0.341575          0.437364   \n",
       "...                 ...              ...         ...               ...   \n",
       "926424         0.383262         0.576174    0.452664          0.461137   \n",
       "926682         0.699094         0.520892    0.379915          0.300007   \n",
       "926954         0.589019         0.379949    0.230731          0.282177   \n",
       "927241         0.730277         0.668310    0.402035          0.619626   \n",
       "92751          0.489072         0.043578    0.020497          0.124084   \n",
       "\n",
       "          compactness_worst  concavity_worst  concave points_worst  \\\n",
       "id                                                                   \n",
       "842302             0.619292         0.568610              0.912027   \n",
       "842517             0.154563         0.192971              0.639175   \n",
       "84300903           0.385375         0.359744              0.835052   \n",
       "84348301           0.814012         0.548642              0.884880   \n",
       "84358402           0.172415         0.319489              0.558419   \n",
       "...                     ...              ...                   ...   \n",
       "926424             0.178527         0.328035              0.761512   \n",
       "926682             0.159997         0.256789              0.559450   \n",
       "926954             0.273705         0.271805              0.487285   \n",
       "927241             0.815758         0.749760              0.910653   \n",
       "92751              0.036043         0.000000              0.000000   \n",
       "\n",
       "          symmetry_worst  fractal_dimension_worst  \n",
       "id                                                 \n",
       "842302          0.598462                 0.418864  \n",
       "842517          0.233590                 0.222878  \n",
       "84300903        0.403706                 0.213433  \n",
       "84348301        1.000000                 0.773711  \n",
       "84358402        0.157500                 0.142595  \n",
       "...                  ...                      ...  \n",
       "926424          0.097575                 0.105667  \n",
       "926682          0.198502                 0.074315  \n",
       "926954          0.128721                 0.151909  \n",
       "927241          0.497142                 0.452315  \n",
       "92751           0.257441                 0.100682  \n",
       "\n",
       "[569 rows x 31 columns]"
      ]
     },
     "execution_count": 5,
     "metadata": {},
     "output_type": "execute_result"
    }
   ],
   "source": [
    "normalized_dataset = dataset.copy()\n",
    "normalized_dataset[features] = min_max_normalization(normalized_dataset[features])\n",
    "\n",
    "normalized_dataset"
   ]
  },
  {
   "cell_type": "code",
   "execution_count": 6,
   "metadata": {},
   "outputs": [],
   "source": [
    "train = normalized_dataset.sample(frac=0.8)\n",
    "test = normalized_dataset.drop(index=train.index)"
   ]
  },
  {
   "cell_type": "markdown",
   "metadata": {},
   "source": [
    "___\n",
    "## 9.1\n",
    "\n",
    "Using hclust, categorize the “wisc_bc_ContinuousVar.csv” data into two (2) clusters based on. All the features except the diagnosis column. Tabulate the clustered rows against the “diagnosis” column. (Remove the rows with missing values first)\n"
   ]
  },
  {
   "cell_type": "markdown",
   "metadata": {},
   "source": [
    "#### Trying it from scratch"
   ]
  },
  {
   "cell_type": "code",
   "execution_count": 7,
   "metadata": {},
   "outputs": [],
   "source": [
    "def minkowski_distance(x, y, p):\n",
    "\n",
    "    diff = x - y\n",
    "    power = diff ** p\n",
    "\n",
    "    total = power.sum(axis=len(x.shape)-1)\n",
    "    distance = total ** (1/p)\n",
    "\n",
    "    return distance\n",
    "\n",
    "def euclidean_distance(x, y):\n",
    "    return minkowski_distance(x, y, p=2)\n",
    "\n",
    "def manhattan_distance(x, y):\n",
    "\n",
    "    diff = x - y\n",
    "    absolute = abs(diff)\n",
    "    distance = absolute.sum(axis=1)\n",
    "\n",
    "    return distance"
   ]
  },
  {
   "cell_type": "code",
   "execution_count": 8,
   "metadata": {},
   "outputs": [],
   "source": [
    "class HierarchicalClustering:\n",
    "\n",
    "    def __init__(self, X, distance_func=euclidean_distance, final_num_clusters=2, verbose=True):\n",
    "\n",
    "        self.X = X\n",
    "        self.N, self.M = self.X.shape\n",
    "\n",
    "        self.distance_func = distance_func\n",
    "        self.final_num_clusters = final_num_clusters\n",
    "        self.verbose = verbose\n",
    "\n",
    "        self.clusters = pd.Series(X.index, index=X.index, name='cluster_id')\n",
    "        self.distance_mat = self.calc_distance_mat()\n",
    "\n",
    "        self.merge_log = []\n",
    "\n",
    "    def calc_distance_mat(self):\n",
    "        \n",
    "        cluster_centers = self.get_cluster_centers()\n",
    "        N = len(cluster_centers)\n",
    "        distance_mat = pd.DataFrame(np.zeros((N, N)), index=cluster_centers.keys(), columns=cluster_centers.keys())\n",
    "\n",
    "        for i_ind, i in enumerate(distance_mat.index):\n",
    "            for j_ind, j in enumerate(distance_mat.columns):\n",
    "                \n",
    "                # don't want to consider self-comparisons during minimization later\n",
    "                if i == j: \n",
    "                    distance_mat[i][j] = np.inf\n",
    "                if i_ind >= j_ind:\n",
    "                    continue\n",
    "\n",
    "                x, y = cluster_centers[i].values, cluster_centers[j].values\n",
    "                distance = self.distance_func(x, y)\n",
    "\n",
    "                # fill in other half off matrix at the same time\n",
    "                distance_mat[i][j] = distance\n",
    "                distance_mat[j][i] = distance\n",
    "\n",
    "        return distance_mat\n",
    "    \n",
    "    def get_cluster_centers(self):\n",
    "\n",
    "        cluster_centers = {}\n",
    "        for cluster_id in self.clusters.unique():\n",
    "            \n",
    "            point_ids_in_cluster = self.clusters[self.clusters == cluster_id].index\n",
    "            points_in_cluster = self.X[self.X.index.isin(point_ids_in_cluster)]\n",
    "            \n",
    "            center = points_in_cluster.mean(axis=0)\n",
    "            cluster_centers.update({cluster_id: center})\n",
    "        \n",
    "        return cluster_centers\n",
    "\n",
    "    def merge_clusters(self):\n",
    "\n",
    "        initial_num_clusters = len(self.clusters.unique())\n",
    "\n",
    "        # Identify minimum pair in distance matrix\n",
    "        absorbing_cluster_ind, absorbed_cluster_ind = np.unravel_index(\n",
    "            np.argmin(self.distance_mat), \n",
    "            shape=self.distance_mat.shape\n",
    "        )\n",
    "\n",
    "        absorbing_cluster_id = self.distance_mat.index[absorbing_cluster_ind]\n",
    "        absorbed_cluster_id = self.distance_mat.columns.to_list()[absorbed_cluster_ind]\n",
    "        self.merge_log.append(f'{absorbed_cluster_id} absorbed by {absorbing_cluster_id}')\n",
    "\n",
    "        # perform cluster merge\n",
    "        self.clusters[self.clusters == absorbed_cluster_id] = self.clusters[absorbing_cluster_id]\n",
    "\n",
    "        # update distance matrix\n",
    "        self.distance_mat = self.calc_distance_mat()\n",
    "\n",
    "        # sanity check\n",
    "        final_num_clusters = len(self.clusters.unique())\n",
    "        try:\n",
    "            assert (final_num_clusters - initial_num_clusters == -1)\n",
    "        except AssertionError:\n",
    "            import pdb; pdb.set_trace()\n",
    "\n",
    "    def fit(self):\n",
    "\n",
    "        train_loop = range(self.N)\n",
    "        if self.verbose:\n",
    "            train_loop = tqdm(train_loop, desc='Clustering', total=len(train_loop))\n",
    "\n",
    "        for cluster_merge_ind in train_loop:\n",
    "            self.merge_clusters()\n",
    "    \n",
    "    "
   ]
  },
  {
   "cell_type": "code",
   "execution_count": 9,
   "metadata": {},
   "outputs": [],
   "source": [
    "hclust = HierarchicalClustering(\n",
    "    train[features],\n",
    "    distance_func=euclidean_distance,\n",
    "    final_num_clusters=2,\n",
    "    verbose=True\n",
    ")"
   ]
  },
  {
   "cell_type": "code",
   "execution_count": 10,
   "metadata": {},
   "outputs": [
    {
     "data": {
      "application/vnd.jupyter.widget-view+json": {
       "model_id": "c5f558eec5214f30b569b1015585f4c0",
       "version_major": 2,
       "version_minor": 0
      },
      "text/plain": [
       "Clustering:   0%|          | 0/455 [00:00<?, ?it/s]"
      ]
     },
     "metadata": {},
     "output_type": "display_data"
    },
    {
     "name": "stdout",
     "output_type": "stream",
     "text": [
      "--Return--\n",
      "None\n",
      "> \u001b[0;32m/var/folders/h0/mkxp1q6d01g2qycl48fndr680000gn/T/ipykernel_6268/4261129896.py\u001b[0m(79)\u001b[0;36mmerge_clusters\u001b[0;34m()\u001b[0m\n",
      "\u001b[0;32m     77 \u001b[0;31m            \u001b[0;32massert\u001b[0m \u001b[0;34m(\u001b[0m\u001b[0mfinal_num_clusters\u001b[0m \u001b[0;34m-\u001b[0m \u001b[0minitial_num_clusters\u001b[0m \u001b[0;34m==\u001b[0m \u001b[0;34m-\u001b[0m\u001b[0;36m1\u001b[0m\u001b[0;34m)\u001b[0m\u001b[0;34m\u001b[0m\u001b[0;34m\u001b[0m\u001b[0m\n",
      "\u001b[0m\u001b[0;32m     78 \u001b[0;31m        \u001b[0;32mexcept\u001b[0m \u001b[0mAssertionError\u001b[0m\u001b[0;34m:\u001b[0m\u001b[0;34m\u001b[0m\u001b[0;34m\u001b[0m\u001b[0m\n",
      "\u001b[0m\u001b[0;32m---> 79 \u001b[0;31m            \u001b[0;32mimport\u001b[0m \u001b[0mpdb\u001b[0m\u001b[0;34m;\u001b[0m \u001b[0mpdb\u001b[0m\u001b[0;34m.\u001b[0m\u001b[0mset_trace\u001b[0m\u001b[0;34m(\u001b[0m\u001b[0;34m)\u001b[0m\u001b[0;34m\u001b[0m\u001b[0;34m\u001b[0m\u001b[0m\n",
      "\u001b[0m\u001b[0;32m     80 \u001b[0;31m\u001b[0;34m\u001b[0m\u001b[0m\n",
      "\u001b[0m\u001b[0;32m     81 \u001b[0;31m    \u001b[0;32mdef\u001b[0m \u001b[0mfit\u001b[0m\u001b[0;34m(\u001b[0m\u001b[0mself\u001b[0m\u001b[0;34m)\u001b[0m\u001b[0;34m:\u001b[0m\u001b[0;34m\u001b[0m\u001b[0;34m\u001b[0m\u001b[0m\n",
      "\u001b[0m\n"
     ]
    }
   ],
   "source": [
    "hclust.fit()"
   ]
  },
  {
   "cell_type": "code",
   "execution_count": 11,
   "metadata": {},
   "outputs": [
    {
     "data": {
      "text/plain": [
       "array([8711561])"
      ]
     },
     "execution_count": 11,
     "metadata": {},
     "output_type": "execute_result"
    }
   ],
   "source": [
    "hclust.clusters.unique()"
   ]
  },
  {
   "cell_type": "code",
   "execution_count": 12,
   "metadata": {},
   "outputs": [
    {
     "data": {
      "text/plain": [
       "['9010598 absorbed by 8610908',\n",
       " '9112594 absorbed by 9112367',\n",
       " '922576 absorbed by 861648',\n",
       " '844359 absorbed by 894326',\n",
       " '8610175 absorbed by 868682',\n",
       " '8912521 absorbed by 857810',\n",
       " '8910748 absorbed by 90317302',\n",
       " '8610908 absorbed by 862009',\n",
       " '8810528 absorbed by 912193',\n",
       " '91789 absorbed by 907367',\n",
       " '891716 absorbed by 871122',\n",
       " '875878 absorbed by 911202',\n",
       " '914580 absorbed by 9011495',\n",
       " '909410 absorbed by 915664',\n",
       " '9013005 absorbed by 911202',\n",
       " '911202 absorbed by 9010877',\n",
       " '905189 absorbed by 867387',\n",
       " '9011495 absorbed by 911320501',\n",
       " '88518501 absorbed by 857374',\n",
       " '89511501 absorbed by 871122',\n",
       " '901028 absorbed by 86561',\n",
       " '904357 absorbed by 8711003',\n",
       " '8711003 absorbed by 868682',\n",
       " '862009 absorbed by 868682',\n",
       " '911320501 absorbed by 868682',\n",
       " '912193 absorbed by 868682',\n",
       " '863270 absorbed by 868682',\n",
       " '88350402 absorbed by 908469',\n",
       " '922577 absorbed by 88147101',\n",
       " '895299 absorbed by 90769601',\n",
       " '901041 absorbed by 861648',\n",
       " '862485 absorbed by 906024',\n",
       " '915664 absorbed by 908469',\n",
       " '91227 absorbed by 869931',\n",
       " '857373 absorbed by 869931',\n",
       " '869931 absorbed by 86561',\n",
       " '879804 absorbed by 8812844',\n",
       " '9111843 absorbed by 924632',\n",
       " '8810987 absorbed by 8611161',\n",
       " '904647 absorbed by 871122',\n",
       " '909231 absorbed by 861648',\n",
       " '901034302 absorbed by 90769602',\n",
       " '901088 absorbed by 859575',\n",
       " '8910499 absorbed by 861648',\n",
       " '90317302 absorbed by 906024',\n",
       " '914102 absorbed by 861648',\n",
       " '883539 absorbed by 90769601',\n",
       " '90250 absorbed by 9111596',\n",
       " '9010877 absorbed by 868682',\n",
       " '912558 absorbed by 868682',\n",
       " '8860702 absorbed by 894326',\n",
       " '918465 absorbed by 906024',\n",
       " '90769602 absorbed by 857810',\n",
       " '85759902 absorbed by 857374',\n",
       " '871149 absorbed by 90769601',\n",
       " '897137 absorbed by 90769601',\n",
       " '90769601 absorbed by 894090',\n",
       " '913102 absorbed by 86561',\n",
       " '904971 absorbed by 91858',\n",
       " '869218 absorbed by 91858',\n",
       " '864496 absorbed by 91805',\n",
       " '897880 absorbed by 8812844',\n",
       " '908916 absorbed by 857374',\n",
       " '857374 absorbed by 868682',\n",
       " '90745 absorbed by 906539',\n",
       " '91594602 absorbed by 911150',\n",
       " '916221 absorbed by 903554',\n",
       " '903554 absorbed by 905686',\n",
       " '915452 absorbed by 867387',\n",
       " '89344 absorbed by 894090',\n",
       " '89382602 absorbed by 902975',\n",
       " '902727 absorbed by 902975',\n",
       " '894326 absorbed by 889719',\n",
       " '924084 absorbed by 924632',\n",
       " '906290 absorbed by 874662',\n",
       " '917896 absorbed by 87930',\n",
       " '906024 absorbed by 871122',\n",
       " '857810 absorbed by 894090',\n",
       " '8612080 absorbed by 905686',\n",
       " '89813 absorbed by 886452',\n",
       " '86973702 absorbed by 886452',\n",
       " '88249602 absorbed by 861648',\n",
       " '903811 absorbed by 86561',\n",
       " '848406 absorbed by 857438',\n",
       " '87163 absorbed by 857438',\n",
       " '893526 absorbed by 8913',\n",
       " '8812818 absorbed by 8510653',\n",
       " '898690 absorbed by 871122',\n",
       " '908469 absorbed by 86561',\n",
       " '89382601 absorbed by 86561',\n",
       " '9113514 absorbed by 85713702',\n",
       " '8953902 absorbed by 8670',\n",
       " '911384 absorbed by 88147102',\n",
       " '9112367 absorbed by 862965',\n",
       " '862965 absorbed by 861648',\n",
       " '91376701 absorbed by 861648',\n",
       " '87106 absorbed by 871122',\n",
       " '912519 absorbed by 8510653',\n",
       " '911320502 absorbed by 86561',\n",
       " '888264 absorbed by 8911163',\n",
       " '845636 absorbed by 8911163',\n",
       " '9013594 absorbed by 869224',\n",
       " '877501 absorbed by 905686',\n",
       " '906539 absorbed by 905686',\n",
       " '861853 absorbed by 86561',\n",
       " '894089 absorbed by 894090',\n",
       " '893783 absorbed by 874662',\n",
       " '859487 absorbed by 874373',\n",
       " '859465 absorbed by 874373',\n",
       " '874373 absorbed by 868682',\n",
       " '906616 absorbed by 8510653',\n",
       " '866714 absorbed by 89827',\n",
       " '89827 absorbed by 8510653',\n",
       " '86561 absorbed by 868682',\n",
       " '91903902 absorbed by 868682',\n",
       " '874839 absorbed by 868682',\n",
       " '8811523 absorbed by 9010259',\n",
       " '872113 absorbed by 868999',\n",
       " '901034301 absorbed by 892657',\n",
       " '917897 absorbed by 892657',\n",
       " '9113156 absorbed by 9013579',\n",
       " '871642 absorbed by 8911230',\n",
       " '91858 absorbed by 892657',\n",
       " '89869 absorbed by 867387',\n",
       " '91813702 absorbed by 871122',\n",
       " '85715 absorbed by 915691',\n",
       " '868223 absorbed by 892189',\n",
       " '873586 absorbed by 89524',\n",
       " '908445 absorbed by 884180',\n",
       " '916799 absorbed by 889719',\n",
       " '889719 absorbed by 90524101',\n",
       " '90401602 absorbed by 865468',\n",
       " '914769 absorbed by 86517',\n",
       " '869224 absorbed by 902975',\n",
       " '905501 absorbed by 905686',\n",
       " '857637 absorbed by 886226',\n",
       " '886226 absorbed by 89122',\n",
       " '862980 absorbed by 919537',\n",
       " '8812844 absorbed by 892657',\n",
       " '90401601 absorbed by 87930',\n",
       " '886452 absorbed by 87930',\n",
       " '906878 absorbed by 87930',\n",
       " '911654 absorbed by 911150',\n",
       " '91505 absorbed by 89864002',\n",
       " '89864002 absorbed by 8510653',\n",
       " '88143502 absorbed by 8510426',\n",
       " '856106 absorbed by 8812877',\n",
       " '8812877 absorbed by 857793',\n",
       " '8913 absorbed by 894090',\n",
       " '891923 absorbed by 871122',\n",
       " '871122 absorbed by 868682',\n",
       " '902975 absorbed by 868682',\n",
       " '898143 absorbed by 907409',\n",
       " '90291 absorbed by 862717',\n",
       " '862717 absorbed by 857438',\n",
       " '911150 absorbed by 857438',\n",
       " '9013579 absorbed by 861648',\n",
       " '8911834 absorbed by 8510426',\n",
       " '8510426 absorbed by 867387',\n",
       " '908489 absorbed by 85638502',\n",
       " '89296 absorbed by 868682',\n",
       " '907915 absorbed by 921385',\n",
       " '921385 absorbed by 894604',\n",
       " '864685 absorbed by 922297',\n",
       " '904689 absorbed by 892604',\n",
       " '855167 absorbed by 889403',\n",
       " '904969 absorbed by 894090',\n",
       " '85638502 absorbed by 857793',\n",
       " '877500 absorbed by 857793',\n",
       " '922840 absorbed by 919537',\n",
       " '892657 absorbed by 919537',\n",
       " '905686 absorbed by 919537',\n",
       " '922297 absorbed by 919537',\n",
       " '857343 absorbed by 907367',\n",
       " '8910251 absorbed by 8711561',\n",
       " '854941 absorbed by 894335',\n",
       " '868202 absorbed by 861648',\n",
       " '924632 absorbed by 861648',\n",
       " '894618 absorbed by 866203',\n",
       " '874662 absorbed by 919537',\n",
       " '8670 absorbed by 90524101',\n",
       " '921644 absorbed by 861648',\n",
       " '894090 absorbed by 89524',\n",
       " '9010259 absorbed by 8711561',\n",
       " '8711002 absorbed by 8510653',\n",
       " '904302 absorbed by 868682',\n",
       " '882488 absorbed by 85713702',\n",
       " '874158 absorbed by 85713702',\n",
       " '85713702 absorbed by 88147101',\n",
       " '89524 absorbed by 868682',\n",
       " '9113455 absorbed by 87930',\n",
       " '88411702 absorbed by 892604',\n",
       " '905190 absorbed by 892604',\n",
       " '849014 absorbed by 911157302',\n",
       " '88147102 absorbed by 867387',\n",
       " '9110944 absorbed by 867387',\n",
       " '86208 absorbed by 91930402',\n",
       " '842517 absorbed by 859575',\n",
       " '90524101 absorbed by 867739',\n",
       " '846381 absorbed by 861799',\n",
       " '84862001 absorbed by 864729',\n",
       " '903507 absorbed by 864729',\n",
       " '868682 absorbed by 901836',\n",
       " '869104 absorbed by 853201',\n",
       " '8811842 absorbed by 91930402',\n",
       " '889403 absorbed by 857438',\n",
       " '901549 absorbed by 8510653',\n",
       " '923748 absorbed by 907367',\n",
       " '915691 absorbed by 8611161',\n",
       " '8611161 absorbed by 857793',\n",
       " '9113778 absorbed by 919537',\n",
       " '84610002 absorbed by 854039',\n",
       " '8912909 absorbed by 9111596',\n",
       " '894855 absorbed by 8510653',\n",
       " '911673 absorbed by 901836',\n",
       " '88147101 absorbed by 919537',\n",
       " '865432 absorbed by 867387',\n",
       " '867387 absorbed by 87930',\n",
       " '879523 absorbed by 87930',\n",
       " '8911163 absorbed by 857438',\n",
       " '9010872 absorbed by 857438',\n",
       " '8510653 absorbed by 87930',\n",
       " '866674 absorbed by 853401',\n",
       " '89122 absorbed by 901288',\n",
       " '914062 absorbed by 86517',\n",
       " '86517 absorbed by 853201',\n",
       " '867739 absorbed by 853201',\n",
       " '864729 absorbed by 864877',\n",
       " '892604 absorbed by 865468',\n",
       " '884448 absorbed by 861648',\n",
       " '894604 absorbed by 8711561',\n",
       " '884180 absorbed by 8711202',\n",
       " '8712064 absorbed by 9110720',\n",
       " '9110720 absorbed by 925292',\n",
       " '855138 absorbed by 857793',\n",
       " '901836 absorbed by 919537',\n",
       " '905557 absorbed by 921386',\n",
       " '891936 absorbed by 914101',\n",
       " '914101 absorbed by 901011',\n",
       " '924964 absorbed by 924342',\n",
       " '858477 absorbed by 91805',\n",
       " '865468 absorbed by 9010258',\n",
       " '8811779 absorbed by 923780',\n",
       " '91813701 absorbed by 87930',\n",
       " '8810436 absorbed by 8812816',\n",
       " '907409 absorbed by 8711561',\n",
       " '88206102 absorbed by 887549',\n",
       " '879830 absorbed by 866203',\n",
       " '855563 absorbed by 863031',\n",
       " '8711202 absorbed by 852781',\n",
       " '857438 absorbed by 873701',\n",
       " '866083 absorbed by 873885',\n",
       " '873885 absorbed by 873701',\n",
       " '864033 absorbed by 898677',\n",
       " '871641 absorbed by 898677',\n",
       " '907367 absorbed by 919537',\n",
       " '91762702 absorbed by 9012000',\n",
       " '862548 absorbed by 921386',\n",
       " '911157302 absorbed by 901288',\n",
       " '9112712 absorbed by 88203002',\n",
       " '88199202 absorbed by 88203002',\n",
       " '898677 absorbed by 924342',\n",
       " '863030 absorbed by 843786',\n",
       " '859283 absorbed by 857793',\n",
       " '89742801 absorbed by 852781',\n",
       " '852781 absorbed by 853201',\n",
       " '8911230 absorbed by 868999',\n",
       " '881861 absorbed by 844981',\n",
       " '91544001 absorbed by 8711561',\n",
       " '893061 absorbed by 923780',\n",
       " '91485 absorbed by 901288',\n",
       " '877486 absorbed by 897630',\n",
       " '8911670 absorbed by 866203',\n",
       " '924934 absorbed by 9112366',\n",
       " '896839 absorbed by 854039',\n",
       " '854039 absorbed by 857793',\n",
       " '914862 absorbed by 87930',\n",
       " '8610404 absorbed by 853201',\n",
       " '911916 absorbed by 87556202',\n",
       " '9010258 absorbed by 919537',\n",
       " '873701 absorbed by 861648',\n",
       " '88147202 absorbed by 861648',\n",
       " '91550 absorbed by 897604',\n",
       " '86135501 absorbed by 861799',\n",
       " '86730502 absorbed by 853201',\n",
       " '861799 absorbed by 921386',\n",
       " '874217 absorbed by 866203',\n",
       " '866203 absorbed by 859575',\n",
       " '871001501 absorbed by 899147',\n",
       " '919537 absorbed by 87930',\n",
       " '9111596 absorbed by 925277',\n",
       " '911366 absorbed by 919812',\n",
       " '863031 absorbed by 919812',\n",
       " '86408 absorbed by 925292',\n",
       " '925292 absorbed by 8711561',\n",
       " '859575 absorbed by 853201',\n",
       " '861648 absorbed by 87930',\n",
       " '875263 absorbed by 91504',\n",
       " '883270 absorbed by 9112085',\n",
       " '862261 absorbed by 924342',\n",
       " '857010 absorbed by 84300903',\n",
       " '908194 absorbed by 84300903',\n",
       " '881046502 absorbed by 91930402',\n",
       " '843786 absorbed by 844981',\n",
       " '894335 absorbed by 901011',\n",
       " '884437 absorbed by 924342',\n",
       " '864877 absorbed by 844981',\n",
       " '87930 absorbed by 8711561',\n",
       " '851509 absorbed by 887549',\n",
       " '84300903 absorbed by 901288',\n",
       " '897630 absorbed by 86135502',\n",
       " '86135502 absorbed by 901288',\n",
       " '91930402 absorbed by 901288',\n",
       " '853201 absorbed by 901288',\n",
       " '858981 absorbed by 924342',\n",
       " '897132 absorbed by 924342',\n",
       " '873843 absorbed by 897604',\n",
       " '897604 absorbed by 8711561',\n",
       " '844981 absorbed by 857793',\n",
       " '861598 absorbed by 906564',\n",
       " '8812816 absorbed by 8711561',\n",
       " '88466802 absorbed by 9112366',\n",
       " '925277 absorbed by 86973701',\n",
       " '875938 absorbed by 91504',\n",
       " '91504 absorbed by 919812',\n",
       " '903483 absorbed by 924342',\n",
       " '901011 absorbed by 875093',\n",
       " '8912055 absorbed by 875093',\n",
       " '892189 absorbed by 8711561',\n",
       " '9011494 absorbed by 898431',\n",
       " '852973 absorbed by 84799002',\n",
       " '875093 absorbed by 8711561',\n",
       " '923780 absorbed by 8711561',\n",
       " '899147 absorbed by 858970',\n",
       " '8910988 absorbed by 9012000',\n",
       " '9113846 absorbed by 925311',\n",
       " '877159 absorbed by 8711216',\n",
       " '859717 absorbed by 84799002',\n",
       " '88119002 absorbed by 887549',\n",
       " '858986 absorbed by 915460',\n",
       " '864018 absorbed by 8711561',\n",
       " '857392 absorbed by 901288',\n",
       " '9113816 absorbed by 9112366',\n",
       " '87556202 absorbed by 915460',\n",
       " '857793 absorbed by 915460',\n",
       " '9112085 absorbed by 9112366',\n",
       " '88203002 absorbed by 9112366',\n",
       " '926682 absorbed by 887549',\n",
       " '84799002 absorbed by 915460',\n",
       " '911296201 absorbed by 901288',\n",
       " '89812 absorbed by 9012000',\n",
       " '8911164 absorbed by 868871',\n",
       " '918192 absorbed by 868871',\n",
       " '88649001 absorbed by 853401',\n",
       " '8712766 absorbed by 853401',\n",
       " '921386 absorbed by 86973701',\n",
       " '86973701 absorbed by 8711561',\n",
       " '89263202 absorbed by 853401',\n",
       " '884948 absorbed by 853401',\n",
       " '898431 absorbed by 853401',\n",
       " '881972 absorbed by 915460',\n",
       " '915143 absorbed by 9012000',\n",
       " '8712289 absorbed by 9012000',\n",
       " '9012795 absorbed by 901288',\n",
       " '927241 absorbed by 873593',\n",
       " '853401 absorbed by 901288',\n",
       " '887549 absorbed by 901288',\n",
       " '9012315 absorbed by 915460',\n",
       " '888570 absorbed by 901288',\n",
       " '868999 absorbed by 924342',\n",
       " '924342 absorbed by 8711561',\n",
       " '901315 absorbed by 894329',\n",
       " '913063 absorbed by 894329',\n",
       " '87127 absorbed by 91805',\n",
       " '909445 absorbed by 901288',\n",
       " '883852 absorbed by 894329',\n",
       " '852552 absorbed by 901288',\n",
       " '903516 absorbed by 878796',\n",
       " '926424 absorbed by 9012000',\n",
       " '895633 absorbed by 906564',\n",
       " '919812 absorbed by 915460',\n",
       " '8810158 absorbed by 915460',\n",
       " '868871 absorbed by 8610629',\n",
       " '873592 absorbed by 899987',\n",
       " '906564 absorbed by 915460',\n",
       " '853612 absorbed by 915460',\n",
       " '87164 absorbed by 912600',\n",
       " '9112366 absorbed by 8711561',\n",
       " '8511133 absorbed by 899667',\n",
       " '884626 absorbed by 909411',\n",
       " '912600 absorbed by 915460',\n",
       " '92751 absorbed by 921092',\n",
       " '873593 absorbed by 878796',\n",
       " '8810955 absorbed by 915460',\n",
       " '8711216 absorbed by 91376702',\n",
       " '91805 absorbed by 8711561',\n",
       " '903011 absorbed by 909411',\n",
       " '909411 absorbed by 894329',\n",
       " '858970 absorbed by 8610629',\n",
       " '8610629 absorbed by 8711561',\n",
       " '899667 absorbed by 886776',\n",
       " '865128 absorbed by 913535',\n",
       " '8610637 absorbed by 886776',\n",
       " '852631 absorbed by 886776',\n",
       " '90439701 absorbed by 885429',\n",
       " '885429 absorbed by 878796',\n",
       " '909777 absorbed by 859196',\n",
       " '859196 absorbed by 8711561',\n",
       " '90312 absorbed by 901288',\n",
       " '91376702 absorbed by 8711561',\n",
       " '9012000 absorbed by 901288',\n",
       " '907914 absorbed by 925622',\n",
       " '88725602 absorbed by 88330202',\n",
       " '873357 absorbed by 8711561',\n",
       " '894329 absorbed by 915460',\n",
       " '842302 absorbed by 886776',\n",
       " '8611792 absorbed by 9113538',\n",
       " '9113538 absorbed by 901288',\n",
       " '869476 absorbed by 8711561',\n",
       " '901288 absorbed by 915460',\n",
       " '886776 absorbed by 878796',\n",
       " '921092 absorbed by 8711561',\n",
       " '887181 absorbed by 878796',\n",
       " '925622 absorbed by 878796',\n",
       " '84501001 absorbed by 9013838',\n",
       " '878796 absorbed by 915460',\n",
       " '868826 absorbed by 915460',\n",
       " '913535 absorbed by 8711561',\n",
       " '875099 absorbed by 925311',\n",
       " '88330202 absorbed by 915460',\n",
       " '864726 absorbed by 859711',\n",
       " '921362 absorbed by 859711',\n",
       " '89143602 absorbed by 86409',\n",
       " '859711 absorbed by 8913049',\n",
       " '8913049 absorbed by 8711561',\n",
       " '846226 absorbed by 855625',\n",
       " '925311 absorbed by 8711561',\n",
       " '915460 absorbed by 8711561',\n",
       " '874858 absorbed by 9013838',\n",
       " '9013838 absorbed by 84348301',\n",
       " '86355 absorbed by 899987',\n",
       " '86409 absorbed by 8711561',\n",
       " '869691 absorbed by 84348301',\n",
       " '8710441 absorbed by 859471',\n",
       " '8810703 absorbed by 911296202',\n",
       " '894047 absorbed by 8711561',\n",
       " '855625 absorbed by 84348301',\n",
       " '881094802 absorbed by 8711561',\n",
       " '84348301 absorbed by 8711561',\n",
       " '915186 absorbed by 8711561',\n",
       " '88995002 absorbed by 899987',\n",
       " '911296202 absorbed by 899987',\n",
       " '859471 absorbed by 8711561',\n",
       " '899987 absorbed by 8711561',\n",
       " '8711561 absorbed by 8711561']"
      ]
     },
     "execution_count": 12,
     "metadata": {},
     "output_type": "execute_result"
    }
   ],
   "source": [
    "hclust.merge_log"
   ]
  },
  {
   "cell_type": "markdown",
   "metadata": {},
   "source": [
    "#### Pre-Made implementation"
   ]
  },
  {
   "cell_type": "code",
   "execution_count": 21,
   "metadata": {},
   "outputs": [
    {
     "name": "stdout",
     "output_type": "stream",
     "text": [
      "Collecting plotly\n",
      "  Obtaining dependency information for plotly from https://files.pythonhosted.org/packages/00/4e/6258fc3b26f1f7abd1b2e75b1e9e4f12f13584136e2e1549f995ff4c6b7b/plotly-5.20.0-py3-none-any.whl.metadata\n",
      "  Downloading plotly-5.20.0-py3-none-any.whl.metadata (7.0 kB)\n",
      "Requirement already satisfied: tenacity>=6.2.0 in /Users/wyatthenryblair/anaconda3/envs/torch20/lib/python3.10/site-packages (from plotly) (8.2.3)\n",
      "Requirement already satisfied: packaging in /Users/wyatthenryblair/anaconda3/envs/torch20/lib/python3.10/site-packages (from plotly) (23.2)\n",
      "Downloading plotly-5.20.0-py3-none-any.whl (15.7 MB)\n",
      "\u001b[2K   \u001b[90m━━━━━━━━━━━━━━━━━━━━━━━━━━━━━━━━━━━━━━━━\u001b[0m \u001b[32m15.7/15.7 MB\u001b[0m \u001b[31m77.9 MB/s\u001b[0m eta \u001b[36m0:00:00\u001b[0m00:01\u001b[0m00:01\u001b[0m\n",
      "\u001b[?25hInstalling collected packages: plotly\n",
      "Successfully installed plotly-5.20.0\n",
      "Note: you may need to restart the kernel to use updated packages.\n"
     ]
    },
    {
     "data": {
      "application/vnd.plotly.v1+json": {
       "config": {
        "plotlyServerURL": "https://plot.ly"
       },
       "data": [
        {
         "hoverinfo": "text",
         "marker": {
          "color": "rgb(61,153,112)"
         },
         "mode": "lines",
         "type": "scatter",
         "x": [
          5,
          5,
          15,
          15
         ],
         "xaxis": "x",
         "y": [
          0,
          1.1600216126762701,
          1.1600216126762701,
          0
         ],
         "yaxis": "y"
        },
        {
         "hoverinfo": "text",
         "marker": {
          "color": "rgb(61,153,112)"
         },
         "mode": "lines",
         "type": "scatter",
         "x": [
          35,
          35,
          45,
          45
         ],
         "xaxis": "x",
         "y": [
          0,
          0.6069765540116281,
          0.6069765540116281,
          0
         ],
         "yaxis": "y"
        },
        {
         "hoverinfo": "text",
         "marker": {
          "color": "rgb(61,153,112)"
         },
         "mode": "lines",
         "type": "scatter",
         "x": [
          25,
          25,
          40,
          40
         ],
         "xaxis": "x",
         "y": [
          0,
          0.8173119517278761,
          0.8173119517278761,
          0.6069765540116281
         ],
         "yaxis": "y"
        },
        {
         "hoverinfo": "text",
         "marker": {
          "color": "rgb(61,153,112)"
         },
         "mode": "lines",
         "type": "scatter",
         "x": [
          55,
          55,
          65,
          65
         ],
         "xaxis": "x",
         "y": [
          0,
          0.613304470641644,
          0.613304470641644,
          0
         ],
         "yaxis": "y"
        },
        {
         "hoverinfo": "text",
         "marker": {
          "color": "rgb(61,153,112)"
         },
         "mode": "lines",
         "type": "scatter",
         "x": [
          75,
          75,
          85,
          85
         ],
         "xaxis": "x",
         "y": [
          0,
          0.46674958661349636,
          0.46674958661349636,
          0
         ],
         "yaxis": "y"
        },
        {
         "hoverinfo": "text",
         "marker": {
          "color": "rgb(61,153,112)"
         },
         "mode": "lines",
         "type": "scatter",
         "x": [
          95,
          95,
          105,
          105
         ],
         "xaxis": "x",
         "y": [
          0,
          0.5018710747568247,
          0.5018710747568247,
          0
         ],
         "yaxis": "y"
        },
        {
         "hoverinfo": "text",
         "marker": {
          "color": "rgb(61,153,112)"
         },
         "mode": "lines",
         "type": "scatter",
         "x": [
          80,
          80,
          100,
          100
         ],
         "xaxis": "x",
         "y": [
          0.46674958661349636,
          0.7742789039026093,
          0.7742789039026093,
          0.5018710747568247
         ],
         "yaxis": "y"
        },
        {
         "hoverinfo": "text",
         "marker": {
          "color": "rgb(61,153,112)"
         },
         "mode": "lines",
         "type": "scatter",
         "x": [
          60,
          60,
          90,
          90
         ],
         "xaxis": "x",
         "y": [
          0.613304470641644,
          0.9105817090647675,
          0.9105817090647675,
          0.7742789039026093
         ],
         "yaxis": "y"
        },
        {
         "hoverinfo": "text",
         "marker": {
          "color": "rgb(61,153,112)"
         },
         "mode": "lines",
         "type": "scatter",
         "x": [
          32.5,
          32.5,
          75,
          75
         ],
         "xaxis": "x",
         "y": [
          0.8173119517278761,
          1.1705910655551444,
          1.1705910655551444,
          0.9105817090647675
         ],
         "yaxis": "y"
        },
        {
         "hoverinfo": "text",
         "marker": {
          "color": "rgb(61,153,112)"
         },
         "mode": "lines",
         "type": "scatter",
         "x": [
          135,
          135,
          145,
          145
         ],
         "xaxis": "x",
         "y": [
          0,
          0.8641711215440545,
          0.8641711215440545,
          0
         ],
         "yaxis": "y"
        },
        {
         "hoverinfo": "text",
         "marker": {
          "color": "rgb(61,153,112)"
         },
         "mode": "lines",
         "type": "scatter",
         "x": [
          125,
          125,
          140,
          140
         ],
         "xaxis": "x",
         "y": [
          0,
          1.1161405575319763,
          1.1161405575319763,
          0.8641711215440545
         ],
         "yaxis": "y"
        },
        {
         "hoverinfo": "text",
         "marker": {
          "color": "rgb(61,153,112)"
         },
         "mode": "lines",
         "type": "scatter",
         "x": [
          115,
          115,
          132.5,
          132.5
         ],
         "xaxis": "x",
         "y": [
          0,
          1.334557221424731,
          1.334557221424731,
          1.1161405575319763
         ],
         "yaxis": "y"
        },
        {
         "hoverinfo": "text",
         "marker": {
          "color": "rgb(61,153,112)"
         },
         "mode": "lines",
         "type": "scatter",
         "x": [
          53.75,
          53.75,
          123.75,
          123.75
         ],
         "xaxis": "x",
         "y": [
          1.1705910655551444,
          1.5313852654119322,
          1.5313852654119322,
          1.334557221424731
         ],
         "yaxis": "y"
        },
        {
         "hoverinfo": "text",
         "marker": {
          "color": "rgb(61,153,112)"
         },
         "mode": "lines",
         "type": "scatter",
         "x": [
          165,
          165,
          175,
          175
         ],
         "xaxis": "x",
         "y": [
          0,
          0.5367239606018364,
          0.5367239606018364,
          0
         ],
         "yaxis": "y"
        },
        {
         "hoverinfo": "text",
         "marker": {
          "color": "rgb(61,153,112)"
         },
         "mode": "lines",
         "type": "scatter",
         "x": [
          155,
          155,
          170,
          170
         ],
         "xaxis": "x",
         "y": [
          0,
          0.6430532177807949,
          0.6430532177807949,
          0.5367239606018364
         ],
         "yaxis": "y"
        },
        {
         "hoverinfo": "text",
         "marker": {
          "color": "rgb(61,153,112)"
         },
         "mode": "lines",
         "type": "scatter",
         "x": [
          185,
          185,
          195,
          195
         ],
         "xaxis": "x",
         "y": [
          0,
          0.5059349579249678,
          0.5059349579249678,
          0
         ],
         "yaxis": "y"
        },
        {
         "hoverinfo": "text",
         "marker": {
          "color": "rgb(61,153,112)"
         },
         "mode": "lines",
         "type": "scatter",
         "x": [
          225,
          225,
          235,
          235
         ],
         "xaxis": "x",
         "y": [
          0,
          0.3310711410878182,
          0.3310711410878182,
          0
         ],
         "yaxis": "y"
        },
        {
         "hoverinfo": "text",
         "marker": {
          "color": "rgb(61,153,112)"
         },
         "mode": "lines",
         "type": "scatter",
         "x": [
          215,
          215,
          230,
          230
         ],
         "xaxis": "x",
         "y": [
          0,
          0.42525367391568736,
          0.42525367391568736,
          0.3310711410878182
         ],
         "yaxis": "y"
        },
        {
         "hoverinfo": "text",
         "marker": {
          "color": "rgb(61,153,112)"
         },
         "mode": "lines",
         "type": "scatter",
         "x": [
          205,
          205,
          222.5,
          222.5
         ],
         "xaxis": "x",
         "y": [
          0,
          0.6017963911898672,
          0.6017963911898672,
          0.42525367391568736
         ],
         "yaxis": "y"
        },
        {
         "hoverinfo": "text",
         "marker": {
          "color": "rgb(61,153,112)"
         },
         "mode": "lines",
         "type": "scatter",
         "x": [
          190,
          190,
          213.75,
          213.75
         ],
         "xaxis": "x",
         "y": [
          0.5059349579249678,
          0.7622362977997033,
          0.7622362977997033,
          0.6017963911898672
         ],
         "yaxis": "y"
        },
        {
         "hoverinfo": "text",
         "marker": {
          "color": "rgb(61,153,112)"
         },
         "mode": "lines",
         "type": "scatter",
         "x": [
          245,
          245,
          255,
          255
         ],
         "xaxis": "x",
         "y": [
          0,
          0.5672438344951887,
          0.5672438344951887,
          0
         ],
         "yaxis": "y"
        },
        {
         "hoverinfo": "text",
         "marker": {
          "color": "rgb(61,153,112)"
         },
         "mode": "lines",
         "type": "scatter",
         "x": [
          265,
          265,
          275,
          275
         ],
         "xaxis": "x",
         "y": [
          0,
          0.38345659603647425,
          0.38345659603647425,
          0
         ],
         "yaxis": "y"
        },
        {
         "hoverinfo": "text",
         "marker": {
          "color": "rgb(61,153,112)"
         },
         "mode": "lines",
         "type": "scatter",
         "x": [
          305,
          305,
          315,
          315
         ],
         "xaxis": "x",
         "y": [
          0,
          0.3134676869376329,
          0.3134676869376329,
          0
         ],
         "yaxis": "y"
        },
        {
         "hoverinfo": "text",
         "marker": {
          "color": "rgb(61,153,112)"
         },
         "mode": "lines",
         "type": "scatter",
         "x": [
          295,
          295,
          310,
          310
         ],
         "xaxis": "x",
         "y": [
          0,
          0.3395412110644232,
          0.3395412110644232,
          0.3134676869376329
         ],
         "yaxis": "y"
        },
        {
         "hoverinfo": "text",
         "marker": {
          "color": "rgb(61,153,112)"
         },
         "mode": "lines",
         "type": "scatter",
         "x": [
          285,
          285,
          302.5,
          302.5
         ],
         "xaxis": "x",
         "y": [
          0,
          0.43161621217920354,
          0.43161621217920354,
          0.3395412110644232
         ],
         "yaxis": "y"
        },
        {
         "hoverinfo": "text",
         "marker": {
          "color": "rgb(61,153,112)"
         },
         "mode": "lines",
         "type": "scatter",
         "x": [
          325,
          325,
          335,
          335
         ],
         "xaxis": "x",
         "y": [
          0,
          0.49034671141043806,
          0.49034671141043806,
          0
         ],
         "yaxis": "y"
        },
        {
         "hoverinfo": "text",
         "marker": {
          "color": "rgb(61,153,112)"
         },
         "mode": "lines",
         "type": "scatter",
         "x": [
          293.75,
          293.75,
          330,
          330
         ],
         "xaxis": "x",
         "y": [
          0.43161621217920354,
          0.6200413628620209,
          0.6200413628620209,
          0.49034671141043806
         ],
         "yaxis": "y"
        },
        {
         "hoverinfo": "text",
         "marker": {
          "color": "rgb(61,153,112)"
         },
         "mode": "lines",
         "type": "scatter",
         "x": [
          270,
          270,
          311.875,
          311.875
         ],
         "xaxis": "x",
         "y": [
          0.38345659603647425,
          0.7540968794063341,
          0.7540968794063341,
          0.6200413628620209
         ],
         "yaxis": "y"
        },
        {
         "hoverinfo": "text",
         "marker": {
          "color": "rgb(61,153,112)"
         },
         "mode": "lines",
         "type": "scatter",
         "x": [
          250,
          250,
          290.9375,
          290.9375
         ],
         "xaxis": "x",
         "y": [
          0.5672438344951887,
          0.7772832770777016,
          0.7772832770777016,
          0.7540968794063341
         ],
         "yaxis": "y"
        },
        {
         "hoverinfo": "text",
         "marker": {
          "color": "rgb(61,153,112)"
         },
         "mode": "lines",
         "type": "scatter",
         "x": [
          201.875,
          201.875,
          270.46875,
          270.46875
         ],
         "xaxis": "x",
         "y": [
          0.7622362977997033,
          0.9804642366481167,
          0.9804642366481167,
          0.7772832770777016
         ],
         "yaxis": "y"
        },
        {
         "hoverinfo": "text",
         "marker": {
          "color": "rgb(61,153,112)"
         },
         "mode": "lines",
         "type": "scatter",
         "x": [
          365,
          365,
          375,
          375
         ],
         "xaxis": "x",
         "y": [
          0,
          0.49492933992601296,
          0.49492933992601296,
          0
         ],
         "yaxis": "y"
        },
        {
         "hoverinfo": "text",
         "marker": {
          "color": "rgb(61,153,112)"
         },
         "mode": "lines",
         "type": "scatter",
         "x": [
          355,
          355,
          370,
          370
         ],
         "xaxis": "x",
         "y": [
          0,
          0.6260062565399244,
          0.6260062565399244,
          0.49492933992601296
         ],
         "yaxis": "y"
        },
        {
         "hoverinfo": "text",
         "marker": {
          "color": "rgb(61,153,112)"
         },
         "mode": "lines",
         "type": "scatter",
         "x": [
          345,
          345,
          362.5,
          362.5
         ],
         "xaxis": "x",
         "y": [
          0,
          0.7793663527950316,
          0.7793663527950316,
          0.6260062565399244
         ],
         "yaxis": "y"
        },
        {
         "hoverinfo": "text",
         "marker": {
          "color": "rgb(61,153,112)"
         },
         "mode": "lines",
         "type": "scatter",
         "x": [
          385,
          385,
          395,
          395
         ],
         "xaxis": "x",
         "y": [
          0,
          0.4840888238654112,
          0.4840888238654112,
          0
         ],
         "yaxis": "y"
        },
        {
         "hoverinfo": "text",
         "marker": {
          "color": "rgb(61,153,112)"
         },
         "mode": "lines",
         "type": "scatter",
         "x": [
          415,
          415,
          425,
          425
         ],
         "xaxis": "x",
         "y": [
          0,
          0.27070801984466025,
          0.27070801984466025,
          0
         ],
         "yaxis": "y"
        },
        {
         "hoverinfo": "text",
         "marker": {
          "color": "rgb(61,153,112)"
         },
         "mode": "lines",
         "type": "scatter",
         "x": [
          405,
          405,
          420,
          420
         ],
         "xaxis": "x",
         "y": [
          0,
          0.28496138835699775,
          0.28496138835699775,
          0.27070801984466025
         ],
         "yaxis": "y"
        },
        {
         "hoverinfo": "text",
         "marker": {
          "color": "rgb(61,153,112)"
         },
         "mode": "lines",
         "type": "scatter",
         "x": [
          445,
          445,
          455,
          455
         ],
         "xaxis": "x",
         "y": [
          0,
          0.2710297326901331,
          0.2710297326901331,
          0
         ],
         "yaxis": "y"
        },
        {
         "hoverinfo": "text",
         "marker": {
          "color": "rgb(61,153,112)"
         },
         "mode": "lines",
         "type": "scatter",
         "x": [
          435,
          435,
          450,
          450
         ],
         "xaxis": "x",
         "y": [
          0,
          0.3384557642461305,
          0.3384557642461305,
          0.2710297326901331
         ],
         "yaxis": "y"
        },
        {
         "hoverinfo": "text",
         "marker": {
          "color": "rgb(61,153,112)"
         },
         "mode": "lines",
         "type": "scatter",
         "x": [
          412.5,
          412.5,
          442.5,
          442.5
         ],
         "xaxis": "x",
         "y": [
          0.28496138835699775,
          0.424852303747674,
          0.424852303747674,
          0.3384557642461305
         ],
         "yaxis": "y"
        },
        {
         "hoverinfo": "text",
         "marker": {
          "color": "rgb(61,153,112)"
         },
         "mode": "lines",
         "type": "scatter",
         "x": [
          465,
          465,
          475,
          475
         ],
         "xaxis": "x",
         "y": [
          0,
          0.32676751992128206,
          0.32676751992128206,
          0
         ],
         "yaxis": "y"
        },
        {
         "hoverinfo": "text",
         "marker": {
          "color": "rgb(61,153,112)"
         },
         "mode": "lines",
         "type": "scatter",
         "x": [
          495,
          495,
          505,
          505
         ],
         "xaxis": "x",
         "y": [
          0,
          0.26742761434942397,
          0.26742761434942397,
          0
         ],
         "yaxis": "y"
        },
        {
         "hoverinfo": "text",
         "marker": {
          "color": "rgb(61,153,112)"
         },
         "mode": "lines",
         "type": "scatter",
         "x": [
          485,
          485,
          500,
          500
         ],
         "xaxis": "x",
         "y": [
          0,
          0.396538959820681,
          0.396538959820681,
          0.26742761434942397
         ],
         "yaxis": "y"
        },
        {
         "hoverinfo": "text",
         "marker": {
          "color": "rgb(61,153,112)"
         },
         "mode": "lines",
         "type": "scatter",
         "x": [
          470,
          470,
          492.5,
          492.5
         ],
         "xaxis": "x",
         "y": [
          0.32676751992128206,
          0.4627603593858354,
          0.4627603593858354,
          0.396538959820681
         ],
         "yaxis": "y"
        },
        {
         "hoverinfo": "text",
         "marker": {
          "color": "rgb(61,153,112)"
         },
         "mode": "lines",
         "type": "scatter",
         "x": [
          427.5,
          427.5,
          481.25,
          481.25
         ],
         "xaxis": "x",
         "y": [
          0.424852303747674,
          0.564244388424771,
          0.564244388424771,
          0.4627603593858354
         ],
         "yaxis": "y"
        },
        {
         "hoverinfo": "text",
         "marker": {
          "color": "rgb(61,153,112)"
         },
         "mode": "lines",
         "type": "scatter",
         "x": [
          390,
          390,
          454.375,
          454.375
         ],
         "xaxis": "x",
         "y": [
          0.4840888238654112,
          0.6408366186047364,
          0.6408366186047364,
          0.564244388424771
         ],
         "yaxis": "y"
        },
        {
         "hoverinfo": "text",
         "marker": {
          "color": "rgb(61,153,112)"
         },
         "mode": "lines",
         "type": "scatter",
         "x": [
          525,
          525,
          535,
          535
         ],
         "xaxis": "x",
         "y": [
          0,
          0.43376450353356594,
          0.43376450353356594,
          0
         ],
         "yaxis": "y"
        },
        {
         "hoverinfo": "text",
         "marker": {
          "color": "rgb(61,153,112)"
         },
         "mode": "lines",
         "type": "scatter",
         "x": [
          515,
          515,
          530,
          530
         ],
         "xaxis": "x",
         "y": [
          0,
          0.5965133801541909,
          0.5965133801541909,
          0.43376450353356594
         ],
         "yaxis": "y"
        },
        {
         "hoverinfo": "text",
         "marker": {
          "color": "rgb(61,153,112)"
         },
         "mode": "lines",
         "type": "scatter",
         "x": [
          565,
          565,
          575,
          575
         ],
         "xaxis": "x",
         "y": [
          0,
          0.30864367724354447,
          0.30864367724354447,
          0
         ],
         "yaxis": "y"
        },
        {
         "hoverinfo": "text",
         "marker": {
          "color": "rgb(61,153,112)"
         },
         "mode": "lines",
         "type": "scatter",
         "x": [
          555,
          555,
          570,
          570
         ],
         "xaxis": "x",
         "y": [
          0,
          0.37822593357418494,
          0.37822593357418494,
          0.30864367724354447
         ],
         "yaxis": "y"
        },
        {
         "hoverinfo": "text",
         "marker": {
          "color": "rgb(61,153,112)"
         },
         "mode": "lines",
         "type": "scatter",
         "x": [
          545,
          545,
          562.5,
          562.5
         ],
         "xaxis": "x",
         "y": [
          0,
          0.5263071346471125,
          0.5263071346471125,
          0.37822593357418494
         ],
         "yaxis": "y"
        },
        {
         "hoverinfo": "text",
         "marker": {
          "color": "rgb(61,153,112)"
         },
         "mode": "lines",
         "type": "scatter",
         "x": [
          605,
          605,
          615,
          615
         ],
         "xaxis": "x",
         "y": [
          0,
          0.2507290561827815,
          0.2507290561827815,
          0
         ],
         "yaxis": "y"
        },
        {
         "hoverinfo": "text",
         "marker": {
          "color": "rgb(61,153,112)"
         },
         "mode": "lines",
         "type": "scatter",
         "x": [
          595,
          595,
          610,
          610
         ],
         "xaxis": "x",
         "y": [
          0,
          0.30134060988147693,
          0.30134060988147693,
          0.2507290561827815
         ],
         "yaxis": "y"
        },
        {
         "hoverinfo": "text",
         "marker": {
          "color": "rgb(61,153,112)"
         },
         "mode": "lines",
         "type": "scatter",
         "x": [
          585,
          585,
          602.5,
          602.5
         ],
         "xaxis": "x",
         "y": [
          0,
          0.40428609717006025,
          0.40428609717006025,
          0.30134060988147693
         ],
         "yaxis": "y"
        },
        {
         "hoverinfo": "text",
         "marker": {
          "color": "rgb(61,153,112)"
         },
         "mode": "lines",
         "type": "scatter",
         "x": [
          625,
          625,
          635,
          635
         ],
         "xaxis": "x",
         "y": [
          0,
          0.36240918151175244,
          0.36240918151175244,
          0
         ],
         "yaxis": "y"
        },
        {
         "hoverinfo": "text",
         "marker": {
          "color": "rgb(61,153,112)"
         },
         "mode": "lines",
         "type": "scatter",
         "x": [
          645,
          645,
          655,
          655
         ],
         "xaxis": "x",
         "y": [
          0,
          0.26552536372080304,
          0.26552536372080304,
          0
         ],
         "yaxis": "y"
        },
        {
         "hoverinfo": "text",
         "marker": {
          "color": "rgb(61,153,112)"
         },
         "mode": "lines",
         "type": "scatter",
         "x": [
          665,
          665,
          675,
          675
         ],
         "xaxis": "x",
         "y": [
          0,
          0.38089867702959257,
          0.38089867702959257,
          0
         ],
         "yaxis": "y"
        },
        {
         "hoverinfo": "text",
         "marker": {
          "color": "rgb(61,153,112)"
         },
         "mode": "lines",
         "type": "scatter",
         "x": [
          650,
          650,
          670,
          670
         ],
         "xaxis": "x",
         "y": [
          0.26552536372080304,
          0.447307216445924,
          0.447307216445924,
          0.38089867702959257
         ],
         "yaxis": "y"
        },
        {
         "hoverinfo": "text",
         "marker": {
          "color": "rgb(61,153,112)"
         },
         "mode": "lines",
         "type": "scatter",
         "x": [
          630,
          630,
          660,
          660
         ],
         "xaxis": "x",
         "y": [
          0.36240918151175244,
          0.5063239455366352,
          0.5063239455366352,
          0.447307216445924
         ],
         "yaxis": "y"
        },
        {
         "hoverinfo": "text",
         "marker": {
          "color": "rgb(61,153,112)"
         },
         "mode": "lines",
         "type": "scatter",
         "x": [
          593.75,
          593.75,
          645,
          645
         ],
         "xaxis": "x",
         "y": [
          0.40428609717006025,
          0.5394877018673195,
          0.5394877018673195,
          0.5063239455366352
         ],
         "yaxis": "y"
        },
        {
         "hoverinfo": "text",
         "marker": {
          "color": "rgb(61,153,112)"
         },
         "mode": "lines",
         "type": "scatter",
         "x": [
          553.75,
          553.75,
          619.375,
          619.375
         ],
         "xaxis": "x",
         "y": [
          0.5263071346471125,
          0.6156765534111865,
          0.6156765534111865,
          0.5394877018673195
         ],
         "yaxis": "y"
        },
        {
         "hoverinfo": "text",
         "marker": {
          "color": "rgb(61,153,112)"
         },
         "mode": "lines",
         "type": "scatter",
         "x": [
          522.5,
          522.5,
          586.5625,
          586.5625
         ],
         "xaxis": "x",
         "y": [
          0.5965133801541909,
          0.7535032212296441,
          0.7535032212296441,
          0.6156765534111865
         ],
         "yaxis": "y"
        },
        {
         "hoverinfo": "text",
         "marker": {
          "color": "rgb(61,153,112)"
         },
         "mode": "lines",
         "type": "scatter",
         "x": [
          422.1875,
          422.1875,
          554.53125,
          554.53125
         ],
         "xaxis": "x",
         "y": [
          0.6408366186047364,
          0.8806479644083596,
          0.8806479644083596,
          0.7535032212296441
         ],
         "yaxis": "y"
        },
        {
         "hoverinfo": "text",
         "marker": {
          "color": "rgb(61,153,112)"
         },
         "mode": "lines",
         "type": "scatter",
         "x": [
          353.75,
          353.75,
          488.359375,
          488.359375
         ],
         "xaxis": "x",
         "y": [
          0.7793663527950316,
          1.0279877977334118,
          1.0279877977334118,
          0.8806479644083596
         ],
         "yaxis": "y"
        },
        {
         "hoverinfo": "text",
         "marker": {
          "color": "rgb(61,153,112)"
         },
         "mode": "lines",
         "type": "scatter",
         "x": [
          236.171875,
          236.171875,
          421.0546875,
          421.0546875
         ],
         "xaxis": "x",
         "y": [
          0.9804642366481167,
          1.2022536924832294,
          1.2022536924832294,
          1.0279877977334118
         ],
         "yaxis": "y"
        },
        {
         "hoverinfo": "text",
         "marker": {
          "color": "rgb(61,153,112)"
         },
         "mode": "lines",
         "type": "scatter",
         "x": [
          685,
          685,
          695,
          695
         ],
         "xaxis": "x",
         "y": [
          0,
          0.5323744776237334,
          0.5323744776237334,
          0
         ],
         "yaxis": "y"
        },
        {
         "hoverinfo": "text",
         "marker": {
          "color": "rgb(61,153,112)"
         },
         "mode": "lines",
         "type": "scatter",
         "x": [
          715,
          715,
          725,
          725
         ],
         "xaxis": "x",
         "y": [
          0,
          0.3078633122175699,
          0.3078633122175699,
          0
         ],
         "yaxis": "y"
        },
        {
         "hoverinfo": "text",
         "marker": {
          "color": "rgb(61,153,112)"
         },
         "mode": "lines",
         "type": "scatter",
         "x": [
          705,
          705,
          720,
          720
         ],
         "xaxis": "x",
         "y": [
          0,
          0.38332707845564606,
          0.38332707845564606,
          0.3078633122175699
         ],
         "yaxis": "y"
        },
        {
         "hoverinfo": "text",
         "marker": {
          "color": "rgb(61,153,112)"
         },
         "mode": "lines",
         "type": "scatter",
         "x": [
          735,
          735,
          745,
          745
         ],
         "xaxis": "x",
         "y": [
          0,
          0.4663265843737396,
          0.4663265843737396,
          0
         ],
         "yaxis": "y"
        },
        {
         "hoverinfo": "text",
         "marker": {
          "color": "rgb(61,153,112)"
         },
         "mode": "lines",
         "type": "scatter",
         "x": [
          712.5,
          712.5,
          740,
          740
         ],
         "xaxis": "x",
         "y": [
          0.38332707845564606,
          0.5362505081543067,
          0.5362505081543067,
          0.4663265843737396
         ],
         "yaxis": "y"
        },
        {
         "hoverinfo": "text",
         "marker": {
          "color": "rgb(61,153,112)"
         },
         "mode": "lines",
         "type": "scatter",
         "x": [
          690,
          690,
          726.25,
          726.25
         ],
         "xaxis": "x",
         "y": [
          0.5323744776237334,
          0.7010985879950278,
          0.7010985879950278,
          0.5362505081543067
         ],
         "yaxis": "y"
        },
        {
         "hoverinfo": "text",
         "marker": {
          "color": "rgb(61,153,112)"
         },
         "mode": "lines",
         "type": "scatter",
         "x": [
          775,
          775,
          785,
          785
         ],
         "xaxis": "x",
         "y": [
          0,
          0.3708240565848457,
          0.3708240565848457,
          0
         ],
         "yaxis": "y"
        },
        {
         "hoverinfo": "text",
         "marker": {
          "color": "rgb(61,153,112)"
         },
         "mode": "lines",
         "type": "scatter",
         "x": [
          765,
          765,
          780,
          780
         ],
         "xaxis": "x",
         "y": [
          0,
          0.4956856643518988,
          0.4956856643518988,
          0.3708240565848457
         ],
         "yaxis": "y"
        },
        {
         "hoverinfo": "text",
         "marker": {
          "color": "rgb(61,153,112)"
         },
         "mode": "lines",
         "type": "scatter",
         "x": [
          795,
          795,
          805,
          805
         ],
         "xaxis": "x",
         "y": [
          0,
          0.4207247113877493,
          0.4207247113877493,
          0
         ],
         "yaxis": "y"
        },
        {
         "hoverinfo": "text",
         "marker": {
          "color": "rgb(61,153,112)"
         },
         "mode": "lines",
         "type": "scatter",
         "x": [
          825,
          825,
          835,
          835
         ],
         "xaxis": "x",
         "y": [
          0,
          0.3548140181667647,
          0.3548140181667647,
          0
         ],
         "yaxis": "y"
        },
        {
         "hoverinfo": "text",
         "marker": {
          "color": "rgb(61,153,112)"
         },
         "mode": "lines",
         "type": "scatter",
         "x": [
          815,
          815,
          830,
          830
         ],
         "xaxis": "x",
         "y": [
          0,
          0.5081458204417885,
          0.5081458204417885,
          0.3548140181667647
         ],
         "yaxis": "y"
        },
        {
         "hoverinfo": "text",
         "marker": {
          "color": "rgb(61,153,112)"
         },
         "mode": "lines",
         "type": "scatter",
         "x": [
          800,
          800,
          822.5,
          822.5
         ],
         "xaxis": "x",
         "y": [
          0.4207247113877493,
          0.5878910198027886,
          0.5878910198027886,
          0.5081458204417885
         ],
         "yaxis": "y"
        },
        {
         "hoverinfo": "text",
         "marker": {
          "color": "rgb(61,153,112)"
         },
         "mode": "lines",
         "type": "scatter",
         "x": [
          772.5,
          772.5,
          811.25,
          811.25
         ],
         "xaxis": "x",
         "y": [
          0.4956856643518988,
          0.6702811470974254,
          0.6702811470974254,
          0.5878910198027886
         ],
         "yaxis": "y"
        },
        {
         "hoverinfo": "text",
         "marker": {
          "color": "rgb(61,153,112)"
         },
         "mode": "lines",
         "type": "scatter",
         "x": [
          755,
          755,
          791.875,
          791.875
         ],
         "xaxis": "x",
         "y": [
          0,
          0.733120219292202,
          0.733120219292202,
          0.6702811470974254
         ],
         "yaxis": "y"
        },
        {
         "hoverinfo": "text",
         "marker": {
          "color": "rgb(61,153,112)"
         },
         "mode": "lines",
         "type": "scatter",
         "x": [
          708.125,
          708.125,
          773.4375,
          773.4375
         ],
         "xaxis": "x",
         "y": [
          0.7010985879950278,
          0.9334665384985137,
          0.9334665384985137,
          0.733120219292202
         ],
         "yaxis": "y"
        },
        {
         "hoverinfo": "text",
         "marker": {
          "color": "rgb(61,153,112)"
         },
         "mode": "lines",
         "type": "scatter",
         "x": [
          845,
          845,
          855,
          855
         ],
         "xaxis": "x",
         "y": [
          0,
          0.5443099858839224,
          0.5443099858839224,
          0
         ],
         "yaxis": "y"
        },
        {
         "hoverinfo": "text",
         "marker": {
          "color": "rgb(61,153,112)"
         },
         "mode": "lines",
         "type": "scatter",
         "x": [
          865,
          865,
          875,
          875
         ],
         "xaxis": "x",
         "y": [
          0,
          0.5479238220602943,
          0.5479238220602943,
          0
         ],
         "yaxis": "y"
        },
        {
         "hoverinfo": "text",
         "marker": {
          "color": "rgb(61,153,112)"
         },
         "mode": "lines",
         "type": "scatter",
         "x": [
          885,
          885,
          895,
          895
         ],
         "xaxis": "x",
         "y": [
          0,
          0.39812219053782083,
          0.39812219053782083,
          0
         ],
         "yaxis": "y"
        },
        {
         "hoverinfo": "text",
         "marker": {
          "color": "rgb(61,153,112)"
         },
         "mode": "lines",
         "type": "scatter",
         "x": [
          915,
          915,
          925,
          925
         ],
         "xaxis": "x",
         "y": [
          0,
          0.37066301761554366,
          0.37066301761554366,
          0
         ],
         "yaxis": "y"
        },
        {
         "hoverinfo": "text",
         "marker": {
          "color": "rgb(61,153,112)"
         },
         "mode": "lines",
         "type": "scatter",
         "x": [
          905,
          905,
          920,
          920
         ],
         "xaxis": "x",
         "y": [
          0,
          0.47688746715916064,
          0.47688746715916064,
          0.37066301761554366
         ],
         "yaxis": "y"
        },
        {
         "hoverinfo": "text",
         "marker": {
          "color": "rgb(61,153,112)"
         },
         "mode": "lines",
         "type": "scatter",
         "x": [
          890,
          890,
          912.5,
          912.5
         ],
         "xaxis": "x",
         "y": [
          0.39812219053782083,
          0.5575660993244455,
          0.5575660993244455,
          0.47688746715916064
         ],
         "yaxis": "y"
        },
        {
         "hoverinfo": "text",
         "marker": {
          "color": "rgb(61,153,112)"
         },
         "mode": "lines",
         "type": "scatter",
         "x": [
          870,
          870,
          901.25,
          901.25
         ],
         "xaxis": "x",
         "y": [
          0.5479238220602943,
          0.6480345763079806,
          0.6480345763079806,
          0.5575660993244455
         ],
         "yaxis": "y"
        },
        {
         "hoverinfo": "text",
         "marker": {
          "color": "rgb(61,153,112)"
         },
         "mode": "lines",
         "type": "scatter",
         "x": [
          965,
          965,
          975,
          975
         ],
         "xaxis": "x",
         "y": [
          0,
          0.3494430220737151,
          0.3494430220737151,
          0
         ],
         "yaxis": "y"
        },
        {
         "hoverinfo": "text",
         "marker": {
          "color": "rgb(61,153,112)"
         },
         "mode": "lines",
         "type": "scatter",
         "x": [
          955,
          955,
          970,
          970
         ],
         "xaxis": "x",
         "y": [
          0,
          0.5016487847187665,
          0.5016487847187665,
          0.3494430220737151
         ],
         "yaxis": "y"
        },
        {
         "hoverinfo": "text",
         "marker": {
          "color": "rgb(61,153,112)"
         },
         "mode": "lines",
         "type": "scatter",
         "x": [
          945,
          945,
          962.5,
          962.5
         ],
         "xaxis": "x",
         "y": [
          0,
          0.5324174962635184,
          0.5324174962635184,
          0.5016487847187665
         ],
         "yaxis": "y"
        },
        {
         "hoverinfo": "text",
         "marker": {
          "color": "rgb(61,153,112)"
         },
         "mode": "lines",
         "type": "scatter",
         "x": [
          935,
          935,
          953.75,
          953.75
         ],
         "xaxis": "x",
         "y": [
          0,
          0.8073948699991089,
          0.8073948699991089,
          0.5324174962635184
         ],
         "yaxis": "y"
        },
        {
         "hoverinfo": "text",
         "marker": {
          "color": "rgb(61,153,112)"
         },
         "mode": "lines",
         "type": "scatter",
         "x": [
          885.625,
          885.625,
          944.375,
          944.375
         ],
         "xaxis": "x",
         "y": [
          0.6480345763079806,
          0.8873480676254389,
          0.8873480676254389,
          0.8073948699991089
         ],
         "yaxis": "y"
        },
        {
         "hoverinfo": "text",
         "marker": {
          "color": "rgb(61,153,112)"
         },
         "mode": "lines",
         "type": "scatter",
         "x": [
          850,
          850,
          915,
          915
         ],
         "xaxis": "x",
         "y": [
          0.5443099858839224,
          1.0605194529696491,
          1.0605194529696491,
          0.8873480676254389
         ],
         "yaxis": "y"
        },
        {
         "hoverinfo": "text",
         "marker": {
          "color": "rgb(61,153,112)"
         },
         "mode": "lines",
         "type": "scatter",
         "x": [
          740.78125,
          740.78125,
          882.5,
          882.5
         ],
         "xaxis": "x",
         "y": [
          0.9334665384985137,
          1.2906713314432345,
          1.2906713314432345,
          1.0605194529696491
         ],
         "yaxis": "y"
        },
        {
         "hoverinfo": "text",
         "marker": {
          "color": "rgb(61,153,112)"
         },
         "mode": "lines",
         "type": "scatter",
         "x": [
          328.61328125,
          328.61328125,
          811.640625,
          811.640625
         ],
         "xaxis": "x",
         "y": [
          1.2022536924832294,
          1.4586967446581227,
          1.4586967446581227,
          1.2906713314432345
         ],
         "yaxis": "y"
        },
        {
         "hoverinfo": "text",
         "marker": {
          "color": "rgb(61,153,112)"
         },
         "mode": "lines",
         "type": "scatter",
         "x": [
          162.5,
          162.5,
          570.126953125,
          570.126953125
         ],
         "xaxis": "x",
         "y": [
          0.6430532177807949,
          1.7054321447411414,
          1.7054321447411414,
          1.4586967446581227
         ],
         "yaxis": "y"
        },
        {
         "hoverinfo": "text",
         "marker": {
          "color": "rgb(61,153,112)"
         },
         "mode": "lines",
         "type": "scatter",
         "x": [
          88.75,
          88.75,
          366.3134765625,
          366.3134765625
         ],
         "xaxis": "x",
         "y": [
          1.5313852654119322,
          2.115233142336156,
          2.115233142336156,
          1.7054321447411414
         ],
         "yaxis": "y"
        },
        {
         "hoverinfo": "text",
         "marker": {
          "color": "rgb(61,153,112)"
         },
         "mode": "lines",
         "type": "scatter",
         "x": [
          10,
          10,
          227.53173828125,
          227.53173828125
         ],
         "xaxis": "x",
         "y": [
          1.1600216126762701,
          2.376632275010075,
          2.376632275010075,
          2.115233142336156
         ],
         "yaxis": "y"
        },
        {
         "hoverinfo": "text",
         "marker": {
          "color": "rgb(255,65,54)"
         },
         "mode": "lines",
         "type": "scatter",
         "x": [
          985,
          985,
          995,
          995
         ],
         "xaxis": "x",
         "y": [
          0,
          0.228456521266606,
          0.228456521266606,
          0
         ],
         "yaxis": "y"
        },
        {
         "hoverinfo": "text",
         "marker": {
          "color": "rgb(255,65,54)"
         },
         "mode": "lines",
         "type": "scatter",
         "x": [
          1005,
          1005,
          1015,
          1015
         ],
         "xaxis": "x",
         "y": [
          0,
          0.2646163517307752,
          0.2646163517307752,
          0
         ],
         "yaxis": "y"
        },
        {
         "hoverinfo": "text",
         "marker": {
          "color": "rgb(255,65,54)"
         },
         "mode": "lines",
         "type": "scatter",
         "x": [
          990,
          990,
          1010,
          1010
         ],
         "xaxis": "x",
         "y": [
          0.228456521266606,
          0.37429535677825676,
          0.37429535677825676,
          0.2646163517307752
         ],
         "yaxis": "y"
        },
        {
         "hoverinfo": "text",
         "marker": {
          "color": "rgb(255,65,54)"
         },
         "mode": "lines",
         "type": "scatter",
         "x": [
          1045,
          1045,
          1055,
          1055
         ],
         "xaxis": "x",
         "y": [
          0,
          0.16767707352445158,
          0.16767707352445158,
          0
         ],
         "yaxis": "y"
        },
        {
         "hoverinfo": "text",
         "marker": {
          "color": "rgb(255,65,54)"
         },
         "mode": "lines",
         "type": "scatter",
         "x": [
          1035,
          1035,
          1050,
          1050
         ],
         "xaxis": "x",
         "y": [
          0,
          0.28310400472021174,
          0.28310400472021174,
          0.16767707352445158
         ],
         "yaxis": "y"
        },
        {
         "hoverinfo": "text",
         "marker": {
          "color": "rgb(255,65,54)"
         },
         "mode": "lines",
         "type": "scatter",
         "x": [
          1025,
          1025,
          1042.5,
          1042.5
         ],
         "xaxis": "x",
         "y": [
          0,
          0.4091550196877871,
          0.4091550196877871,
          0.28310400472021174
         ],
         "yaxis": "y"
        },
        {
         "hoverinfo": "text",
         "marker": {
          "color": "rgb(255,65,54)"
         },
         "mode": "lines",
         "type": "scatter",
         "x": [
          1075,
          1075,
          1085,
          1085
         ],
         "xaxis": "x",
         "y": [
          0,
          0.26212836944446244,
          0.26212836944446244,
          0
         ],
         "yaxis": "y"
        },
        {
         "hoverinfo": "text",
         "marker": {
          "color": "rgb(255,65,54)"
         },
         "mode": "lines",
         "type": "scatter",
         "x": [
          1065,
          1065,
          1080,
          1080
         ],
         "xaxis": "x",
         "y": [
          0,
          0.34484388386468545,
          0.34484388386468545,
          0.26212836944446244
         ],
         "yaxis": "y"
        },
        {
         "hoverinfo": "text",
         "marker": {
          "color": "rgb(255,65,54)"
         },
         "mode": "lines",
         "type": "scatter",
         "x": [
          1105,
          1105,
          1115,
          1115
         ],
         "xaxis": "x",
         "y": [
          0,
          0.2619590670490883,
          0.2619590670490883,
          0
         ],
         "yaxis": "y"
        },
        {
         "hoverinfo": "text",
         "marker": {
          "color": "rgb(255,65,54)"
         },
         "mode": "lines",
         "type": "scatter",
         "x": [
          1095,
          1095,
          1110,
          1110
         ],
         "xaxis": "x",
         "y": [
          0,
          0.347312849082548,
          0.347312849082548,
          0.2619590670490883
         ],
         "yaxis": "y"
        },
        {
         "hoverinfo": "text",
         "marker": {
          "color": "rgb(255,65,54)"
         },
         "mode": "lines",
         "type": "scatter",
         "x": [
          1072.5,
          1072.5,
          1102.5,
          1102.5
         ],
         "xaxis": "x",
         "y": [
          0.34484388386468545,
          0.47916551247764066,
          0.47916551247764066,
          0.347312849082548
         ],
         "yaxis": "y"
        },
        {
         "hoverinfo": "text",
         "marker": {
          "color": "rgb(255,65,54)"
         },
         "mode": "lines",
         "type": "scatter",
         "x": [
          1033.75,
          1033.75,
          1087.5,
          1087.5
         ],
         "xaxis": "x",
         "y": [
          0.4091550196877871,
          0.5834271878444923,
          0.5834271878444923,
          0.47916551247764066
         ],
         "yaxis": "y"
        },
        {
         "hoverinfo": "text",
         "marker": {
          "color": "rgb(255,65,54)"
         },
         "mode": "lines",
         "type": "scatter",
         "x": [
          1000,
          1000,
          1060.625,
          1060.625
         ],
         "xaxis": "x",
         "y": [
          0.37429535677825676,
          0.6455005267834585,
          0.6455005267834585,
          0.5834271878444923
         ],
         "yaxis": "y"
        },
        {
         "hoverinfo": "text",
         "marker": {
          "color": "rgb(255,65,54)"
         },
         "mode": "lines",
         "type": "scatter",
         "x": [
          1125,
          1125,
          1135,
          1135
         ],
         "xaxis": "x",
         "y": [
          0,
          0.37231418487518103,
          0.37231418487518103,
          0
         ],
         "yaxis": "y"
        },
        {
         "hoverinfo": "text",
         "marker": {
          "color": "rgb(255,65,54)"
         },
         "mode": "lines",
         "type": "scatter",
         "x": [
          1155,
          1155,
          1165,
          1165
         ],
         "xaxis": "x",
         "y": [
          0,
          0.3394764909004577,
          0.3394764909004577,
          0
         ],
         "yaxis": "y"
        },
        {
         "hoverinfo": "text",
         "marker": {
          "color": "rgb(255,65,54)"
         },
         "mode": "lines",
         "type": "scatter",
         "x": [
          1145,
          1145,
          1160,
          1160
         ],
         "xaxis": "x",
         "y": [
          0,
          0.39287776353040055,
          0.39287776353040055,
          0.3394764909004577
         ],
         "yaxis": "y"
        },
        {
         "hoverinfo": "text",
         "marker": {
          "color": "rgb(255,65,54)"
         },
         "mode": "lines",
         "type": "scatter",
         "x": [
          1130,
          1130,
          1152.5,
          1152.5
         ],
         "xaxis": "x",
         "y": [
          0.37231418487518103,
          0.5257086184935017,
          0.5257086184935017,
          0.39287776353040055
         ],
         "yaxis": "y"
        },
        {
         "hoverinfo": "text",
         "marker": {
          "color": "rgb(255,65,54)"
         },
         "mode": "lines",
         "type": "scatter",
         "x": [
          1185,
          1185,
          1195,
          1195
         ],
         "xaxis": "x",
         "y": [
          0,
          0.26289064129385653,
          0.26289064129385653,
          0
         ],
         "yaxis": "y"
        },
        {
         "hoverinfo": "text",
         "marker": {
          "color": "rgb(255,65,54)"
         },
         "mode": "lines",
         "type": "scatter",
         "x": [
          1175,
          1175,
          1190,
          1190
         ],
         "xaxis": "x",
         "y": [
          0,
          0.38127412008071926,
          0.38127412008071926,
          0.26289064129385653
         ],
         "yaxis": "y"
        },
        {
         "hoverinfo": "text",
         "marker": {
          "color": "rgb(255,65,54)"
         },
         "mode": "lines",
         "type": "scatter",
         "x": [
          1215,
          1215,
          1225,
          1225
         ],
         "xaxis": "x",
         "y": [
          0,
          0.26381411211357847,
          0.26381411211357847,
          0
         ],
         "yaxis": "y"
        },
        {
         "hoverinfo": "text",
         "marker": {
          "color": "rgb(255,65,54)"
         },
         "mode": "lines",
         "type": "scatter",
         "x": [
          1205,
          1205,
          1220,
          1220
         ],
         "xaxis": "x",
         "y": [
          0,
          0.30753623433520155,
          0.30753623433520155,
          0.26381411211357847
         ],
         "yaxis": "y"
        },
        {
         "hoverinfo": "text",
         "marker": {
          "color": "rgb(255,65,54)"
         },
         "mode": "lines",
         "type": "scatter",
         "x": [
          1235,
          1235,
          1245,
          1245
         ],
         "xaxis": "x",
         "y": [
          0,
          0.23184077866913821,
          0.23184077866913821,
          0
         ],
         "yaxis": "y"
        },
        {
         "hoverinfo": "text",
         "marker": {
          "color": "rgb(255,65,54)"
         },
         "mode": "lines",
         "type": "scatter",
         "x": [
          1255,
          1255,
          1265,
          1265
         ],
         "xaxis": "x",
         "y": [
          0,
          0.25558915829994666,
          0.25558915829994666,
          0
         ],
         "yaxis": "y"
        },
        {
         "hoverinfo": "text",
         "marker": {
          "color": "rgb(255,65,54)"
         },
         "mode": "lines",
         "type": "scatter",
         "x": [
          1240,
          1240,
          1260,
          1260
         ],
         "xaxis": "x",
         "y": [
          0.23184077866913821,
          0.32976548497666885,
          0.32976548497666885,
          0.25558915829994666
         ],
         "yaxis": "y"
        },
        {
         "hoverinfo": "text",
         "marker": {
          "color": "rgb(255,65,54)"
         },
         "mode": "lines",
         "type": "scatter",
         "x": [
          1212.5,
          1212.5,
          1250,
          1250
         ],
         "xaxis": "x",
         "y": [
          0.30753623433520155,
          0.465450618193757,
          0.465450618193757,
          0.32976548497666885
         ],
         "yaxis": "y"
        },
        {
         "hoverinfo": "text",
         "marker": {
          "color": "rgb(255,65,54)"
         },
         "mode": "lines",
         "type": "scatter",
         "x": [
          1182.5,
          1182.5,
          1231.25,
          1231.25
         ],
         "xaxis": "x",
         "y": [
          0.38127412008071926,
          0.5600491250456223,
          0.5600491250456223,
          0.465450618193757
         ],
         "yaxis": "y"
        },
        {
         "hoverinfo": "text",
         "marker": {
          "color": "rgb(255,65,54)"
         },
         "mode": "lines",
         "type": "scatter",
         "x": [
          1141.25,
          1141.25,
          1206.875,
          1206.875
         ],
         "xaxis": "x",
         "y": [
          0.5257086184935017,
          0.6564737499862734,
          0.6564737499862734,
          0.5600491250456223
         ],
         "yaxis": "y"
        },
        {
         "hoverinfo": "text",
         "marker": {
          "color": "rgb(255,65,54)"
         },
         "mode": "lines",
         "type": "scatter",
         "x": [
          1030.3125,
          1030.3125,
          1174.0625,
          1174.0625
         ],
         "xaxis": "x",
         "y": [
          0.6455005267834585,
          0.7680167072258771,
          0.7680167072258771,
          0.6564737499862734
         ],
         "yaxis": "y"
        },
        {
         "hoverinfo": "text",
         "marker": {
          "color": "rgb(255,65,54)"
         },
         "mode": "lines",
         "type": "scatter",
         "x": [
          1275,
          1275,
          1285,
          1285
         ],
         "xaxis": "x",
         "y": [
          0,
          0.5700325857955101,
          0.5700325857955101,
          0
         ],
         "yaxis": "y"
        },
        {
         "hoverinfo": "text",
         "marker": {
          "color": "rgb(255,65,54)"
         },
         "mode": "lines",
         "type": "scatter",
         "x": [
          1315,
          1315,
          1325,
          1325
         ],
         "xaxis": "x",
         "y": [
          0,
          0.2621355571354371,
          0.2621355571354371,
          0
         ],
         "yaxis": "y"
        },
        {
         "hoverinfo": "text",
         "marker": {
          "color": "rgb(255,65,54)"
         },
         "mode": "lines",
         "type": "scatter",
         "x": [
          1305,
          1305,
          1320,
          1320
         ],
         "xaxis": "x",
         "y": [
          0,
          0.38469536594721143,
          0.38469536594721143,
          0.2621355571354371
         ],
         "yaxis": "y"
        },
        {
         "hoverinfo": "text",
         "marker": {
          "color": "rgb(255,65,54)"
         },
         "mode": "lines",
         "type": "scatter",
         "x": [
          1295,
          1295,
          1312.5,
          1312.5
         ],
         "xaxis": "x",
         "y": [
          0,
          0.46821689760946017,
          0.46821689760946017,
          0.38469536594721143
         ],
         "yaxis": "y"
        },
        {
         "hoverinfo": "text",
         "marker": {
          "color": "rgb(255,65,54)"
         },
         "mode": "lines",
         "type": "scatter",
         "x": [
          1345,
          1345,
          1355,
          1355
         ],
         "xaxis": "x",
         "y": [
          0,
          0.299234108692953,
          0.299234108692953,
          0
         ],
         "yaxis": "y"
        },
        {
         "hoverinfo": "text",
         "marker": {
          "color": "rgb(255,65,54)"
         },
         "mode": "lines",
         "type": "scatter",
         "x": [
          1335,
          1335,
          1350,
          1350
         ],
         "xaxis": "x",
         "y": [
          0,
          0.4268383759905376,
          0.4268383759905376,
          0.299234108692953
         ],
         "yaxis": "y"
        },
        {
         "hoverinfo": "text",
         "marker": {
          "color": "rgb(255,65,54)"
         },
         "mode": "lines",
         "type": "scatter",
         "x": [
          1365,
          1365,
          1375,
          1375
         ],
         "xaxis": "x",
         "y": [
          0,
          0.355616560072965,
          0.355616560072965,
          0
         ],
         "yaxis": "y"
        },
        {
         "hoverinfo": "text",
         "marker": {
          "color": "rgb(255,65,54)"
         },
         "mode": "lines",
         "type": "scatter",
         "x": [
          1395,
          1395,
          1405,
          1405
         ],
         "xaxis": "x",
         "y": [
          0,
          0.20351407544998,
          0.20351407544998,
          0
         ],
         "yaxis": "y"
        },
        {
         "hoverinfo": "text",
         "marker": {
          "color": "rgb(255,65,54)"
         },
         "mode": "lines",
         "type": "scatter",
         "x": [
          1415,
          1415,
          1425,
          1425
         ],
         "xaxis": "x",
         "y": [
          0,
          0.2457005341525822,
          0.2457005341525822,
          0
         ],
         "yaxis": "y"
        },
        {
         "hoverinfo": "text",
         "marker": {
          "color": "rgb(255,65,54)"
         },
         "mode": "lines",
         "type": "scatter",
         "x": [
          1400,
          1400,
          1420,
          1420
         ],
         "xaxis": "x",
         "y": [
          0.20351407544998,
          0.28524086709293867,
          0.28524086709293867,
          0.2457005341525822
         ],
         "yaxis": "y"
        },
        {
         "hoverinfo": "text",
         "marker": {
          "color": "rgb(255,65,54)"
         },
         "mode": "lines",
         "type": "scatter",
         "x": [
          1385,
          1385,
          1410,
          1410
         ],
         "xaxis": "x",
         "y": [
          0,
          0.36386305003149644,
          0.36386305003149644,
          0.28524086709293867
         ],
         "yaxis": "y"
        },
        {
         "hoverinfo": "text",
         "marker": {
          "color": "rgb(255,65,54)"
         },
         "mode": "lines",
         "type": "scatter",
         "x": [
          1370,
          1370,
          1397.5,
          1397.5
         ],
         "xaxis": "x",
         "y": [
          0.355616560072965,
          0.5147765776189624,
          0.5147765776189624,
          0.36386305003149644
         ],
         "yaxis": "y"
        },
        {
         "hoverinfo": "text",
         "marker": {
          "color": "rgb(255,65,54)"
         },
         "mode": "lines",
         "type": "scatter",
         "x": [
          1342.5,
          1342.5,
          1383.75,
          1383.75
         ],
         "xaxis": "x",
         "y": [
          0.4268383759905376,
          0.6416022497965432,
          0.6416022497965432,
          0.5147765776189624
         ],
         "yaxis": "y"
        },
        {
         "hoverinfo": "text",
         "marker": {
          "color": "rgb(255,65,54)"
         },
         "mode": "lines",
         "type": "scatter",
         "x": [
          1303.75,
          1303.75,
          1363.125,
          1363.125
         ],
         "xaxis": "x",
         "y": [
          0.46821689760946017,
          0.7551748875473662,
          0.7551748875473662,
          0.6416022497965432
         ],
         "yaxis": "y"
        },
        {
         "hoverinfo": "text",
         "marker": {
          "color": "rgb(255,65,54)"
         },
         "mode": "lines",
         "type": "scatter",
         "x": [
          1280,
          1280,
          1333.4375,
          1333.4375
         ],
         "xaxis": "x",
         "y": [
          0.5700325857955101,
          0.9338953027204745,
          0.9338953027204745,
          0.7551748875473662
         ],
         "yaxis": "y"
        },
        {
         "hoverinfo": "text",
         "marker": {
          "color": "rgb(255,65,54)"
         },
         "mode": "lines",
         "type": "scatter",
         "x": [
          1102.1875,
          1102.1875,
          1306.71875,
          1306.71875
         ],
         "xaxis": "x",
         "y": [
          0.7680167072258771,
          0.9913821018309896,
          0.9913821018309896,
          0.9338953027204745
         ],
         "yaxis": "y"
        },
        {
         "hoverinfo": "text",
         "marker": {
          "color": "rgb(255,65,54)"
         },
         "mode": "lines",
         "type": "scatter",
         "x": [
          1435,
          1435,
          1445,
          1445
         ],
         "xaxis": "x",
         "y": [
          0,
          0.29168914424911335,
          0.29168914424911335,
          0
         ],
         "yaxis": "y"
        },
        {
         "hoverinfo": "text",
         "marker": {
          "color": "rgb(255,65,54)"
         },
         "mode": "lines",
         "type": "scatter",
         "x": [
          1455,
          1455,
          1465,
          1465
         ],
         "xaxis": "x",
         "y": [
          0,
          0.3420885306758183,
          0.3420885306758183,
          0
         ],
         "yaxis": "y"
        },
        {
         "hoverinfo": "text",
         "marker": {
          "color": "rgb(255,65,54)"
         },
         "mode": "lines",
         "type": "scatter",
         "x": [
          1440,
          1440,
          1460,
          1460
         ],
         "xaxis": "x",
         "y": [
          0.29168914424911335,
          0.4836694736979299,
          0.4836694736979299,
          0.3420885306758183
         ],
         "yaxis": "y"
        },
        {
         "hoverinfo": "text",
         "marker": {
          "color": "rgb(255,65,54)"
         },
         "mode": "lines",
         "type": "scatter",
         "x": [
          1485,
          1485,
          1495,
          1495
         ],
         "xaxis": "x",
         "y": [
          0,
          0.24168995113899208,
          0.24168995113899208,
          0
         ],
         "yaxis": "y"
        },
        {
         "hoverinfo": "text",
         "marker": {
          "color": "rgb(255,65,54)"
         },
         "mode": "lines",
         "type": "scatter",
         "x": [
          1475,
          1475,
          1490,
          1490
         ],
         "xaxis": "x",
         "y": [
          0,
          0.3075753302450592,
          0.3075753302450592,
          0.24168995113899208
         ],
         "yaxis": "y"
        },
        {
         "hoverinfo": "text",
         "marker": {
          "color": "rgb(255,65,54)"
         },
         "mode": "lines",
         "type": "scatter",
         "x": [
          1505,
          1505,
          1515,
          1515
         ],
         "xaxis": "x",
         "y": [
          0,
          0.2586937737078285,
          0.2586937737078285,
          0
         ],
         "yaxis": "y"
        },
        {
         "hoverinfo": "text",
         "marker": {
          "color": "rgb(255,65,54)"
         },
         "mode": "lines",
         "type": "scatter",
         "x": [
          1525,
          1525,
          1535,
          1535
         ],
         "xaxis": "x",
         "y": [
          0,
          0.22692727371220814,
          0.22692727371220814,
          0
         ],
         "yaxis": "y"
        },
        {
         "hoverinfo": "text",
         "marker": {
          "color": "rgb(255,65,54)"
         },
         "mode": "lines",
         "type": "scatter",
         "x": [
          1555,
          1555,
          1565,
          1565
         ],
         "xaxis": "x",
         "y": [
          0,
          0.19798906424528925,
          0.19798906424528925,
          0
         ],
         "yaxis": "y"
        },
        {
         "hoverinfo": "text",
         "marker": {
          "color": "rgb(255,65,54)"
         },
         "mode": "lines",
         "type": "scatter",
         "x": [
          1545,
          1545,
          1560,
          1560
         ],
         "xaxis": "x",
         "y": [
          0,
          0.292720100670924,
          0.292720100670924,
          0.19798906424528925
         ],
         "yaxis": "y"
        },
        {
         "hoverinfo": "text",
         "marker": {
          "color": "rgb(255,65,54)"
         },
         "mode": "lines",
         "type": "scatter",
         "x": [
          1530,
          1530,
          1552.5,
          1552.5
         ],
         "xaxis": "x",
         "y": [
          0.22692727371220814,
          0.3351240835016102,
          0.3351240835016102,
          0.292720100670924
         ],
         "yaxis": "y"
        },
        {
         "hoverinfo": "text",
         "marker": {
          "color": "rgb(255,65,54)"
         },
         "mode": "lines",
         "type": "scatter",
         "x": [
          1510,
          1510,
          1541.25,
          1541.25
         ],
         "xaxis": "x",
         "y": [
          0.2586937737078285,
          0.38979962525382905,
          0.38979962525382905,
          0.3351240835016102
         ],
         "yaxis": "y"
        },
        {
         "hoverinfo": "text",
         "marker": {
          "color": "rgb(255,65,54)"
         },
         "mode": "lines",
         "type": "scatter",
         "x": [
          1482.5,
          1482.5,
          1525.625,
          1525.625
         ],
         "xaxis": "x",
         "y": [
          0.3075753302450592,
          0.4319304080928872,
          0.4319304080928872,
          0.38979962525382905
         ],
         "yaxis": "y"
        },
        {
         "hoverinfo": "text",
         "marker": {
          "color": "rgb(255,65,54)"
         },
         "mode": "lines",
         "type": "scatter",
         "x": [
          1575,
          1575,
          1585,
          1585
         ],
         "xaxis": "x",
         "y": [
          0,
          0.20661935352822486,
          0.20661935352822486,
          0
         ],
         "yaxis": "y"
        },
        {
         "hoverinfo": "text",
         "marker": {
          "color": "rgb(255,65,54)"
         },
         "mode": "lines",
         "type": "scatter",
         "x": [
          1605,
          1605,
          1615,
          1615
         ],
         "xaxis": "x",
         "y": [
          0,
          0.18522978496872544,
          0.18522978496872544,
          0
         ],
         "yaxis": "y"
        },
        {
         "hoverinfo": "text",
         "marker": {
          "color": "rgb(255,65,54)"
         },
         "mode": "lines",
         "type": "scatter",
         "x": [
          1595,
          1595,
          1610,
          1610
         ],
         "xaxis": "x",
         "y": [
          0,
          0.2682994954583031,
          0.2682994954583031,
          0.18522978496872544
         ],
         "yaxis": "y"
        },
        {
         "hoverinfo": "text",
         "marker": {
          "color": "rgb(255,65,54)"
         },
         "mode": "lines",
         "type": "scatter",
         "x": [
          1580,
          1580,
          1602.5,
          1602.5
         ],
         "xaxis": "x",
         "y": [
          0.20661935352822486,
          0.31348879437028604,
          0.31348879437028604,
          0.2682994954583031
         ],
         "yaxis": "y"
        },
        {
         "hoverinfo": "text",
         "marker": {
          "color": "rgb(255,65,54)"
         },
         "mode": "lines",
         "type": "scatter",
         "x": [
          1625,
          1625,
          1635,
          1635
         ],
         "xaxis": "x",
         "y": [
          0,
          0.1619576407810591,
          0.1619576407810591,
          0
         ],
         "yaxis": "y"
        },
        {
         "hoverinfo": "text",
         "marker": {
          "color": "rgb(255,65,54)"
         },
         "mode": "lines",
         "type": "scatter",
         "x": [
          1645,
          1645,
          1655,
          1655
         ],
         "xaxis": "x",
         "y": [
          0,
          0.2079043934800721,
          0.2079043934800721,
          0
         ],
         "yaxis": "y"
        },
        {
         "hoverinfo": "text",
         "marker": {
          "color": "rgb(255,65,54)"
         },
         "mode": "lines",
         "type": "scatter",
         "x": [
          1630,
          1630,
          1650,
          1650
         ],
         "xaxis": "x",
         "y": [
          0.1619576407810591,
          0.2694834338562028,
          0.2694834338562028,
          0.2079043934800721
         ],
         "yaxis": "y"
        },
        {
         "hoverinfo": "text",
         "marker": {
          "color": "rgb(255,65,54)"
         },
         "mode": "lines",
         "type": "scatter",
         "x": [
          1675,
          1675,
          1685,
          1685
         ],
         "xaxis": "x",
         "y": [
          0,
          0.2249774957381275,
          0.2249774957381275,
          0
         ],
         "yaxis": "y"
        },
        {
         "hoverinfo": "text",
         "marker": {
          "color": "rgb(255,65,54)"
         },
         "mode": "lines",
         "type": "scatter",
         "x": [
          1665,
          1665,
          1680,
          1680
         ],
         "xaxis": "x",
         "y": [
          0,
          0.282775747702902,
          0.282775747702902,
          0.2249774957381275
         ],
         "yaxis": "y"
        },
        {
         "hoverinfo": "text",
         "marker": {
          "color": "rgb(255,65,54)"
         },
         "mode": "lines",
         "type": "scatter",
         "x": [
          1640,
          1640,
          1672.5,
          1672.5
         ],
         "xaxis": "x",
         "y": [
          0.2694834338562028,
          0.36228856667837006,
          0.36228856667837006,
          0.282775747702902
         ],
         "yaxis": "y"
        },
        {
         "hoverinfo": "text",
         "marker": {
          "color": "rgb(255,65,54)"
         },
         "mode": "lines",
         "type": "scatter",
         "x": [
          1591.25,
          1591.25,
          1656.25,
          1656.25
         ],
         "xaxis": "x",
         "y": [
          0.31348879437028604,
          0.49874430737701303,
          0.49874430737701303,
          0.36228856667837006
         ],
         "yaxis": "y"
        },
        {
         "hoverinfo": "text",
         "marker": {
          "color": "rgb(255,65,54)"
         },
         "mode": "lines",
         "type": "scatter",
         "x": [
          1504.0625,
          1504.0625,
          1623.75,
          1623.75
         ],
         "xaxis": "x",
         "y": [
          0.4319304080928872,
          0.5179936468887852,
          0.5179936468887852,
          0.49874430737701303
         ],
         "yaxis": "y"
        },
        {
         "hoverinfo": "text",
         "marker": {
          "color": "rgb(255,65,54)"
         },
         "mode": "lines",
         "type": "scatter",
         "x": [
          1450,
          1450,
          1563.90625,
          1563.90625
         ],
         "xaxis": "x",
         "y": [
          0.4836694736979299,
          0.661577809939566,
          0.661577809939566,
          0.5179936468887852
         ],
         "yaxis": "y"
        },
        {
         "hoverinfo": "text",
         "marker": {
          "color": "rgb(255,65,54)"
         },
         "mode": "lines",
         "type": "scatter",
         "x": [
          1695,
          1695,
          1705,
          1705
         ],
         "xaxis": "x",
         "y": [
          0,
          0.26111079953308747,
          0.26111079953308747,
          0
         ],
         "yaxis": "y"
        },
        {
         "hoverinfo": "text",
         "marker": {
          "color": "rgb(255,65,54)"
         },
         "mode": "lines",
         "type": "scatter",
         "x": [
          1715,
          1715,
          1725,
          1725
         ],
         "xaxis": "x",
         "y": [
          0,
          0.19797265927039914,
          0.19797265927039914,
          0
         ],
         "yaxis": "y"
        },
        {
         "hoverinfo": "text",
         "marker": {
          "color": "rgb(255,65,54)"
         },
         "mode": "lines",
         "type": "scatter",
         "x": [
          1735,
          1735,
          1745,
          1745
         ],
         "xaxis": "x",
         "y": [
          0,
          0.2466230843564299,
          0.2466230843564299,
          0
         ],
         "yaxis": "y"
        },
        {
         "hoverinfo": "text",
         "marker": {
          "color": "rgb(255,65,54)"
         },
         "mode": "lines",
         "type": "scatter",
         "x": [
          1720,
          1720,
          1740,
          1740
         ],
         "xaxis": "x",
         "y": [
          0.19797265927039914,
          0.34945636044194855,
          0.34945636044194855,
          0.2466230843564299
         ],
         "yaxis": "y"
        },
        {
         "hoverinfo": "text",
         "marker": {
          "color": "rgb(255,65,54)"
         },
         "mode": "lines",
         "type": "scatter",
         "x": [
          1700,
          1700,
          1730,
          1730
         ],
         "xaxis": "x",
         "y": [
          0.26111079953308747,
          0.3988002378190052,
          0.3988002378190052,
          0.34945636044194855
         ],
         "yaxis": "y"
        },
        {
         "hoverinfo": "text",
         "marker": {
          "color": "rgb(255,65,54)"
         },
         "mode": "lines",
         "type": "scatter",
         "x": [
          1755,
          1755,
          1765,
          1765
         ],
         "xaxis": "x",
         "y": [
          0,
          0.47071906023578924,
          0.47071906023578924,
          0
         ],
         "yaxis": "y"
        },
        {
         "hoverinfo": "text",
         "marker": {
          "color": "rgb(255,65,54)"
         },
         "mode": "lines",
         "type": "scatter",
         "x": [
          1715,
          1715,
          1760,
          1760
         ],
         "xaxis": "x",
         "y": [
          0.3988002378190052,
          0.5444371899588252,
          0.5444371899588252,
          0.47071906023578924
         ],
         "yaxis": "y"
        },
        {
         "hoverinfo": "text",
         "marker": {
          "color": "rgb(255,65,54)"
         },
         "mode": "lines",
         "type": "scatter",
         "x": [
          1775,
          1775,
          1785,
          1785
         ],
         "xaxis": "x",
         "y": [
          0,
          0.2485818114174928,
          0.2485818114174928,
          0
         ],
         "yaxis": "y"
        },
        {
         "hoverinfo": "text",
         "marker": {
          "color": "rgb(255,65,54)"
         },
         "mode": "lines",
         "type": "scatter",
         "x": [
          1815,
          1815,
          1825,
          1825
         ],
         "xaxis": "x",
         "y": [
          0,
          0.16575955470235848,
          0.16575955470235848,
          0
         ],
         "yaxis": "y"
        },
        {
         "hoverinfo": "text",
         "marker": {
          "color": "rgb(255,65,54)"
         },
         "mode": "lines",
         "type": "scatter",
         "x": [
          1805,
          1805,
          1820,
          1820
         ],
         "xaxis": "x",
         "y": [
          0,
          0.24449390813560723,
          0.24449390813560723,
          0.16575955470235848
         ],
         "yaxis": "y"
        },
        {
         "hoverinfo": "text",
         "marker": {
          "color": "rgb(255,65,54)"
         },
         "mode": "lines",
         "type": "scatter",
         "x": [
          1795,
          1795,
          1812.5,
          1812.5
         ],
         "xaxis": "x",
         "y": [
          0,
          0.31683514686314496,
          0.31683514686314496,
          0.24449390813560723
         ],
         "yaxis": "y"
        },
        {
         "hoverinfo": "text",
         "marker": {
          "color": "rgb(255,65,54)"
         },
         "mode": "lines",
         "type": "scatter",
         "x": [
          1780,
          1780,
          1803.75,
          1803.75
         ],
         "xaxis": "x",
         "y": [
          0.2485818114174928,
          0.3956134371275662,
          0.3956134371275662,
          0.31683514686314496
         ],
         "yaxis": "y"
        },
        {
         "hoverinfo": "text",
         "marker": {
          "color": "rgb(255,65,54)"
         },
         "mode": "lines",
         "type": "scatter",
         "x": [
          1835,
          1835,
          1845,
          1845
         ],
         "xaxis": "x",
         "y": [
          0,
          0.2534195830131665,
          0.2534195830131665,
          0
         ],
         "yaxis": "y"
        },
        {
         "hoverinfo": "text",
         "marker": {
          "color": "rgb(255,65,54)"
         },
         "mode": "lines",
         "type": "scatter",
         "x": [
          1855,
          1855,
          1865,
          1865
         ],
         "xaxis": "x",
         "y": [
          0,
          0.27604924406095915,
          0.27604924406095915,
          0
         ],
         "yaxis": "y"
        },
        {
         "hoverinfo": "text",
         "marker": {
          "color": "rgb(255,65,54)"
         },
         "mode": "lines",
         "type": "scatter",
         "x": [
          1840,
          1840,
          1860,
          1860
         ],
         "xaxis": "x",
         "y": [
          0.2534195830131665,
          0.3447429680389005,
          0.3447429680389005,
          0.27604924406095915
         ],
         "yaxis": "y"
        },
        {
         "hoverinfo": "text",
         "marker": {
          "color": "rgb(255,65,54)"
         },
         "mode": "lines",
         "type": "scatter",
         "x": [
          1875,
          1875,
          1885,
          1885
         ],
         "xaxis": "x",
         "y": [
          0,
          0.24316221431719612,
          0.24316221431719612,
          0
         ],
         "yaxis": "y"
        },
        {
         "hoverinfo": "text",
         "marker": {
          "color": "rgb(255,65,54)"
         },
         "mode": "lines",
         "type": "scatter",
         "x": [
          1895,
          1895,
          1905,
          1905
         ],
         "xaxis": "x",
         "y": [
          0,
          0.32911630427118993,
          0.32911630427118993,
          0
         ],
         "yaxis": "y"
        },
        {
         "hoverinfo": "text",
         "marker": {
          "color": "rgb(255,65,54)"
         },
         "mode": "lines",
         "type": "scatter",
         "x": [
          1880,
          1880,
          1900,
          1900
         ],
         "xaxis": "x",
         "y": [
          0.24316221431719612,
          0.38913707654003227,
          0.38913707654003227,
          0.32911630427118993
         ],
         "yaxis": "y"
        },
        {
         "hoverinfo": "text",
         "marker": {
          "color": "rgb(255,65,54)"
         },
         "mode": "lines",
         "type": "scatter",
         "x": [
          1850,
          1850,
          1890,
          1890
         ],
         "xaxis": "x",
         "y": [
          0.3447429680389005,
          0.5229726105163373,
          0.5229726105163373,
          0.38913707654003227
         ],
         "yaxis": "y"
        },
        {
         "hoverinfo": "text",
         "marker": {
          "color": "rgb(255,65,54)"
         },
         "mode": "lines",
         "type": "scatter",
         "x": [
          1791.875,
          1791.875,
          1870,
          1870
         ],
         "xaxis": "x",
         "y": [
          0.3956134371275662,
          0.6110715975830371,
          0.6110715975830371,
          0.5229726105163373
         ],
         "yaxis": "y"
        },
        {
         "hoverinfo": "text",
         "marker": {
          "color": "rgb(255,65,54)"
         },
         "mode": "lines",
         "type": "scatter",
         "x": [
          1737.5,
          1737.5,
          1830.9375,
          1830.9375
         ],
         "xaxis": "x",
         "y": [
          0.5444371899588252,
          0.6658517795957967,
          0.6658517795957967,
          0.6110715975830371
         ],
         "yaxis": "y"
        },
        {
         "hoverinfo": "text",
         "marker": {
          "color": "rgb(255,65,54)"
         },
         "mode": "lines",
         "type": "scatter",
         "x": [
          1506.953125,
          1506.953125,
          1784.21875,
          1784.21875
         ],
         "xaxis": "x",
         "y": [
          0.661577809939566,
          0.8600223187890699,
          0.8600223187890699,
          0.6658517795957967
         ],
         "yaxis": "y"
        },
        {
         "hoverinfo": "text",
         "marker": {
          "color": "rgb(255,65,54)"
         },
         "mode": "lines",
         "type": "scatter",
         "x": [
          1915,
          1915,
          1925,
          1925
         ],
         "xaxis": "x",
         "y": [
          0,
          0.38824546675517924,
          0.38824546675517924,
          0
         ],
         "yaxis": "y"
        },
        {
         "hoverinfo": "text",
         "marker": {
          "color": "rgb(255,65,54)"
         },
         "mode": "lines",
         "type": "scatter",
         "x": [
          1935,
          1935,
          1945,
          1945
         ],
         "xaxis": "x",
         "y": [
          0,
          0.3977613349072263,
          0.3977613349072263,
          0
         ],
         "yaxis": "y"
        },
        {
         "hoverinfo": "text",
         "marker": {
          "color": "rgb(255,65,54)"
         },
         "mode": "lines",
         "type": "scatter",
         "x": [
          1920,
          1920,
          1940,
          1940
         ],
         "xaxis": "x",
         "y": [
          0.38824546675517924,
          0.5369325284536309,
          0.5369325284536309,
          0.3977613349072263
         ],
         "yaxis": "y"
        },
        {
         "hoverinfo": "text",
         "marker": {
          "color": "rgb(255,65,54)"
         },
         "mode": "lines",
         "type": "scatter",
         "x": [
          1975,
          1975,
          1985,
          1985
         ],
         "xaxis": "x",
         "y": [
          0,
          0.3606165933608488,
          0.3606165933608488,
          0
         ],
         "yaxis": "y"
        },
        {
         "hoverinfo": "text",
         "marker": {
          "color": "rgb(255,65,54)"
         },
         "mode": "lines",
         "type": "scatter",
         "x": [
          1965,
          1965,
          1980,
          1980
         ],
         "xaxis": "x",
         "y": [
          0,
          0.42606412904661756,
          0.42606412904661756,
          0.3606165933608488
         ],
         "yaxis": "y"
        },
        {
         "hoverinfo": "text",
         "marker": {
          "color": "rgb(255,65,54)"
         },
         "mode": "lines",
         "type": "scatter",
         "x": [
          1955,
          1955,
          1972.5,
          1972.5
         ],
         "xaxis": "x",
         "y": [
          0,
          0.5861173924249153,
          0.5861173924249153,
          0.42606412904661756
         ],
         "yaxis": "y"
        },
        {
         "hoverinfo": "text",
         "marker": {
          "color": "rgb(255,65,54)"
         },
         "mode": "lines",
         "type": "scatter",
         "x": [
          1995,
          1995,
          2005,
          2005
         ],
         "xaxis": "x",
         "y": [
          0,
          0.4042887623517762,
          0.4042887623517762,
          0
         ],
         "yaxis": "y"
        },
        {
         "hoverinfo": "text",
         "marker": {
          "color": "rgb(255,65,54)"
         },
         "mode": "lines",
         "type": "scatter",
         "x": [
          2025,
          2025,
          2035,
          2035
         ],
         "xaxis": "x",
         "y": [
          0,
          0.37683979976920506,
          0.37683979976920506,
          0
         ],
         "yaxis": "y"
        },
        {
         "hoverinfo": "text",
         "marker": {
          "color": "rgb(255,65,54)"
         },
         "mode": "lines",
         "type": "scatter",
         "x": [
          2015,
          2015,
          2030,
          2030
         ],
         "xaxis": "x",
         "y": [
          0,
          0.4180733276279506,
          0.4180733276279506,
          0.37683979976920506
         ],
         "yaxis": "y"
        },
        {
         "hoverinfo": "text",
         "marker": {
          "color": "rgb(255,65,54)"
         },
         "mode": "lines",
         "type": "scatter",
         "x": [
          2000,
          2000,
          2022.5,
          2022.5
         ],
         "xaxis": "x",
         "y": [
          0.4042887623517762,
          0.5471152972194311,
          0.5471152972194311,
          0.4180733276279506
         ],
         "yaxis": "y"
        },
        {
         "hoverinfo": "text",
         "marker": {
          "color": "rgb(255,65,54)"
         },
         "mode": "lines",
         "type": "scatter",
         "x": [
          2045,
          2045,
          2055,
          2055
         ],
         "xaxis": "x",
         "y": [
          0,
          0.19013104609484255,
          0.19013104609484255,
          0
         ],
         "yaxis": "y"
        },
        {
         "hoverinfo": "text",
         "marker": {
          "color": "rgb(255,65,54)"
         },
         "mode": "lines",
         "type": "scatter",
         "x": [
          2065,
          2065,
          2075,
          2075
         ],
         "xaxis": "x",
         "y": [
          0,
          0.26059080636813164,
          0.26059080636813164,
          0
         ],
         "yaxis": "y"
        },
        {
         "hoverinfo": "text",
         "marker": {
          "color": "rgb(255,65,54)"
         },
         "mode": "lines",
         "type": "scatter",
         "x": [
          2050,
          2050,
          2070,
          2070
         ],
         "xaxis": "x",
         "y": [
          0.19013104609484255,
          0.3019158791766726,
          0.3019158791766726,
          0.26059080636813164
         ],
         "yaxis": "y"
        },
        {
         "hoverinfo": "text",
         "marker": {
          "color": "rgb(255,65,54)"
         },
         "mode": "lines",
         "type": "scatter",
         "x": [
          2085,
          2085,
          2095,
          2095
         ],
         "xaxis": "x",
         "y": [
          0,
          0.18684222165451217,
          0.18684222165451217,
          0
         ],
         "yaxis": "y"
        },
        {
         "hoverinfo": "text",
         "marker": {
          "color": "rgb(255,65,54)"
         },
         "mode": "lines",
         "type": "scatter",
         "x": [
          2115,
          2115,
          2125,
          2125
         ],
         "xaxis": "x",
         "y": [
          0,
          0.19364972934554073,
          0.19364972934554073,
          0
         ],
         "yaxis": "y"
        },
        {
         "hoverinfo": "text",
         "marker": {
          "color": "rgb(255,65,54)"
         },
         "mode": "lines",
         "type": "scatter",
         "x": [
          2105,
          2105,
          2120,
          2120
         ],
         "xaxis": "x",
         "y": [
          0,
          0.25259076140862635,
          0.25259076140862635,
          0.19364972934554073
         ],
         "yaxis": "y"
        },
        {
         "hoverinfo": "text",
         "marker": {
          "color": "rgb(255,65,54)"
         },
         "mode": "lines",
         "type": "scatter",
         "x": [
          2090,
          2090,
          2112.5,
          2112.5
         ],
         "xaxis": "x",
         "y": [
          0.18684222165451217,
          0.2745438136100135,
          0.2745438136100135,
          0.25259076140862635
         ],
         "yaxis": "y"
        },
        {
         "hoverinfo": "text",
         "marker": {
          "color": "rgb(255,65,54)"
         },
         "mode": "lines",
         "type": "scatter",
         "x": [
          2155,
          2155,
          2165,
          2165
         ],
         "xaxis": "x",
         "y": [
          0,
          0.17818382887768025,
          0.17818382887768025,
          0
         ],
         "yaxis": "y"
        },
        {
         "hoverinfo": "text",
         "marker": {
          "color": "rgb(255,65,54)"
         },
         "mode": "lines",
         "type": "scatter",
         "x": [
          2145,
          2145,
          2160,
          2160
         ],
         "xaxis": "x",
         "y": [
          0,
          0.21290522737381748,
          0.21290522737381748,
          0.17818382887768025
         ],
         "yaxis": "y"
        },
        {
         "hoverinfo": "text",
         "marker": {
          "color": "rgb(255,65,54)"
         },
         "mode": "lines",
         "type": "scatter",
         "x": [
          2135,
          2135,
          2152.5,
          2152.5
         ],
         "xaxis": "x",
         "y": [
          0,
          0.3158959831366422,
          0.3158959831366422,
          0.21290522737381748
         ],
         "yaxis": "y"
        },
        {
         "hoverinfo": "text",
         "marker": {
          "color": "rgb(255,65,54)"
         },
         "mode": "lines",
         "type": "scatter",
         "x": [
          2101.25,
          2101.25,
          2143.75,
          2143.75
         ],
         "xaxis": "x",
         "y": [
          0.2745438136100135,
          0.3534340338564515,
          0.3534340338564515,
          0.3158959831366422
         ],
         "yaxis": "y"
        },
        {
         "hoverinfo": "text",
         "marker": {
          "color": "rgb(255,65,54)"
         },
         "mode": "lines",
         "type": "scatter",
         "x": [
          2060,
          2060,
          2122.5,
          2122.5
         ],
         "xaxis": "x",
         "y": [
          0.3019158791766726,
          0.45023330595333294,
          0.45023330595333294,
          0.3534340338564515
         ],
         "yaxis": "y"
        },
        {
         "hoverinfo": "text",
         "marker": {
          "color": "rgb(255,65,54)"
         },
         "mode": "lines",
         "type": "scatter",
         "x": [
          2195,
          2195,
          2205,
          2205
         ],
         "xaxis": "x",
         "y": [
          0,
          0.24686079225716032,
          0.24686079225716032,
          0
         ],
         "yaxis": "y"
        },
        {
         "hoverinfo": "text",
         "marker": {
          "color": "rgb(255,65,54)"
         },
         "mode": "lines",
         "type": "scatter",
         "x": [
          2185,
          2185,
          2200,
          2200
         ],
         "xaxis": "x",
         "y": [
          0,
          0.3410114444352663,
          0.3410114444352663,
          0.24686079225716032
         ],
         "yaxis": "y"
        },
        {
         "hoverinfo": "text",
         "marker": {
          "color": "rgb(255,65,54)"
         },
         "mode": "lines",
         "type": "scatter",
         "x": [
          2175,
          2175,
          2192.5,
          2192.5
         ],
         "xaxis": "x",
         "y": [
          0,
          0.3680677639984541,
          0.3680677639984541,
          0.3410114444352663
         ],
         "yaxis": "y"
        },
        {
         "hoverinfo": "text",
         "marker": {
          "color": "rgb(255,65,54)"
         },
         "mode": "lines",
         "type": "scatter",
         "x": [
          2215,
          2215,
          2225,
          2225
         ],
         "xaxis": "x",
         "y": [
          0,
          0.23448591134117705,
          0.23448591134117705,
          0
         ],
         "yaxis": "y"
        },
        {
         "hoverinfo": "text",
         "marker": {
          "color": "rgb(255,65,54)"
         },
         "mode": "lines",
         "type": "scatter",
         "x": [
          2245,
          2245,
          2255,
          2255
         ],
         "xaxis": "x",
         "y": [
          0,
          0.2440391397226742,
          0.2440391397226742,
          0
         ],
         "yaxis": "y"
        },
        {
         "hoverinfo": "text",
         "marker": {
          "color": "rgb(255,65,54)"
         },
         "mode": "lines",
         "type": "scatter",
         "x": [
          2235,
          2235,
          2250,
          2250
         ],
         "xaxis": "x",
         "y": [
          0,
          0.2901688039432015,
          0.2901688039432015,
          0.2440391397226742
         ],
         "yaxis": "y"
        },
        {
         "hoverinfo": "text",
         "marker": {
          "color": "rgb(255,65,54)"
         },
         "mode": "lines",
         "type": "scatter",
         "x": [
          2220,
          2220,
          2242.5,
          2242.5
         ],
         "xaxis": "x",
         "y": [
          0.23448591134117705,
          0.35074962068434457,
          0.35074962068434457,
          0.2901688039432015
         ],
         "yaxis": "y"
        },
        {
         "hoverinfo": "text",
         "marker": {
          "color": "rgb(255,65,54)"
         },
         "mode": "lines",
         "type": "scatter",
         "x": [
          2275,
          2275,
          2285,
          2285
         ],
         "xaxis": "x",
         "y": [
          0,
          0.2331330021669167,
          0.2331330021669167,
          0
         ],
         "yaxis": "y"
        },
        {
         "hoverinfo": "text",
         "marker": {
          "color": "rgb(255,65,54)"
         },
         "mode": "lines",
         "type": "scatter",
         "x": [
          2265,
          2265,
          2280,
          2280
         ],
         "xaxis": "x",
         "y": [
          0,
          0.2537902767787973,
          0.2537902767787973,
          0.2331330021669167
         ],
         "yaxis": "y"
        },
        {
         "hoverinfo": "text",
         "marker": {
          "color": "rgb(255,65,54)"
         },
         "mode": "lines",
         "type": "scatter",
         "x": [
          2295,
          2295,
          2305,
          2305
         ],
         "xaxis": "x",
         "y": [
          0,
          0.2033113091573137,
          0.2033113091573137,
          0
         ],
         "yaxis": "y"
        },
        {
         "hoverinfo": "text",
         "marker": {
          "color": "rgb(255,65,54)"
         },
         "mode": "lines",
         "type": "scatter",
         "x": [
          2325,
          2325,
          2335,
          2335
         ],
         "xaxis": "x",
         "y": [
          0,
          0.22611903715314124,
          0.22611903715314124,
          0
         ],
         "yaxis": "y"
        },
        {
         "hoverinfo": "text",
         "marker": {
          "color": "rgb(255,65,54)"
         },
         "mode": "lines",
         "type": "scatter",
         "x": [
          2315,
          2315,
          2330,
          2330
         ],
         "xaxis": "x",
         "y": [
          0,
          0.24247721188689286,
          0.24247721188689286,
          0.22611903715314124
         ],
         "yaxis": "y"
        },
        {
         "hoverinfo": "text",
         "marker": {
          "color": "rgb(255,65,54)"
         },
         "mode": "lines",
         "type": "scatter",
         "x": [
          2300,
          2300,
          2322.5,
          2322.5
         ],
         "xaxis": "x",
         "y": [
          0.2033113091573137,
          0.33234058829911867,
          0.33234058829911867,
          0.24247721188689286
         ],
         "yaxis": "y"
        },
        {
         "hoverinfo": "text",
         "marker": {
          "color": "rgb(255,65,54)"
         },
         "mode": "lines",
         "type": "scatter",
         "x": [
          2272.5,
          2272.5,
          2311.25,
          2311.25
         ],
         "xaxis": "x",
         "y": [
          0.2537902767787973,
          0.37004642570784974,
          0.37004642570784974,
          0.33234058829911867
         ],
         "yaxis": "y"
        },
        {
         "hoverinfo": "text",
         "marker": {
          "color": "rgb(255,65,54)"
         },
         "mode": "lines",
         "type": "scatter",
         "x": [
          2231.25,
          2231.25,
          2291.875,
          2291.875
         ],
         "xaxis": "x",
         "y": [
          0.35074962068434457,
          0.4563838353298138,
          0.4563838353298138,
          0.37004642570784974
         ],
         "yaxis": "y"
        },
        {
         "hoverinfo": "text",
         "marker": {
          "color": "rgb(255,65,54)"
         },
         "mode": "lines",
         "type": "scatter",
         "x": [
          2183.75,
          2183.75,
          2261.5625,
          2261.5625
         ],
         "xaxis": "x",
         "y": [
          0.3680677639984541,
          0.5754120715934445,
          0.5754120715934445,
          0.4563838353298138
         ],
         "yaxis": "y"
        },
        {
         "hoverinfo": "text",
         "marker": {
          "color": "rgb(255,65,54)"
         },
         "mode": "lines",
         "type": "scatter",
         "x": [
          2091.25,
          2091.25,
          2222.65625,
          2222.65625
         ],
         "xaxis": "x",
         "y": [
          0.45023330595333294,
          0.6079019769480782,
          0.6079019769480782,
          0.5754120715934445
         ],
         "yaxis": "y"
        },
        {
         "hoverinfo": "text",
         "marker": {
          "color": "rgb(255,65,54)"
         },
         "mode": "lines",
         "type": "scatter",
         "x": [
          2011.25,
          2011.25,
          2156.953125,
          2156.953125
         ],
         "xaxis": "x",
         "y": [
          0.5471152972194311,
          0.6968212673012637,
          0.6968212673012637,
          0.6079019769480782
         ],
         "yaxis": "y"
        },
        {
         "hoverinfo": "text",
         "marker": {
          "color": "rgb(255,65,54)"
         },
         "mode": "lines",
         "type": "scatter",
         "x": [
          1963.75,
          1963.75,
          2084.1015625,
          2084.1015625
         ],
         "xaxis": "x",
         "y": [
          0.5861173924249153,
          0.7268465273836077,
          0.7268465273836077,
          0.6968212673012637
         ],
         "yaxis": "y"
        },
        {
         "hoverinfo": "text",
         "marker": {
          "color": "rgb(255,65,54)"
         },
         "mode": "lines",
         "type": "scatter",
         "x": [
          1930,
          1930,
          2023.92578125,
          2023.92578125
         ],
         "xaxis": "x",
         "y": [
          0.5369325284536309,
          0.8712250030225639,
          0.8712250030225639,
          0.7268465273836077
         ],
         "yaxis": "y"
        },
        {
         "hoverinfo": "text",
         "marker": {
          "color": "rgb(255,65,54)"
         },
         "mode": "lines",
         "type": "scatter",
         "x": [
          1645.5859375,
          1645.5859375,
          1976.962890625,
          1976.962890625
         ],
         "xaxis": "x",
         "y": [
          0.8600223187890699,
          1.1227122282166502,
          1.1227122282166502,
          0.8712250030225639
         ],
         "yaxis": "y"
        },
        {
         "hoverinfo": "text",
         "marker": {
          "color": "rgb(255,65,54)"
         },
         "mode": "lines",
         "type": "scatter",
         "x": [
          1204.453125,
          1204.453125,
          1811.2744140625,
          1811.2744140625
         ],
         "xaxis": "x",
         "y": [
          0.9913821018309896,
          1.2836338474258453,
          1.2836338474258453,
          1.1227122282166502
         ],
         "yaxis": "y"
        },
        {
         "hoverinfo": "text",
         "marker": {
          "color": "rgb(255,65,54)"
         },
         "mode": "lines",
         "type": "scatter",
         "x": [
          2345,
          2345,
          2355,
          2355
         ],
         "xaxis": "x",
         "y": [
          0,
          0.4454797563441773,
          0.4454797563441773,
          0
         ],
         "yaxis": "y"
        },
        {
         "hoverinfo": "text",
         "marker": {
          "color": "rgb(255,65,54)"
         },
         "mode": "lines",
         "type": "scatter",
         "x": [
          2395,
          2395,
          2405,
          2405
         ],
         "xaxis": "x",
         "y": [
          0,
          0.2768076509945489,
          0.2768076509945489,
          0
         ],
         "yaxis": "y"
        },
        {
         "hoverinfo": "text",
         "marker": {
          "color": "rgb(255,65,54)"
         },
         "mode": "lines",
         "type": "scatter",
         "x": [
          2385,
          2385,
          2400,
          2400
         ],
         "xaxis": "x",
         "y": [
          0,
          0.4118479755973698,
          0.4118479755973698,
          0.2768076509945489
         ],
         "yaxis": "y"
        },
        {
         "hoverinfo": "text",
         "marker": {
          "color": "rgb(255,65,54)"
         },
         "mode": "lines",
         "type": "scatter",
         "x": [
          2375,
          2375,
          2392.5,
          2392.5
         ],
         "xaxis": "x",
         "y": [
          0,
          0.458066450149208,
          0.458066450149208,
          0.4118479755973698
         ],
         "yaxis": "y"
        },
        {
         "hoverinfo": "text",
         "marker": {
          "color": "rgb(255,65,54)"
         },
         "mode": "lines",
         "type": "scatter",
         "x": [
          2365,
          2365,
          2383.75,
          2383.75
         ],
         "xaxis": "x",
         "y": [
          0,
          0.7126961233238056,
          0.7126961233238056,
          0.458066450149208
         ],
         "yaxis": "y"
        },
        {
         "hoverinfo": "text",
         "marker": {
          "color": "rgb(255,65,54)"
         },
         "mode": "lines",
         "type": "scatter",
         "x": [
          2350,
          2350,
          2374.375,
          2374.375
         ],
         "xaxis": "x",
         "y": [
          0.4454797563441773,
          0.7697666535430333,
          0.7697666535430333,
          0.7126961233238056
         ],
         "yaxis": "y"
        },
        {
         "hoverinfo": "text",
         "marker": {
          "color": "rgb(255,65,54)"
         },
         "mode": "lines",
         "type": "scatter",
         "x": [
          2435,
          2435,
          2445,
          2445
         ],
         "xaxis": "x",
         "y": [
          0,
          0.37577601144901546,
          0.37577601144901546,
          0
         ],
         "yaxis": "y"
        },
        {
         "hoverinfo": "text",
         "marker": {
          "color": "rgb(255,65,54)"
         },
         "mode": "lines",
         "type": "scatter",
         "x": [
          2425,
          2425,
          2440,
          2440
         ],
         "xaxis": "x",
         "y": [
          0,
          0.5654583808949838,
          0.5654583808949838,
          0.37577601144901546
         ],
         "yaxis": "y"
        },
        {
         "hoverinfo": "text",
         "marker": {
          "color": "rgb(255,65,54)"
         },
         "mode": "lines",
         "type": "scatter",
         "x": [
          2415,
          2415,
          2432.5,
          2432.5
         ],
         "xaxis": "x",
         "y": [
          0,
          0.8328282885542352,
          0.8328282885542352,
          0.5654583808949838
         ],
         "yaxis": "y"
        },
        {
         "hoverinfo": "text",
         "marker": {
          "color": "rgb(255,65,54)"
         },
         "mode": "lines",
         "type": "scatter",
         "x": [
          2362.1875,
          2362.1875,
          2423.75,
          2423.75
         ],
         "xaxis": "x",
         "y": [
          0.7697666535430333,
          1.3708517204967883,
          1.3708517204967883,
          0.8328282885542352
         ],
         "yaxis": "y"
        },
        {
         "hoverinfo": "text",
         "marker": {
          "color": "rgb(255,65,54)"
         },
         "mode": "lines",
         "type": "scatter",
         "x": [
          1507.86376953125,
          1507.86376953125,
          2392.96875,
          2392.96875
         ],
         "xaxis": "x",
         "y": [
          1.2836338474258453,
          1.4835555394172342,
          1.4835555394172342,
          1.3708517204967883
         ],
         "yaxis": "y"
        },
        {
         "hoverinfo": "text",
         "marker": {
          "color": "rgb(255,65,54)"
         },
         "mode": "lines",
         "type": "scatter",
         "x": [
          2455,
          2455,
          2465,
          2465
         ],
         "xaxis": "x",
         "y": [
          0,
          0.6108940494906697,
          0.6108940494906697,
          0
         ],
         "yaxis": "y"
        },
        {
         "hoverinfo": "text",
         "marker": {
          "color": "rgb(255,65,54)"
         },
         "mode": "lines",
         "type": "scatter",
         "x": [
          2475,
          2475,
          2485,
          2485
         ],
         "xaxis": "x",
         "y": [
          0,
          0.658948848332773,
          0.658948848332773,
          0
         ],
         "yaxis": "y"
        },
        {
         "hoverinfo": "text",
         "marker": {
          "color": "rgb(255,65,54)"
         },
         "mode": "lines",
         "type": "scatter",
         "x": [
          2495,
          2495,
          2505,
          2505
         ],
         "xaxis": "x",
         "y": [
          0,
          0.5106227770513521,
          0.5106227770513521,
          0
         ],
         "yaxis": "y"
        },
        {
         "hoverinfo": "text",
         "marker": {
          "color": "rgb(255,65,54)"
         },
         "mode": "lines",
         "type": "scatter",
         "x": [
          2525,
          2525,
          2535,
          2535
         ],
         "xaxis": "x",
         "y": [
          0,
          0.5132444818248582,
          0.5132444818248582,
          0
         ],
         "yaxis": "y"
        },
        {
         "hoverinfo": "text",
         "marker": {
          "color": "rgb(255,65,54)"
         },
         "mode": "lines",
         "type": "scatter",
         "x": [
          2515,
          2515,
          2530,
          2530
         ],
         "xaxis": "x",
         "y": [
          0,
          0.5539434603819084,
          0.5539434603819084,
          0.5132444818248582
         ],
         "yaxis": "y"
        },
        {
         "hoverinfo": "text",
         "marker": {
          "color": "rgb(255,65,54)"
         },
         "mode": "lines",
         "type": "scatter",
         "x": [
          2500,
          2500,
          2522.5,
          2522.5
         ],
         "xaxis": "x",
         "y": [
          0.5106227770513521,
          0.9357833686297288,
          0.9357833686297288,
          0.5539434603819084
         ],
         "yaxis": "y"
        },
        {
         "hoverinfo": "text",
         "marker": {
          "color": "rgb(255,65,54)"
         },
         "mode": "lines",
         "type": "scatter",
         "x": [
          2480,
          2480,
          2511.25,
          2511.25
         ],
         "xaxis": "x",
         "y": [
          0.658948848332773,
          0.9666576356506247,
          0.9666576356506247,
          0.9357833686297288
         ],
         "yaxis": "y"
        },
        {
         "hoverinfo": "text",
         "marker": {
          "color": "rgb(255,65,54)"
         },
         "mode": "lines",
         "type": "scatter",
         "x": [
          2460,
          2460,
          2495.625,
          2495.625
         ],
         "xaxis": "x",
         "y": [
          0.6108940494906697,
          1.1822552915637756,
          1.1822552915637756,
          0.9666576356506247
         ],
         "yaxis": "y"
        },
        {
         "hoverinfo": "text",
         "marker": {
          "color": "rgb(255,65,54)"
         },
         "mode": "lines",
         "type": "scatter",
         "x": [
          2565,
          2565,
          2575,
          2575
         ],
         "xaxis": "x",
         "y": [
          0,
          0.35251382200604875,
          0.35251382200604875,
          0
         ],
         "yaxis": "y"
        },
        {
         "hoverinfo": "text",
         "marker": {
          "color": "rgb(255,65,54)"
         },
         "mode": "lines",
         "type": "scatter",
         "x": [
          2555,
          2555,
          2570,
          2570
         ],
         "xaxis": "x",
         "y": [
          0,
          0.3840913081480827,
          0.3840913081480827,
          0.35251382200604875
         ],
         "yaxis": "y"
        },
        {
         "hoverinfo": "text",
         "marker": {
          "color": "rgb(255,65,54)"
         },
         "mode": "lines",
         "type": "scatter",
         "x": [
          2545,
          2545,
          2562.5,
          2562.5
         ],
         "xaxis": "x",
         "y": [
          0,
          0.6296015624896248,
          0.6296015624896248,
          0.3840913081480827
         ],
         "yaxis": "y"
        },
        {
         "hoverinfo": "text",
         "marker": {
          "color": "rgb(255,65,54)"
         },
         "mode": "lines",
         "type": "scatter",
         "x": [
          2585,
          2585,
          2595,
          2595
         ],
         "xaxis": "x",
         "y": [
          0,
          0.725633497350876,
          0.725633497350876,
          0
         ],
         "yaxis": "y"
        },
        {
         "hoverinfo": "text",
         "marker": {
          "color": "rgb(255,65,54)"
         },
         "mode": "lines",
         "type": "scatter",
         "x": [
          2553.75,
          2553.75,
          2590,
          2590
         ],
         "xaxis": "x",
         "y": [
          0.6296015624896248,
          0.979577954959781,
          0.979577954959781,
          0.725633497350876
         ],
         "yaxis": "y"
        },
        {
         "hoverinfo": "text",
         "marker": {
          "color": "rgb(255,65,54)"
         },
         "mode": "lines",
         "type": "scatter",
         "x": [
          2615,
          2615,
          2625,
          2625
         ],
         "xaxis": "x",
         "y": [
          0,
          0.22957429890273745,
          0.22957429890273745,
          0
         ],
         "yaxis": "y"
        },
        {
         "hoverinfo": "text",
         "marker": {
          "color": "rgb(255,65,54)"
         },
         "mode": "lines",
         "type": "scatter",
         "x": [
          2605,
          2605,
          2620,
          2620
         ],
         "xaxis": "x",
         "y": [
          0,
          0.42375493676298004,
          0.42375493676298004,
          0.22957429890273745
         ],
         "yaxis": "y"
        },
        {
         "hoverinfo": "text",
         "marker": {
          "color": "rgb(255,65,54)"
         },
         "mode": "lines",
         "type": "scatter",
         "x": [
          2645,
          2645,
          2655,
          2655
         ],
         "xaxis": "x",
         "y": [
          0,
          0.41221766172053337,
          0.41221766172053337,
          0
         ],
         "yaxis": "y"
        },
        {
         "hoverinfo": "text",
         "marker": {
          "color": "rgb(255,65,54)"
         },
         "mode": "lines",
         "type": "scatter",
         "x": [
          2635,
          2635,
          2650,
          2650
         ],
         "xaxis": "x",
         "y": [
          0,
          0.6054815019318159,
          0.6054815019318159,
          0.41221766172053337
         ],
         "yaxis": "y"
        },
        {
         "hoverinfo": "text",
         "marker": {
          "color": "rgb(255,65,54)"
         },
         "mode": "lines",
         "type": "scatter",
         "x": [
          2612.5,
          2612.5,
          2642.5,
          2642.5
         ],
         "xaxis": "x",
         "y": [
          0.42375493676298004,
          0.7079515065045725,
          0.7079515065045725,
          0.6054815019318159
         ],
         "yaxis": "y"
        },
        {
         "hoverinfo": "text",
         "marker": {
          "color": "rgb(255,65,54)"
         },
         "mode": "lines",
         "type": "scatter",
         "x": [
          2685,
          2685,
          2695,
          2695
         ],
         "xaxis": "x",
         "y": [
          0,
          0.4686941690449646,
          0.4686941690449646,
          0
         ],
         "yaxis": "y"
        },
        {
         "hoverinfo": "text",
         "marker": {
          "color": "rgb(255,65,54)"
         },
         "mode": "lines",
         "type": "scatter",
         "x": [
          2675,
          2675,
          2690,
          2690
         ],
         "xaxis": "x",
         "y": [
          0,
          0.5072729304574797,
          0.5072729304574797,
          0.4686941690449646
         ],
         "yaxis": "y"
        },
        {
         "hoverinfo": "text",
         "marker": {
          "color": "rgb(255,65,54)"
         },
         "mode": "lines",
         "type": "scatter",
         "x": [
          2665,
          2665,
          2682.5,
          2682.5
         ],
         "xaxis": "x",
         "y": [
          0,
          0.6442802096410085,
          0.6442802096410085,
          0.5072729304574797
         ],
         "yaxis": "y"
        },
        {
         "hoverinfo": "text",
         "marker": {
          "color": "rgb(255,65,54)"
         },
         "mode": "lines",
         "type": "scatter",
         "x": [
          2705,
          2705,
          2715,
          2715
         ],
         "xaxis": "x",
         "y": [
          0,
          0.31322410448565324,
          0.31322410448565324,
          0
         ],
         "yaxis": "y"
        },
        {
         "hoverinfo": "text",
         "marker": {
          "color": "rgb(255,65,54)"
         },
         "mode": "lines",
         "type": "scatter",
         "x": [
          2735,
          2735,
          2745,
          2745
         ],
         "xaxis": "x",
         "y": [
          0,
          0.24095423344797995,
          0.24095423344797995,
          0
         ],
         "yaxis": "y"
        },
        {
         "hoverinfo": "text",
         "marker": {
          "color": "rgb(255,65,54)"
         },
         "mode": "lines",
         "type": "scatter",
         "x": [
          2725,
          2725,
          2740,
          2740
         ],
         "xaxis": "x",
         "y": [
          0,
          0.2984947746232734,
          0.2984947746232734,
          0.24095423344797995
         ],
         "yaxis": "y"
        },
        {
         "hoverinfo": "text",
         "marker": {
          "color": "rgb(255,65,54)"
         },
         "mode": "lines",
         "type": "scatter",
         "x": [
          2755,
          2755,
          2765,
          2765
         ],
         "xaxis": "x",
         "y": [
          0,
          0.20514652437380526,
          0.20514652437380526,
          0
         ],
         "yaxis": "y"
        },
        {
         "hoverinfo": "text",
         "marker": {
          "color": "rgb(255,65,54)"
         },
         "mode": "lines",
         "type": "scatter",
         "x": [
          2775,
          2775,
          2785,
          2785
         ],
         "xaxis": "x",
         "y": [
          0,
          0.260459686875226,
          0.260459686875226,
          0
         ],
         "yaxis": "y"
        },
        {
         "hoverinfo": "text",
         "marker": {
          "color": "rgb(255,65,54)"
         },
         "mode": "lines",
         "type": "scatter",
         "x": [
          2760,
          2760,
          2780,
          2780
         ],
         "xaxis": "x",
         "y": [
          0.20514652437380526,
          0.33333044629773567,
          0.33333044629773567,
          0.260459686875226
         ],
         "yaxis": "y"
        },
        {
         "hoverinfo": "text",
         "marker": {
          "color": "rgb(255,65,54)"
         },
         "mode": "lines",
         "type": "scatter",
         "x": [
          2732.5,
          2732.5,
          2770,
          2770
         ],
         "xaxis": "x",
         "y": [
          0.2984947746232734,
          0.4105640751324245,
          0.4105640751324245,
          0.33333044629773567
         ],
         "yaxis": "y"
        },
        {
         "hoverinfo": "text",
         "marker": {
          "color": "rgb(255,65,54)"
         },
         "mode": "lines",
         "type": "scatter",
         "x": [
          2710,
          2710,
          2751.25,
          2751.25
         ],
         "xaxis": "x",
         "y": [
          0.31322410448565324,
          0.4443248820987547,
          0.4443248820987547,
          0.4105640751324245
         ],
         "yaxis": "y"
        },
        {
         "hoverinfo": "text",
         "marker": {
          "color": "rgb(255,65,54)"
         },
         "mode": "lines",
         "type": "scatter",
         "x": [
          2815,
          2815,
          2825,
          2825
         ],
         "xaxis": "x",
         "y": [
          0,
          0.23073898331437978,
          0.23073898331437978,
          0
         ],
         "yaxis": "y"
        },
        {
         "hoverinfo": "text",
         "marker": {
          "color": "rgb(255,65,54)"
         },
         "mode": "lines",
         "type": "scatter",
         "x": [
          2805,
          2805,
          2820,
          2820
         ],
         "xaxis": "x",
         "y": [
          0,
          0.27896681861538203,
          0.27896681861538203,
          0.23073898331437978
         ],
         "yaxis": "y"
        },
        {
         "hoverinfo": "text",
         "marker": {
          "color": "rgb(255,65,54)"
         },
         "mode": "lines",
         "type": "scatter",
         "x": [
          2795,
          2795,
          2812.5,
          2812.5
         ],
         "xaxis": "x",
         "y": [
          0,
          0.34695144704870134,
          0.34695144704870134,
          0.27896681861538203
         ],
         "yaxis": "y"
        },
        {
         "hoverinfo": "text",
         "marker": {
          "color": "rgb(255,65,54)"
         },
         "mode": "lines",
         "type": "scatter",
         "x": [
          2845,
          2845,
          2855,
          2855
         ],
         "xaxis": "x",
         "y": [
          0,
          0.18859736360774038,
          0.18859736360774038,
          0
         ],
         "yaxis": "y"
        },
        {
         "hoverinfo": "text",
         "marker": {
          "color": "rgb(255,65,54)"
         },
         "mode": "lines",
         "type": "scatter",
         "x": [
          2835,
          2835,
          2850,
          2850
         ],
         "xaxis": "x",
         "y": [
          0,
          0.2752137519682064,
          0.2752137519682064,
          0.18859736360774038
         ],
         "yaxis": "y"
        },
        {
         "hoverinfo": "text",
         "marker": {
          "color": "rgb(255,65,54)"
         },
         "mode": "lines",
         "type": "scatter",
         "x": [
          2885,
          2885,
          2895,
          2895
         ],
         "xaxis": "x",
         "y": [
          0,
          0.2283043082788901,
          0.2283043082788901,
          0
         ],
         "yaxis": "y"
        },
        {
         "hoverinfo": "text",
         "marker": {
          "color": "rgb(255,65,54)"
         },
         "mode": "lines",
         "type": "scatter",
         "x": [
          2875,
          2875,
          2890,
          2890
         ],
         "xaxis": "x",
         "y": [
          0,
          0.2600956170685419,
          0.2600956170685419,
          0.2283043082788901
         ],
         "yaxis": "y"
        },
        {
         "hoverinfo": "text",
         "marker": {
          "color": "rgb(255,65,54)"
         },
         "mode": "lines",
         "type": "scatter",
         "x": [
          2865,
          2865,
          2882.5,
          2882.5
         ],
         "xaxis": "x",
         "y": [
          0,
          0.3422778361158357,
          0.3422778361158357,
          0.2600956170685419
         ],
         "yaxis": "y"
        },
        {
         "hoverinfo": "text",
         "marker": {
          "color": "rgb(255,65,54)"
         },
         "mode": "lines",
         "type": "scatter",
         "x": [
          2842.5,
          2842.5,
          2873.75,
          2873.75
         ],
         "xaxis": "x",
         "y": [
          0.2752137519682064,
          0.3717606944160223,
          0.3717606944160223,
          0.3422778361158357
         ],
         "yaxis": "y"
        },
        {
         "hoverinfo": "text",
         "marker": {
          "color": "rgb(255,65,54)"
         },
         "mode": "lines",
         "type": "scatter",
         "x": [
          2803.75,
          2803.75,
          2858.125,
          2858.125
         ],
         "xaxis": "x",
         "y": [
          0.34695144704870134,
          0.481323277136085,
          0.481323277136085,
          0.3717606944160223
         ],
         "yaxis": "y"
        },
        {
         "hoverinfo": "text",
         "marker": {
          "color": "rgb(255,65,54)"
         },
         "mode": "lines",
         "type": "scatter",
         "x": [
          2730.625,
          2730.625,
          2830.9375,
          2830.9375
         ],
         "xaxis": "x",
         "y": [
          0.4443248820987547,
          0.5609572274373288,
          0.5609572274373288,
          0.481323277136085
         ],
         "yaxis": "y"
        },
        {
         "hoverinfo": "text",
         "marker": {
          "color": "rgb(255,65,54)"
         },
         "mode": "lines",
         "type": "scatter",
         "x": [
          2915,
          2915,
          2925,
          2925
         ],
         "xaxis": "x",
         "y": [
          0,
          0.3524218398113465,
          0.3524218398113465,
          0
         ],
         "yaxis": "y"
        },
        {
         "hoverinfo": "text",
         "marker": {
          "color": "rgb(255,65,54)"
         },
         "mode": "lines",
         "type": "scatter",
         "x": [
          2905,
          2905,
          2920,
          2920
         ],
         "xaxis": "x",
         "y": [
          0,
          0.5098605661035203,
          0.5098605661035203,
          0.3524218398113465
         ],
         "yaxis": "y"
        },
        {
         "hoverinfo": "text",
         "marker": {
          "color": "rgb(255,65,54)"
         },
         "mode": "lines",
         "type": "scatter",
         "x": [
          2945,
          2945,
          2955,
          2955
         ],
         "xaxis": "x",
         "y": [
          0,
          0.2718828829864642,
          0.2718828829864642,
          0
         ],
         "yaxis": "y"
        },
        {
         "hoverinfo": "text",
         "marker": {
          "color": "rgb(255,65,54)"
         },
         "mode": "lines",
         "type": "scatter",
         "x": [
          2935,
          2935,
          2950,
          2950
         ],
         "xaxis": "x",
         "y": [
          0,
          0.3579631381267841,
          0.3579631381267841,
          0.2718828829864642
         ],
         "yaxis": "y"
        },
        {
         "hoverinfo": "text",
         "marker": {
          "color": "rgb(255,65,54)"
         },
         "mode": "lines",
         "type": "scatter",
         "x": [
          2975,
          2975,
          2985,
          2985
         ],
         "xaxis": "x",
         "y": [
          0,
          0.23809773546364826,
          0.23809773546364826,
          0
         ],
         "yaxis": "y"
        },
        {
         "hoverinfo": "text",
         "marker": {
          "color": "rgb(255,65,54)"
         },
         "mode": "lines",
         "type": "scatter",
         "x": [
          2965,
          2965,
          2980,
          2980
         ],
         "xaxis": "x",
         "y": [
          0,
          0.2826714864692647,
          0.2826714864692647,
          0.23809773546364826
         ],
         "yaxis": "y"
        },
        {
         "hoverinfo": "text",
         "marker": {
          "color": "rgb(255,65,54)"
         },
         "mode": "lines",
         "type": "scatter",
         "x": [
          3005,
          3005,
          3015,
          3015
         ],
         "xaxis": "x",
         "y": [
          0,
          0.23467306724774536,
          0.23467306724774536,
          0
         ],
         "yaxis": "y"
        },
        {
         "hoverinfo": "text",
         "marker": {
          "color": "rgb(255,65,54)"
         },
         "mode": "lines",
         "type": "scatter",
         "x": [
          2995,
          2995,
          3010,
          3010
         ],
         "xaxis": "x",
         "y": [
          0,
          0.2968930979064519,
          0.2968930979064519,
          0.23467306724774536
         ],
         "yaxis": "y"
        },
        {
         "hoverinfo": "text",
         "marker": {
          "color": "rgb(255,65,54)"
         },
         "mode": "lines",
         "type": "scatter",
         "x": [
          2972.5,
          2972.5,
          3002.5,
          3002.5
         ],
         "xaxis": "x",
         "y": [
          0.2826714864692647,
          0.39573806832970276,
          0.39573806832970276,
          0.2968930979064519
         ],
         "yaxis": "y"
        },
        {
         "hoverinfo": "text",
         "marker": {
          "color": "rgb(255,65,54)"
         },
         "mode": "lines",
         "type": "scatter",
         "x": [
          2942.5,
          2942.5,
          2987.5,
          2987.5
         ],
         "xaxis": "x",
         "y": [
          0.3579631381267841,
          0.4290873423741144,
          0.4290873423741144,
          0.39573806832970276
         ],
         "yaxis": "y"
        },
        {
         "hoverinfo": "text",
         "marker": {
          "color": "rgb(255,65,54)"
         },
         "mode": "lines",
         "type": "scatter",
         "x": [
          3065,
          3065,
          3075,
          3075
         ],
         "xaxis": "x",
         "y": [
          0,
          0.1959091703568938,
          0.1959091703568938,
          0
         ],
         "yaxis": "y"
        },
        {
         "hoverinfo": "text",
         "marker": {
          "color": "rgb(255,65,54)"
         },
         "mode": "lines",
         "type": "scatter",
         "x": [
          3055,
          3055,
          3070,
          3070
         ],
         "xaxis": "x",
         "y": [
          0,
          0.24471444520533683,
          0.24471444520533683,
          0.1959091703568938
         ],
         "yaxis": "y"
        },
        {
         "hoverinfo": "text",
         "marker": {
          "color": "rgb(255,65,54)"
         },
         "mode": "lines",
         "type": "scatter",
         "x": [
          3045,
          3045,
          3062.5,
          3062.5
         ],
         "xaxis": "x",
         "y": [
          0,
          0.31137423204577014,
          0.31137423204577014,
          0.24471444520533683
         ],
         "yaxis": "y"
        },
        {
         "hoverinfo": "text",
         "marker": {
          "color": "rgb(255,65,54)"
         },
         "mode": "lines",
         "type": "scatter",
         "x": [
          3035,
          3035,
          3053.75,
          3053.75
         ],
         "xaxis": "x",
         "y": [
          0,
          0.3677347436811729,
          0.3677347436811729,
          0.31137423204577014
         ],
         "yaxis": "y"
        },
        {
         "hoverinfo": "text",
         "marker": {
          "color": "rgb(255,65,54)"
         },
         "mode": "lines",
         "type": "scatter",
         "x": [
          3025,
          3025,
          3044.375,
          3044.375
         ],
         "xaxis": "x",
         "y": [
          0,
          0.45373996294339763,
          0.45373996294339763,
          0.3677347436811729
         ],
         "yaxis": "y"
        },
        {
         "hoverinfo": "text",
         "marker": {
          "color": "rgb(255,65,54)"
         },
         "mode": "lines",
         "type": "scatter",
         "x": [
          2965,
          2965,
          3034.6875,
          3034.6875
         ],
         "xaxis": "x",
         "y": [
          0.4290873423741144,
          0.559892332375827,
          0.559892332375827,
          0.45373996294339763
         ],
         "yaxis": "y"
        },
        {
         "hoverinfo": "text",
         "marker": {
          "color": "rgb(255,65,54)"
         },
         "mode": "lines",
         "type": "scatter",
         "x": [
          2912.5,
          2912.5,
          2999.84375,
          2999.84375
         ],
         "xaxis": "x",
         "y": [
          0.5098605661035203,
          0.6609915784278341,
          0.6609915784278341,
          0.559892332375827
         ],
         "yaxis": "y"
        },
        {
         "hoverinfo": "text",
         "marker": {
          "color": "rgb(255,65,54)"
         },
         "mode": "lines",
         "type": "scatter",
         "x": [
          2780.78125,
          2780.78125,
          2956.171875,
          2956.171875
         ],
         "xaxis": "x",
         "y": [
          0.5609572274373288,
          0.6983003812719278,
          0.6983003812719278,
          0.6609915784278341
         ],
         "yaxis": "y"
        },
        {
         "hoverinfo": "text",
         "marker": {
          "color": "rgb(255,65,54)"
         },
         "mode": "lines",
         "type": "scatter",
         "x": [
          2673.75,
          2673.75,
          2868.4765625,
          2868.4765625
         ],
         "xaxis": "x",
         "y": [
          0.6442802096410085,
          0.9359246900265005,
          0.9359246900265005,
          0.6983003812719278
         ],
         "yaxis": "y"
        },
        {
         "hoverinfo": "text",
         "marker": {
          "color": "rgb(255,65,54)"
         },
         "mode": "lines",
         "type": "scatter",
         "x": [
          2627.5,
          2627.5,
          2771.11328125,
          2771.11328125
         ],
         "xaxis": "x",
         "y": [
          0.7079515065045725,
          1.1119633764038253,
          1.1119633764038253,
          0.9359246900265005
         ],
         "yaxis": "y"
        },
        {
         "hoverinfo": "text",
         "marker": {
          "color": "rgb(255,65,54)"
         },
         "mode": "lines",
         "type": "scatter",
         "x": [
          2571.875,
          2571.875,
          2699.306640625,
          2699.306640625
         ],
         "xaxis": "x",
         "y": [
          0.979577954959781,
          1.2876770933182287,
          1.2876770933182287,
          1.1119633764038253
         ],
         "yaxis": "y"
        },
        {
         "hoverinfo": "text",
         "marker": {
          "color": "rgb(255,65,54)"
         },
         "mode": "lines",
         "type": "scatter",
         "x": [
          2477.8125,
          2477.8125,
          2635.5908203125,
          2635.5908203125
         ],
         "xaxis": "x",
         "y": [
          1.1822552915637756,
          1.429109138305476,
          1.429109138305476,
          1.2876770933182287
         ],
         "yaxis": "y"
        },
        {
         "hoverinfo": "text",
         "marker": {
          "color": "rgb(255,65,54)"
         },
         "mode": "lines",
         "type": "scatter",
         "x": [
          3095,
          3095,
          3105,
          3105
         ],
         "xaxis": "x",
         "y": [
          0,
          0.8441897023859508,
          0.8441897023859508,
          0
         ],
         "yaxis": "y"
        },
        {
         "hoverinfo": "text",
         "marker": {
          "color": "rgb(255,65,54)"
         },
         "mode": "lines",
         "type": "scatter",
         "x": [
          3085,
          3085,
          3100,
          3100
         ],
         "xaxis": "x",
         "y": [
          0,
          1.3361835790754792,
          1.3361835790754792,
          0.8441897023859508
         ],
         "yaxis": "y"
        },
        {
         "hoverinfo": "text",
         "marker": {
          "color": "rgb(255,65,54)"
         },
         "mode": "lines",
         "type": "scatter",
         "x": [
          3135,
          3135,
          3145,
          3145
         ],
         "xaxis": "x",
         "y": [
          0,
          0.2510843597219575,
          0.2510843597219575,
          0
         ],
         "yaxis": "y"
        },
        {
         "hoverinfo": "text",
         "marker": {
          "color": "rgb(255,65,54)"
         },
         "mode": "lines",
         "type": "scatter",
         "x": [
          3125,
          3125,
          3140,
          3140
         ],
         "xaxis": "x",
         "y": [
          0,
          0.2752795937458383,
          0.2752795937458383,
          0.2510843597219575
         ],
         "yaxis": "y"
        },
        {
         "hoverinfo": "text",
         "marker": {
          "color": "rgb(255,65,54)"
         },
         "mode": "lines",
         "type": "scatter",
         "x": [
          3115,
          3115,
          3132.5,
          3132.5
         ],
         "xaxis": "x",
         "y": [
          0,
          0.5646304369836969,
          0.5646304369836969,
          0.2752795937458383
         ],
         "yaxis": "y"
        },
        {
         "hoverinfo": "text",
         "marker": {
          "color": "rgb(255,65,54)"
         },
         "mode": "lines",
         "type": "scatter",
         "x": [
          3155,
          3155,
          3165,
          3165
         ],
         "xaxis": "x",
         "y": [
          0,
          0.6087095924423751,
          0.6087095924423751,
          0
         ],
         "yaxis": "y"
        },
        {
         "hoverinfo": "text",
         "marker": {
          "color": "rgb(255,65,54)"
         },
         "mode": "lines",
         "type": "scatter",
         "x": [
          3123.75,
          3123.75,
          3160,
          3160
         ],
         "xaxis": "x",
         "y": [
          0.5646304369836969,
          0.8319498733690474,
          0.8319498733690474,
          0.6087095924423751
         ],
         "yaxis": "y"
        },
        {
         "hoverinfo": "text",
         "marker": {
          "color": "rgb(255,65,54)"
         },
         "mode": "lines",
         "type": "scatter",
         "x": [
          3175,
          3175,
          3185,
          3185
         ],
         "xaxis": "x",
         "y": [
          0,
          0.47881413448294907,
          0.47881413448294907,
          0
         ],
         "yaxis": "y"
        },
        {
         "hoverinfo": "text",
         "marker": {
          "color": "rgb(255,65,54)"
         },
         "mode": "lines",
         "type": "scatter",
         "x": [
          3215,
          3215,
          3225,
          3225
         ],
         "xaxis": "x",
         "y": [
          0,
          0.20857014912758243,
          0.20857014912758243,
          0
         ],
         "yaxis": "y"
        },
        {
         "hoverinfo": "text",
         "marker": {
          "color": "rgb(255,65,54)"
         },
         "mode": "lines",
         "type": "scatter",
         "x": [
          3205,
          3205,
          3220,
          3220
         ],
         "xaxis": "x",
         "y": [
          0,
          0.3254447258208973,
          0.3254447258208973,
          0.20857014912758243
         ],
         "yaxis": "y"
        },
        {
         "hoverinfo": "text",
         "marker": {
          "color": "rgb(255,65,54)"
         },
         "mode": "lines",
         "type": "scatter",
         "x": [
          3195,
          3195,
          3212.5,
          3212.5
         ],
         "xaxis": "x",
         "y": [
          0,
          0.40941389414808715,
          0.40941389414808715,
          0.3254447258208973
         ],
         "yaxis": "y"
        },
        {
         "hoverinfo": "text",
         "marker": {
          "color": "rgb(255,65,54)"
         },
         "mode": "lines",
         "type": "scatter",
         "x": [
          3235,
          3235,
          3245,
          3245
         ],
         "xaxis": "x",
         "y": [
          0,
          0.29631522197989824,
          0.29631522197989824,
          0
         ],
         "yaxis": "y"
        },
        {
         "hoverinfo": "text",
         "marker": {
          "color": "rgb(255,65,54)"
         },
         "mode": "lines",
         "type": "scatter",
         "x": [
          3255,
          3255,
          3265,
          3265
         ],
         "xaxis": "x",
         "y": [
          0,
          0.393656986171402,
          0.393656986171402,
          0
         ],
         "yaxis": "y"
        },
        {
         "hoverinfo": "text",
         "marker": {
          "color": "rgb(255,65,54)"
         },
         "mode": "lines",
         "type": "scatter",
         "x": [
          3240,
          3240,
          3260,
          3260
         ],
         "xaxis": "x",
         "y": [
          0.29631522197989824,
          0.45216985777478275,
          0.45216985777478275,
          0.393656986171402
         ],
         "yaxis": "y"
        },
        {
         "hoverinfo": "text",
         "marker": {
          "color": "rgb(255,65,54)"
         },
         "mode": "lines",
         "type": "scatter",
         "x": [
          3295,
          3295,
          3305,
          3305
         ],
         "xaxis": "x",
         "y": [
          0,
          0.15863805030610373,
          0.15863805030610373,
          0
         ],
         "yaxis": "y"
        },
        {
         "hoverinfo": "text",
         "marker": {
          "color": "rgb(255,65,54)"
         },
         "mode": "lines",
         "type": "scatter",
         "x": [
          3285,
          3285,
          3300,
          3300
         ],
         "xaxis": "x",
         "y": [
          0,
          0.26630427638782794,
          0.26630427638782794,
          0.15863805030610373
         ],
         "yaxis": "y"
        },
        {
         "hoverinfo": "text",
         "marker": {
          "color": "rgb(255,65,54)"
         },
         "mode": "lines",
         "type": "scatter",
         "x": [
          3275,
          3275,
          3292.5,
          3292.5
         ],
         "xaxis": "x",
         "y": [
          0,
          0.33585897295238326,
          0.33585897295238326,
          0.26630427638782794
         ],
         "yaxis": "y"
        },
        {
         "hoverinfo": "text",
         "marker": {
          "color": "rgb(255,65,54)"
         },
         "mode": "lines",
         "type": "scatter",
         "x": [
          3315,
          3315,
          3325,
          3325
         ],
         "xaxis": "x",
         "y": [
          0,
          0.27658896736948374,
          0.27658896736948374,
          0
         ],
         "yaxis": "y"
        },
        {
         "hoverinfo": "text",
         "marker": {
          "color": "rgb(255,65,54)"
         },
         "mode": "lines",
         "type": "scatter",
         "x": [
          3335,
          3335,
          3345,
          3345
         ],
         "xaxis": "x",
         "y": [
          0,
          0.2794047868895748,
          0.2794047868895748,
          0
         ],
         "yaxis": "y"
        },
        {
         "hoverinfo": "text",
         "marker": {
          "color": "rgb(255,65,54)"
         },
         "mode": "lines",
         "type": "scatter",
         "x": [
          3320,
          3320,
          3340,
          3340
         ],
         "xaxis": "x",
         "y": [
          0.27658896736948374,
          0.3738271359224418,
          0.3738271359224418,
          0.2794047868895748
         ],
         "yaxis": "y"
        },
        {
         "hoverinfo": "text",
         "marker": {
          "color": "rgb(255,65,54)"
         },
         "mode": "lines",
         "type": "scatter",
         "x": [
          3283.75,
          3283.75,
          3330,
          3330
         ],
         "xaxis": "x",
         "y": [
          0.33585897295238326,
          0.43794918186230875,
          0.43794918186230875,
          0.3738271359224418
         ],
         "yaxis": "y"
        },
        {
         "hoverinfo": "text",
         "marker": {
          "color": "rgb(255,65,54)"
         },
         "mode": "lines",
         "type": "scatter",
         "x": [
          3375,
          3375,
          3385,
          3385
         ],
         "xaxis": "x",
         "y": [
          0,
          0.2718924868673925,
          0.2718924868673925,
          0
         ],
         "yaxis": "y"
        },
        {
         "hoverinfo": "text",
         "marker": {
          "color": "rgb(255,65,54)"
         },
         "mode": "lines",
         "type": "scatter",
         "x": [
          3365,
          3365,
          3380,
          3380
         ],
         "xaxis": "x",
         "y": [
          0,
          0.35638513366157243,
          0.35638513366157243,
          0.2718924868673925
         ],
         "yaxis": "y"
        },
        {
         "hoverinfo": "text",
         "marker": {
          "color": "rgb(255,65,54)"
         },
         "mode": "lines",
         "type": "scatter",
         "x": [
          3355,
          3355,
          3372.5,
          3372.5
         ],
         "xaxis": "x",
         "y": [
          0,
          0.4469639847676685,
          0.4469639847676685,
          0.35638513366157243
         ],
         "yaxis": "y"
        },
        {
         "hoverinfo": "text",
         "marker": {
          "color": "rgb(255,65,54)"
         },
         "mode": "lines",
         "type": "scatter",
         "x": [
          3306.875,
          3306.875,
          3363.75,
          3363.75
         ],
         "xaxis": "x",
         "y": [
          0.43794918186230875,
          0.5650078472191016,
          0.5650078472191016,
          0.4469639847676685
         ],
         "yaxis": "y"
        },
        {
         "hoverinfo": "text",
         "marker": {
          "color": "rgb(255,65,54)"
         },
         "mode": "lines",
         "type": "scatter",
         "x": [
          3250,
          3250,
          3335.3125,
          3335.3125
         ],
         "xaxis": "x",
         "y": [
          0.45216985777478275,
          0.610105626695127,
          0.610105626695127,
          0.5650078472191016
         ],
         "yaxis": "y"
        },
        {
         "hoverinfo": "text",
         "marker": {
          "color": "rgb(255,65,54)"
         },
         "mode": "lines",
         "type": "scatter",
         "x": [
          3203.75,
          3203.75,
          3292.65625,
          3292.65625
         ],
         "xaxis": "x",
         "y": [
          0.40941389414808715,
          0.6322575044312323,
          0.6322575044312323,
          0.610105626695127
         ],
         "yaxis": "y"
        },
        {
         "hoverinfo": "text",
         "marker": {
          "color": "rgb(255,65,54)"
         },
         "mode": "lines",
         "type": "scatter",
         "x": [
          3180,
          3180,
          3248.203125,
          3248.203125
         ],
         "xaxis": "x",
         "y": [
          0.47881413448294907,
          0.8467736395528396,
          0.8467736395528396,
          0.6322575044312323
         ],
         "yaxis": "y"
        },
        {
         "hoverinfo": "text",
         "marker": {
          "color": "rgb(255,65,54)"
         },
         "mode": "lines",
         "type": "scatter",
         "x": [
          3141.875,
          3141.875,
          3214.1015625,
          3214.1015625
         ],
         "xaxis": "x",
         "y": [
          0.8319498733690474,
          1.163990290226332,
          1.163990290226332,
          0.8467736395528396
         ],
         "yaxis": "y"
        },
        {
         "hoverinfo": "text",
         "marker": {
          "color": "rgb(255,65,54)"
         },
         "mode": "lines",
         "type": "scatter",
         "x": [
          3405,
          3405,
          3415,
          3415
         ],
         "xaxis": "x",
         "y": [
          0,
          0.24347397407495638,
          0.24347397407495638,
          0
         ],
         "yaxis": "y"
        },
        {
         "hoverinfo": "text",
         "marker": {
          "color": "rgb(255,65,54)"
         },
         "mode": "lines",
         "type": "scatter",
         "x": [
          3395,
          3395,
          3410,
          3410
         ],
         "xaxis": "x",
         "y": [
          0,
          0.26992259337844926,
          0.26992259337844926,
          0.24347397407495638
         ],
         "yaxis": "y"
        },
        {
         "hoverinfo": "text",
         "marker": {
          "color": "rgb(255,65,54)"
         },
         "mode": "lines",
         "type": "scatter",
         "x": [
          3435,
          3435,
          3445,
          3445
         ],
         "xaxis": "x",
         "y": [
          0,
          0.26798758616690727,
          0.26798758616690727,
          0
         ],
         "yaxis": "y"
        },
        {
         "hoverinfo": "text",
         "marker": {
          "color": "rgb(255,65,54)"
         },
         "mode": "lines",
         "type": "scatter",
         "x": [
          3425,
          3425,
          3440,
          3440
         ],
         "xaxis": "x",
         "y": [
          0,
          0.4239446883775267,
          0.4239446883775267,
          0.26798758616690727
         ],
         "yaxis": "y"
        },
        {
         "hoverinfo": "text",
         "marker": {
          "color": "rgb(255,65,54)"
         },
         "mode": "lines",
         "type": "scatter",
         "x": [
          3402.5,
          3402.5,
          3432.5,
          3432.5
         ],
         "xaxis": "x",
         "y": [
          0.26992259337844926,
          0.44715235036437045,
          0.44715235036437045,
          0.4239446883775267
         ],
         "yaxis": "y"
        },
        {
         "hoverinfo": "text",
         "marker": {
          "color": "rgb(255,65,54)"
         },
         "mode": "lines",
         "type": "scatter",
         "x": [
          3475,
          3475,
          3485,
          3485
         ],
         "xaxis": "x",
         "y": [
          0,
          0.21902757963255026,
          0.21902757963255026,
          0
         ],
         "yaxis": "y"
        },
        {
         "hoverinfo": "text",
         "marker": {
          "color": "rgb(255,65,54)"
         },
         "mode": "lines",
         "type": "scatter",
         "x": [
          3465,
          3465,
          3480,
          3480
         ],
         "xaxis": "x",
         "y": [
          0,
          0.3539704663493331,
          0.3539704663493331,
          0.21902757963255026
         ],
         "yaxis": "y"
        },
        {
         "hoverinfo": "text",
         "marker": {
          "color": "rgb(255,65,54)"
         },
         "mode": "lines",
         "type": "scatter",
         "x": [
          3455,
          3455,
          3472.5,
          3472.5
         ],
         "xaxis": "x",
         "y": [
          0,
          0.5340633321212216,
          0.5340633321212216,
          0.3539704663493331
         ],
         "yaxis": "y"
        },
        {
         "hoverinfo": "text",
         "marker": {
          "color": "rgb(255,65,54)"
         },
         "mode": "lines",
         "type": "scatter",
         "x": [
          3515,
          3515,
          3525,
          3525
         ],
         "xaxis": "x",
         "y": [
          0,
          0.36572785895809135,
          0.36572785895809135,
          0
         ],
         "yaxis": "y"
        },
        {
         "hoverinfo": "text",
         "marker": {
          "color": "rgb(255,65,54)"
         },
         "mode": "lines",
         "type": "scatter",
         "x": [
          3505,
          3505,
          3520,
          3520
         ],
         "xaxis": "x",
         "y": [
          0,
          0.5193087876950759,
          0.5193087876950759,
          0.36572785895809135
         ],
         "yaxis": "y"
        },
        {
         "hoverinfo": "text",
         "marker": {
          "color": "rgb(255,65,54)"
         },
         "mode": "lines",
         "type": "scatter",
         "x": [
          3495,
          3495,
          3512.5,
          3512.5
         ],
         "xaxis": "x",
         "y": [
          0,
          0.5911711103259253,
          0.5911711103259253,
          0.5193087876950759
         ],
         "yaxis": "y"
        },
        {
         "hoverinfo": "text",
         "marker": {
          "color": "rgb(255,65,54)"
         },
         "mode": "lines",
         "type": "scatter",
         "x": [
          3463.75,
          3463.75,
          3503.75,
          3503.75
         ],
         "xaxis": "x",
         "y": [
          0.5340633321212216,
          0.6754229287670745,
          0.6754229287670745,
          0.5911711103259253
         ],
         "yaxis": "y"
        },
        {
         "hoverinfo": "text",
         "marker": {
          "color": "rgb(255,65,54)"
         },
         "mode": "lines",
         "type": "scatter",
         "x": [
          3417.5,
          3417.5,
          3483.75,
          3483.75
         ],
         "xaxis": "x",
         "y": [
          0.44715235036437045,
          0.6886029088713786,
          0.6886029088713786,
          0.6754229287670745
         ],
         "yaxis": "y"
        },
        {
         "hoverinfo": "text",
         "marker": {
          "color": "rgb(255,65,54)"
         },
         "mode": "lines",
         "type": "scatter",
         "x": [
          3535,
          3535,
          3545,
          3545
         ],
         "xaxis": "x",
         "y": [
          0,
          0.2829445047637791,
          0.2829445047637791,
          0
         ],
         "yaxis": "y"
        },
        {
         "hoverinfo": "text",
         "marker": {
          "color": "rgb(255,65,54)"
         },
         "mode": "lines",
         "type": "scatter",
         "x": [
          3565,
          3565,
          3575,
          3575
         ],
         "xaxis": "x",
         "y": [
          0,
          0.28135510167755934,
          0.28135510167755934,
          0
         ],
         "yaxis": "y"
        },
        {
         "hoverinfo": "text",
         "marker": {
          "color": "rgb(255,65,54)"
         },
         "mode": "lines",
         "type": "scatter",
         "x": [
          3555,
          3555,
          3570,
          3570
         ],
         "xaxis": "x",
         "y": [
          0,
          0.3451912895919623,
          0.3451912895919623,
          0.28135510167755934
         ],
         "yaxis": "y"
        },
        {
         "hoverinfo": "text",
         "marker": {
          "color": "rgb(255,65,54)"
         },
         "mode": "lines",
         "type": "scatter",
         "x": [
          3540,
          3540,
          3562.5,
          3562.5
         ],
         "xaxis": "x",
         "y": [
          0.2829445047637791,
          0.37441479138611533,
          0.37441479138611533,
          0.3451912895919623
         ],
         "yaxis": "y"
        },
        {
         "hoverinfo": "text",
         "marker": {
          "color": "rgb(255,65,54)"
         },
         "mode": "lines",
         "type": "scatter",
         "x": [
          3585,
          3585,
          3595,
          3595
         ],
         "xaxis": "x",
         "y": [
          0,
          0.2610838239270874,
          0.2610838239270874,
          0
         ],
         "yaxis": "y"
        },
        {
         "hoverinfo": "text",
         "marker": {
          "color": "rgb(255,65,54)"
         },
         "mode": "lines",
         "type": "scatter",
         "x": [
          3605,
          3605,
          3615,
          3615
         ],
         "xaxis": "x",
         "y": [
          0,
          0.29157820270921997,
          0.29157820270921997,
          0
         ],
         "yaxis": "y"
        },
        {
         "hoverinfo": "text",
         "marker": {
          "color": "rgb(255,65,54)"
         },
         "mode": "lines",
         "type": "scatter",
         "x": [
          3590,
          3590,
          3610,
          3610
         ],
         "xaxis": "x",
         "y": [
          0.2610838239270874,
          0.40835553953202713,
          0.40835553953202713,
          0.29157820270921997
         ],
         "yaxis": "y"
        },
        {
         "hoverinfo": "text",
         "marker": {
          "color": "rgb(255,65,54)"
         },
         "mode": "lines",
         "type": "scatter",
         "x": [
          3551.25,
          3551.25,
          3600,
          3600
         ],
         "xaxis": "x",
         "y": [
          0.37441479138611533,
          0.5450849290999925,
          0.5450849290999925,
          0.40835553953202713
         ],
         "yaxis": "y"
        },
        {
         "hoverinfo": "text",
         "marker": {
          "color": "rgb(255,65,54)"
         },
         "mode": "lines",
         "type": "scatter",
         "x": [
          3645,
          3645,
          3655,
          3655
         ],
         "xaxis": "x",
         "y": [
          0,
          0.280106877437732,
          0.280106877437732,
          0
         ],
         "yaxis": "y"
        },
        {
         "hoverinfo": "text",
         "marker": {
          "color": "rgb(255,65,54)"
         },
         "mode": "lines",
         "type": "scatter",
         "x": [
          3635,
          3635,
          3650,
          3650
         ],
         "xaxis": "x",
         "y": [
          0,
          0.3330418032436944,
          0.3330418032436944,
          0.280106877437732
         ],
         "yaxis": "y"
        },
        {
         "hoverinfo": "text",
         "marker": {
          "color": "rgb(255,65,54)"
         },
         "mode": "lines",
         "type": "scatter",
         "x": [
          3625,
          3625,
          3642.5,
          3642.5
         ],
         "xaxis": "x",
         "y": [
          0,
          0.41537251478053056,
          0.41537251478053056,
          0.3330418032436944
         ],
         "yaxis": "y"
        },
        {
         "hoverinfo": "text",
         "marker": {
          "color": "rgb(255,65,54)"
         },
         "mode": "lines",
         "type": "scatter",
         "x": [
          3675,
          3675,
          3685,
          3685
         ],
         "xaxis": "x",
         "y": [
          0,
          0.2821354351833675,
          0.2821354351833675,
          0
         ],
         "yaxis": "y"
        },
        {
         "hoverinfo": "text",
         "marker": {
          "color": "rgb(255,65,54)"
         },
         "mode": "lines",
         "type": "scatter",
         "x": [
          3665,
          3665,
          3680,
          3680
         ],
         "xaxis": "x",
         "y": [
          0,
          0.3221603626344595,
          0.3221603626344595,
          0.2821354351833675
         ],
         "yaxis": "y"
        },
        {
         "hoverinfo": "text",
         "marker": {
          "color": "rgb(255,65,54)"
         },
         "mode": "lines",
         "type": "scatter",
         "x": [
          3705,
          3705,
          3715,
          3715
         ],
         "xaxis": "x",
         "y": [
          0,
          0.27166621142862957,
          0.27166621142862957,
          0
         ],
         "yaxis": "y"
        },
        {
         "hoverinfo": "text",
         "marker": {
          "color": "rgb(255,65,54)"
         },
         "mode": "lines",
         "type": "scatter",
         "x": [
          3695,
          3695,
          3710,
          3710
         ],
         "xaxis": "x",
         "y": [
          0,
          0.34614788500131655,
          0.34614788500131655,
          0.27166621142862957
         ],
         "yaxis": "y"
        },
        {
         "hoverinfo": "text",
         "marker": {
          "color": "rgb(255,65,54)"
         },
         "mode": "lines",
         "type": "scatter",
         "x": [
          3672.5,
          3672.5,
          3702.5,
          3702.5
         ],
         "xaxis": "x",
         "y": [
          0.3221603626344595,
          0.42937058943775075,
          0.42937058943775075,
          0.34614788500131655
         ],
         "yaxis": "y"
        },
        {
         "hoverinfo": "text",
         "marker": {
          "color": "rgb(255,65,54)"
         },
         "mode": "lines",
         "type": "scatter",
         "x": [
          3633.75,
          3633.75,
          3687.5,
          3687.5
         ],
         "xaxis": "x",
         "y": [
          0.41537251478053056,
          0.600949554635524,
          0.600949554635524,
          0.42937058943775075
         ],
         "yaxis": "y"
        },
        {
         "hoverinfo": "text",
         "marker": {
          "color": "rgb(255,65,54)"
         },
         "mode": "lines",
         "type": "scatter",
         "x": [
          3575.625,
          3575.625,
          3660.625,
          3660.625
         ],
         "xaxis": "x",
         "y": [
          0.5450849290999925,
          0.7047221325547088,
          0.7047221325547088,
          0.600949554635524
         ],
         "yaxis": "y"
        },
        {
         "hoverinfo": "text",
         "marker": {
          "color": "rgb(255,65,54)"
         },
         "mode": "lines",
         "type": "scatter",
         "x": [
          3450.625,
          3450.625,
          3618.125,
          3618.125
         ],
         "xaxis": "x",
         "y": [
          0.6886029088713786,
          0.8723856087032982,
          0.8723856087032982,
          0.7047221325547088
         ],
         "yaxis": "y"
        },
        {
         "hoverinfo": "text",
         "marker": {
          "color": "rgb(255,65,54)"
         },
         "mode": "lines",
         "type": "scatter",
         "x": [
          3725,
          3725,
          3735,
          3735
         ],
         "xaxis": "x",
         "y": [
          0,
          0.18794025836142483,
          0.18794025836142483,
          0
         ],
         "yaxis": "y"
        },
        {
         "hoverinfo": "text",
         "marker": {
          "color": "rgb(255,65,54)"
         },
         "mode": "lines",
         "type": "scatter",
         "x": [
          3765,
          3765,
          3775,
          3775
         ],
         "xaxis": "x",
         "y": [
          0,
          0.16831985147007253,
          0.16831985147007253,
          0
         ],
         "yaxis": "y"
        },
        {
         "hoverinfo": "text",
         "marker": {
          "color": "rgb(255,65,54)"
         },
         "mode": "lines",
         "type": "scatter",
         "x": [
          3755,
          3755,
          3770,
          3770
         ],
         "xaxis": "x",
         "y": [
          0,
          0.21784544091657293,
          0.21784544091657293,
          0.16831985147007253
         ],
         "yaxis": "y"
        },
        {
         "hoverinfo": "text",
         "marker": {
          "color": "rgb(255,65,54)"
         },
         "mode": "lines",
         "type": "scatter",
         "x": [
          3745,
          3745,
          3762.5,
          3762.5
         ],
         "xaxis": "x",
         "y": [
          0,
          0.26186443907259394,
          0.26186443907259394,
          0.21784544091657293
         ],
         "yaxis": "y"
        },
        {
         "hoverinfo": "text",
         "marker": {
          "color": "rgb(255,65,54)"
         },
         "mode": "lines",
         "type": "scatter",
         "x": [
          3730,
          3730,
          3753.75,
          3753.75
         ],
         "xaxis": "x",
         "y": [
          0.18794025836142483,
          0.33360185785254365,
          0.33360185785254365,
          0.26186443907259394
         ],
         "yaxis": "y"
        },
        {
         "hoverinfo": "text",
         "marker": {
          "color": "rgb(255,65,54)"
         },
         "mode": "lines",
         "type": "scatter",
         "x": [
          3795,
          3795,
          3805,
          3805
         ],
         "xaxis": "x",
         "y": [
          0,
          0.17936690170756386,
          0.17936690170756386,
          0
         ],
         "yaxis": "y"
        },
        {
         "hoverinfo": "text",
         "marker": {
          "color": "rgb(255,65,54)"
         },
         "mode": "lines",
         "type": "scatter",
         "x": [
          3785,
          3785,
          3800,
          3800
         ],
         "xaxis": "x",
         "y": [
          0,
          0.22750395946875182,
          0.22750395946875182,
          0.17936690170756386
         ],
         "yaxis": "y"
        },
        {
         "hoverinfo": "text",
         "marker": {
          "color": "rgb(255,65,54)"
         },
         "mode": "lines",
         "type": "scatter",
         "x": [
          3825,
          3825,
          3835,
          3835
         ],
         "xaxis": "x",
         "y": [
          0,
          0.1588601109141752,
          0.1588601109141752,
          0
         ],
         "yaxis": "y"
        },
        {
         "hoverinfo": "text",
         "marker": {
          "color": "rgb(255,65,54)"
         },
         "mode": "lines",
         "type": "scatter",
         "x": [
          3815,
          3815,
          3830,
          3830
         ],
         "xaxis": "x",
         "y": [
          0,
          0.2708189898739299,
          0.2708189898739299,
          0.1588601109141752
         ],
         "yaxis": "y"
        },
        {
         "hoverinfo": "text",
         "marker": {
          "color": "rgb(255,65,54)"
         },
         "mode": "lines",
         "type": "scatter",
         "x": [
          3792.5,
          3792.5,
          3822.5,
          3822.5
         ],
         "xaxis": "x",
         "y": [
          0.22750395946875182,
          0.28948082157252814,
          0.28948082157252814,
          0.2708189898739299
         ],
         "yaxis": "y"
        },
        {
         "hoverinfo": "text",
         "marker": {
          "color": "rgb(255,65,54)"
         },
         "mode": "lines",
         "type": "scatter",
         "x": [
          3855,
          3855,
          3865,
          3865
         ],
         "xaxis": "x",
         "y": [
          0,
          0.16751431925545682,
          0.16751431925545682,
          0
         ],
         "yaxis": "y"
        },
        {
         "hoverinfo": "text",
         "marker": {
          "color": "rgb(255,65,54)"
         },
         "mode": "lines",
         "type": "scatter",
         "x": [
          3845,
          3845,
          3860,
          3860
         ],
         "xaxis": "x",
         "y": [
          0,
          0.22422704132929797,
          0.22422704132929797,
          0.16751431925545682
         ],
         "yaxis": "y"
        },
        {
         "hoverinfo": "text",
         "marker": {
          "color": "rgb(255,65,54)"
         },
         "mode": "lines",
         "type": "scatter",
         "x": [
          3875,
          3875,
          3885,
          3885
         ],
         "xaxis": "x",
         "y": [
          0,
          0.2917971413941161,
          0.2917971413941161,
          0
         ],
         "yaxis": "y"
        },
        {
         "hoverinfo": "text",
         "marker": {
          "color": "rgb(255,65,54)"
         },
         "mode": "lines",
         "type": "scatter",
         "x": [
          3852.5,
          3852.5,
          3880,
          3880
         ],
         "xaxis": "x",
         "y": [
          0.22422704132929797,
          0.3724290896662959,
          0.3724290896662959,
          0.2917971413941161
         ],
         "yaxis": "y"
        },
        {
         "hoverinfo": "text",
         "marker": {
          "color": "rgb(255,65,54)"
         },
         "mode": "lines",
         "type": "scatter",
         "x": [
          3807.5,
          3807.5,
          3866.25,
          3866.25
         ],
         "xaxis": "x",
         "y": [
          0.28948082157252814,
          0.3955175804515568,
          0.3955175804515568,
          0.3724290896662959
         ],
         "yaxis": "y"
        },
        {
         "hoverinfo": "text",
         "marker": {
          "color": "rgb(255,65,54)"
         },
         "mode": "lines",
         "type": "scatter",
         "x": [
          3741.875,
          3741.875,
          3836.875,
          3836.875
         ],
         "xaxis": "x",
         "y": [
          0.33360185785254365,
          0.420990641300989,
          0.420990641300989,
          0.3955175804515568
         ],
         "yaxis": "y"
        },
        {
         "hoverinfo": "text",
         "marker": {
          "color": "rgb(255,65,54)"
         },
         "mode": "lines",
         "type": "scatter",
         "x": [
          3905,
          3905,
          3915,
          3915
         ],
         "xaxis": "x",
         "y": [
          0,
          0.174352812323634,
          0.174352812323634,
          0
         ],
         "yaxis": "y"
        },
        {
         "hoverinfo": "text",
         "marker": {
          "color": "rgb(255,65,54)"
         },
         "mode": "lines",
         "type": "scatter",
         "x": [
          3895,
          3895,
          3910,
          3910
         ],
         "xaxis": "x",
         "y": [
          0,
          0.2523208218548168,
          0.2523208218548168,
          0.174352812323634
         ],
         "yaxis": "y"
        },
        {
         "hoverinfo": "text",
         "marker": {
          "color": "rgb(255,65,54)"
         },
         "mode": "lines",
         "type": "scatter",
         "x": [
          3935,
          3935,
          3945,
          3945
         ],
         "xaxis": "x",
         "y": [
          0,
          0.18472468562932304,
          0.18472468562932304,
          0
         ],
         "yaxis": "y"
        },
        {
         "hoverinfo": "text",
         "marker": {
          "color": "rgb(255,65,54)"
         },
         "mode": "lines",
         "type": "scatter",
         "x": [
          3925,
          3925,
          3940,
          3940
         ],
         "xaxis": "x",
         "y": [
          0,
          0.2381708967800255,
          0.2381708967800255,
          0.18472468562932304
         ],
         "yaxis": "y"
        },
        {
         "hoverinfo": "text",
         "marker": {
          "color": "rgb(255,65,54)"
         },
         "mode": "lines",
         "type": "scatter",
         "x": [
          3965,
          3965,
          3975,
          3975
         ],
         "xaxis": "x",
         "y": [
          0,
          0.19784629633133186,
          0.19784629633133186,
          0
         ],
         "yaxis": "y"
        },
        {
         "hoverinfo": "text",
         "marker": {
          "color": "rgb(255,65,54)"
         },
         "mode": "lines",
         "type": "scatter",
         "x": [
          3955,
          3955,
          3970,
          3970
         ],
         "xaxis": "x",
         "y": [
          0,
          0.21627333887374312,
          0.21627333887374312,
          0.19784629633133186
         ],
         "yaxis": "y"
        },
        {
         "hoverinfo": "text",
         "marker": {
          "color": "rgb(255,65,54)"
         },
         "mode": "lines",
         "type": "scatter",
         "x": [
          3985,
          3985,
          3995,
          3995
         ],
         "xaxis": "x",
         "y": [
          0,
          0.26952936348216744,
          0.26952936348216744,
          0
         ],
         "yaxis": "y"
        },
        {
         "hoverinfo": "text",
         "marker": {
          "color": "rgb(255,65,54)"
         },
         "mode": "lines",
         "type": "scatter",
         "x": [
          3962.5,
          3962.5,
          3990,
          3990
         ],
         "xaxis": "x",
         "y": [
          0.21627333887374312,
          0.31972053407292284,
          0.31972053407292284,
          0.26952936348216744
         ],
         "yaxis": "y"
        },
        {
         "hoverinfo": "text",
         "marker": {
          "color": "rgb(255,65,54)"
         },
         "mode": "lines",
         "type": "scatter",
         "x": [
          3932.5,
          3932.5,
          3976.25,
          3976.25
         ],
         "xaxis": "x",
         "y": [
          0.2381708967800255,
          0.34781746752159315,
          0.34781746752159315,
          0.31972053407292284
         ],
         "yaxis": "y"
        },
        {
         "hoverinfo": "text",
         "marker": {
          "color": "rgb(255,65,54)"
         },
         "mode": "lines",
         "type": "scatter",
         "x": [
          3902.5,
          3902.5,
          3954.375,
          3954.375
         ],
         "xaxis": "x",
         "y": [
          0.2523208218548168,
          0.367376990389882,
          0.367376990389882,
          0.34781746752159315
         ],
         "yaxis": "y"
        },
        {
         "hoverinfo": "text",
         "marker": {
          "color": "rgb(255,65,54)"
         },
         "mode": "lines",
         "type": "scatter",
         "x": [
          4005,
          4005,
          4015,
          4015
         ],
         "xaxis": "x",
         "y": [
          0,
          0.1819162936835588,
          0.1819162936835588,
          0
         ],
         "yaxis": "y"
        },
        {
         "hoverinfo": "text",
         "marker": {
          "color": "rgb(255,65,54)"
         },
         "mode": "lines",
         "type": "scatter",
         "x": [
          4045,
          4045,
          4055,
          4055
         ],
         "xaxis": "x",
         "y": [
          0,
          0.20282716970938253,
          0.20282716970938253,
          0
         ],
         "yaxis": "y"
        },
        {
         "hoverinfo": "text",
         "marker": {
          "color": "rgb(255,65,54)"
         },
         "mode": "lines",
         "type": "scatter",
         "x": [
          4035,
          4035,
          4050,
          4050
         ],
         "xaxis": "x",
         "y": [
          0,
          0.2397431054796343,
          0.2397431054796343,
          0.20282716970938253
         ],
         "yaxis": "y"
        },
        {
         "hoverinfo": "text",
         "marker": {
          "color": "rgb(255,65,54)"
         },
         "mode": "lines",
         "type": "scatter",
         "x": [
          4025,
          4025,
          4042.5,
          4042.5
         ],
         "xaxis": "x",
         "y": [
          0,
          0.29910655521251794,
          0.29910655521251794,
          0.2397431054796343
         ],
         "yaxis": "y"
        },
        {
         "hoverinfo": "text",
         "marker": {
          "color": "rgb(255,65,54)"
         },
         "mode": "lines",
         "type": "scatter",
         "x": [
          4010,
          4010,
          4033.75,
          4033.75
         ],
         "xaxis": "x",
         "y": [
          0.1819162936835588,
          0.31575051834909074,
          0.31575051834909074,
          0.29910655521251794
         ],
         "yaxis": "y"
        },
        {
         "hoverinfo": "text",
         "marker": {
          "color": "rgb(255,65,54)"
         },
         "mode": "lines",
         "type": "scatter",
         "x": [
          4065,
          4065,
          4075,
          4075
         ],
         "xaxis": "x",
         "y": [
          0,
          0.1685584427197476,
          0.1685584427197476,
          0
         ],
         "yaxis": "y"
        },
        {
         "hoverinfo": "text",
         "marker": {
          "color": "rgb(255,65,54)"
         },
         "mode": "lines",
         "type": "scatter",
         "x": [
          4095,
          4095,
          4105,
          4105
         ],
         "xaxis": "x",
         "y": [
          0,
          0.19794336895091363,
          0.19794336895091363,
          0
         ],
         "yaxis": "y"
        },
        {
         "hoverinfo": "text",
         "marker": {
          "color": "rgb(255,65,54)"
         },
         "mode": "lines",
         "type": "scatter",
         "x": [
          4085,
          4085,
          4100,
          4100
         ],
         "xaxis": "x",
         "y": [
          0,
          0.24245861170882652,
          0.24245861170882652,
          0.19794336895091363
         ],
         "yaxis": "y"
        },
        {
         "hoverinfo": "text",
         "marker": {
          "color": "rgb(255,65,54)"
         },
         "mode": "lines",
         "type": "scatter",
         "x": [
          4070,
          4070,
          4092.5,
          4092.5
         ],
         "xaxis": "x",
         "y": [
          0.1685584427197476,
          0.35771300348190277,
          0.35771300348190277,
          0.24245861170882652
         ],
         "yaxis": "y"
        },
        {
         "hoverinfo": "text",
         "marker": {
          "color": "rgb(255,65,54)"
         },
         "mode": "lines",
         "type": "scatter",
         "x": [
          4021.875,
          4021.875,
          4081.25,
          4081.25
         ],
         "xaxis": "x",
         "y": [
          0.31575051834909074,
          0.40844082867573095,
          0.40844082867573095,
          0.35771300348190277
         ],
         "yaxis": "y"
        },
        {
         "hoverinfo": "text",
         "marker": {
          "color": "rgb(255,65,54)"
         },
         "mode": "lines",
         "type": "scatter",
         "x": [
          3928.4375,
          3928.4375,
          4051.5625,
          4051.5625
         ],
         "xaxis": "x",
         "y": [
          0.367376990389882,
          0.514306790055274,
          0.514306790055274,
          0.40844082867573095
         ],
         "yaxis": "y"
        },
        {
         "hoverinfo": "text",
         "marker": {
          "color": "rgb(255,65,54)"
         },
         "mode": "lines",
         "type": "scatter",
         "x": [
          3789.375,
          3789.375,
          3990,
          3990
         ],
         "xaxis": "x",
         "y": [
          0.420990641300989,
          0.5684453278270979,
          0.5684453278270979,
          0.514306790055274
         ],
         "yaxis": "y"
        },
        {
         "hoverinfo": "text",
         "marker": {
          "color": "rgb(255,65,54)"
         },
         "mode": "lines",
         "type": "scatter",
         "x": [
          4125,
          4125,
          4135,
          4135
         ],
         "xaxis": "x",
         "y": [
          0,
          0.14450803768217219,
          0.14450803768217219,
          0
         ],
         "yaxis": "y"
        },
        {
         "hoverinfo": "text",
         "marker": {
          "color": "rgb(255,65,54)"
         },
         "mode": "lines",
         "type": "scatter",
         "x": [
          4115,
          4115,
          4130,
          4130
         ],
         "xaxis": "x",
         "y": [
          0,
          0.259668113860826,
          0.259668113860826,
          0.14450803768217219
         ],
         "yaxis": "y"
        },
        {
         "hoverinfo": "text",
         "marker": {
          "color": "rgb(255,65,54)"
         },
         "mode": "lines",
         "type": "scatter",
         "x": [
          4155,
          4155,
          4165,
          4165
         ],
         "xaxis": "x",
         "y": [
          0,
          0.21153431176385212,
          0.21153431176385212,
          0
         ],
         "yaxis": "y"
        },
        {
         "hoverinfo": "text",
         "marker": {
          "color": "rgb(255,65,54)"
         },
         "mode": "lines",
         "type": "scatter",
         "x": [
          4145,
          4145,
          4160,
          4160
         ],
         "xaxis": "x",
         "y": [
          0,
          0.2890525346476618,
          0.2890525346476618,
          0.21153431176385212
         ],
         "yaxis": "y"
        },
        {
         "hoverinfo": "text",
         "marker": {
          "color": "rgb(255,65,54)"
         },
         "mode": "lines",
         "type": "scatter",
         "x": [
          4122.5,
          4122.5,
          4152.5,
          4152.5
         ],
         "xaxis": "x",
         "y": [
          0.259668113860826,
          0.40132742948582045,
          0.40132742948582045,
          0.2890525346476618
         ],
         "yaxis": "y"
        },
        {
         "hoverinfo": "text",
         "marker": {
          "color": "rgb(255,65,54)"
         },
         "mode": "lines",
         "type": "scatter",
         "x": [
          4195,
          4195,
          4205,
          4205
         ],
         "xaxis": "x",
         "y": [
          0,
          0.2851291941480784,
          0.2851291941480784,
          0
         ],
         "yaxis": "y"
        },
        {
         "hoverinfo": "text",
         "marker": {
          "color": "rgb(255,65,54)"
         },
         "mode": "lines",
         "type": "scatter",
         "x": [
          4185,
          4185,
          4200,
          4200
         ],
         "xaxis": "x",
         "y": [
          0,
          0.35496985942228787,
          0.35496985942228787,
          0.2851291941480784
         ],
         "yaxis": "y"
        },
        {
         "hoverinfo": "text",
         "marker": {
          "color": "rgb(255,65,54)"
         },
         "mode": "lines",
         "type": "scatter",
         "x": [
          4175,
          4175,
          4192.5,
          4192.5
         ],
         "xaxis": "x",
         "y": [
          0,
          0.3873961306757292,
          0.3873961306757292,
          0.35496985942228787
         ],
         "yaxis": "y"
        },
        {
         "hoverinfo": "text",
         "marker": {
          "color": "rgb(255,65,54)"
         },
         "mode": "lines",
         "type": "scatter",
         "x": [
          4235,
          4235,
          4245,
          4245
         ],
         "xaxis": "x",
         "y": [
          0,
          0.1649402160884899,
          0.1649402160884899,
          0
         ],
         "yaxis": "y"
        },
        {
         "hoverinfo": "text",
         "marker": {
          "color": "rgb(255,65,54)"
         },
         "mode": "lines",
         "type": "scatter",
         "x": [
          4225,
          4225,
          4240,
          4240
         ],
         "xaxis": "x",
         "y": [
          0,
          0.2651758749720423,
          0.2651758749720423,
          0.1649402160884899
         ],
         "yaxis": "y"
        },
        {
         "hoverinfo": "text",
         "marker": {
          "color": "rgb(255,65,54)"
         },
         "mode": "lines",
         "type": "scatter",
         "x": [
          4215,
          4215,
          4232.5,
          4232.5
         ],
         "xaxis": "x",
         "y": [
          0,
          0.2902173952770631,
          0.2902173952770631,
          0.2651758749720423
         ],
         "yaxis": "y"
        },
        {
         "hoverinfo": "text",
         "marker": {
          "color": "rgb(255,65,54)"
         },
         "mode": "lines",
         "type": "scatter",
         "x": [
          4275,
          4275,
          4285,
          4285
         ],
         "xaxis": "x",
         "y": [
          0,
          0.19903190207202867,
          0.19903190207202867,
          0
         ],
         "yaxis": "y"
        },
        {
         "hoverinfo": "text",
         "marker": {
          "color": "rgb(255,65,54)"
         },
         "mode": "lines",
         "type": "scatter",
         "x": [
          4265,
          4265,
          4280,
          4280
         ],
         "xaxis": "x",
         "y": [
          0,
          0.2204764777048426,
          0.2204764777048426,
          0.19903190207202867
         ],
         "yaxis": "y"
        },
        {
         "hoverinfo": "text",
         "marker": {
          "color": "rgb(255,65,54)"
         },
         "mode": "lines",
         "type": "scatter",
         "x": [
          4255,
          4255,
          4272.5,
          4272.5
         ],
         "xaxis": "x",
         "y": [
          0,
          0.3000799173774199,
          0.3000799173774199,
          0.2204764777048426
         ],
         "yaxis": "y"
        },
        {
         "hoverinfo": "text",
         "marker": {
          "color": "rgb(255,65,54)"
         },
         "mode": "lines",
         "type": "scatter",
         "x": [
          4223.75,
          4223.75,
          4263.75,
          4263.75
         ],
         "xaxis": "x",
         "y": [
          0.2902173952770631,
          0.3932613875922879,
          0.3932613875922879,
          0.3000799173774199
         ],
         "yaxis": "y"
        },
        {
         "hoverinfo": "text",
         "marker": {
          "color": "rgb(255,65,54)"
         },
         "mode": "lines",
         "type": "scatter",
         "x": [
          4315,
          4315,
          4325,
          4325
         ],
         "xaxis": "x",
         "y": [
          0,
          0.13588417109287032,
          0.13588417109287032,
          0
         ],
         "yaxis": "y"
        },
        {
         "hoverinfo": "text",
         "marker": {
          "color": "rgb(255,65,54)"
         },
         "mode": "lines",
         "type": "scatter",
         "x": [
          4305,
          4305,
          4320,
          4320
         ],
         "xaxis": "x",
         "y": [
          0,
          0.1835863633607381,
          0.1835863633607381,
          0.13588417109287032
         ],
         "yaxis": "y"
        },
        {
         "hoverinfo": "text",
         "marker": {
          "color": "rgb(255,65,54)"
         },
         "mode": "lines",
         "type": "scatter",
         "x": [
          4295,
          4295,
          4312.5,
          4312.5
         ],
         "xaxis": "x",
         "y": [
          0,
          0.31821268726658997,
          0.31821268726658997,
          0.1835863633607381
         ],
         "yaxis": "y"
        },
        {
         "hoverinfo": "text",
         "marker": {
          "color": "rgb(255,65,54)"
         },
         "mode": "lines",
         "type": "scatter",
         "x": [
          4345,
          4345,
          4355,
          4355
         ],
         "xaxis": "x",
         "y": [
          0,
          0.20192190187730924,
          0.20192190187730924,
          0
         ],
         "yaxis": "y"
        },
        {
         "hoverinfo": "text",
         "marker": {
          "color": "rgb(255,65,54)"
         },
         "mode": "lines",
         "type": "scatter",
         "x": [
          4335,
          4335,
          4350,
          4350
         ],
         "xaxis": "x",
         "y": [
          0,
          0.2549170896238746,
          0.2549170896238746,
          0.20192190187730924
         ],
         "yaxis": "y"
        },
        {
         "hoverinfo": "text",
         "marker": {
          "color": "rgb(255,65,54)"
         },
         "mode": "lines",
         "type": "scatter",
         "x": [
          4375,
          4375,
          4385,
          4385
         ],
         "xaxis": "x",
         "y": [
          0,
          0.1571551700199461,
          0.1571551700199461,
          0
         ],
         "yaxis": "y"
        },
        {
         "hoverinfo": "text",
         "marker": {
          "color": "rgb(255,65,54)"
         },
         "mode": "lines",
         "type": "scatter",
         "x": [
          4365,
          4365,
          4380,
          4380
         ],
         "xaxis": "x",
         "y": [
          0,
          0.28388923314650294,
          0.28388923314650294,
          0.1571551700199461
         ],
         "yaxis": "y"
        },
        {
         "hoverinfo": "text",
         "marker": {
          "color": "rgb(255,65,54)"
         },
         "mode": "lines",
         "type": "scatter",
         "x": [
          4342.5,
          4342.5,
          4372.5,
          4372.5
         ],
         "xaxis": "x",
         "y": [
          0.2549170896238746,
          0.33111208051332397,
          0.33111208051332397,
          0.28388923314650294
         ],
         "yaxis": "y"
        },
        {
         "hoverinfo": "text",
         "marker": {
          "color": "rgb(255,65,54)"
         },
         "mode": "lines",
         "type": "scatter",
         "x": [
          4303.75,
          4303.75,
          4357.5,
          4357.5
         ],
         "xaxis": "x",
         "y": [
          0.31821268726658997,
          0.4149378753957601,
          0.4149378753957601,
          0.33111208051332397
         ],
         "yaxis": "y"
        },
        {
         "hoverinfo": "text",
         "marker": {
          "color": "rgb(255,65,54)"
         },
         "mode": "lines",
         "type": "scatter",
         "x": [
          4243.75,
          4243.75,
          4330.625,
          4330.625
         ],
         "xaxis": "x",
         "y": [
          0.3932613875922879,
          0.487696348196724,
          0.487696348196724,
          0.4149378753957601
         ],
         "yaxis": "y"
        },
        {
         "hoverinfo": "text",
         "marker": {
          "color": "rgb(255,65,54)"
         },
         "mode": "lines",
         "type": "scatter",
         "x": [
          4183.75,
          4183.75,
          4287.1875,
          4287.1875
         ],
         "xaxis": "x",
         "y": [
          0.3873961306757292,
          0.5729504168876499,
          0.5729504168876499,
          0.487696348196724
         ],
         "yaxis": "y"
        },
        {
         "hoverinfo": "text",
         "marker": {
          "color": "rgb(255,65,54)"
         },
         "mode": "lines",
         "type": "scatter",
         "x": [
          4137.5,
          4137.5,
          4235.46875,
          4235.46875
         ],
         "xaxis": "x",
         "y": [
          0.40132742948582045,
          0.6086011407405517,
          0.6086011407405517,
          0.5729504168876499
         ],
         "yaxis": "y"
        },
        {
         "hoverinfo": "text",
         "marker": {
          "color": "rgb(255,65,54)"
         },
         "mode": "lines",
         "type": "scatter",
         "x": [
          3889.6875,
          3889.6875,
          4186.484375,
          4186.484375
         ],
         "xaxis": "x",
         "y": [
          0.5684453278270979,
          0.7370093480587215,
          0.7370093480587215,
          0.6086011407405517
         ],
         "yaxis": "y"
        },
        {
         "hoverinfo": "text",
         "marker": {
          "color": "rgb(255,65,54)"
         },
         "mode": "lines",
         "type": "scatter",
         "x": [
          4415,
          4415,
          4425,
          4425
         ],
         "xaxis": "x",
         "y": [
          0,
          0.24577216752616585,
          0.24577216752616585,
          0
         ],
         "yaxis": "y"
        },
        {
         "hoverinfo": "text",
         "marker": {
          "color": "rgb(255,65,54)"
         },
         "mode": "lines",
         "type": "scatter",
         "x": [
          4405,
          4405,
          4420,
          4420
         ],
         "xaxis": "x",
         "y": [
          0,
          0.34541477886317196,
          0.34541477886317196,
          0.24577216752616585
         ],
         "yaxis": "y"
        },
        {
         "hoverinfo": "text",
         "marker": {
          "color": "rgb(255,65,54)"
         },
         "mode": "lines",
         "type": "scatter",
         "x": [
          4395,
          4395,
          4412.5,
          4412.5
         ],
         "xaxis": "x",
         "y": [
          0,
          0.3843000568635336,
          0.3843000568635336,
          0.34541477886317196
         ],
         "yaxis": "y"
        },
        {
         "hoverinfo": "text",
         "marker": {
          "color": "rgb(255,65,54)"
         },
         "mode": "lines",
         "type": "scatter",
         "x": [
          4475,
          4475,
          4485,
          4485
         ],
         "xaxis": "x",
         "y": [
          0,
          0.18356129096304605,
          0.18356129096304605,
          0
         ],
         "yaxis": "y"
        },
        {
         "hoverinfo": "text",
         "marker": {
          "color": "rgb(255,65,54)"
         },
         "mode": "lines",
         "type": "scatter",
         "x": [
          4465,
          4465,
          4480,
          4480
         ],
         "xaxis": "x",
         "y": [
          0,
          0.25172352637509515,
          0.25172352637509515,
          0.18356129096304605
         ],
         "yaxis": "y"
        },
        {
         "hoverinfo": "text",
         "marker": {
          "color": "rgb(255,65,54)"
         },
         "mode": "lines",
         "type": "scatter",
         "x": [
          4455,
          4455,
          4472.5,
          4472.5
         ],
         "xaxis": "x",
         "y": [
          0,
          0.2925747895588368,
          0.2925747895588368,
          0.25172352637509515
         ],
         "yaxis": "y"
        },
        {
         "hoverinfo": "text",
         "marker": {
          "color": "rgb(255,65,54)"
         },
         "mode": "lines",
         "type": "scatter",
         "x": [
          4445,
          4445,
          4463.75,
          4463.75
         ],
         "xaxis": "x",
         "y": [
          0,
          0.3339124810705681,
          0.3339124810705681,
          0.2925747895588368
         ],
         "yaxis": "y"
        },
        {
         "hoverinfo": "text",
         "marker": {
          "color": "rgb(255,65,54)"
         },
         "mode": "lines",
         "type": "scatter",
         "x": [
          4435,
          4435,
          4454.375,
          4454.375
         ],
         "xaxis": "x",
         "y": [
          0,
          0.4169115355519359,
          0.4169115355519359,
          0.3339124810705681
         ],
         "yaxis": "y"
        },
        {
         "hoverinfo": "text",
         "marker": {
          "color": "rgb(255,65,54)"
         },
         "mode": "lines",
         "type": "scatter",
         "x": [
          4403.75,
          4403.75,
          4444.6875,
          4444.6875
         ],
         "xaxis": "x",
         "y": [
          0.3843000568635336,
          0.5003877025325568,
          0.5003877025325568,
          0.4169115355519359
         ],
         "yaxis": "y"
        },
        {
         "hoverinfo": "text",
         "marker": {
          "color": "rgb(255,65,54)"
         },
         "mode": "lines",
         "type": "scatter",
         "x": [
          4495,
          4495,
          4505,
          4505
         ],
         "xaxis": "x",
         "y": [
          0,
          0.2436701179084856,
          0.2436701179084856,
          0
         ],
         "yaxis": "y"
        },
        {
         "hoverinfo": "text",
         "marker": {
          "color": "rgb(255,65,54)"
         },
         "mode": "lines",
         "type": "scatter",
         "x": [
          4515,
          4515,
          4525,
          4525
         ],
         "xaxis": "x",
         "y": [
          0,
          0.2774142105482188,
          0.2774142105482188,
          0
         ],
         "yaxis": "y"
        },
        {
         "hoverinfo": "text",
         "marker": {
          "color": "rgb(255,65,54)"
         },
         "mode": "lines",
         "type": "scatter",
         "x": [
          4500,
          4500,
          4520,
          4520
         ],
         "xaxis": "x",
         "y": [
          0.2436701179084856,
          0.3923650078581048,
          0.3923650078581048,
          0.2774142105482188
         ],
         "yaxis": "y"
        },
        {
         "hoverinfo": "text",
         "marker": {
          "color": "rgb(255,65,54)"
         },
         "mode": "lines",
         "type": "scatter",
         "x": [
          4545,
          4545,
          4555,
          4555
         ],
         "xaxis": "x",
         "y": [
          0,
          0.21777216572948502,
          0.21777216572948502,
          0
         ],
         "yaxis": "y"
        },
        {
         "hoverinfo": "text",
         "marker": {
          "color": "rgb(255,65,54)"
         },
         "mode": "lines",
         "type": "scatter",
         "x": [
          4535,
          4535,
          4550,
          4550
         ],
         "xaxis": "x",
         "y": [
          0,
          0.2736487630907983,
          0.2736487630907983,
          0.21777216572948502
         ],
         "yaxis": "y"
        },
        {
         "hoverinfo": "text",
         "marker": {
          "color": "rgb(255,65,54)"
         },
         "mode": "lines",
         "type": "scatter",
         "x": [
          4575,
          4575,
          4585,
          4585
         ],
         "xaxis": "x",
         "y": [
          0,
          0.1989185266129567,
          0.1989185266129567,
          0
         ],
         "yaxis": "y"
        },
        {
         "hoverinfo": "text",
         "marker": {
          "color": "rgb(255,65,54)"
         },
         "mode": "lines",
         "type": "scatter",
         "x": [
          4565,
          4565,
          4580,
          4580
         ],
         "xaxis": "x",
         "y": [
          0,
          0.26988566726354163,
          0.26988566726354163,
          0.1989185266129567
         ],
         "yaxis": "y"
        },
        {
         "hoverinfo": "text",
         "marker": {
          "color": "rgb(255,65,54)"
         },
         "mode": "lines",
         "type": "scatter",
         "x": [
          4605,
          4605,
          4615,
          4615
         ],
         "xaxis": "x",
         "y": [
          0,
          0.219814069047386,
          0.219814069047386,
          0
         ],
         "yaxis": "y"
        },
        {
         "hoverinfo": "text",
         "marker": {
          "color": "rgb(255,65,54)"
         },
         "mode": "lines",
         "type": "scatter",
         "x": [
          4595,
          4595,
          4610,
          4610
         ],
         "xaxis": "x",
         "y": [
          0,
          0.2758160829271263,
          0.2758160829271263,
          0.219814069047386
         ],
         "yaxis": "y"
        },
        {
         "hoverinfo": "text",
         "marker": {
          "color": "rgb(255,65,54)"
         },
         "mode": "lines",
         "type": "scatter",
         "x": [
          4572.5,
          4572.5,
          4602.5,
          4602.5
         ],
         "xaxis": "x",
         "y": [
          0.26988566726354163,
          0.4114687189523029,
          0.4114687189523029,
          0.2758160829271263
         ],
         "yaxis": "y"
        },
        {
         "hoverinfo": "text",
         "marker": {
          "color": "rgb(255,65,54)"
         },
         "mode": "lines",
         "type": "scatter",
         "x": [
          4542.5,
          4542.5,
          4587.5,
          4587.5
         ],
         "xaxis": "x",
         "y": [
          0.2736487630907983,
          0.43653459685236123,
          0.43653459685236123,
          0.4114687189523029
         ],
         "yaxis": "y"
        },
        {
         "hoverinfo": "text",
         "marker": {
          "color": "rgb(255,65,54)"
         },
         "mode": "lines",
         "type": "scatter",
         "x": [
          4510,
          4510,
          4565,
          4565
         ],
         "xaxis": "x",
         "y": [
          0.3923650078581048,
          0.5021336416980516,
          0.5021336416980516,
          0.43653459685236123
         ],
         "yaxis": "y"
        },
        {
         "hoverinfo": "text",
         "marker": {
          "color": "rgb(255,65,54)"
         },
         "mode": "lines",
         "type": "scatter",
         "x": [
          4424.21875,
          4424.21875,
          4537.5,
          4537.5
         ],
         "xaxis": "x",
         "y": [
          0.5003877025325568,
          0.5546627823939686,
          0.5546627823939686,
          0.5021336416980516
         ],
         "yaxis": "y"
        },
        {
         "hoverinfo": "text",
         "marker": {
          "color": "rgb(255,65,54)"
         },
         "mode": "lines",
         "type": "scatter",
         "x": [
          4625,
          4625,
          4635,
          4635
         ],
         "xaxis": "x",
         "y": [
          0,
          0.2956104456511083,
          0.2956104456511083,
          0
         ],
         "yaxis": "y"
        },
        {
         "hoverinfo": "text",
         "marker": {
          "color": "rgb(255,65,54)"
         },
         "mode": "lines",
         "type": "scatter",
         "x": [
          4645,
          4645,
          4655,
          4655
         ],
         "xaxis": "x",
         "y": [
          0,
          0.3507446699352883,
          0.3507446699352883,
          0
         ],
         "yaxis": "y"
        },
        {
         "hoverinfo": "text",
         "marker": {
          "color": "rgb(255,65,54)"
         },
         "mode": "lines",
         "type": "scatter",
         "x": [
          4630,
          4630,
          4650,
          4650
         ],
         "xaxis": "x",
         "y": [
          0.2956104456511083,
          0.45644606476985944,
          0.45644606476985944,
          0.3507446699352883
         ],
         "yaxis": "y"
        },
        {
         "hoverinfo": "text",
         "marker": {
          "color": "rgb(255,65,54)"
         },
         "mode": "lines",
         "type": "scatter",
         "x": [
          4665,
          4665,
          4675,
          4675
         ],
         "xaxis": "x",
         "y": [
          0,
          0.24965591015516914,
          0.24965591015516914,
          0
         ],
         "yaxis": "y"
        },
        {
         "hoverinfo": "text",
         "marker": {
          "color": "rgb(255,65,54)"
         },
         "mode": "lines",
         "type": "scatter",
         "x": [
          4685,
          4685,
          4695,
          4695
         ],
         "xaxis": "x",
         "y": [
          0,
          0.2324847231177302,
          0.2324847231177302,
          0
         ],
         "yaxis": "y"
        },
        {
         "hoverinfo": "text",
         "marker": {
          "color": "rgb(255,65,54)"
         },
         "mode": "lines",
         "type": "scatter",
         "x": [
          4705,
          4705,
          4715,
          4715
         ],
         "xaxis": "x",
         "y": [
          0,
          0.2600301554309762,
          0.2600301554309762,
          0
         ],
         "yaxis": "y"
        },
        {
         "hoverinfo": "text",
         "marker": {
          "color": "rgb(255,65,54)"
         },
         "mode": "lines",
         "type": "scatter",
         "x": [
          4690,
          4690,
          4710,
          4710
         ],
         "xaxis": "x",
         "y": [
          0.2324847231177302,
          0.33331230663262695,
          0.33331230663262695,
          0.2600301554309762
         ],
         "yaxis": "y"
        },
        {
         "hoverinfo": "text",
         "marker": {
          "color": "rgb(255,65,54)"
         },
         "mode": "lines",
         "type": "scatter",
         "x": [
          4670,
          4670,
          4700,
          4700
         ],
         "xaxis": "x",
         "y": [
          0.24965591015516914,
          0.4202525770237003,
          0.4202525770237003,
          0.33331230663262695
         ],
         "yaxis": "y"
        },
        {
         "hoverinfo": "text",
         "marker": {
          "color": "rgb(255,65,54)"
         },
         "mode": "lines",
         "type": "scatter",
         "x": [
          4735,
          4735,
          4745,
          4745
         ],
         "xaxis": "x",
         "y": [
          0,
          0.2757973921633626,
          0.2757973921633626,
          0
         ],
         "yaxis": "y"
        },
        {
         "hoverinfo": "text",
         "marker": {
          "color": "rgb(255,65,54)"
         },
         "mode": "lines",
         "type": "scatter",
         "x": [
          4725,
          4725,
          4740,
          4740
         ],
         "xaxis": "x",
         "y": [
          0,
          0.3151623064590579,
          0.3151623064590579,
          0.2757973921633626
         ],
         "yaxis": "y"
        },
        {
         "hoverinfo": "text",
         "marker": {
          "color": "rgb(255,65,54)"
         },
         "mode": "lines",
         "type": "scatter",
         "x": [
          4765,
          4765,
          4775,
          4775
         ],
         "xaxis": "x",
         "y": [
          0,
          0.2386914442308994,
          0.2386914442308994,
          0
         ],
         "yaxis": "y"
        },
        {
         "hoverinfo": "text",
         "marker": {
          "color": "rgb(255,65,54)"
         },
         "mode": "lines",
         "type": "scatter",
         "x": [
          4755,
          4755,
          4770,
          4770
         ],
         "xaxis": "x",
         "y": [
          0,
          0.25707471418386313,
          0.25707471418386313,
          0.2386914442308994
         ],
         "yaxis": "y"
        },
        {
         "hoverinfo": "text",
         "marker": {
          "color": "rgb(255,65,54)"
         },
         "mode": "lines",
         "type": "scatter",
         "x": [
          4785,
          4785,
          4795,
          4795
         ],
         "xaxis": "x",
         "y": [
          0,
          0.28035364464375007,
          0.28035364464375007,
          0
         ],
         "yaxis": "y"
        },
        {
         "hoverinfo": "text",
         "marker": {
          "color": "rgb(255,65,54)"
         },
         "mode": "lines",
         "type": "scatter",
         "x": [
          4762.5,
          4762.5,
          4790,
          4790
         ],
         "xaxis": "x",
         "y": [
          0.25707471418386313,
          0.3718820254807402,
          0.3718820254807402,
          0.28035364464375007
         ],
         "yaxis": "y"
        },
        {
         "hoverinfo": "text",
         "marker": {
          "color": "rgb(255,65,54)"
         },
         "mode": "lines",
         "type": "scatter",
         "x": [
          4732.5,
          4732.5,
          4776.25,
          4776.25
         ],
         "xaxis": "x",
         "y": [
          0.3151623064590579,
          0.4949312695363423,
          0.4949312695363423,
          0.3718820254807402
         ],
         "yaxis": "y"
        },
        {
         "hoverinfo": "text",
         "marker": {
          "color": "rgb(255,65,54)"
         },
         "mode": "lines",
         "type": "scatter",
         "x": [
          4685,
          4685,
          4754.375,
          4754.375
         ],
         "xaxis": "x",
         "y": [
          0.4202525770237003,
          0.5746046866347462,
          0.5746046866347462,
          0.4949312695363423
         ],
         "yaxis": "y"
        },
        {
         "hoverinfo": "text",
         "marker": {
          "color": "rgb(255,65,54)"
         },
         "mode": "lines",
         "type": "scatter",
         "x": [
          4640,
          4640,
          4719.6875,
          4719.6875
         ],
         "xaxis": "x",
         "y": [
          0.45644606476985944,
          0.6283306222668662,
          0.6283306222668662,
          0.5746046866347462
         ],
         "yaxis": "y"
        },
        {
         "hoverinfo": "text",
         "marker": {
          "color": "rgb(255,65,54)"
         },
         "mode": "lines",
         "type": "scatter",
         "x": [
          4480.859375,
          4480.859375,
          4679.84375,
          4679.84375
         ],
         "xaxis": "x",
         "y": [
          0.5546627823939686,
          0.8036643356335986,
          0.8036643356335986,
          0.6283306222668662
         ],
         "yaxis": "y"
        },
        {
         "hoverinfo": "text",
         "marker": {
          "color": "rgb(255,65,54)"
         },
         "mode": "lines",
         "type": "scatter",
         "x": [
          4038.0859375,
          4038.0859375,
          4580.3515625,
          4580.3515625
         ],
         "xaxis": "x",
         "y": [
          0.7370093480587215,
          0.8905534975268333,
          0.8905534975268333,
          0.8036643356335986
         ],
         "yaxis": "y"
        },
        {
         "hoverinfo": "text",
         "marker": {
          "color": "rgb(255,65,54)"
         },
         "mode": "lines",
         "type": "scatter",
         "x": [
          3534.375,
          3534.375,
          4309.21875,
          4309.21875
         ],
         "xaxis": "x",
         "y": [
          0.8723856087032982,
          1.07102397201521,
          1.07102397201521,
          0.8905534975268333
         ],
         "yaxis": "y"
        },
        {
         "hoverinfo": "text",
         "marker": {
          "color": "rgb(255,65,54)"
         },
         "mode": "lines",
         "type": "scatter",
         "x": [
          4825,
          4825,
          4835,
          4835
         ],
         "xaxis": "x",
         "y": [
          0,
          0.4431439140184177,
          0.4431439140184177,
          0
         ],
         "yaxis": "y"
        },
        {
         "hoverinfo": "text",
         "marker": {
          "color": "rgb(255,65,54)"
         },
         "mode": "lines",
         "type": "scatter",
         "x": [
          4815,
          4815,
          4830,
          4830
         ],
         "xaxis": "x",
         "y": [
          0,
          0.6796182666514333,
          0.6796182666514333,
          0.4431439140184177
         ],
         "yaxis": "y"
        },
        {
         "hoverinfo": "text",
         "marker": {
          "color": "rgb(255,65,54)"
         },
         "mode": "lines",
         "type": "scatter",
         "x": [
          4805,
          4805,
          4822.5,
          4822.5
         ],
         "xaxis": "x",
         "y": [
          0,
          0.8283679901725898,
          0.8283679901725898,
          0.6796182666514333
         ],
         "yaxis": "y"
        },
        {
         "hoverinfo": "text",
         "marker": {
          "color": "rgb(255,65,54)"
         },
         "mode": "lines",
         "type": "scatter",
         "x": [
          4845,
          4845,
          4855,
          4855
         ],
         "xaxis": "x",
         "y": [
          0,
          0.4179717168095811,
          0.4179717168095811,
          0
         ],
         "yaxis": "y"
        },
        {
         "hoverinfo": "text",
         "marker": {
          "color": "rgb(255,65,54)"
         },
         "mode": "lines",
         "type": "scatter",
         "x": [
          4865,
          4865,
          4875,
          4875
         ],
         "xaxis": "x",
         "y": [
          0,
          0.37234400866932726,
          0.37234400866932726,
          0
         ],
         "yaxis": "y"
        },
        {
         "hoverinfo": "text",
         "marker": {
          "color": "rgb(255,65,54)"
         },
         "mode": "lines",
         "type": "scatter",
         "x": [
          4885,
          4885,
          4895,
          4895
         ],
         "xaxis": "x",
         "y": [
          0,
          0.3120493140992986,
          0.3120493140992986,
          0
         ],
         "yaxis": "y"
        },
        {
         "hoverinfo": "text",
         "marker": {
          "color": "rgb(255,65,54)"
         },
         "mode": "lines",
         "type": "scatter",
         "x": [
          4915,
          4915,
          4925,
          4925
         ],
         "xaxis": "x",
         "y": [
          0,
          0.2706742919272423,
          0.2706742919272423,
          0
         ],
         "yaxis": "y"
        },
        {
         "hoverinfo": "text",
         "marker": {
          "color": "rgb(255,65,54)"
         },
         "mode": "lines",
         "type": "scatter",
         "x": [
          4905,
          4905,
          4920,
          4920
         ],
         "xaxis": "x",
         "y": [
          0,
          0.38796115777084605,
          0.38796115777084605,
          0.2706742919272423
         ],
         "yaxis": "y"
        },
        {
         "hoverinfo": "text",
         "marker": {
          "color": "rgb(255,65,54)"
         },
         "mode": "lines",
         "type": "scatter",
         "x": [
          4890,
          4890,
          4912.5,
          4912.5
         ],
         "xaxis": "x",
         "y": [
          0.3120493140992986,
          0.5692665977168876,
          0.5692665977168876,
          0.38796115777084605
         ],
         "yaxis": "y"
        },
        {
         "hoverinfo": "text",
         "marker": {
          "color": "rgb(255,65,54)"
         },
         "mode": "lines",
         "type": "scatter",
         "x": [
          4870,
          4870,
          4901.25,
          4901.25
         ],
         "xaxis": "x",
         "y": [
          0.37234400866932726,
          0.6408042857775048,
          0.6408042857775048,
          0.5692665977168876
         ],
         "yaxis": "y"
        },
        {
         "hoverinfo": "text",
         "marker": {
          "color": "rgb(255,65,54)"
         },
         "mode": "lines",
         "type": "scatter",
         "x": [
          4850,
          4850,
          4885.625,
          4885.625
         ],
         "xaxis": "x",
         "y": [
          0.4179717168095811,
          0.8321955251445011,
          0.8321955251445011,
          0.6408042857775048
         ],
         "yaxis": "y"
        },
        {
         "hoverinfo": "text",
         "marker": {
          "color": "rgb(255,65,54)"
         },
         "mode": "lines",
         "type": "scatter",
         "x": [
          4813.75,
          4813.75,
          4867.8125,
          4867.8125
         ],
         "xaxis": "x",
         "y": [
          0.8283679901725898,
          1.1465280044231134,
          1.1465280044231134,
          0.8321955251445011
         ],
         "yaxis": "y"
        },
        {
         "hoverinfo": "text",
         "marker": {
          "color": "rgb(255,65,54)"
         },
         "mode": "lines",
         "type": "scatter",
         "x": [
          3921.796875,
          3921.796875,
          4840.78125,
          4840.78125
         ],
         "xaxis": "x",
         "y": [
          1.07102397201521,
          1.2203896427958416,
          1.2203896427958416,
          1.1465280044231134
         ],
         "yaxis": "y"
        },
        {
         "hoverinfo": "text",
         "marker": {
          "color": "rgb(255,65,54)"
         },
         "mode": "lines",
         "type": "scatter",
         "x": [
          3177.98828125,
          3177.98828125,
          4381.2890625,
          4381.2890625
         ],
         "xaxis": "x",
         "y": [
          1.163990290226332,
          1.490257133229314,
          1.490257133229314,
          1.2203896427958416
         ],
         "yaxis": "y"
        },
        {
         "hoverinfo": "text",
         "marker": {
          "color": "rgb(255,65,54)"
         },
         "mode": "lines",
         "type": "scatter",
         "x": [
          3092.5,
          3092.5,
          3779.638671875,
          3779.638671875
         ],
         "xaxis": "x",
         "y": [
          1.3361835790754792,
          1.6747444214778457,
          1.6747444214778457,
          1.490257133229314
         ],
         "yaxis": "y"
        },
        {
         "hoverinfo": "text",
         "marker": {
          "color": "rgb(255,65,54)"
         },
         "mode": "lines",
         "type": "scatter",
         "x": [
          2556.70166015625,
          2556.70166015625,
          3436.0693359375,
          3436.0693359375
         ],
         "xaxis": "x",
         "y": [
          1.429109138305476,
          1.9374416067681792,
          1.9374416067681792,
          1.6747444214778457
         ],
         "yaxis": "y"
        },
        {
         "hoverinfo": "text",
         "marker": {
          "color": "rgb(255,65,54)"
         },
         "mode": "lines",
         "type": "scatter",
         "x": [
          1950.416259765625,
          1950.416259765625,
          2996.385498046875,
          2996.385498046875
         ],
         "xaxis": "x",
         "y": [
          1.4835555394172342,
          2.1415645559660352,
          2.1415645559660352,
          1.9374416067681792
         ],
         "yaxis": "y"
        },
        {
         "hoverinfo": "text",
         "marker": {
          "color": "rgb(35,205,205)"
         },
         "mode": "lines",
         "type": "scatter",
         "x": [
          4935,
          4935,
          4945,
          4945
         ],
         "xaxis": "x",
         "y": [
          0,
          0.6701491522000111,
          0.6701491522000111,
          0
         ],
         "yaxis": "y"
        },
        {
         "hoverinfo": "text",
         "marker": {
          "color": "rgb(35,205,205)"
         },
         "mode": "lines",
         "type": "scatter",
         "x": [
          4955,
          4955,
          4965,
          4965
         ],
         "xaxis": "x",
         "y": [
          0,
          0.43622991758983154,
          0.43622991758983154,
          0
         ],
         "yaxis": "y"
        },
        {
         "hoverinfo": "text",
         "marker": {
          "color": "rgb(35,205,205)"
         },
         "mode": "lines",
         "type": "scatter",
         "x": [
          4985,
          4985,
          4995,
          4995
         ],
         "xaxis": "x",
         "y": [
          0,
          0.3655555729422145,
          0.3655555729422145,
          0
         ],
         "yaxis": "y"
        },
        {
         "hoverinfo": "text",
         "marker": {
          "color": "rgb(35,205,205)"
         },
         "mode": "lines",
         "type": "scatter",
         "x": [
          4975,
          4975,
          4990,
          4990
         ],
         "xaxis": "x",
         "y": [
          0,
          0.4731748905983137,
          0.4731748905983137,
          0.3655555729422145
         ],
         "yaxis": "y"
        },
        {
         "hoverinfo": "text",
         "marker": {
          "color": "rgb(35,205,205)"
         },
         "mode": "lines",
         "type": "scatter",
         "x": [
          4960,
          4960,
          4982.5,
          4982.5
         ],
         "xaxis": "x",
         "y": [
          0.43622991758983154,
          0.5557864956533242,
          0.5557864956533242,
          0.4731748905983137
         ],
         "yaxis": "y"
        },
        {
         "hoverinfo": "text",
         "marker": {
          "color": "rgb(35,205,205)"
         },
         "mode": "lines",
         "type": "scatter",
         "x": [
          5015,
          5015,
          5025,
          5025
         ],
         "xaxis": "x",
         "y": [
          0,
          0.40540490602644774,
          0.40540490602644774,
          0
         ],
         "yaxis": "y"
        },
        {
         "hoverinfo": "text",
         "marker": {
          "color": "rgb(35,205,205)"
         },
         "mode": "lines",
         "type": "scatter",
         "x": [
          5005,
          5005,
          5020,
          5020
         ],
         "xaxis": "x",
         "y": [
          0,
          0.5865869271313743,
          0.5865869271313743,
          0.40540490602644774
         ],
         "yaxis": "y"
        },
        {
         "hoverinfo": "text",
         "marker": {
          "color": "rgb(35,205,205)"
         },
         "mode": "lines",
         "type": "scatter",
         "x": [
          4971.25,
          4971.25,
          5012.5,
          5012.5
         ],
         "xaxis": "x",
         "y": [
          0.5557864956533242,
          0.7644292118345829,
          0.7644292118345829,
          0.5865869271313743
         ],
         "yaxis": "y"
        },
        {
         "hoverinfo": "text",
         "marker": {
          "color": "rgb(35,205,205)"
         },
         "mode": "lines",
         "type": "scatter",
         "x": [
          4940,
          4940,
          4991.875,
          4991.875
         ],
         "xaxis": "x",
         "y": [
          0.6701491522000111,
          0.9236274512296324,
          0.9236274512296324,
          0.7644292118345829
         ],
         "yaxis": "y"
        },
        {
         "hoverinfo": "text",
         "marker": {
          "color": "rgb(35,205,205)"
         },
         "mode": "lines",
         "type": "scatter",
         "x": [
          5045,
          5045,
          5055,
          5055
         ],
         "xaxis": "x",
         "y": [
          0,
          0.3591570118966373,
          0.3591570118966373,
          0
         ],
         "yaxis": "y"
        },
        {
         "hoverinfo": "text",
         "marker": {
          "color": "rgb(35,205,205)"
         },
         "mode": "lines",
         "type": "scatter",
         "x": [
          5035,
          5035,
          5050,
          5050
         ],
         "xaxis": "x",
         "y": [
          0,
          0.5572859353794276,
          0.5572859353794276,
          0.3591570118966373
         ],
         "yaxis": "y"
        },
        {
         "hoverinfo": "text",
         "marker": {
          "color": "rgb(35,205,205)"
         },
         "mode": "lines",
         "type": "scatter",
         "x": [
          5065,
          5065,
          5075,
          5075
         ],
         "xaxis": "x",
         "y": [
          0,
          0.3796186587463748,
          0.3796186587463748,
          0
         ],
         "yaxis": "y"
        },
        {
         "hoverinfo": "text",
         "marker": {
          "color": "rgb(35,205,205)"
         },
         "mode": "lines",
         "type": "scatter",
         "x": [
          5085,
          5085,
          5095,
          5095
         ],
         "xaxis": "x",
         "y": [
          0,
          0.4493539973164312,
          0.4493539973164312,
          0
         ],
         "yaxis": "y"
        },
        {
         "hoverinfo": "text",
         "marker": {
          "color": "rgb(35,205,205)"
         },
         "mode": "lines",
         "type": "scatter",
         "x": [
          5070,
          5070,
          5090,
          5090
         ],
         "xaxis": "x",
         "y": [
          0.3796186587463748,
          0.6065183150973462,
          0.6065183150973462,
          0.4493539973164312
         ],
         "yaxis": "y"
        },
        {
         "hoverinfo": "text",
         "marker": {
          "color": "rgb(35,205,205)"
         },
         "mode": "lines",
         "type": "scatter",
         "x": [
          5042.5,
          5042.5,
          5080,
          5080
         ],
         "xaxis": "x",
         "y": [
          0.5572859353794276,
          0.8333430146322287,
          0.8333430146322287,
          0.6065183150973462
         ],
         "yaxis": "y"
        },
        {
         "hoverinfo": "text",
         "marker": {
          "color": "rgb(35,205,205)"
         },
         "mode": "lines",
         "type": "scatter",
         "x": [
          5105,
          5105,
          5115,
          5115
         ],
         "xaxis": "x",
         "y": [
          0,
          0.37575982363791965,
          0.37575982363791965,
          0
         ],
         "yaxis": "y"
        },
        {
         "hoverinfo": "text",
         "marker": {
          "color": "rgb(35,205,205)"
         },
         "mode": "lines",
         "type": "scatter",
         "x": [
          5125,
          5125,
          5135,
          5135
         ],
         "xaxis": "x",
         "y": [
          0,
          0.6004322605579218,
          0.6004322605579218,
          0
         ],
         "yaxis": "y"
        },
        {
         "hoverinfo": "text",
         "marker": {
          "color": "rgb(35,205,205)"
         },
         "mode": "lines",
         "type": "scatter",
         "x": [
          5110,
          5110,
          5130,
          5130
         ],
         "xaxis": "x",
         "y": [
          0.37575982363791965,
          0.8654234254222493,
          0.8654234254222493,
          0.6004322605579218
         ],
         "yaxis": "y"
        },
        {
         "hoverinfo": "text",
         "marker": {
          "color": "rgb(35,205,205)"
         },
         "mode": "lines",
         "type": "scatter",
         "x": [
          5061.25,
          5061.25,
          5120,
          5120
         ],
         "xaxis": "x",
         "y": [
          0.8333430146322287,
          0.9897402179531448,
          0.9897402179531448,
          0.8654234254222493
         ],
         "yaxis": "y"
        },
        {
         "hoverinfo": "text",
         "marker": {
          "color": "rgb(35,205,205)"
         },
         "mode": "lines",
         "type": "scatter",
         "x": [
          5155,
          5155,
          5165,
          5165
         ],
         "xaxis": "x",
         "y": [
          0,
          0.3934405756048696,
          0.3934405756048696,
          0
         ],
         "yaxis": "y"
        },
        {
         "hoverinfo": "text",
         "marker": {
          "color": "rgb(35,205,205)"
         },
         "mode": "lines",
         "type": "scatter",
         "x": [
          5145,
          5145,
          5160,
          5160
         ],
         "xaxis": "x",
         "y": [
          0,
          0.4773886804151473,
          0.4773886804151473,
          0.3934405756048696
         ],
         "yaxis": "y"
        },
        {
         "hoverinfo": "text",
         "marker": {
          "color": "rgb(35,205,205)"
         },
         "mode": "lines",
         "type": "scatter",
         "x": [
          5175,
          5175,
          5185,
          5185
         ],
         "xaxis": "x",
         "y": [
          0,
          0.3890971948614045,
          0.3890971948614045,
          0
         ],
         "yaxis": "y"
        },
        {
         "hoverinfo": "text",
         "marker": {
          "color": "rgb(35,205,205)"
         },
         "mode": "lines",
         "type": "scatter",
         "x": [
          5205,
          5205,
          5215,
          5215
         ],
         "xaxis": "x",
         "y": [
          0,
          0.2990401701707355,
          0.2990401701707355,
          0
         ],
         "yaxis": "y"
        },
        {
         "hoverinfo": "text",
         "marker": {
          "color": "rgb(35,205,205)"
         },
         "mode": "lines",
         "type": "scatter",
         "x": [
          5225,
          5225,
          5235,
          5235
         ],
         "xaxis": "x",
         "y": [
          0,
          0.321366054497428,
          0.321366054497428,
          0
         ],
         "yaxis": "y"
        },
        {
         "hoverinfo": "text",
         "marker": {
          "color": "rgb(35,205,205)"
         },
         "mode": "lines",
         "type": "scatter",
         "x": [
          5210,
          5210,
          5230,
          5230
         ],
         "xaxis": "x",
         "y": [
          0.2990401701707355,
          0.4273920978564848,
          0.4273920978564848,
          0.321366054497428
         ],
         "yaxis": "y"
        },
        {
         "hoverinfo": "text",
         "marker": {
          "color": "rgb(35,205,205)"
         },
         "mode": "lines",
         "type": "scatter",
         "x": [
          5195,
          5195,
          5220,
          5220
         ],
         "xaxis": "x",
         "y": [
          0,
          0.5227993826936613,
          0.5227993826936613,
          0.4273920978564848
         ],
         "yaxis": "y"
        },
        {
         "hoverinfo": "text",
         "marker": {
          "color": "rgb(35,205,205)"
         },
         "mode": "lines",
         "type": "scatter",
         "x": [
          5180,
          5180,
          5207.5,
          5207.5
         ],
         "xaxis": "x",
         "y": [
          0.3890971948614045,
          0.5887977797708881,
          0.5887977797708881,
          0.5227993826936613
         ],
         "yaxis": "y"
        },
        {
         "hoverinfo": "text",
         "marker": {
          "color": "rgb(35,205,205)"
         },
         "mode": "lines",
         "type": "scatter",
         "x": [
          5152.5,
          5152.5,
          5193.75,
          5193.75
         ],
         "xaxis": "x",
         "y": [
          0.4773886804151473,
          0.7075199834177577,
          0.7075199834177577,
          0.5887977797708881
         ],
         "yaxis": "y"
        },
        {
         "hoverinfo": "text",
         "marker": {
          "color": "rgb(35,205,205)"
         },
         "mode": "lines",
         "type": "scatter",
         "x": [
          5245,
          5245,
          5255,
          5255
         ],
         "xaxis": "x",
         "y": [
          0,
          0.2439775783899454,
          0.2439775783899454,
          0
         ],
         "yaxis": "y"
        },
        {
         "hoverinfo": "text",
         "marker": {
          "color": "rgb(35,205,205)"
         },
         "mode": "lines",
         "type": "scatter",
         "x": [
          5285,
          5285,
          5295,
          5295
         ],
         "xaxis": "x",
         "y": [
          0,
          0.2738755680681218,
          0.2738755680681218,
          0
         ],
         "yaxis": "y"
        },
        {
         "hoverinfo": "text",
         "marker": {
          "color": "rgb(35,205,205)"
         },
         "mode": "lines",
         "type": "scatter",
         "x": [
          5275,
          5275,
          5290,
          5290
         ],
         "xaxis": "x",
         "y": [
          0,
          0.3595564900318698,
          0.3595564900318698,
          0.2738755680681218
         ],
         "yaxis": "y"
        },
        {
         "hoverinfo": "text",
         "marker": {
          "color": "rgb(35,205,205)"
         },
         "mode": "lines",
         "type": "scatter",
         "x": [
          5265,
          5265,
          5282.5,
          5282.5
         ],
         "xaxis": "x",
         "y": [
          0,
          0.3782658576476824,
          0.3782658576476824,
          0.3595564900318698
         ],
         "yaxis": "y"
        },
        {
         "hoverinfo": "text",
         "marker": {
          "color": "rgb(35,205,205)"
         },
         "mode": "lines",
         "type": "scatter",
         "x": [
          5250,
          5250,
          5273.75,
          5273.75
         ],
         "xaxis": "x",
         "y": [
          0.2439775783899454,
          0.5228128843037285,
          0.5228128843037285,
          0.3782658576476824
         ],
         "yaxis": "y"
        },
        {
         "hoverinfo": "text",
         "marker": {
          "color": "rgb(35,205,205)"
         },
         "mode": "lines",
         "type": "scatter",
         "x": [
          5315,
          5315,
          5325,
          5325
         ],
         "xaxis": "x",
         "y": [
          0,
          0.2779581044558919,
          0.2779581044558919,
          0
         ],
         "yaxis": "y"
        },
        {
         "hoverinfo": "text",
         "marker": {
          "color": "rgb(35,205,205)"
         },
         "mode": "lines",
         "type": "scatter",
         "x": [
          5305,
          5305,
          5320,
          5320
         ],
         "xaxis": "x",
         "y": [
          0,
          0.31054082861714516,
          0.31054082861714516,
          0.2779581044558919
         ],
         "yaxis": "y"
        },
        {
         "hoverinfo": "text",
         "marker": {
          "color": "rgb(35,205,205)"
         },
         "mode": "lines",
         "type": "scatter",
         "x": [
          5335,
          5335,
          5345,
          5345
         ],
         "xaxis": "x",
         "y": [
          0,
          0.32390671012529276,
          0.32390671012529276,
          0
         ],
         "yaxis": "y"
        },
        {
         "hoverinfo": "text",
         "marker": {
          "color": "rgb(35,205,205)"
         },
         "mode": "lines",
         "type": "scatter",
         "x": [
          5312.5,
          5312.5,
          5340,
          5340
         ],
         "xaxis": "x",
         "y": [
          0.31054082861714516,
          0.46185475242938284,
          0.46185475242938284,
          0.32390671012529276
         ],
         "yaxis": "y"
        },
        {
         "hoverinfo": "text",
         "marker": {
          "color": "rgb(35,205,205)"
         },
         "mode": "lines",
         "type": "scatter",
         "x": [
          5365,
          5365,
          5375,
          5375
         ],
         "xaxis": "x",
         "y": [
          0,
          0.2821065412359082,
          0.2821065412359082,
          0
         ],
         "yaxis": "y"
        },
        {
         "hoverinfo": "text",
         "marker": {
          "color": "rgb(35,205,205)"
         },
         "mode": "lines",
         "type": "scatter",
         "x": [
          5355,
          5355,
          5370,
          5370
         ],
         "xaxis": "x",
         "y": [
          0,
          0.38681663369040054,
          0.38681663369040054,
          0.2821065412359082
         ],
         "yaxis": "y"
        },
        {
         "hoverinfo": "text",
         "marker": {
          "color": "rgb(35,205,205)"
         },
         "mode": "lines",
         "type": "scatter",
         "x": [
          5395,
          5395,
          5405,
          5405
         ],
         "xaxis": "x",
         "y": [
          0,
          0.20455727135298615,
          0.20455727135298615,
          0
         ],
         "yaxis": "y"
        },
        {
         "hoverinfo": "text",
         "marker": {
          "color": "rgb(35,205,205)"
         },
         "mode": "lines",
         "type": "scatter",
         "x": [
          5415,
          5415,
          5425,
          5425
         ],
         "xaxis": "x",
         "y": [
          0,
          0.26397433448794744,
          0.26397433448794744,
          0
         ],
         "yaxis": "y"
        },
        {
         "hoverinfo": "text",
         "marker": {
          "color": "rgb(35,205,205)"
         },
         "mode": "lines",
         "type": "scatter",
         "x": [
          5400,
          5400,
          5420,
          5420
         ],
         "xaxis": "x",
         "y": [
          0.20455727135298615,
          0.37725160494534465,
          0.37725160494534465,
          0.26397433448794744
         ],
         "yaxis": "y"
        },
        {
         "hoverinfo": "text",
         "marker": {
          "color": "rgb(35,205,205)"
         },
         "mode": "lines",
         "type": "scatter",
         "x": [
          5385,
          5385,
          5410,
          5410
         ],
         "xaxis": "x",
         "y": [
          0,
          0.43833701660071395,
          0.43833701660071395,
          0.37725160494534465
         ],
         "yaxis": "y"
        },
        {
         "hoverinfo": "text",
         "marker": {
          "color": "rgb(35,205,205)"
         },
         "mode": "lines",
         "type": "scatter",
         "x": [
          5362.5,
          5362.5,
          5397.5,
          5397.5
         ],
         "xaxis": "x",
         "y": [
          0.38681663369040054,
          0.5268438846716187,
          0.5268438846716187,
          0.43833701660071395
         ],
         "yaxis": "y"
        },
        {
         "hoverinfo": "text",
         "marker": {
          "color": "rgb(35,205,205)"
         },
         "mode": "lines",
         "type": "scatter",
         "x": [
          5326.25,
          5326.25,
          5380,
          5380
         ],
         "xaxis": "x",
         "y": [
          0.46185475242938284,
          0.5919315940614897,
          0.5919315940614897,
          0.5268438846716187
         ],
         "yaxis": "y"
        },
        {
         "hoverinfo": "text",
         "marker": {
          "color": "rgb(35,205,205)"
         },
         "mode": "lines",
         "type": "scatter",
         "x": [
          5261.875,
          5261.875,
          5353.125,
          5353.125
         ],
         "xaxis": "x",
         "y": [
          0.5228128843037285,
          0.6521647152437149,
          0.6521647152437149,
          0.5919315940614897
         ],
         "yaxis": "y"
        },
        {
         "hoverinfo": "text",
         "marker": {
          "color": "rgb(35,205,205)"
         },
         "mode": "lines",
         "type": "scatter",
         "x": [
          5445,
          5445,
          5455,
          5455
         ],
         "xaxis": "x",
         "y": [
          0,
          0.29763289995676956,
          0.29763289995676956,
          0
         ],
         "yaxis": "y"
        },
        {
         "hoverinfo": "text",
         "marker": {
          "color": "rgb(35,205,205)"
         },
         "mode": "lines",
         "type": "scatter",
         "x": [
          5435,
          5435,
          5450,
          5450
         ],
         "xaxis": "x",
         "y": [
          0,
          0.42532038630441515,
          0.42532038630441515,
          0.29763289995676956
         ],
         "yaxis": "y"
        },
        {
         "hoverinfo": "text",
         "marker": {
          "color": "rgb(35,205,205)"
         },
         "mode": "lines",
         "type": "scatter",
         "x": [
          5465,
          5465,
          5475,
          5475
         ],
         "xaxis": "x",
         "y": [
          0,
          0.35220404504459135,
          0.35220404504459135,
          0
         ],
         "yaxis": "y"
        },
        {
         "hoverinfo": "text",
         "marker": {
          "color": "rgb(35,205,205)"
         },
         "mode": "lines",
         "type": "scatter",
         "x": [
          5485,
          5485,
          5495,
          5495
         ],
         "xaxis": "x",
         "y": [
          0,
          0.35662134485548896,
          0.35662134485548896,
          0
         ],
         "yaxis": "y"
        },
        {
         "hoverinfo": "text",
         "marker": {
          "color": "rgb(35,205,205)"
         },
         "mode": "lines",
         "type": "scatter",
         "x": [
          5470,
          5470,
          5490,
          5490
         ],
         "xaxis": "x",
         "y": [
          0.35220404504459135,
          0.4647576917542874,
          0.4647576917542874,
          0.35662134485548896
         ],
         "yaxis": "y"
        },
        {
         "hoverinfo": "text",
         "marker": {
          "color": "rgb(35,205,205)"
         },
         "mode": "lines",
         "type": "scatter",
         "x": [
          5442.5,
          5442.5,
          5480,
          5480
         ],
         "xaxis": "x",
         "y": [
          0.42532038630441515,
          0.6557319667504918,
          0.6557319667504918,
          0.4647576917542874
         ],
         "yaxis": "y"
        },
        {
         "hoverinfo": "text",
         "marker": {
          "color": "rgb(35,205,205)"
         },
         "mode": "lines",
         "type": "scatter",
         "x": [
          5307.5,
          5307.5,
          5461.25,
          5461.25
         ],
         "xaxis": "x",
         "y": [
          0.6521647152437149,
          0.8207143861111392,
          0.8207143861111392,
          0.6557319667504918
         ],
         "yaxis": "y"
        },
        {
         "hoverinfo": "text",
         "marker": {
          "color": "rgb(35,205,205)"
         },
         "mode": "lines",
         "type": "scatter",
         "x": [
          5173.125,
          5173.125,
          5384.375,
          5384.375
         ],
         "xaxis": "x",
         "y": [
          0.7075199834177577,
          1.0161422779204416,
          1.0161422779204416,
          0.8207143861111392
         ],
         "yaxis": "y"
        },
        {
         "hoverinfo": "text",
         "marker": {
          "color": "rgb(35,205,205)"
         },
         "mode": "lines",
         "type": "scatter",
         "x": [
          5090.625,
          5090.625,
          5278.75,
          5278.75
         ],
         "xaxis": "x",
         "y": [
          0.9897402179531448,
          1.1331402715973808,
          1.1331402715973808,
          1.0161422779204416
         ],
         "yaxis": "y"
        },
        {
         "hoverinfo": "text",
         "marker": {
          "color": "rgb(35,205,205)"
         },
         "mode": "lines",
         "type": "scatter",
         "x": [
          4965.9375,
          4965.9375,
          5184.6875,
          5184.6875
         ],
         "xaxis": "x",
         "y": [
          0.9236274512296324,
          1.3557278452073773,
          1.3557278452073773,
          1.1331402715973808
         ],
         "yaxis": "y"
        },
        {
         "hoverinfo": "text",
         "marker": {
          "color": "rgb(35,205,205)"
         },
         "mode": "lines",
         "type": "scatter",
         "x": [
          5505,
          5505,
          5515,
          5515
         ],
         "xaxis": "x",
         "y": [
          0,
          0.9297471879515655,
          0.9297471879515655,
          0
         ],
         "yaxis": "y"
        },
        {
         "hoverinfo": "text",
         "marker": {
          "color": "rgb(35,205,205)"
         },
         "mode": "lines",
         "type": "scatter",
         "x": [
          5555,
          5555,
          5565,
          5565
         ],
         "xaxis": "x",
         "y": [
          0,
          0.3093763886078739,
          0.3093763886078739,
          0
         ],
         "yaxis": "y"
        },
        {
         "hoverinfo": "text",
         "marker": {
          "color": "rgb(35,205,205)"
         },
         "mode": "lines",
         "type": "scatter",
         "x": [
          5545,
          5545,
          5560,
          5560
         ],
         "xaxis": "x",
         "y": [
          0,
          0.42389920510886314,
          0.42389920510886314,
          0.3093763886078739
         ],
         "yaxis": "y"
        },
        {
         "hoverinfo": "text",
         "marker": {
          "color": "rgb(35,205,205)"
         },
         "mode": "lines",
         "type": "scatter",
         "x": [
          5535,
          5535,
          5552.5,
          5552.5
         ],
         "xaxis": "x",
         "y": [
          0,
          0.5730623516851234,
          0.5730623516851234,
          0.42389920510886314
         ],
         "yaxis": "y"
        },
        {
         "hoverinfo": "text",
         "marker": {
          "color": "rgb(35,205,205)"
         },
         "mode": "lines",
         "type": "scatter",
         "x": [
          5525,
          5525,
          5543.75,
          5543.75
         ],
         "xaxis": "x",
         "y": [
          0,
          0.750910538791112,
          0.750910538791112,
          0.5730623516851234
         ],
         "yaxis": "y"
        },
        {
         "hoverinfo": "text",
         "marker": {
          "color": "rgb(35,205,205)"
         },
         "mode": "lines",
         "type": "scatter",
         "x": [
          5585,
          5585,
          5595,
          5595
         ],
         "xaxis": "x",
         "y": [
          0,
          0.5608580528759828,
          0.5608580528759828,
          0
         ],
         "yaxis": "y"
        },
        {
         "hoverinfo": "text",
         "marker": {
          "color": "rgb(35,205,205)"
         },
         "mode": "lines",
         "type": "scatter",
         "x": [
          5575,
          5575,
          5590,
          5590
         ],
         "xaxis": "x",
         "y": [
          0,
          0.8038901920433781,
          0.8038901920433781,
          0.5608580528759828
         ],
         "yaxis": "y"
        },
        {
         "hoverinfo": "text",
         "marker": {
          "color": "rgb(35,205,205)"
         },
         "mode": "lines",
         "type": "scatter",
         "x": [
          5534.375,
          5534.375,
          5582.5,
          5582.5
         ],
         "xaxis": "x",
         "y": [
          0.750910538791112,
          1.0655988661337223,
          1.0655988661337223,
          0.8038901920433781
         ],
         "yaxis": "y"
        },
        {
         "hoverinfo": "text",
         "marker": {
          "color": "rgb(35,205,205)"
         },
         "mode": "lines",
         "type": "scatter",
         "x": [
          5510,
          5510,
          5558.4375,
          5558.4375
         ],
         "xaxis": "x",
         "y": [
          0.9297471879515655,
          1.424508467863301,
          1.424508467863301,
          1.0655988661337223
         ],
         "yaxis": "y"
        },
        {
         "hoverinfo": "text",
         "marker": {
          "color": "rgb(35,205,205)"
         },
         "mode": "lines",
         "type": "scatter",
         "x": [
          5075.3125,
          5075.3125,
          5534.21875,
          5534.21875
         ],
         "xaxis": "x",
         "y": [
          1.3557278452073773,
          1.7244399148311633,
          1.7244399148311633,
          1.424508467863301
         ],
         "yaxis": "y"
        },
        {
         "hoverinfo": "text",
         "marker": {
          "color": "rgb(35,205,205)"
         },
         "mode": "lines",
         "type": "scatter",
         "x": [
          5605,
          5605,
          5615,
          5615
         ],
         "xaxis": "x",
         "y": [
          0,
          1.1331317175848283,
          1.1331317175848283,
          0
         ],
         "yaxis": "y"
        },
        {
         "hoverinfo": "text",
         "marker": {
          "color": "rgb(35,205,205)"
         },
         "mode": "lines",
         "type": "scatter",
         "x": [
          5635,
          5635,
          5645,
          5645
         ],
         "xaxis": "x",
         "y": [
          0,
          0.5066841331172273,
          0.5066841331172273,
          0
         ],
         "yaxis": "y"
        },
        {
         "hoverinfo": "text",
         "marker": {
          "color": "rgb(35,205,205)"
         },
         "mode": "lines",
         "type": "scatter",
         "x": [
          5625,
          5625,
          5640,
          5640
         ],
         "xaxis": "x",
         "y": [
          0,
          0.663705977230146,
          0.663705977230146,
          0.5066841331172273
         ],
         "yaxis": "y"
        },
        {
         "hoverinfo": "text",
         "marker": {
          "color": "rgb(35,205,205)"
         },
         "mode": "lines",
         "type": "scatter",
         "x": [
          5655,
          5655,
          5665,
          5665
         ],
         "xaxis": "x",
         "y": [
          0,
          0.7472796989996672,
          0.7472796989996672,
          0
         ],
         "yaxis": "y"
        },
        {
         "hoverinfo": "text",
         "marker": {
          "color": "rgb(35,205,205)"
         },
         "mode": "lines",
         "type": "scatter",
         "x": [
          5632.5,
          5632.5,
          5660,
          5660
         ],
         "xaxis": "x",
         "y": [
          0.663705977230146,
          1.037935520022044,
          1.037935520022044,
          0.7472796989996672
         ],
         "yaxis": "y"
        },
        {
         "hoverinfo": "text",
         "marker": {
          "color": "rgb(35,205,205)"
         },
         "mode": "lines",
         "type": "scatter",
         "x": [
          5675,
          5675,
          5685,
          5685
         ],
         "xaxis": "x",
         "y": [
          0,
          1.09152628958383,
          1.09152628958383,
          0
         ],
         "yaxis": "y"
        },
        {
         "hoverinfo": "text",
         "marker": {
          "color": "rgb(35,205,205)"
         },
         "mode": "lines",
         "type": "scatter",
         "x": [
          5646.25,
          5646.25,
          5680,
          5680
         ],
         "xaxis": "x",
         "y": [
          1.037935520022044,
          1.4582487474647718,
          1.4582487474647718,
          1.09152628958383
         ],
         "yaxis": "y"
        },
        {
         "hoverinfo": "text",
         "marker": {
          "color": "rgb(35,205,205)"
         },
         "mode": "lines",
         "type": "scatter",
         "x": [
          5610,
          5610,
          5663.125,
          5663.125
         ],
         "xaxis": "x",
         "y": [
          1.1331317175848283,
          2.0241151557624946,
          2.0241151557624946,
          1.4582487474647718
         ],
         "yaxis": "y"
        },
        {
         "hoverinfo": "text",
         "marker": {
          "color": "rgb(35,205,205)"
         },
         "mode": "lines",
         "type": "scatter",
         "x": [
          5304.765625,
          5304.765625,
          5636.5625,
          5636.5625
         ],
         "xaxis": "x",
         "y": [
          1.7244399148311633,
          2.3503230967525135,
          2.3503230967525135,
          2.0241151557624946
         ],
         "yaxis": "y"
        },
        {
         "hoverinfo": "text",
         "marker": {
          "color": "rgb(0,116,217)"
         },
         "mode": "lines",
         "type": "scatter",
         "x": [
          2473.40087890625,
          2473.40087890625,
          5470.6640625,
          5470.6640625
         ],
         "xaxis": "x",
         "y": [
          2.1415645559660352,
          2.8595679568108987,
          2.8595679568108987,
          2.3503230967525135
         ],
         "yaxis": "y"
        },
        {
         "hoverinfo": "text",
         "marker": {
          "color": "rgb(0,116,217)"
         },
         "mode": "lines",
         "type": "scatter",
         "x": [
          118.765869140625,
          118.765869140625,
          3972.032470703125,
          3972.032470703125
         ],
         "xaxis": "x",
         "y": [
          2.376632275010075,
          3.4642137786900973,
          3.4642137786900973,
          2.8595679568108987
         ],
         "yaxis": "y"
        }
       ],
       "layout": {
        "autosize": false,
        "height": 500,
        "hovermode": "closest",
        "showlegend": false,
        "template": {
         "data": {
          "bar": [
           {
            "error_x": {
             "color": "#2a3f5f"
            },
            "error_y": {
             "color": "#2a3f5f"
            },
            "marker": {
             "line": {
              "color": "#E5ECF6",
              "width": 0.5
             },
             "pattern": {
              "fillmode": "overlay",
              "size": 10,
              "solidity": 0.2
             }
            },
            "type": "bar"
           }
          ],
          "barpolar": [
           {
            "marker": {
             "line": {
              "color": "#E5ECF6",
              "width": 0.5
             },
             "pattern": {
              "fillmode": "overlay",
              "size": 10,
              "solidity": 0.2
             }
            },
            "type": "barpolar"
           }
          ],
          "carpet": [
           {
            "aaxis": {
             "endlinecolor": "#2a3f5f",
             "gridcolor": "white",
             "linecolor": "white",
             "minorgridcolor": "white",
             "startlinecolor": "#2a3f5f"
            },
            "baxis": {
             "endlinecolor": "#2a3f5f",
             "gridcolor": "white",
             "linecolor": "white",
             "minorgridcolor": "white",
             "startlinecolor": "#2a3f5f"
            },
            "type": "carpet"
           }
          ],
          "choropleth": [
           {
            "colorbar": {
             "outlinewidth": 0,
             "ticks": ""
            },
            "type": "choropleth"
           }
          ],
          "contour": [
           {
            "colorbar": {
             "outlinewidth": 0,
             "ticks": ""
            },
            "colorscale": [
             [
              0,
              "#0d0887"
             ],
             [
              0.1111111111111111,
              "#46039f"
             ],
             [
              0.2222222222222222,
              "#7201a8"
             ],
             [
              0.3333333333333333,
              "#9c179e"
             ],
             [
              0.4444444444444444,
              "#bd3786"
             ],
             [
              0.5555555555555556,
              "#d8576b"
             ],
             [
              0.6666666666666666,
              "#ed7953"
             ],
             [
              0.7777777777777778,
              "#fb9f3a"
             ],
             [
              0.8888888888888888,
              "#fdca26"
             ],
             [
              1,
              "#f0f921"
             ]
            ],
            "type": "contour"
           }
          ],
          "contourcarpet": [
           {
            "colorbar": {
             "outlinewidth": 0,
             "ticks": ""
            },
            "type": "contourcarpet"
           }
          ],
          "heatmap": [
           {
            "colorbar": {
             "outlinewidth": 0,
             "ticks": ""
            },
            "colorscale": [
             [
              0,
              "#0d0887"
             ],
             [
              0.1111111111111111,
              "#46039f"
             ],
             [
              0.2222222222222222,
              "#7201a8"
             ],
             [
              0.3333333333333333,
              "#9c179e"
             ],
             [
              0.4444444444444444,
              "#bd3786"
             ],
             [
              0.5555555555555556,
              "#d8576b"
             ],
             [
              0.6666666666666666,
              "#ed7953"
             ],
             [
              0.7777777777777778,
              "#fb9f3a"
             ],
             [
              0.8888888888888888,
              "#fdca26"
             ],
             [
              1,
              "#f0f921"
             ]
            ],
            "type": "heatmap"
           }
          ],
          "heatmapgl": [
           {
            "colorbar": {
             "outlinewidth": 0,
             "ticks": ""
            },
            "colorscale": [
             [
              0,
              "#0d0887"
             ],
             [
              0.1111111111111111,
              "#46039f"
             ],
             [
              0.2222222222222222,
              "#7201a8"
             ],
             [
              0.3333333333333333,
              "#9c179e"
             ],
             [
              0.4444444444444444,
              "#bd3786"
             ],
             [
              0.5555555555555556,
              "#d8576b"
             ],
             [
              0.6666666666666666,
              "#ed7953"
             ],
             [
              0.7777777777777778,
              "#fb9f3a"
             ],
             [
              0.8888888888888888,
              "#fdca26"
             ],
             [
              1,
              "#f0f921"
             ]
            ],
            "type": "heatmapgl"
           }
          ],
          "histogram": [
           {
            "marker": {
             "pattern": {
              "fillmode": "overlay",
              "size": 10,
              "solidity": 0.2
             }
            },
            "type": "histogram"
           }
          ],
          "histogram2d": [
           {
            "colorbar": {
             "outlinewidth": 0,
             "ticks": ""
            },
            "colorscale": [
             [
              0,
              "#0d0887"
             ],
             [
              0.1111111111111111,
              "#46039f"
             ],
             [
              0.2222222222222222,
              "#7201a8"
             ],
             [
              0.3333333333333333,
              "#9c179e"
             ],
             [
              0.4444444444444444,
              "#bd3786"
             ],
             [
              0.5555555555555556,
              "#d8576b"
             ],
             [
              0.6666666666666666,
              "#ed7953"
             ],
             [
              0.7777777777777778,
              "#fb9f3a"
             ],
             [
              0.8888888888888888,
              "#fdca26"
             ],
             [
              1,
              "#f0f921"
             ]
            ],
            "type": "histogram2d"
           }
          ],
          "histogram2dcontour": [
           {
            "colorbar": {
             "outlinewidth": 0,
             "ticks": ""
            },
            "colorscale": [
             [
              0,
              "#0d0887"
             ],
             [
              0.1111111111111111,
              "#46039f"
             ],
             [
              0.2222222222222222,
              "#7201a8"
             ],
             [
              0.3333333333333333,
              "#9c179e"
             ],
             [
              0.4444444444444444,
              "#bd3786"
             ],
             [
              0.5555555555555556,
              "#d8576b"
             ],
             [
              0.6666666666666666,
              "#ed7953"
             ],
             [
              0.7777777777777778,
              "#fb9f3a"
             ],
             [
              0.8888888888888888,
              "#fdca26"
             ],
             [
              1,
              "#f0f921"
             ]
            ],
            "type": "histogram2dcontour"
           }
          ],
          "mesh3d": [
           {
            "colorbar": {
             "outlinewidth": 0,
             "ticks": ""
            },
            "type": "mesh3d"
           }
          ],
          "parcoords": [
           {
            "line": {
             "colorbar": {
              "outlinewidth": 0,
              "ticks": ""
             }
            },
            "type": "parcoords"
           }
          ],
          "pie": [
           {
            "automargin": true,
            "type": "pie"
           }
          ],
          "scatter": [
           {
            "fillpattern": {
             "fillmode": "overlay",
             "size": 10,
             "solidity": 0.2
            },
            "type": "scatter"
           }
          ],
          "scatter3d": [
           {
            "line": {
             "colorbar": {
              "outlinewidth": 0,
              "ticks": ""
             }
            },
            "marker": {
             "colorbar": {
              "outlinewidth": 0,
              "ticks": ""
             }
            },
            "type": "scatter3d"
           }
          ],
          "scattercarpet": [
           {
            "marker": {
             "colorbar": {
              "outlinewidth": 0,
              "ticks": ""
             }
            },
            "type": "scattercarpet"
           }
          ],
          "scattergeo": [
           {
            "marker": {
             "colorbar": {
              "outlinewidth": 0,
              "ticks": ""
             }
            },
            "type": "scattergeo"
           }
          ],
          "scattergl": [
           {
            "marker": {
             "colorbar": {
              "outlinewidth": 0,
              "ticks": ""
             }
            },
            "type": "scattergl"
           }
          ],
          "scattermapbox": [
           {
            "marker": {
             "colorbar": {
              "outlinewidth": 0,
              "ticks": ""
             }
            },
            "type": "scattermapbox"
           }
          ],
          "scatterpolar": [
           {
            "marker": {
             "colorbar": {
              "outlinewidth": 0,
              "ticks": ""
             }
            },
            "type": "scatterpolar"
           }
          ],
          "scatterpolargl": [
           {
            "marker": {
             "colorbar": {
              "outlinewidth": 0,
              "ticks": ""
             }
            },
            "type": "scatterpolargl"
           }
          ],
          "scatterternary": [
           {
            "marker": {
             "colorbar": {
              "outlinewidth": 0,
              "ticks": ""
             }
            },
            "type": "scatterternary"
           }
          ],
          "surface": [
           {
            "colorbar": {
             "outlinewidth": 0,
             "ticks": ""
            },
            "colorscale": [
             [
              0,
              "#0d0887"
             ],
             [
              0.1111111111111111,
              "#46039f"
             ],
             [
              0.2222222222222222,
              "#7201a8"
             ],
             [
              0.3333333333333333,
              "#9c179e"
             ],
             [
              0.4444444444444444,
              "#bd3786"
             ],
             [
              0.5555555555555556,
              "#d8576b"
             ],
             [
              0.6666666666666666,
              "#ed7953"
             ],
             [
              0.7777777777777778,
              "#fb9f3a"
             ],
             [
              0.8888888888888888,
              "#fdca26"
             ],
             [
              1,
              "#f0f921"
             ]
            ],
            "type": "surface"
           }
          ],
          "table": [
           {
            "cells": {
             "fill": {
              "color": "#EBF0F8"
             },
             "line": {
              "color": "white"
             }
            },
            "header": {
             "fill": {
              "color": "#C8D4E3"
             },
             "line": {
              "color": "white"
             }
            },
            "type": "table"
           }
          ]
         },
         "layout": {
          "annotationdefaults": {
           "arrowcolor": "#2a3f5f",
           "arrowhead": 0,
           "arrowwidth": 1
          },
          "autotypenumbers": "strict",
          "coloraxis": {
           "colorbar": {
            "outlinewidth": 0,
            "ticks": ""
           }
          },
          "colorscale": {
           "diverging": [
            [
             0,
             "#8e0152"
            ],
            [
             0.1,
             "#c51b7d"
            ],
            [
             0.2,
             "#de77ae"
            ],
            [
             0.3,
             "#f1b6da"
            ],
            [
             0.4,
             "#fde0ef"
            ],
            [
             0.5,
             "#f7f7f7"
            ],
            [
             0.6,
             "#e6f5d0"
            ],
            [
             0.7,
             "#b8e186"
            ],
            [
             0.8,
             "#7fbc41"
            ],
            [
             0.9,
             "#4d9221"
            ],
            [
             1,
             "#276419"
            ]
           ],
           "sequential": [
            [
             0,
             "#0d0887"
            ],
            [
             0.1111111111111111,
             "#46039f"
            ],
            [
             0.2222222222222222,
             "#7201a8"
            ],
            [
             0.3333333333333333,
             "#9c179e"
            ],
            [
             0.4444444444444444,
             "#bd3786"
            ],
            [
             0.5555555555555556,
             "#d8576b"
            ],
            [
             0.6666666666666666,
             "#ed7953"
            ],
            [
             0.7777777777777778,
             "#fb9f3a"
            ],
            [
             0.8888888888888888,
             "#fdca26"
            ],
            [
             1,
             "#f0f921"
            ]
           ],
           "sequentialminus": [
            [
             0,
             "#0d0887"
            ],
            [
             0.1111111111111111,
             "#46039f"
            ],
            [
             0.2222222222222222,
             "#7201a8"
            ],
            [
             0.3333333333333333,
             "#9c179e"
            ],
            [
             0.4444444444444444,
             "#bd3786"
            ],
            [
             0.5555555555555556,
             "#d8576b"
            ],
            [
             0.6666666666666666,
             "#ed7953"
            ],
            [
             0.7777777777777778,
             "#fb9f3a"
            ],
            [
             0.8888888888888888,
             "#fdca26"
            ],
            [
             1,
             "#f0f921"
            ]
           ]
          },
          "colorway": [
           "#636efa",
           "#EF553B",
           "#00cc96",
           "#ab63fa",
           "#FFA15A",
           "#19d3f3",
           "#FF6692",
           "#B6E880",
           "#FF97FF",
           "#FECB52"
          ],
          "font": {
           "color": "#2a3f5f"
          },
          "geo": {
           "bgcolor": "white",
           "lakecolor": "white",
           "landcolor": "#E5ECF6",
           "showlakes": true,
           "showland": true,
           "subunitcolor": "white"
          },
          "hoverlabel": {
           "align": "left"
          },
          "hovermode": "closest",
          "mapbox": {
           "style": "light"
          },
          "paper_bgcolor": "white",
          "plot_bgcolor": "#E5ECF6",
          "polar": {
           "angularaxis": {
            "gridcolor": "white",
            "linecolor": "white",
            "ticks": ""
           },
           "bgcolor": "#E5ECF6",
           "radialaxis": {
            "gridcolor": "white",
            "linecolor": "white",
            "ticks": ""
           }
          },
          "scene": {
           "xaxis": {
            "backgroundcolor": "#E5ECF6",
            "gridcolor": "white",
            "gridwidth": 2,
            "linecolor": "white",
            "showbackground": true,
            "ticks": "",
            "zerolinecolor": "white"
           },
           "yaxis": {
            "backgroundcolor": "#E5ECF6",
            "gridcolor": "white",
            "gridwidth": 2,
            "linecolor": "white",
            "showbackground": true,
            "ticks": "",
            "zerolinecolor": "white"
           },
           "zaxis": {
            "backgroundcolor": "#E5ECF6",
            "gridcolor": "white",
            "gridwidth": 2,
            "linecolor": "white",
            "showbackground": true,
            "ticks": "",
            "zerolinecolor": "white"
           }
          },
          "shapedefaults": {
           "line": {
            "color": "#2a3f5f"
           }
          },
          "ternary": {
           "aaxis": {
            "gridcolor": "white",
            "linecolor": "white",
            "ticks": ""
           },
           "baxis": {
            "gridcolor": "white",
            "linecolor": "white",
            "ticks": ""
           },
           "bgcolor": "#E5ECF6",
           "caxis": {
            "gridcolor": "white",
            "linecolor": "white",
            "ticks": ""
           }
          },
          "title": {
           "x": 0.05
          },
          "xaxis": {
           "automargin": true,
           "gridcolor": "white",
           "linecolor": "white",
           "ticks": "",
           "title": {
            "standoff": 15
           },
           "zerolinecolor": "white",
           "zerolinewidth": 2
          },
          "yaxis": {
           "automargin": true,
           "gridcolor": "white",
           "linecolor": "white",
           "ticks": "",
           "title": {
            "standoff": 15
           },
           "zerolinecolor": "white",
           "zerolinewidth": 2
          }
         }
        },
        "width": 800,
        "xaxis": {
         "mirror": "allticks",
         "rangemode": "tozero",
         "showgrid": false,
         "showline": true,
         "showticklabels": true,
         "tickmode": "array",
         "ticks": "outside",
         "ticktext": [
          "212",
          "461",
          "258",
          "25",
          "257",
          "252",
          "400",
          "202",
          "563",
          "181",
          "567",
          "122",
          "78",
          "0",
          "108",
          "82",
          "180",
          "352",
          "323",
          "393",
          "302",
          "32",
          "30",
          "129",
          "77",
          "417",
          "33",
          "72",
          "118",
          "392",
          "17",
          "117",
          "45",
          "230",
          "83",
          "468",
          "168",
          "256",
          "4",
          "372",
          "282",
          "56",
          "254",
          "408",
          "516",
          "517",
          "2",
          "535",
          "432",
          "487",
          "499",
          "389",
          "343",
          "366",
          "262",
          "218",
          "95",
          "533",
          "53",
          "492",
          "85",
          "121",
          "156",
          "498",
          "244",
          "433",
          "27",
          "335",
          "368",
          "503",
          "373",
          "18",
          "449",
          "23",
          "164",
          "564",
          "250",
          "162",
          "300",
          "236",
          "339",
          "272",
          "369",
          "521",
          "219",
          "265",
          "24",
          "460",
          "280",
          "446",
          "87",
          "198",
          "337",
          "239",
          "565",
          "451",
          "233",
          "260",
          "405",
          "530",
          "136",
          "297",
          "412",
          "548",
          "425",
          "522",
          "556",
          "299",
          "553",
          "97",
          "303",
          "359",
          "456",
          "555",
          "560",
          "163",
          "445",
          "248",
          "66",
          "80",
          "410",
          "135",
          "490",
          "420",
          "427",
          "88",
          "200",
          "538",
          "568",
          "178",
          "231",
          "377",
          "462",
          "471",
          "305",
          "549",
          "232",
          "459",
          "455",
          "452",
          "554",
          "543",
          "552",
          "37",
          "319",
          "296",
          "493",
          "398",
          "144",
          "159",
          "179",
          "442",
          "241",
          "306",
          "315",
          "327",
          "428",
          "270",
          "387",
          "287",
          "308",
          "309",
          "58",
          "285",
          "360",
          "429",
          "404",
          "316",
          "350",
          "140",
          "175",
          "226",
          "546",
          "276",
          "333",
          "166",
          "313",
          "170",
          "344",
          "21",
          "153",
          "271",
          "390",
          "234",
          "348",
          "524",
          "547",
          "46",
          "467",
          "185",
          "273",
          "150",
          "349",
          "60",
          "424",
          "443",
          "307",
          "174",
          "550",
          "96",
          "191",
          "281",
          "354",
          "358",
          "84",
          "268",
          "293",
          "409",
          "52",
          "251",
          "436",
          "155",
          "399",
          "381",
          "374",
          "195",
          "454",
          "217",
          "551",
          "104",
          "470",
          "188",
          "419",
          "55",
          "289",
          "310",
          "415",
          "394",
          "515",
          "206",
          "222",
          "338",
          "142",
          "411",
          "101",
          "391",
          "314",
          "332",
          "61",
          "245",
          "416",
          "192",
          "561",
          "473",
          "557",
          "504",
          "505",
          "71",
          "176",
          "151",
          "539",
          "485",
          "318",
          "376",
          "116",
          "173",
          "110",
          "345",
          "63",
          "288",
          "59",
          "114",
          "525",
          "520",
          "145",
          "507",
          "76",
          "528",
          "139",
          "275",
          "331",
          "383",
          "482",
          "20",
          "221",
          "154",
          "292",
          "130",
          "342",
          "336",
          "220",
          "312",
          "418",
          "529",
          "98",
          "120",
          "322",
          "48",
          "249",
          "478",
          "484",
          "375",
          "500",
          "526",
          "73",
          "496",
          "148",
          "255",
          "340",
          "396",
          "204",
          "523",
          "518",
          "380",
          "422",
          "519",
          "488",
          "502",
          "213",
          "112",
          "290",
          "414",
          "10",
          "261",
          "274",
          "119",
          "489",
          "161",
          "210",
          "1",
          "237",
          "70",
          "365",
          "127",
          "321",
          "207",
          "277",
          "134",
          "264",
          "6",
          "317",
          "201",
          "253",
          "186",
          "444",
          "75",
          "29",
          "141",
          "167",
          "124",
          "284",
          "397",
          "183",
          "386",
          "510",
          "147",
          "286",
          "382",
          "450",
          "388",
          "440",
          "111",
          "355",
          "431",
          "540",
          "113",
          "269",
          "320",
          "216",
          "356",
          "160",
          "266",
          "506",
          "474",
          "341",
          "426",
          "109",
          "115",
          "531",
          "106",
          "103",
          "534",
          "69",
          "325",
          "401",
          "324",
          "158",
          "294",
          "463",
          "367",
          "497",
          "187",
          "74",
          "137",
          "107",
          "211",
          "480",
          "189",
          "304",
          "439",
          "371",
          "511",
          "532",
          "125",
          "364",
          "437",
          "240",
          "434",
          "295",
          "326",
          "224",
          "464",
          "92",
          "51",
          "149",
          "481",
          "298",
          "477",
          "311",
          "165",
          "278",
          "102",
          "457",
          "458",
          "40",
          "49",
          "542",
          "243",
          "407",
          "301",
          "402",
          "67",
          "50",
          "334",
          "346",
          "246",
          "395",
          "357",
          "438",
          "544",
          "93",
          "79",
          "362",
          "267",
          "361",
          "494",
          "235",
          "90",
          "545",
          "205",
          "378",
          "227",
          "472",
          "209",
          "508",
          "347",
          "513",
          "133",
          "406",
          "123",
          "453",
          "19",
          "225",
          "279",
          "169",
          "483",
          "527",
          "384",
          "475",
          "447",
          "143",
          "403",
          "476",
          "558",
          "228",
          "466",
          "363",
          "495",
          "448",
          "514",
          "263",
          "486",
          "413",
          "291",
          "423",
          "171",
          "16",
          "54",
          "100",
          "385",
          "38",
          "491",
          "157",
          "197",
          "238",
          "559",
          "441",
          "566",
          "13",
          "91",
          "86",
          "99",
          "536",
          "203",
          "259",
          "15",
          "28",
          "26",
          "8",
          "229",
          "214",
          "35",
          "370",
          "172",
          "5",
          "105",
          "194",
          "479",
          "62",
          "509",
          "247",
          "465",
          "31",
          "242",
          "41",
          "469",
          "537",
          "196",
          "353",
          "193",
          "64",
          "65",
          "7",
          "501",
          "131",
          "328",
          "283",
          "330",
          "94",
          "177",
          "57",
          "43",
          "223",
          "11",
          "34",
          "199",
          "44",
          "435",
          "39",
          "81",
          "215",
          "47",
          "512",
          "208",
          "36",
          "541",
          "126",
          "184",
          "132",
          "182",
          "12",
          "42",
          "138",
          "329",
          "421",
          "89",
          "128",
          "146",
          "22",
          "351",
          "68",
          "152",
          "562",
          "14",
          "430",
          "9",
          "379",
          "3",
          "190"
         ],
         "tickvals": [
          5,
          15,
          25,
          35,
          45,
          55,
          65,
          75,
          85,
          95,
          105,
          115,
          125,
          135,
          145,
          155,
          165,
          175,
          185,
          195,
          205,
          215,
          225,
          235,
          245,
          255,
          265,
          275,
          285,
          295,
          305,
          315,
          325,
          335,
          345,
          355,
          365,
          375,
          385,
          395,
          405,
          415,
          425,
          435,
          445,
          455,
          465,
          475,
          485,
          495,
          505,
          515,
          525,
          535,
          545,
          555,
          565,
          575,
          585,
          595,
          605,
          615,
          625,
          635,
          645,
          655,
          665,
          675,
          685,
          695,
          705,
          715,
          725,
          735,
          745,
          755,
          765,
          775,
          785,
          795,
          805,
          815,
          825,
          835,
          845,
          855,
          865,
          875,
          885,
          895,
          905,
          915,
          925,
          935,
          945,
          955,
          965,
          975,
          985,
          995,
          1005,
          1015,
          1025,
          1035,
          1045,
          1055,
          1065,
          1075,
          1085,
          1095,
          1105,
          1115,
          1125,
          1135,
          1145,
          1155,
          1165,
          1175,
          1185,
          1195,
          1205,
          1215,
          1225,
          1235,
          1245,
          1255,
          1265,
          1275,
          1285,
          1295,
          1305,
          1315,
          1325,
          1335,
          1345,
          1355,
          1365,
          1375,
          1385,
          1395,
          1405,
          1415,
          1425,
          1435,
          1445,
          1455,
          1465,
          1475,
          1485,
          1495,
          1505,
          1515,
          1525,
          1535,
          1545,
          1555,
          1565,
          1575,
          1585,
          1595,
          1605,
          1615,
          1625,
          1635,
          1645,
          1655,
          1665,
          1675,
          1685,
          1695,
          1705,
          1715,
          1725,
          1735,
          1745,
          1755,
          1765,
          1775,
          1785,
          1795,
          1805,
          1815,
          1825,
          1835,
          1845,
          1855,
          1865,
          1875,
          1885,
          1895,
          1905,
          1915,
          1925,
          1935,
          1945,
          1955,
          1965,
          1975,
          1985,
          1995,
          2005,
          2015,
          2025,
          2035,
          2045,
          2055,
          2065,
          2075,
          2085,
          2095,
          2105,
          2115,
          2125,
          2135,
          2145,
          2155,
          2165,
          2175,
          2185,
          2195,
          2205,
          2215,
          2225,
          2235,
          2245,
          2255,
          2265,
          2275,
          2285,
          2295,
          2305,
          2315,
          2325,
          2335,
          2345,
          2355,
          2365,
          2375,
          2385,
          2395,
          2405,
          2415,
          2425,
          2435,
          2445,
          2455,
          2465,
          2475,
          2485,
          2495,
          2505,
          2515,
          2525,
          2535,
          2545,
          2555,
          2565,
          2575,
          2585,
          2595,
          2605,
          2615,
          2625,
          2635,
          2645,
          2655,
          2665,
          2675,
          2685,
          2695,
          2705,
          2715,
          2725,
          2735,
          2745,
          2755,
          2765,
          2775,
          2785,
          2795,
          2805,
          2815,
          2825,
          2835,
          2845,
          2855,
          2865,
          2875,
          2885,
          2895,
          2905,
          2915,
          2925,
          2935,
          2945,
          2955,
          2965,
          2975,
          2985,
          2995,
          3005,
          3015,
          3025,
          3035,
          3045,
          3055,
          3065,
          3075,
          3085,
          3095,
          3105,
          3115,
          3125,
          3135,
          3145,
          3155,
          3165,
          3175,
          3185,
          3195,
          3205,
          3215,
          3225,
          3235,
          3245,
          3255,
          3265,
          3275,
          3285,
          3295,
          3305,
          3315,
          3325,
          3335,
          3345,
          3355,
          3365,
          3375,
          3385,
          3395,
          3405,
          3415,
          3425,
          3435,
          3445,
          3455,
          3465,
          3475,
          3485,
          3495,
          3505,
          3515,
          3525,
          3535,
          3545,
          3555,
          3565,
          3575,
          3585,
          3595,
          3605,
          3615,
          3625,
          3635,
          3645,
          3655,
          3665,
          3675,
          3685,
          3695,
          3705,
          3715,
          3725,
          3735,
          3745,
          3755,
          3765,
          3775,
          3785,
          3795,
          3805,
          3815,
          3825,
          3835,
          3845,
          3855,
          3865,
          3875,
          3885,
          3895,
          3905,
          3915,
          3925,
          3935,
          3945,
          3955,
          3965,
          3975,
          3985,
          3995,
          4005,
          4015,
          4025,
          4035,
          4045,
          4055,
          4065,
          4075,
          4085,
          4095,
          4105,
          4115,
          4125,
          4135,
          4145,
          4155,
          4165,
          4175,
          4185,
          4195,
          4205,
          4215,
          4225,
          4235,
          4245,
          4255,
          4265,
          4275,
          4285,
          4295,
          4305,
          4315,
          4325,
          4335,
          4345,
          4355,
          4365,
          4375,
          4385,
          4395,
          4405,
          4415,
          4425,
          4435,
          4445,
          4455,
          4465,
          4475,
          4485,
          4495,
          4505,
          4515,
          4525,
          4535,
          4545,
          4555,
          4565,
          4575,
          4585,
          4595,
          4605,
          4615,
          4625,
          4635,
          4645,
          4655,
          4665,
          4675,
          4685,
          4695,
          4705,
          4715,
          4725,
          4735,
          4745,
          4755,
          4765,
          4775,
          4785,
          4795,
          4805,
          4815,
          4825,
          4835,
          4845,
          4855,
          4865,
          4875,
          4885,
          4895,
          4905,
          4915,
          4925,
          4935,
          4945,
          4955,
          4965,
          4975,
          4985,
          4995,
          5005,
          5015,
          5025,
          5035,
          5045,
          5055,
          5065,
          5075,
          5085,
          5095,
          5105,
          5115,
          5125,
          5135,
          5145,
          5155,
          5165,
          5175,
          5185,
          5195,
          5205,
          5215,
          5225,
          5235,
          5245,
          5255,
          5265,
          5275,
          5285,
          5295,
          5305,
          5315,
          5325,
          5335,
          5345,
          5355,
          5365,
          5375,
          5385,
          5395,
          5405,
          5415,
          5425,
          5435,
          5445,
          5455,
          5465,
          5475,
          5485,
          5495,
          5505,
          5515,
          5525,
          5535,
          5545,
          5555,
          5565,
          5575,
          5585,
          5595,
          5605,
          5615,
          5625,
          5635,
          5645,
          5655,
          5665,
          5675,
          5685
         ],
         "type": "linear",
         "zeroline": false
        },
        "yaxis": {
         "mirror": "allticks",
         "rangemode": "tozero",
         "showgrid": false,
         "showline": true,
         "showticklabels": true,
         "ticks": "outside",
         "type": "linear",
         "zeroline": false
        }
       }
      }
     },
     "metadata": {},
     "output_type": "display_data"
    }
   ],
   "source": [
    "import plotly.figure_factory as ff\n",
    "\n",
    "fig = ff.create_dendrogram(normalized_dataset[features])\n",
    "fig.update_layout(width=800, height=500)\n",
    "fig.show()"
   ]
  },
  {
   "cell_type": "markdown",
   "metadata": {},
   "source": [
    "___\n",
    "## 9.2\n",
    "\n",
    "Using k-means, categorize the “wisc_bc_ContinuousVar.csv” data into two (2) clusters based on. All the features except the diagnosis column. Tabulate the clustered rows against the “diagnosis” column. (Remove the rows with missing values first)"
   ]
  },
  {
   "cell_type": "markdown",
   "metadata": {},
   "source": [
    "### K-Means\n",
    "\n",
    "#### Assignment Step\n",
    "$S_i^{(t)} = \\{x_p : ||x_p - m_i^{(t)}||^2 \\leq ||x_p - m_j^{(t)}||^2 ; \\forall{j}, 1\\leq j \\leq k \\}$ \n",
    "\n",
    "#### Update Step\n",
    "$m_i^{(t+1)} = \\frac{1}{|S_i^{(t)}} \\sum_{x_j \\in S_i^{(t)}}{x_j}$"
   ]
  },
  {
   "cell_type": "code",
   "execution_count": 13,
   "metadata": {},
   "outputs": [],
   "source": [
    "class KMeansClustering:\n",
    "\n",
    "    def __init__(self, X: pd.DataFrame, k: int):\n",
    "\n",
    "        self.X = X\n",
    "        self.N, self.M = self.X.shape\n",
    "        self.k = k\n",
    "\n",
    "        self.random_start_points = self.X.sample(n=self.k)\n",
    "        self.centroids = {k_ind: centroid for k_ind, centroid in enumerate(self.random_start_points.values)}\n",
    "        self.centroids = pd.DataFrame().from_dict(self.centroids, orient='index', columns=self.X.columns)\n",
    "\n",
    "    def assignment_step(self):\n",
    "        \n",
    "        self.distance_mat = pd.DataFrame(np.zeros((self.N, self.k)), index=self.X.index, columns=self.centroids.index)\n",
    "        for centroid_ind, centroid in self.centroids.iterrows():\n",
    "            \n",
    "            tiled_centroid = np.repeat(centroid.values[:, np.newaxis], repeats=self.N, axis=1).T\n",
    "            distances = euclidean_distance(tiled_centroid, self.X)\n",
    "            self.distance_mat[centroid_ind] = distances\n",
    "        \n",
    "        self.clusters = self.distance_mat.idxmin(axis=1)\n",
    "        return self.clusters\n",
    "\n",
    "    def update_step(self):\n",
    "        \n",
    "        for k_ind in self.centroids.index:\n",
    "            \n",
    "            cluster_mask = self.clusters.values == k_ind\n",
    "            points_in_cluster_inds = self.clusters[cluster_mask].index\n",
    "            points_in_cluster = self.X.loc[points_in_cluster_inds]\n",
    "            \n",
    "            new_centroid = points_in_cluster.sum(axis=0) / len(points_in_cluster.index)\n",
    "            self.centroids.loc[k_ind] = new_centroid\n",
    "\n",
    "    def fit(self):\n",
    "        \n",
    "        \n",
    "        # initialize vars\n",
    "        init_clusters = self.assignment_step()\n",
    "        self.update_step()\n",
    "        fin_clusters = self.assignment_step()\n",
    "\n",
    "        # keep going until the clusters are stable\n",
    "        while (init_clusters != fin_clusters).any():\n",
    "            \n",
    "            init_clusters = fin_clusters\n",
    "            self.update_step()\n",
    "            fin_clusters = self.assignment_step()\n",
    "\n"
   ]
  },
  {
   "cell_type": "code",
   "execution_count": 14,
   "metadata": {},
   "outputs": [],
   "source": [
    "k_means = KMeansClustering(\n",
    "    X=normalized_dataset[features],\n",
    "    k=2,\n",
    ")"
   ]
  },
  {
   "cell_type": "code",
   "execution_count": 15,
   "metadata": {},
   "outputs": [],
   "source": [
    "k_means.fit()"
   ]
  },
  {
   "cell_type": "code",
   "execution_count": 16,
   "metadata": {},
   "outputs": [
    {
     "data": {
      "text/plain": [
       "1    380\n",
       "0    189\n",
       "Name: count, dtype: int64"
      ]
     },
     "execution_count": 16,
     "metadata": {},
     "output_type": "execute_result"
    }
   ],
   "source": [
    "k_means.clusters.value_counts()"
   ]
  },
  {
   "cell_type": "code",
   "execution_count": 17,
   "metadata": {},
   "outputs": [
    {
     "data": {
      "text/plain": [
       "diagnosis\n",
       "0    357\n",
       "1    212\n",
       "Name: count, dtype: int64"
      ]
     },
     "execution_count": 17,
     "metadata": {},
     "output_type": "execute_result"
    }
   ],
   "source": [
    "normalized_dataset[target].value_counts()"
   ]
  },
  {
   "cell_type": "code",
   "execution_count": 23,
   "metadata": {},
   "outputs": [],
   "source": [
    "clusters_labels_swapped = k_means.clusters.copy()\n",
    "clusters_labels_swapped.replace({1: 0, 0: 1}, inplace=True)"
   ]
  },
  {
   "cell_type": "code",
   "execution_count": 18,
   "metadata": {},
   "outputs": [
    {
     "name": "stdout",
     "output_type": "stream",
     "text": [
      "Accuracy 7.206%\n"
     ]
    }
   ],
   "source": [
    "normalized_dataset['prediction'] = k_means.clusters\n",
    "normalized_dataset['correct'] = normalized_dataset['prediction'] == normalized_dataset[target]\n",
    "\n",
    "acc = normalized_dataset['correct'].value_counts()[True] / len(normalized_dataset.index)\n",
    "print('Accuracy %1.3f%%' % (acc*100))"
   ]
  },
  {
   "cell_type": "code",
   "execution_count": 24,
   "metadata": {},
   "outputs": [
    {
     "name": "stdout",
     "output_type": "stream",
     "text": [
      "Accuracy 92.794%\n"
     ]
    }
   ],
   "source": [
    "normalized_dataset['prediction-swapped'] = clusters_labels_swapped\n",
    "normalized_dataset['correct'] = normalized_dataset['prediction-swapped'] == normalized_dataset[target]\n",
    "\n",
    "acc = normalized_dataset['correct'].value_counts()[True] / len(normalized_dataset.index)\n",
    "print('Accuracy %1.3f%%' % (acc*100))"
   ]
  },
  {
   "cell_type": "code",
   "execution_count": null,
   "metadata": {},
   "outputs": [],
   "source": []
  }
 ],
 "metadata": {
  "kernelspec": {
   "display_name": "torch20",
   "language": "python",
   "name": "python3"
  },
  "language_info": {
   "codemirror_mode": {
    "name": "ipython",
    "version": 3
   },
   "file_extension": ".py",
   "mimetype": "text/x-python",
   "name": "python",
   "nbconvert_exporter": "python",
   "pygments_lexer": "ipython3",
   "version": "3.10.12"
  },
  "orig_nbformat": 4
 },
 "nbformat": 4,
 "nbformat_minor": 2
}
