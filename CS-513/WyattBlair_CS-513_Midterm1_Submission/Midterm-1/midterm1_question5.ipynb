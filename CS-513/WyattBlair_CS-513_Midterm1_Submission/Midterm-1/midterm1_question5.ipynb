{
 "cells": [
  {
   "cell_type": "markdown",
   "metadata": {},
   "source": [
    "# CS-513 Midterm 1\n",
    "\n",
    "## Question 5\n",
    "___\n",
    "Wyatt Blair\n",
    "\n",
    "3/26/24\n",
    "___\n"
   ]
  },
  {
   "cell_type": "markdown",
   "metadata": {},
   "source": [
    "#5 (25 Points)\n",
    "\n",
    "Load the CANVAS “Admission_v2.CSV” dataset into R/Python. Remove the missing values.  Construct an unweighted knn = (3,5,7) model to classify admission (Admit=’YES’) based on the other variables. Predict admission for a random sample (30%) of the data (test dataset). Measure the accuracy of the model for each K.\n"
   ]
  },
  {
   "cell_type": "code",
   "execution_count": 1,
   "metadata": {},
   "outputs": [],
   "source": [
    "import numpy as np\n",
    "import pandas as pd\n",
    "import matplotlib.pyplot as plt\n",
    "import functools"
   ]
  },
  {
   "cell_type": "code",
   "execution_count": 2,
   "metadata": {},
   "outputs": [
    {
     "data": {
      "text/plain": [
       "ADMIT    False\n",
       "GRE      False\n",
       "GPA      False\n",
       "RANK     False\n",
       "dtype: bool"
      ]
     },
     "execution_count": 2,
     "metadata": {},
     "output_type": "execute_result"
    }
   ],
   "source": [
    "dataset = pd.read_csv(\"../data/Admission_v2.csv\", index_col='Applicant')\n",
    "\n",
    "dataset['GPA'] = dataset['GPA'].replace(' ', np.nan).astype(np.float64)\n",
    "dataset['GRE'] = dataset['GRE'].replace(' ', np.nan).astype(np.float64)\n",
    "dataset['ADMIT'] = dataset['ADMIT'].apply(lambda admit: np.int_(admit == 'YES'))\n",
    "\n",
    "dataset['GPA'] = dataset['GPA'].fillna(dataset['GPA'].mean())\n",
    "dataset['GRE'] = dataset['GRE'].fillna(dataset['GRE'].mean())\n",
    "\n",
    "dataset.isnull().any()"
   ]
  },
  {
   "cell_type": "code",
   "execution_count": 3,
   "metadata": {},
   "outputs": [],
   "source": [
    "def min_max_normalization(series):\n",
    "\n",
    "    minimum, maximum = series.min(), series.max()\n",
    "    normalized_data = (series - minimum) / (maximum - minimum)\n",
    "\n",
    "    return normalized_data\n",
    "\n",
    "def z_score_standardization(series):\n",
    "\n",
    "    mean, std = series.mean(), series.std()\n",
    "    normalized_data = (series - mean) / std\n",
    "\n",
    "    return normalized_data\n"
   ]
  },
  {
   "cell_type": "code",
   "execution_count": 4,
   "metadata": {},
   "outputs": [],
   "source": [
    "min_max_normalized_dataset = dataset.apply(min_max_normalization, axis=0)\n",
    "z_score_normalized_dataset = dataset.apply(z_score_standardization, axis=0)"
   ]
  },
  {
   "cell_type": "code",
   "execution_count": 5,
   "metadata": {},
   "outputs": [],
   "source": [
    "using_dataset = min_max_normalized_dataset\n",
    "\n",
    "train = using_dataset.sample(frac=0.7)\n",
    "test = using_dataset.drop(train.index)"
   ]
  },
  {
   "cell_type": "code",
   "execution_count": 6,
   "metadata": {},
   "outputs": [],
   "source": [
    "# borrowing some code from HW-3-KNN\n",
    "\n",
    "def minkowski_distance(x, y, p):\n",
    "\n",
    "    diff = x - y\n",
    "    power = diff ** p\n",
    "    total = power.sum(axis=1)\n",
    "    distance = total ** (1/p)\n",
    "\n",
    "    return distance\n",
    "\n",
    "def euclidean_distance(x, y):\n",
    "    \n",
    "    return minkowski_distance(x, y, p=2)\n",
    "\n",
    "def manhattan_distance(x, y):\n",
    "\n",
    "    diff = x - y\n",
    "    absolute = abs(diff)\n",
    "    distance = absolute.sum(axis=1)\n",
    "\n",
    "    return distance\n",
    "\n",
    "# ========================================================================\n",
    "\n",
    "def find_k_nearest_neighbors(point, k, distance_metric=euclidean_distance):\n",
    "\n",
    "    neighbors = train.copy()\n",
    "    feat_columns = ['GRE', 'GPA', 'RANK']\n",
    "\n",
    "    y = np.broadcast_to(point[feat_columns].values, (len(train.index), len(feat_columns)))\n",
    "\n",
    "    x_data = neighbors[feat_columns].copy()\n",
    "    x = x_data.values\n",
    "\n",
    "    neighbors['distance'] = distance_metric(x, y)\n",
    "    neighbors.sort_values(by='distance', ascending=True, inplace=True)\n",
    "    nearest_neighbors = neighbors.head(k)\n",
    "\n",
    "    return nearest_neighbors\n",
    "\n",
    "def classify(neighbors):\n",
    "\n",
    "    neighbor_classes = neighbors['ADMIT']\n",
    "    counts = neighbor_classes.value_counts()\n",
    "    closest_class = counts.sort_values().index[0]\n",
    "\n",
    "    return closest_class\n",
    "\n",
    "def predict(point, k, distance_metric=euclidean_distance):\n",
    "\n",
    "    nearest_neighbors = find_k_nearest_neighbors(point, k, distance_metric=distance_metric)\n",
    "    classification = classify(nearest_neighbors)\n",
    "\n",
    "    return classification\n",
    "\n",
    "# ========================================================================\n",
    "\n",
    "def test_knn(distance_metric, k_vals=[1, 3, 5, 7]):\n",
    "    \n",
    "    accuracy_dict = {}\n",
    "    df = test.copy()\n",
    "\n",
    "    for k in k_vals:\n",
    "\n",
    "        predict_func = functools.partial(\n",
    "            predict,\n",
    "            k=k,\n",
    "            distance_metric=distance_metric,\n",
    "        )\n",
    "\n",
    "        df[f\"prediction_k={k}\"] = df.apply(predict_func, axis=1)\n",
    "        df[f\"correct_k={k}\"] = df['ADMIT'] == df[f'prediction_k={k}']\n",
    "\n",
    "        percent_correct = df[f\"correct_k={k}\"].value_counts()[True] / len(df.index)\n",
    "        accuracy_dict.update({f'accuracy_k={k}' : percent_correct})\n",
    "    \n",
    "    return accuracy_dict"
   ]
  },
  {
   "cell_type": "code",
   "execution_count": 7,
   "metadata": {},
   "outputs": [
    {
     "data": {
      "text/plain": [
       "{'accuracy_k=1': 0.6333333333333333,\n",
       " 'accuracy_k=3': 0.5166666666666667,\n",
       " 'accuracy_k=5': 0.425,\n",
       " 'accuracy_k=7': 0.30833333333333335}"
      ]
     },
     "execution_count": 7,
     "metadata": {},
     "output_type": "execute_result"
    }
   ],
   "source": [
    "test_knn(euclidean_distance)"
   ]
  },
  {
   "cell_type": "code",
   "execution_count": 8,
   "metadata": {},
   "outputs": [
    {
     "data": {
      "text/plain": [
       "{'accuracy_k=1': 0.625,\n",
       " 'accuracy_k=3': 0.575,\n",
       " 'accuracy_k=5': 0.36666666666666664,\n",
       " 'accuracy_k=7': 0.275}"
      ]
     },
     "execution_count": 8,
     "metadata": {},
     "output_type": "execute_result"
    }
   ],
   "source": [
    "test_knn(manhattan_distance)"
   ]
  },
  {
   "cell_type": "code",
   "execution_count": 9,
   "metadata": {},
   "outputs": [
    {
     "data": {
      "text/plain": [
       "{'accuracy_k=1': 0.6416666666666667,\n",
       " 'accuracy_k=3': 0.5166666666666667,\n",
       " 'accuracy_k=5': 0.43333333333333335,\n",
       " 'accuracy_k=7': 0.325}"
      ]
     },
     "execution_count": 9,
     "metadata": {},
     "output_type": "execute_result"
    }
   ],
   "source": [
    "test_knn(functools.partial(minkowski_distance, p=6))"
   ]
  },
  {
   "cell_type": "code",
   "execution_count": 10,
   "metadata": {},
   "outputs": [
    {
     "data": {
      "text/plain": [
       "{'accuracy_k=1': 0.6333333333333333,\n",
       " 'accuracy_k=3': 0.5166666666666667,\n",
       " 'accuracy_k=5': 0.43333333333333335,\n",
       " 'accuracy_k=7': 0.3}"
      ]
     },
     "execution_count": 10,
     "metadata": {},
     "output_type": "execute_result"
    }
   ],
   "source": [
    "test_knn(functools.partial(minkowski_distance, p=4))"
   ]
  },
  {
   "cell_type": "code",
   "execution_count": 11,
   "metadata": {},
   "outputs": [
    {
     "data": {
      "text/plain": [
       "{'accuracy_k=1': 0.6333333333333333,\n",
       " 'accuracy_k=3': 0.525,\n",
       " 'accuracy_k=5': 0.43333333333333335,\n",
       " 'accuracy_k=7': 0.325}"
      ]
     },
     "execution_count": 11,
     "metadata": {},
     "output_type": "execute_result"
    }
   ],
   "source": [
    "test_knn(functools.partial(minkowski_distance, p=8))"
   ]
  },
  {
   "cell_type": "markdown",
   "metadata": {},
   "source": [
    "### Based on these results, the best performing KNN-Model within the parameters of the question is k=3 using any of the three defined distance metrics. I decided to test k=1 to see how it performed, and it out-performed k=3 on the test dataset making it the best model. However, as I said, within the bounds of the midterm question the k=3 model performs the best."
   ]
  },
  {
   "cell_type": "code",
   "execution_count": null,
   "metadata": {},
   "outputs": [],
   "source": []
  }
 ],
 "metadata": {
  "kernelspec": {
   "display_name": "torch20",
   "language": "python",
   "name": "python3"
  },
  "language_info": {
   "codemirror_mode": {
    "name": "ipython",
    "version": 3
   },
   "file_extension": ".py",
   "mimetype": "text/x-python",
   "name": "python",
   "nbconvert_exporter": "python",
   "pygments_lexer": "ipython3",
   "version": "3.10.10"
  }
 },
 "nbformat": 4,
 "nbformat_minor": 2
}
