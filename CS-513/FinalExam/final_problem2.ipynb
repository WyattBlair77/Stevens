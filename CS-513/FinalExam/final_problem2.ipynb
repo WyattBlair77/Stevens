{
 "cells": [
  {
   "cell_type": "markdown",
   "metadata": {},
   "source": [
    "# CS-513 Final Exam\n",
    "\n",
    "## Question 2\n",
    "___\n",
    "Wyatt Blair\n",
    "\n",
    "5/6/2024\n",
    "___\n"
   ]
  },
  {
   "cell_type": "code",
   "execution_count": 1,
   "metadata": {},
   "outputs": [],
   "source": [
    "import pandas as pd\n",
    "import numpy as np\n",
    "from sklearn.cluster import KMeans\n",
    "from sklearn.preprocessing import MinMaxScaler, RobustScaler, StandardScaler\n",
    "import matplotlib.pyplot as plt"
   ]
  },
  {
   "cell_type": "markdown",
   "metadata": {},
   "source": [
    "___\n",
    "## Import Data"
   ]
  },
  {
   "cell_type": "code",
   "execution_count": 2,
   "metadata": {},
   "outputs": [
    {
     "data": {
      "text/html": [
       "<div>\n",
       "<style scoped>\n",
       "    .dataframe tbody tr th:only-of-type {\n",
       "        vertical-align: middle;\n",
       "    }\n",
       "\n",
       "    .dataframe tbody tr th {\n",
       "        vertical-align: top;\n",
       "    }\n",
       "\n",
       "    .dataframe thead th {\n",
       "        text-align: right;\n",
       "    }\n",
       "</style>\n",
       "<table border=\"1\" class=\"dataframe\">\n",
       "  <thead>\n",
       "    <tr style=\"text-align: right;\">\n",
       "      <th></th>\n",
       "      <th>STATEFIPS</th>\n",
       "      <th>STATE</th>\n",
       "      <th>zipcode</th>\n",
       "      <th>Returns_pct1</th>\n",
       "      <th>Returns_pct2</th>\n",
       "      <th>Returns_pct3</th>\n",
       "      <th>Returns_pct4</th>\n",
       "      <th>Returns_pct5</th>\n",
       "      <th>Returns_pct6</th>\n",
       "      <th>total</th>\n",
       "    </tr>\n",
       "  </thead>\n",
       "  <tbody>\n",
       "    <tr>\n",
       "      <th>0</th>\n",
       "      <td>21</td>\n",
       "      <td>KY</td>\n",
       "      <td>40003</td>\n",
       "      <td>34.48</td>\n",
       "      <td>25.29</td>\n",
       "      <td>14.94</td>\n",
       "      <td>12.64</td>\n",
       "      <td>12.64</td>\n",
       "      <td>0.00</td>\n",
       "      <td>870</td>\n",
       "    </tr>\n",
       "    <tr>\n",
       "      <th>1</th>\n",
       "      <td>21</td>\n",
       "      <td>KY</td>\n",
       "      <td>40004</td>\n",
       "      <td>36.60</td>\n",
       "      <td>26.94</td>\n",
       "      <td>14.85</td>\n",
       "      <td>9.59</td>\n",
       "      <td>10.02</td>\n",
       "      <td>1.99</td>\n",
       "      <td>14070</td>\n",
       "    </tr>\n",
       "    <tr>\n",
       "      <th>2</th>\n",
       "      <td>21</td>\n",
       "      <td>KY</td>\n",
       "      <td>40006</td>\n",
       "      <td>36.79</td>\n",
       "      <td>25.00</td>\n",
       "      <td>16.51</td>\n",
       "      <td>10.38</td>\n",
       "      <td>10.38</td>\n",
       "      <td>0.94</td>\n",
       "      <td>2120</td>\n",
       "    </tr>\n",
       "    <tr>\n",
       "      <th>3</th>\n",
       "      <td>21</td>\n",
       "      <td>KY</td>\n",
       "      <td>40007</td>\n",
       "      <td>41.67</td>\n",
       "      <td>33.33</td>\n",
       "      <td>0.00</td>\n",
       "      <td>25.00</td>\n",
       "      <td>0.00</td>\n",
       "      <td>0.00</td>\n",
       "      <td>120</td>\n",
       "    </tr>\n",
       "    <tr>\n",
       "      <th>4</th>\n",
       "      <td>21</td>\n",
       "      <td>KY</td>\n",
       "      <td>40008</td>\n",
       "      <td>36.52</td>\n",
       "      <td>26.40</td>\n",
       "      <td>15.73</td>\n",
       "      <td>10.67</td>\n",
       "      <td>10.67</td>\n",
       "      <td>0.00</td>\n",
       "      <td>1780</td>\n",
       "    </tr>\n",
       "    <tr>\n",
       "      <th>...</th>\n",
       "      <td>...</td>\n",
       "      <td>...</td>\n",
       "      <td>...</td>\n",
       "      <td>...</td>\n",
       "      <td>...</td>\n",
       "      <td>...</td>\n",
       "      <td>...</td>\n",
       "      <td>...</td>\n",
       "      <td>...</td>\n",
       "      <td>...</td>\n",
       "    </tr>\n",
       "    <tr>\n",
       "      <th>1238</th>\n",
       "      <td>34</td>\n",
       "      <td>NJ</td>\n",
       "      <td>8887</td>\n",
       "      <td>23.88</td>\n",
       "      <td>22.39</td>\n",
       "      <td>19.40</td>\n",
       "      <td>11.94</td>\n",
       "      <td>17.91</td>\n",
       "      <td>4.48</td>\n",
       "      <td>670</td>\n",
       "    </tr>\n",
       "    <tr>\n",
       "      <th>1239</th>\n",
       "      <td>34</td>\n",
       "      <td>NJ</td>\n",
       "      <td>8889</td>\n",
       "      <td>23.25</td>\n",
       "      <td>13.63</td>\n",
       "      <td>10.22</td>\n",
       "      <td>9.02</td>\n",
       "      <td>24.85</td>\n",
       "      <td>19.04</td>\n",
       "      <td>4990</td>\n",
       "    </tr>\n",
       "    <tr>\n",
       "      <th>1240</th>\n",
       "      <td>34</td>\n",
       "      <td>NJ</td>\n",
       "      <td>8901</td>\n",
       "      <td>50.37</td>\n",
       "      <td>30.12</td>\n",
       "      <td>10.18</td>\n",
       "      <td>3.89</td>\n",
       "      <td>4.21</td>\n",
       "      <td>1.23</td>\n",
       "      <td>18760</td>\n",
       "    </tr>\n",
       "    <tr>\n",
       "      <th>1241</th>\n",
       "      <td>34</td>\n",
       "      <td>NJ</td>\n",
       "      <td>8902</td>\n",
       "      <td>29.67</td>\n",
       "      <td>22.66</td>\n",
       "      <td>14.69</td>\n",
       "      <td>10.27</td>\n",
       "      <td>17.09</td>\n",
       "      <td>5.62</td>\n",
       "      <td>20830</td>\n",
       "    </tr>\n",
       "    <tr>\n",
       "      <th>1242</th>\n",
       "      <td>34</td>\n",
       "      <td>NJ</td>\n",
       "      <td>8904</td>\n",
       "      <td>27.90</td>\n",
       "      <td>20.66</td>\n",
       "      <td>14.63</td>\n",
       "      <td>9.95</td>\n",
       "      <td>17.50</td>\n",
       "      <td>9.35</td>\n",
       "      <td>6630</td>\n",
       "    </tr>\n",
       "  </tbody>\n",
       "</table>\n",
       "<p>1243 rows × 10 columns</p>\n",
       "</div>"
      ],
      "text/plain": [
       "      STATEFIPS STATE  zipcode  Returns_pct1  Returns_pct2  Returns_pct3  \\\n",
       "0            21    KY    40003         34.48         25.29         14.94   \n",
       "1            21    KY    40004         36.60         26.94         14.85   \n",
       "2            21    KY    40006         36.79         25.00         16.51   \n",
       "3            21    KY    40007         41.67         33.33          0.00   \n",
       "4            21    KY    40008         36.52         26.40         15.73   \n",
       "...         ...   ...      ...           ...           ...           ...   \n",
       "1238         34    NJ     8887         23.88         22.39         19.40   \n",
       "1239         34    NJ     8889         23.25         13.63         10.22   \n",
       "1240         34    NJ     8901         50.37         30.12         10.18   \n",
       "1241         34    NJ     8902         29.67         22.66         14.69   \n",
       "1242         34    NJ     8904         27.90         20.66         14.63   \n",
       "\n",
       "      Returns_pct4  Returns_pct5  Returns_pct6  total  \n",
       "0            12.64         12.64          0.00    870  \n",
       "1             9.59         10.02          1.99  14070  \n",
       "2            10.38         10.38          0.94   2120  \n",
       "3            25.00          0.00          0.00    120  \n",
       "4            10.67         10.67          0.00   1780  \n",
       "...            ...           ...           ...    ...  \n",
       "1238         11.94         17.91          4.48    670  \n",
       "1239          9.02         24.85         19.04   4990  \n",
       "1240          3.89          4.21          1.23  18760  \n",
       "1241         10.27         17.09          5.62  20830  \n",
       "1242          9.95         17.50          9.35   6630  \n",
       "\n",
       "[1243 rows x 10 columns]"
      ]
     },
     "execution_count": 2,
     "metadata": {},
     "output_type": "execute_result"
    }
   ],
   "source": [
    "data = pd.read_csv('../data/KY_NJ_Zip.csv')\n",
    "data"
   ]
  },
  {
   "cell_type": "code",
   "execution_count": 3,
   "metadata": {},
   "outputs": [
    {
     "data": {
      "text/plain": [
       "STATEFIPS       False\n",
       "STATE           False\n",
       "zipcode         False\n",
       "Returns_pct1    False\n",
       "Returns_pct2    False\n",
       "Returns_pct3    False\n",
       "Returns_pct4    False\n",
       "Returns_pct5    False\n",
       "Returns_pct6    False\n",
       "total           False\n",
       "dtype: bool"
      ]
     },
     "execution_count": 3,
     "metadata": {},
     "output_type": "execute_result"
    }
   ],
   "source": [
    "data.isnull().any()"
   ]
  },
  {
   "cell_type": "code",
   "execution_count": 4,
   "metadata": {},
   "outputs": [
    {
     "data": {
      "text/html": [
       "<div>\n",
       "<style scoped>\n",
       "    .dataframe tbody tr th:only-of-type {\n",
       "        vertical-align: middle;\n",
       "    }\n",
       "\n",
       "    .dataframe tbody tr th {\n",
       "        vertical-align: top;\n",
       "    }\n",
       "\n",
       "    .dataframe thead th {\n",
       "        text-align: right;\n",
       "    }\n",
       "</style>\n",
       "<table border=\"1\" class=\"dataframe\">\n",
       "  <thead>\n",
       "    <tr style=\"text-align: right;\">\n",
       "      <th></th>\n",
       "      <th>STATE</th>\n",
       "      <th>STATEFIPS</th>\n",
       "    </tr>\n",
       "  </thead>\n",
       "  <tbody>\n",
       "    <tr>\n",
       "      <th>0</th>\n",
       "      <td>KY</td>\n",
       "      <td>21</td>\n",
       "    </tr>\n",
       "    <tr>\n",
       "      <th>667</th>\n",
       "      <td>NJ</td>\n",
       "      <td>34</td>\n",
       "    </tr>\n",
       "  </tbody>\n",
       "</table>\n",
       "</div>"
      ],
      "text/plain": [
       "    STATE  STATEFIPS\n",
       "0      KY         21\n",
       "667    NJ         34"
      ]
     },
     "execution_count": 4,
     "metadata": {},
     "output_type": "execute_result"
    }
   ],
   "source": [
    "state_map = data[['STATE', 'STATEFIPS']].drop_duplicates()\n",
    "state_map"
   ]
  },
  {
   "cell_type": "code",
   "execution_count": 5,
   "metadata": {},
   "outputs": [],
   "source": [
    "data.drop(columns=['zipcode', 'STATEFIPS', 'total'], inplace=True)     # zipcode isn't useful here and STATE dulpicates STATEFIPS"
   ]
  },
  {
   "cell_type": "code",
   "execution_count": 6,
   "metadata": {},
   "outputs": [],
   "source": [
    "# normalize data so Euclidean distance makes sense\n",
    "norm_data = pd.DataFrame(\n",
    "    data=StandardScaler().fit_transform(\n",
    "        data.replace({'NJ': 1, 'KY': 0})\n",
    "    ),\n",
    "    columns=data.columns\n",
    ")"
   ]
  },
  {
   "cell_type": "code",
   "execution_count": 7,
   "metadata": {},
   "outputs": [],
   "source": [
    "target = 'STATE'\n",
    "features = norm_data.columns.to_list(); features.remove(target)"
   ]
  },
  {
   "cell_type": "code",
   "execution_count": 8,
   "metadata": {},
   "outputs": [],
   "source": [
    "X = norm_data[features].values\n",
    "y = norm_data[target].values"
   ]
  },
  {
   "cell_type": "markdown",
   "metadata": {},
   "source": [
    "___\n",
    "## Problem 2 - (15 points)\n",
    "\n",
    "The “KY_NJ_Zip” CSV dataset on CANVAS categorizes the percentage of tax returns of families in the states of Kentucky and New Jersey into six categories (Returns_pct1 to Returns_pct6). Use these six categories and Euclidian distance, to perform the following analysis:\n",
    "\n",
    "* Use the kmeans clustering method to create four clusters for the “KY_NJ_ZIP” dataset.\n",
    "* Show the cross tabulation of the clusters versus the State."
   ]
  },
  {
   "cell_type": "markdown",
   "metadata": {},
   "source": [
    "___\n",
    "### sklearn's Implementation"
   ]
  },
  {
   "cell_type": "code",
   "execution_count": 9,
   "metadata": {},
   "outputs": [],
   "source": [
    "# clustering model\n",
    "model = KMeans(n_clusters=4, random_state=0, n_init=\"auto\").fit(X)\n",
    "unique_labels = np.unique(sorted(model.labels_))"
   ]
  },
  {
   "cell_type": "code",
   "execution_count": 10,
   "metadata": {},
   "outputs": [],
   "source": [
    "data['cluster'] = model.predict(X)"
   ]
  },
  {
   "cell_type": "code",
   "execution_count": 11,
   "metadata": {},
   "outputs": [
    {
     "data": {
      "text/html": [
       "<div>\n",
       "<style scoped>\n",
       "    .dataframe tbody tr th:only-of-type {\n",
       "        vertical-align: middle;\n",
       "    }\n",
       "\n",
       "    .dataframe tbody tr th {\n",
       "        vertical-align: top;\n",
       "    }\n",
       "\n",
       "    .dataframe thead th {\n",
       "        text-align: right;\n",
       "    }\n",
       "</style>\n",
       "<table border=\"1\" class=\"dataframe\">\n",
       "  <thead>\n",
       "    <tr style=\"text-align: right;\">\n",
       "      <th>cluster</th>\n",
       "      <th>0</th>\n",
       "      <th>1</th>\n",
       "      <th>2</th>\n",
       "      <th>3</th>\n",
       "    </tr>\n",
       "    <tr>\n",
       "      <th>STATE</th>\n",
       "      <th></th>\n",
       "      <th></th>\n",
       "      <th></th>\n",
       "      <th></th>\n",
       "    </tr>\n",
       "  </thead>\n",
       "  <tbody>\n",
       "    <tr>\n",
       "      <th>KY</th>\n",
       "      <td>80</td>\n",
       "      <td>123</td>\n",
       "      <td>456</td>\n",
       "      <td>8</td>\n",
       "    </tr>\n",
       "    <tr>\n",
       "      <th>NJ</th>\n",
       "      <td>9</td>\n",
       "      <td>288</td>\n",
       "      <td>107</td>\n",
       "      <td>172</td>\n",
       "    </tr>\n",
       "  </tbody>\n",
       "</table>\n",
       "</div>"
      ],
      "text/plain": [
       "cluster   0    1    2    3\n",
       "STATE                     \n",
       "KY       80  123  456    8\n",
       "NJ        9  288  107  172"
      ]
     },
     "execution_count": 11,
     "metadata": {},
     "output_type": "execute_result"
    }
   ],
   "source": [
    "pd.crosstab(data['STATE'], data['cluster'])"
   ]
  },
  {
   "cell_type": "code",
   "execution_count": 12,
   "metadata": {},
   "outputs": [
    {
     "data": {
      "image/png": "[encoded data removed]",
      "text/plain": [
       "<Figure size 640x480 with 1 Axes>"
      ]
     },
     "metadata": {},
     "output_type": "display_data"
    }
   ],
   "source": [
    "fig, ax = plt.subplots()\n",
    "\n",
    "ax.set_title('State vs. Cluster Cross-Tab')\n",
    "ax.set_ylabel('Count')\n",
    "\n",
    "pd.crosstab(data['STATE'], data['cluster']).plot.bar(ax=ax)\n",
    "\n",
    "plt.show()"
   ]
  },
  {
   "cell_type": "markdown",
   "metadata": {},
   "source": [
    "___\n",
    "### My implementation\n",
    "#### K-Means\n",
    "\n",
    "##### Assignment Step\n",
    "$S_i^{(t)} = \\{x_p : ||x_p - m_i^{(t)}||^2 \\leq ||x_p - m_j^{(t)}||^2 ; \\forall{j}, 1\\leq j \\leq k \\}$ \n",
    "\n",
    "##### Update Step\n",
    "$m_i^{(t+1)} = \\frac{1}{|S_i^{(t)}} \\sum_{x_j \\in S_i^{(t)}}{x_j}$"
   ]
  },
  {
   "cell_type": "code",
   "execution_count": 13,
   "metadata": {},
   "outputs": [],
   "source": [
    "# borrowed from my HW-9 submission\n",
    "\n",
    "def minkowski_distance(x, y, p):\n",
    "\n",
    "    diff = x - y\n",
    "    power = diff ** p\n",
    "\n",
    "    total = power.sum(axis=len(x.shape)-1)\n",
    "    distance = total ** (1/p)\n",
    "\n",
    "    return distance\n",
    "\n",
    "def euclidean_distance(x, y):\n",
    "    return minkowski_distance(x, y, p=2)\n",
    "\n",
    "class KMeansClustering:\n",
    "\n",
    "    def __init__(self, X: pd.DataFrame, k: int):\n",
    "\n",
    "        self.X = X\n",
    "        self.N, self.M = self.X.shape\n",
    "        self.k = k\n",
    "\n",
    "        self.random_start_points = self.X.sample(n=self.k)\n",
    "        self.centroids = {k_ind: centroid for k_ind, centroid in enumerate(self.random_start_points.values)}\n",
    "        self.centroids = pd.DataFrame().from_dict(self.centroids, orient='index', columns=self.X.columns)\n",
    "\n",
    "    def assignment_step(self):\n",
    "        \n",
    "        self.distance_mat = pd.DataFrame(np.zeros((self.N, self.k)), index=self.X.index, columns=self.centroids.index)\n",
    "        for centroid_ind, centroid in self.centroids.iterrows():\n",
    "            \n",
    "            tiled_centroid = np.repeat(centroid.values[:, np.newaxis], repeats=self.N, axis=1).T\n",
    "            distances = euclidean_distance(tiled_centroid, self.X)\n",
    "            self.distance_mat[centroid_ind] = distances\n",
    "        \n",
    "        self.clusters = self.distance_mat.idxmin(axis=1)\n",
    "        return self.clusters\n",
    "\n",
    "    def update_step(self):\n",
    "        \n",
    "        for k_ind in self.centroids.index:\n",
    "            \n",
    "            cluster_mask = self.clusters.values == k_ind\n",
    "            points_in_cluster_inds = self.clusters[cluster_mask].index\n",
    "            points_in_cluster = self.X.loc[points_in_cluster_inds]\n",
    "            \n",
    "            new_centroid = points_in_cluster.sum(axis=0) / len(points_in_cluster.index)\n",
    "            self.centroids.loc[k_ind] = new_centroid\n",
    "\n",
    "    def fit(self):\n",
    "        \n",
    "        # initialize vars\n",
    "        init_clusters = self.assignment_step()\n",
    "        self.update_step()\n",
    "        fin_clusters = self.assignment_step()\n",
    "\n",
    "        # keep going until the clusters are stable\n",
    "        while (init_clusters != fin_clusters).any():\n",
    "            \n",
    "            init_clusters = fin_clusters\n",
    "            self.update_step()\n",
    "            fin_clusters = self.assignment_step()"
   ]
  },
  {
   "cell_type": "code",
   "execution_count": 14,
   "metadata": {},
   "outputs": [],
   "source": [
    "k_means = KMeansClustering(\n",
    "    X=norm_data[features],\n",
    "    k=4,\n",
    ")\n",
    "\n",
    "k_means.fit()"
   ]
  },
  {
   "cell_type": "code",
   "execution_count": 15,
   "metadata": {},
   "outputs": [],
   "source": [
    "data['cluster_home-brewed'] = k_means.clusters"
   ]
  },
  {
   "cell_type": "code",
   "execution_count": 16,
   "metadata": {},
   "outputs": [
    {
     "data": {
      "text/html": [
       "<div>\n",
       "<style scoped>\n",
       "    .dataframe tbody tr th:only-of-type {\n",
       "        vertical-align: middle;\n",
       "    }\n",
       "\n",
       "    .dataframe tbody tr th {\n",
       "        vertical-align: top;\n",
       "    }\n",
       "\n",
       "    .dataframe thead th {\n",
       "        text-align: right;\n",
       "    }\n",
       "</style>\n",
       "<table border=\"1\" class=\"dataframe\">\n",
       "  <thead>\n",
       "    <tr style=\"text-align: right;\">\n",
       "      <th>cluster_home-brewed</th>\n",
       "      <th>0</th>\n",
       "      <th>1</th>\n",
       "      <th>2</th>\n",
       "      <th>3</th>\n",
       "    </tr>\n",
       "    <tr>\n",
       "      <th>STATE</th>\n",
       "      <th></th>\n",
       "      <th></th>\n",
       "      <th></th>\n",
       "      <th></th>\n",
       "    </tr>\n",
       "  </thead>\n",
       "  <tbody>\n",
       "    <tr>\n",
       "      <th>KY</th>\n",
       "      <td>123</td>\n",
       "      <td>8</td>\n",
       "      <td>80</td>\n",
       "      <td>456</td>\n",
       "    </tr>\n",
       "    <tr>\n",
       "      <th>NJ</th>\n",
       "      <td>288</td>\n",
       "      <td>172</td>\n",
       "      <td>9</td>\n",
       "      <td>107</td>\n",
       "    </tr>\n",
       "  </tbody>\n",
       "</table>\n",
       "</div>"
      ],
      "text/plain": [
       "cluster_home-brewed    0    1   2    3\n",
       "STATE                                 \n",
       "KY                   123    8  80  456\n",
       "NJ                   288  172   9  107"
      ]
     },
     "execution_count": 16,
     "metadata": {},
     "output_type": "execute_result"
    }
   ],
   "source": [
    "pd.crosstab(data['STATE'], data['cluster_home-brewed'])"
   ]
  },
  {
   "cell_type": "code",
   "execution_count": 17,
   "metadata": {},
   "outputs": [
    {
     "data": {
      "image/png": "[encoded data removed]",
      "text/plain": [
       "<Figure size 640x480 with 1 Axes>"
      ]
     },
     "metadata": {},
     "output_type": "display_data"
    }
   ],
   "source": [
    "fig, ax = plt.subplots()\n",
    "\n",
    "ax.set_title('State vs. Cluster (Home-Made) Cross-Tab')\n",
    "ax.set_ylabel('Count')\n",
    "\n",
    "pd.crosstab(data['STATE'], data['cluster_home-brewed']).plot.bar(ax=ax)\n",
    "\n",
    "plt.show()"
   ]
  },
  {
   "cell_type": "code",
   "execution_count": null,
   "metadata": {},
   "outputs": [],
   "source": []
  }
 ],
 "metadata": {
  "kernelspec": {
   "display_name": "torch20",
   "language": "python",
   "name": "python3"
  },
  "language_info": {
   "codemirror_mode": {
    "name": "ipython",
    "version": 3
   },
   "file_extension": ".py",
   "mimetype": "text/x-python",
   "name": "python",
   "nbconvert_exporter": "python",
   "pygments_lexer": "ipython3",
   "version": "3.10.12"
  },
  "orig_nbformat": 4
 },
 "nbformat": 4,
 "nbformat_minor": 2
}
