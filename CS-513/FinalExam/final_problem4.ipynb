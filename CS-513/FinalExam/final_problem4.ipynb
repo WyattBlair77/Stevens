{
 "cells": [
  {
   "cell_type": "markdown",
   "metadata": {},
   "source": [
    "# CS-513 Final Exam\n",
    "\n",
    "## Question 4\n",
    "___\n",
    "Wyatt Blair\n",
    "\n",
    "5/6/2024\n",
    "___\n"
   ]
  },
  {
   "cell_type": "code",
   "execution_count": 1,
   "metadata": {},
   "outputs": [],
   "source": [
    "import pandas as pd\n",
    "import numpy as np\n",
    "from sklearn.ensemble import RandomForestClassifier\n",
    "from sklearn.model_selection import GridSearchCV"
   ]
  },
  {
   "cell_type": "markdown",
   "metadata": {},
   "source": [
    "___\n",
    "## Import Data"
   ]
  },
  {
   "cell_type": "code",
   "execution_count": 2,
   "metadata": {},
   "outputs": [
    {
     "data": {
      "text/html": [
       "<div>\n",
       "<style scoped>\n",
       "    .dataframe tbody tr th:only-of-type {\n",
       "        vertical-align: middle;\n",
       "    }\n",
       "\n",
       "    .dataframe tbody tr th {\n",
       "        vertical-align: top;\n",
       "    }\n",
       "\n",
       "    .dataframe thead th {\n",
       "        text-align: right;\n",
       "    }\n",
       "</style>\n",
       "<table border=\"1\" class=\"dataframe\">\n",
       "  <thead>\n",
       "    <tr style=\"text-align: right;\">\n",
       "      <th></th>\n",
       "      <th>Age</th>\n",
       "      <th>Education_Years</th>\n",
       "      <th>Gender</th>\n",
       "      <th>Hours_worked_Perweek</th>\n",
       "      <th>Income</th>\n",
       "    </tr>\n",
       "  </thead>\n",
       "  <tbody>\n",
       "    <tr>\n",
       "      <th>0</th>\n",
       "      <td>38</td>\n",
       "      <td>9</td>\n",
       "      <td>Male</td>\n",
       "      <td>40</td>\n",
       "      <td>&lt;=50K</td>\n",
       "    </tr>\n",
       "    <tr>\n",
       "      <th>1</th>\n",
       "      <td>37</td>\n",
       "      <td>14</td>\n",
       "      <td>Female</td>\n",
       "      <td>40</td>\n",
       "      <td>&lt;=50K</td>\n",
       "    </tr>\n",
       "    <tr>\n",
       "      <th>2</th>\n",
       "      <td>31</td>\n",
       "      <td>14</td>\n",
       "      <td>Female</td>\n",
       "      <td>50</td>\n",
       "      <td>&gt;50K</td>\n",
       "    </tr>\n",
       "    <tr>\n",
       "      <th>3</th>\n",
       "      <td>30</td>\n",
       "      <td>13</td>\n",
       "      <td>Male</td>\n",
       "      <td>40</td>\n",
       "      <td>&gt;50K</td>\n",
       "    </tr>\n",
       "    <tr>\n",
       "      <th>4</th>\n",
       "      <td>40</td>\n",
       "      <td>11</td>\n",
       "      <td>Male</td>\n",
       "      <td>40</td>\n",
       "      <td>&gt;50K</td>\n",
       "    </tr>\n",
       "    <tr>\n",
       "      <th>...</th>\n",
       "      <td>...</td>\n",
       "      <td>...</td>\n",
       "      <td>...</td>\n",
       "      <td>...</td>\n",
       "      <td>...</td>\n",
       "    </tr>\n",
       "    <tr>\n",
       "      <th>10848</th>\n",
       "      <td>37</td>\n",
       "      <td>12</td>\n",
       "      <td>Female</td>\n",
       "      <td>40</td>\n",
       "      <td>&lt;=50K</td>\n",
       "    </tr>\n",
       "    <tr>\n",
       "      <th>10849</th>\n",
       "      <td>43</td>\n",
       "      <td>10</td>\n",
       "      <td>Female</td>\n",
       "      <td>40</td>\n",
       "      <td>&lt;=50K</td>\n",
       "    </tr>\n",
       "    <tr>\n",
       "      <th>10850</th>\n",
       "      <td>43</td>\n",
       "      <td>11</td>\n",
       "      <td>Male</td>\n",
       "      <td>45</td>\n",
       "      <td>&lt;=50K</td>\n",
       "    </tr>\n",
       "    <tr>\n",
       "      <th>10851</th>\n",
       "      <td>22</td>\n",
       "      <td>10</td>\n",
       "      <td>Male</td>\n",
       "      <td>40</td>\n",
       "      <td>&lt;=50K</td>\n",
       "    </tr>\n",
       "    <tr>\n",
       "      <th>10852</th>\n",
       "      <td>58</td>\n",
       "      <td>9</td>\n",
       "      <td>Female</td>\n",
       "      <td>40</td>\n",
       "      <td>&lt;=50K</td>\n",
       "    </tr>\n",
       "  </tbody>\n",
       "</table>\n",
       "<p>10853 rows × 5 columns</p>\n",
       "</div>"
      ],
      "text/plain": [
       "       Age  Education_Years  Gender  Hours_worked_Perweek Income\n",
       "0       38                9    Male                    40  <=50K\n",
       "1       37               14  Female                    40  <=50K\n",
       "2       31               14  Female                    50   >50K\n",
       "3       30               13    Male                    40   >50K\n",
       "4       40               11    Male                    40   >50K\n",
       "...    ...              ...     ...                   ...    ...\n",
       "10848   37               12  Female                    40  <=50K\n",
       "10849   43               10  Female                    40  <=50K\n",
       "10850   43               11    Male                    45  <=50K\n",
       "10851   22               10    Male                    40  <=50K\n",
       "10852   58                9  Female                    40  <=50K\n",
       "\n",
       "[10853 rows x 5 columns]"
      ]
     },
     "execution_count": 2,
     "metadata": {},
     "output_type": "execute_result"
    }
   ],
   "source": [
    "data = pd.read_csv('../data/Adult_income_v2.csv')\n",
    "data"
   ]
  },
  {
   "cell_type": "code",
   "execution_count": 3,
   "metadata": {},
   "outputs": [],
   "source": [
    "data['Income'].replace({\n",
    "    '<=50K': 0,\n",
    "    '>50K': 1,\n",
    "}, inplace=True)\n",
    "\n",
    "data['Gender'].replace({\n",
    "    'Female': 0,\n",
    "    'Male': 1,\n",
    "}, inplace=True)"
   ]
  },
  {
   "cell_type": "code",
   "execution_count": 4,
   "metadata": {},
   "outputs": [],
   "source": [
    "features = ['Education_Years', 'Gender', 'Hours_worked_Perweek']\n",
    "target = 'Income'"
   ]
  },
  {
   "cell_type": "code",
   "execution_count": 5,
   "metadata": {},
   "outputs": [],
   "source": [
    "train = data.sample(frac=0.7)\n",
    "test = data.drop(index=train.index)"
   ]
  },
  {
   "cell_type": "code",
   "execution_count": 6,
   "metadata": {},
   "outputs": [],
   "source": [
    "# train/test split is 70/30\n",
    "\n",
    "train_X = train[features]\n",
    "train_y = train[target  ]\n",
    "\n",
    "test_X  = test[features]\n",
    "test_y  = test[target  ]"
   ]
  },
  {
   "cell_type": "markdown",
   "metadata": {},
   "source": [
    "___\n",
    "## Problem # 4: (10 points)\n",
    "\n",
    "Use the Random Forest methodology to develop a classification model for the “Income” (target), using “Education_years”, “Gender”, “Hours_Worked_Perweek” in the “Adult_income_v2.CSV” dataset (30% test 70% training).\n",
    "\n",
    "* What is the accuracy of your model?\n",
    "* What are “the mean decrease accuracies” of the features?\n",
    "* What are the “mean decrease Gini Indices” of the features?"
   ]
  },
  {
   "cell_type": "code",
   "execution_count": 10,
   "metadata": {},
   "outputs": [
    {
     "name": "stdout",
     "output_type": "stream",
     "text": [
      "Fitting 5 folds for each of 100 candidates, totalling 500 fits\n"
     ]
    }
   ],
   "source": [
    "parameters = {\n",
    "    'n_estimators' : [10, 50, 100, 200, 500],\n",
    "    'criterion': ['gini'],\n",
    "    'max_depth': [None, 2, 3, 4, 5],\n",
    "    'min_samples_split': [2, 3, 4, 5],\n",
    "}\n",
    "\n",
    "model = GridSearchCV(RandomForestClassifier(), parameters, verbose=1, n_jobs=-1).fit(train_X, train_y)"
   ]
  },
  {
   "cell_type": "code",
   "execution_count": 11,
   "metadata": {},
   "outputs": [
    {
     "name": "stdout",
     "output_type": "stream",
     "text": [
      "Accuracy (TRAIN): 80.637%\n",
      "Accuracy (TEST ): 79.791%\n"
     ]
    }
   ],
   "source": [
    "test['prediction'] = model.predict(test_X)\n",
    "test['correct'] = test['prediction'] == test['Income']\n",
    "test_accuracy = test['correct'].value_counts()[True] / len(test.index)\n",
    "\n",
    "train['prediction'] = model.predict(train_X)\n",
    "train['correct'] = train['prediction'] == train['Income']\n",
    "train_accuracy = train['correct'].value_counts()[True] / len(train.index)\n",
    "\n",
    "print('Accuracy (TRAIN): %1.3f%%' % (train_accuracy*100))\n",
    "print('Accuracy (TEST ): %1.3f%%' % (test_accuracy*100 ))\n"
   ]
  },
  {
   "cell_type": "code",
   "execution_count": 12,
   "metadata": {},
   "outputs": [],
   "source": [
    "# TODO: PART B AND C"
   ]
  },
  {
   "cell_type": "code",
   "execution_count": null,
   "metadata": {},
   "outputs": [],
   "source": []
  }
 ],
 "metadata": {
  "kernelspec": {
   "display_name": "torch20",
   "language": "python",
   "name": "python3"
  },
  "language_info": {
   "codemirror_mode": {
    "name": "ipython",
    "version": 3
   },
   "file_extension": ".py",
   "mimetype": "text/x-python",
   "name": "python",
   "nbconvert_exporter": "python",
   "pygments_lexer": "ipython3",
   "version": "3.10.12"
  },
  "orig_nbformat": 4
 },
 "nbformat": 4,
 "nbformat_minor": 2
}
