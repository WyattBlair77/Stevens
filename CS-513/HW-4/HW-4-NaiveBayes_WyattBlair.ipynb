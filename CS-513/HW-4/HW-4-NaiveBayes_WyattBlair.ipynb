{
 "cells": [
  {
   "cell_type": "markdown",
   "metadata": {},
   "source": [
    "# HW-4 Naive Bayes\n",
    "Wyatt Blair\n",
    "\n",
    "SID: 10420296\n",
    "\n",
    "3/10/24\n"
   ]
  },
  {
   "cell_type": "code",
   "execution_count": 1,
   "metadata": {},
   "outputs": [],
   "source": [
    "import pandas as pd\n",
    "import numpy as np\n",
    "import warnings\n",
    "warnings.filterwarnings(\"ignore\", category=RuntimeWarning) "
   ]
  },
  {
   "cell_type": "markdown",
   "metadata": {},
   "source": [
    "## Apply same pre-processing as in HW-2-EDA\n",
    "\n",
    "#### Note: I am using the median to fill NaN values here in order to keep the data categorical"
   ]
  },
  {
   "cell_type": "code",
   "execution_count": 2,
   "metadata": {},
   "outputs": [],
   "source": [
    "data = pd.read_csv('../data/breast-cancer-wisconsin.csv')\n",
    "\n",
    "data.replace(\"?\", np.NaN, inplace=True)\n",
    "data['F6'] = data['F6'].astype(float)\n",
    "\n",
    "for column in data:\n",
    "\n",
    "    series = data[column]\n",
    "    mean, median =  series.mean(), series.median()\n",
    "    data[column].fillna(median, inplace=True)"
   ]
  },
  {
   "cell_type": "markdown",
   "metadata": {},
   "source": [
    "## Split dataset into train (70%) and test (30%)"
   ]
  },
  {
   "cell_type": "code",
   "execution_count": 3,
   "metadata": {},
   "outputs": [],
   "source": [
    "train = data.sample(frac=0.7)\n",
    "test = data.drop(index=train.index)"
   ]
  },
  {
   "cell_type": "markdown",
   "metadata": {},
   "source": [
    "# Implement Naive-Bayes"
   ]
  },
  {
   "cell_type": "markdown",
   "metadata": {},
   "source": [
    "$P(y | a) = \\frac{P(a | y)P(y)}{P(a)}$\n",
    "\n",
    "$P(y | x_1, ..., x_j) = \\frac{P(x_1, ..., x_j | y)P(y)}{P(x_1, ..., x_j)}$\n",
    "\n",
    "___\n",
    "\n",
    "$a = \\{x_1, ..., x_j\\}$ : Data-Point\n",
    "\n",
    "$y$ : Class\n",
    "\n",
    "$P(y | a)$ : Posterior Probability\n",
    "\n",
    "$P(a | y)$ : Likelihood of Features\n",
    "\n",
    "$P(y)$ : Prior Probabilitiy\n",
    "\n",
    "$P(a)$ : Marginal Probability\n",
    "\n",
    "___\n",
    "\n"
   ]
  },
  {
   "cell_type": "code",
   "execution_count": 4,
   "metadata": {},
   "outputs": [],
   "source": [
    "class NaiveBayes:\n",
    "\n",
    "    def __init__(self, labelled_data):\n",
    "\n",
    "        self.data = labelled_data\n",
    "        self.probabilities = self.calculate_probabilities()\n",
    "        self.features = [col for col in labelled_data.columns if col.startswith('F')]\n",
    "\n",
    "    def calculate_probabilities(self):\n",
    "\n",
    "        data = self.data\n",
    "\n",
    "        # Initialize Helpful Variables\n",
    "        probabilities_dict = {}\n",
    "\n",
    "        num_data_points = len(data.index)\n",
    "        features = [col for col in data.columns if col.startswith('F')]\n",
    "        feature_values = train[features].stack().unique()\n",
    "\n",
    "        # P(y)\n",
    "        priors = data['Class'].value_counts() / num_data_points\n",
    "        probabilities_dict.update({'priors': priors})\n",
    "\n",
    "        # P(x1, x2, ...)\n",
    "        ind = np.linspace(1, len(feature_values), num=len(feature_values), dtype=np.int64)\n",
    "        vals = np.zeros(shape=(10, len(features)))\n",
    "        marginal_probability_table = pd.DataFrame(data=vals, index=ind, columns=features)\n",
    "\n",
    "        for feature in features:\n",
    "\n",
    "            probabilities = (data[feature].value_counts() / len(data.index))\n",
    "            marginal_probability_table[feature].update(probabilities)\n",
    "\n",
    "        probabilities_dict.update({\"marginal\": marginal_probability_table})\n",
    "\n",
    "        # P(x1, x2, ... | y)\n",
    "        classes = data['Class'].unique()\n",
    "\n",
    "        ind_arr1 = np.repeat(classes, repeats=len(feature_values))\n",
    "        ind_arr2 = np.tile(feature_values, reps=len(classes))\n",
    "        ind_arrs = list(zip(ind_arr1, ind_arr2))\n",
    "\n",
    "        ind = pd.MultiIndex.from_tuples(ind_arrs, names=['Class', 'Feature Values'])\n",
    "        vals = np.zeros((len(feature_values) * len(classes), len(features)))\n",
    "        likelihood_table = pd.DataFrame(data=vals, columns=features, index=ind)\n",
    "\n",
    "        for y in classes:\n",
    "\n",
    "            # First segment data based on class (i.e. given y)\n",
    "            class_wise_data = data[data['Class'] == y]\n",
    "            num_class_data_points = len(class_wise_data.index)\n",
    "\n",
    "            for feature in features:\n",
    "                \n",
    "                # Calculate probabilities for each value for each feature\n",
    "                probabilities = pd.concat({y: (\n",
    "                    class_wise_data[feature].value_counts() / num_class_data_points\n",
    "                )}, names=['Class'])\n",
    "\n",
    "                # Update likelihood table with all the values\n",
    "                likelihood_table[feature].update(probabilities)\n",
    "\n",
    "        likelihood_table.sort_index(inplace=True)\n",
    "        probabilities_dict.update({\"likelihood\": likelihood_table})\n",
    "\n",
    "        return probabilities_dict\n",
    "\n",
    "    def get_prior(self, y):\n",
    "\n",
    "        return self.probabilities['priors'][y]\n",
    "\n",
    "    def get_marginal(self, x):\n",
    "\n",
    "        marginal_table = self.probabilities['marginal']\n",
    "\n",
    "        features = [col for col in marginal_table.columns if col.startswith('F')]\n",
    "        marginals = []\n",
    "        for feat, feat_vec_val in zip(features, x[features]):\n",
    "\n",
    "            marginal_val = marginal_table[feat][feat_vec_val]\n",
    "            marginals.append(marginal_val)\n",
    "\n",
    "        marginal = np.prod(marginals)\n",
    "        return marginal\n",
    "\n",
    "    def get_likelihood(self, x, y):\n",
    "\n",
    "        likelihood_table = self.probabilities['likelihood']\n",
    "\n",
    "        features = [col for col in likelihood_table.columns if col.startswith('F')]\n",
    "        likelihoods = []\n",
    "        for feat, feat_vec_val in zip(features, x[features]):\n",
    "\n",
    "            likelihood_val = likelihood_table[feat][y][feat_vec_val]\n",
    "            likelihoods.append(likelihood_val)\n",
    "\n",
    "        likelihood = np.prod(likelihoods)\n",
    "        return likelihood\n",
    "    \n",
    "    def predict(self, x):\n",
    "\n",
    "        posterior_probabilities = {}\n",
    "\n",
    "        for y in self.probabilities['priors'].index:\n",
    "\n",
    "            # prior\n",
    "            prior = self.get_prior(y)\n",
    "\n",
    "            # marginal\n",
    "            marginal = self.get_marginal(x)\n",
    "            \n",
    "            # likelihood\n",
    "            likelihood = self.get_likelihood(x, y)\n",
    "\n",
    "            # P(y | x1, x2, ...) = P(x1, x2, ... | y) * P(y) / P(x1, x2, ...)\n",
    "            posterior_probability = (likelihood * prior) / (marginal)\n",
    "            posterior_probabilities.update({y: posterior_probability})\n",
    "        \n",
    "        prediction, highest_posterior_prob = max(\n",
    "            posterior_probabilities.items(), key=lambda x: x[1]\n",
    "        )\n",
    "        return prediction\n",
    "    \n",
    "    def __call__(self, x):\n",
    "        return self.predict(x)"
   ]
  },
  {
   "cell_type": "code",
   "execution_count": 5,
   "metadata": {},
   "outputs": [],
   "source": [
    "nb_model = NaiveBayes(train)"
   ]
  },
  {
   "cell_type": "code",
   "execution_count": 6,
   "metadata": {},
   "outputs": [
    {
     "name": "stdout",
     "output_type": "stream",
     "text": [
      "354 ms ± 12.2 ms per loop (mean ± std. dev. of 7 runs, 1 loop each)\n"
     ]
    }
   ],
   "source": [
    "%%timeit\n",
    "\n",
    "test['prediction'] = test.apply(nb_model, axis=1)\n",
    "test['correct'] = test['Class'] == test['prediction']"
   ]
  },
  {
   "cell_type": "code",
   "execution_count": 7,
   "metadata": {},
   "outputs": [
    {
     "data": {
      "text/html": [
       "<div>\n",
       "<style scoped>\n",
       "    .dataframe tbody tr th:only-of-type {\n",
       "        vertical-align: middle;\n",
       "    }\n",
       "\n",
       "    .dataframe tbody tr th {\n",
       "        vertical-align: top;\n",
       "    }\n",
       "\n",
       "    .dataframe thead th {\n",
       "        text-align: right;\n",
       "    }\n",
       "</style>\n",
       "<table border=\"1\" class=\"dataframe\">\n",
       "  <thead>\n",
       "    <tr style=\"text-align: right;\">\n",
       "      <th></th>\n",
       "      <th>Sample</th>\n",
       "      <th>Class</th>\n",
       "      <th>prediction</th>\n",
       "      <th>correct</th>\n",
       "    </tr>\n",
       "  </thead>\n",
       "  <tbody>\n",
       "    <tr>\n",
       "      <th>2</th>\n",
       "      <td>1015425</td>\n",
       "      <td>2</td>\n",
       "      <td>2</td>\n",
       "      <td>True</td>\n",
       "    </tr>\n",
       "    <tr>\n",
       "      <th>8</th>\n",
       "      <td>1033078</td>\n",
       "      <td>2</td>\n",
       "      <td>4</td>\n",
       "      <td>False</td>\n",
       "    </tr>\n",
       "    <tr>\n",
       "      <th>10</th>\n",
       "      <td>1035283</td>\n",
       "      <td>2</td>\n",
       "      <td>2</td>\n",
       "      <td>True</td>\n",
       "    </tr>\n",
       "    <tr>\n",
       "      <th>13</th>\n",
       "      <td>1043999</td>\n",
       "      <td>2</td>\n",
       "      <td>2</td>\n",
       "      <td>True</td>\n",
       "    </tr>\n",
       "    <tr>\n",
       "      <th>14</th>\n",
       "      <td>1044572</td>\n",
       "      <td>4</td>\n",
       "      <td>4</td>\n",
       "      <td>True</td>\n",
       "    </tr>\n",
       "    <tr>\n",
       "      <th>15</th>\n",
       "      <td>1047630</td>\n",
       "      <td>4</td>\n",
       "      <td>4</td>\n",
       "      <td>True</td>\n",
       "    </tr>\n",
       "    <tr>\n",
       "      <th>27</th>\n",
       "      <td>1066979</td>\n",
       "      <td>2</td>\n",
       "      <td>2</td>\n",
       "      <td>True</td>\n",
       "    </tr>\n",
       "    <tr>\n",
       "      <th>28</th>\n",
       "      <td>1067444</td>\n",
       "      <td>2</td>\n",
       "      <td>2</td>\n",
       "      <td>True</td>\n",
       "    </tr>\n",
       "    <tr>\n",
       "      <th>32</th>\n",
       "      <td>1072179</td>\n",
       "      <td>4</td>\n",
       "      <td>4</td>\n",
       "      <td>True</td>\n",
       "    </tr>\n",
       "    <tr>\n",
       "      <th>33</th>\n",
       "      <td>1074610</td>\n",
       "      <td>2</td>\n",
       "      <td>2</td>\n",
       "      <td>True</td>\n",
       "    </tr>\n",
       "  </tbody>\n",
       "</table>\n",
       "</div>"
      ],
      "text/plain": [
       "     Sample  Class  prediction  correct\n",
       "2   1015425      2           2     True\n",
       "8   1033078      2           4    False\n",
       "10  1035283      2           2     True\n",
       "13  1043999      2           2     True\n",
       "14  1044572      4           4     True\n",
       "15  1047630      4           4     True\n",
       "27  1066979      2           2     True\n",
       "28  1067444      2           2     True\n",
       "32  1072179      4           4     True\n",
       "33  1074610      2           2     True"
      ]
     },
     "execution_count": 7,
     "metadata": {},
     "output_type": "execute_result"
    }
   ],
   "source": [
    "test[['Sample', 'Class', 'prediction', 'correct']].head(10)"
   ]
  },
  {
   "cell_type": "code",
   "execution_count": 8,
   "metadata": {},
   "outputs": [
    {
     "name": "stdout",
     "output_type": "stream",
     "text": [
      "Model Accuracy: 98.10%\n"
     ]
    }
   ],
   "source": [
    "counts = test['correct'].value_counts()\n",
    "accuracy = counts[True] / len(test.index)\n",
    "\n",
    "print('Model Accuracy: %1.2f%%' % (100 * accuracy))"
   ]
  },
  {
   "cell_type": "code",
   "execution_count": null,
   "metadata": {},
   "outputs": [],
   "source": []
  }
 ],
 "metadata": {
  "kernelspec": {
   "display_name": "torch20",
   "language": "python",
   "name": "python3"
  },
  "language_info": {
   "codemirror_mode": {
    "name": "ipython",
    "version": 3
   },
   "file_extension": ".py",
   "mimetype": "text/x-python",
   "name": "python",
   "nbconvert_exporter": "python",
   "pygments_lexer": "ipython3",
   "version": "3.10.12"
  },
  "orig_nbformat": 4
 },
 "nbformat": 4,
 "nbformat_minor": 2
}
