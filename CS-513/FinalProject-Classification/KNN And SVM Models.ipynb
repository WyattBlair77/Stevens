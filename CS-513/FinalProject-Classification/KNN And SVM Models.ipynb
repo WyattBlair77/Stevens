{
 "cells": [
  {
   "cell_type": "markdown",
   "id": "c2393ecd",
   "metadata": {},
   "source": [
    "## Import Data and Impute Missing Values"
   ]
  },
  {
   "cell_type": "code",
   "execution_count": 112,
   "id": "0d4420c0",
   "metadata": {},
   "outputs": [
    {
     "data": {
      "text/html": [
       "<div>\n",
       "<style scoped>\n",
       "    .dataframe tbody tr th:only-of-type {\n",
       "        vertical-align: middle;\n",
       "    }\n",
       "\n",
       "    .dataframe tbody tr th {\n",
       "        vertical-align: top;\n",
       "    }\n",
       "\n",
       "    .dataframe thead th {\n",
       "        text-align: right;\n",
       "    }\n",
       "</style>\n",
       "<table border=\"1\" class=\"dataframe\">\n",
       "  <thead>\n",
       "    <tr style=\"text-align: right;\">\n",
       "      <th></th>\n",
       "      <th>State</th>\n",
       "      <th>Sex</th>\n",
       "      <th>GeneralHealth</th>\n",
       "      <th>PhysicalHealthDays</th>\n",
       "      <th>MentalHealthDays</th>\n",
       "      <th>LastCheckupTime</th>\n",
       "      <th>PhysicalActivities</th>\n",
       "      <th>SleepHours</th>\n",
       "      <th>RemovedTeeth</th>\n",
       "      <th>HadHeartAttack</th>\n",
       "      <th>...</th>\n",
       "      <th>HeightInMeters</th>\n",
       "      <th>WeightInKilograms</th>\n",
       "      <th>BMI</th>\n",
       "      <th>AlcoholDrinkers</th>\n",
       "      <th>HIVTesting</th>\n",
       "      <th>FluVaxLast12</th>\n",
       "      <th>PneumoVaxEver</th>\n",
       "      <th>TetanusLast10Tdap</th>\n",
       "      <th>HighRiskLastYear</th>\n",
       "      <th>CovidPos</th>\n",
       "    </tr>\n",
       "  </thead>\n",
       "  <tbody>\n",
       "    <tr>\n",
       "      <th>0</th>\n",
       "      <td>Alabama</td>\n",
       "      <td>Female</td>\n",
       "      <td>Very good</td>\n",
       "      <td>0.0</td>\n",
       "      <td>0.0</td>\n",
       "      <td>Within past year (anytime less than 12 months ...</td>\n",
       "      <td>No</td>\n",
       "      <td>8.0</td>\n",
       "      <td>NaN</td>\n",
       "      <td>No</td>\n",
       "      <td>...</td>\n",
       "      <td>NaN</td>\n",
       "      <td>NaN</td>\n",
       "      <td>NaN</td>\n",
       "      <td>No</td>\n",
       "      <td>No</td>\n",
       "      <td>Yes</td>\n",
       "      <td>No</td>\n",
       "      <td>Yes, received tetanus shot but not sure what type</td>\n",
       "      <td>No</td>\n",
       "      <td>No</td>\n",
       "    </tr>\n",
       "    <tr>\n",
       "      <th>1</th>\n",
       "      <td>Alabama</td>\n",
       "      <td>Female</td>\n",
       "      <td>Excellent</td>\n",
       "      <td>0.0</td>\n",
       "      <td>0.0</td>\n",
       "      <td>NaN</td>\n",
       "      <td>No</td>\n",
       "      <td>6.0</td>\n",
       "      <td>NaN</td>\n",
       "      <td>No</td>\n",
       "      <td>...</td>\n",
       "      <td>1.60</td>\n",
       "      <td>68.04</td>\n",
       "      <td>26.57</td>\n",
       "      <td>No</td>\n",
       "      <td>No</td>\n",
       "      <td>No</td>\n",
       "      <td>No</td>\n",
       "      <td>No, did not receive any tetanus shot in the pa...</td>\n",
       "      <td>No</td>\n",
       "      <td>No</td>\n",
       "    </tr>\n",
       "    <tr>\n",
       "      <th>2</th>\n",
       "      <td>Alabama</td>\n",
       "      <td>Female</td>\n",
       "      <td>Very good</td>\n",
       "      <td>2.0</td>\n",
       "      <td>3.0</td>\n",
       "      <td>Within past year (anytime less than 12 months ...</td>\n",
       "      <td>Yes</td>\n",
       "      <td>5.0</td>\n",
       "      <td>NaN</td>\n",
       "      <td>No</td>\n",
       "      <td>...</td>\n",
       "      <td>1.57</td>\n",
       "      <td>63.50</td>\n",
       "      <td>25.61</td>\n",
       "      <td>No</td>\n",
       "      <td>No</td>\n",
       "      <td>No</td>\n",
       "      <td>No</td>\n",
       "      <td>NaN</td>\n",
       "      <td>No</td>\n",
       "      <td>Yes</td>\n",
       "    </tr>\n",
       "    <tr>\n",
       "      <th>3</th>\n",
       "      <td>Alabama</td>\n",
       "      <td>Female</td>\n",
       "      <td>Excellent</td>\n",
       "      <td>0.0</td>\n",
       "      <td>0.0</td>\n",
       "      <td>Within past year (anytime less than 12 months ...</td>\n",
       "      <td>Yes</td>\n",
       "      <td>7.0</td>\n",
       "      <td>NaN</td>\n",
       "      <td>No</td>\n",
       "      <td>...</td>\n",
       "      <td>1.65</td>\n",
       "      <td>63.50</td>\n",
       "      <td>23.30</td>\n",
       "      <td>No</td>\n",
       "      <td>No</td>\n",
       "      <td>Yes</td>\n",
       "      <td>Yes</td>\n",
       "      <td>No, did not receive any tetanus shot in the pa...</td>\n",
       "      <td>No</td>\n",
       "      <td>No</td>\n",
       "    </tr>\n",
       "    <tr>\n",
       "      <th>4</th>\n",
       "      <td>Alabama</td>\n",
       "      <td>Female</td>\n",
       "      <td>Fair</td>\n",
       "      <td>2.0</td>\n",
       "      <td>0.0</td>\n",
       "      <td>Within past year (anytime less than 12 months ...</td>\n",
       "      <td>Yes</td>\n",
       "      <td>9.0</td>\n",
       "      <td>NaN</td>\n",
       "      <td>No</td>\n",
       "      <td>...</td>\n",
       "      <td>1.57</td>\n",
       "      <td>53.98</td>\n",
       "      <td>21.77</td>\n",
       "      <td>Yes</td>\n",
       "      <td>No</td>\n",
       "      <td>No</td>\n",
       "      <td>Yes</td>\n",
       "      <td>No, did not receive any tetanus shot in the pa...</td>\n",
       "      <td>No</td>\n",
       "      <td>No</td>\n",
       "    </tr>\n",
       "  </tbody>\n",
       "</table>\n",
       "<p>5 rows × 40 columns</p>\n",
       "</div>"
      ],
      "text/plain": [
       "     State     Sex GeneralHealth  PhysicalHealthDays  MentalHealthDays  \\\n",
       "0  Alabama  Female     Very good                 0.0               0.0   \n",
       "1  Alabama  Female     Excellent                 0.0               0.0   \n",
       "2  Alabama  Female     Very good                 2.0               3.0   \n",
       "3  Alabama  Female     Excellent                 0.0               0.0   \n",
       "4  Alabama  Female          Fair                 2.0               0.0   \n",
       "\n",
       "                                     LastCheckupTime PhysicalActivities  \\\n",
       "0  Within past year (anytime less than 12 months ...                 No   \n",
       "1                                                NaN                 No   \n",
       "2  Within past year (anytime less than 12 months ...                Yes   \n",
       "3  Within past year (anytime less than 12 months ...                Yes   \n",
       "4  Within past year (anytime less than 12 months ...                Yes   \n",
       "\n",
       "   SleepHours RemovedTeeth HadHeartAttack  ... HeightInMeters  \\\n",
       "0         8.0          NaN             No  ...            NaN   \n",
       "1         6.0          NaN             No  ...           1.60   \n",
       "2         5.0          NaN             No  ...           1.57   \n",
       "3         7.0          NaN             No  ...           1.65   \n",
       "4         9.0          NaN             No  ...           1.57   \n",
       "\n",
       "  WeightInKilograms    BMI AlcoholDrinkers HIVTesting FluVaxLast12  \\\n",
       "0               NaN    NaN              No         No          Yes   \n",
       "1             68.04  26.57              No         No           No   \n",
       "2             63.50  25.61              No         No           No   \n",
       "3             63.50  23.30              No         No          Yes   \n",
       "4             53.98  21.77             Yes         No           No   \n",
       "\n",
       "  PneumoVaxEver                                  TetanusLast10Tdap  \\\n",
       "0            No  Yes, received tetanus shot but not sure what type   \n",
       "1            No  No, did not receive any tetanus shot in the pa...   \n",
       "2            No                                                NaN   \n",
       "3           Yes  No, did not receive any tetanus shot in the pa...   \n",
       "4           Yes  No, did not receive any tetanus shot in the pa...   \n",
       "\n",
       "  HighRiskLastYear CovidPos  \n",
       "0               No       No  \n",
       "1               No       No  \n",
       "2               No      Yes  \n",
       "3               No       No  \n",
       "4               No       No  \n",
       "\n",
       "[5 rows x 40 columns]"
      ]
     },
     "execution_count": 112,
     "metadata": {},
     "output_type": "execute_result"
    }
   ],
   "source": [
    "import pandas as pd\n",
    "import numpy as np\n",
    "\n",
    "# Import the dataset\n",
    "df = pd.read_csv(\"./data/heart_2022_with_nans.csv\", sep=\",\")\n",
    "df.head()"
   ]
  },
  {
   "cell_type": "code",
   "execution_count": 113,
   "id": "8fdc8501",
   "metadata": {},
   "outputs": [
    {
     "data": {
      "text/html": [
       "<div>\n",
       "<style scoped>\n",
       "    .dataframe tbody tr th:only-of-type {\n",
       "        vertical-align: middle;\n",
       "    }\n",
       "\n",
       "    .dataframe tbody tr th {\n",
       "        vertical-align: top;\n",
       "    }\n",
       "\n",
       "    .dataframe thead th {\n",
       "        text-align: right;\n",
       "    }\n",
       "</style>\n",
       "<table border=\"1\" class=\"dataframe\">\n",
       "  <thead>\n",
       "    <tr style=\"text-align: right;\">\n",
       "      <th></th>\n",
       "      <th>State</th>\n",
       "      <th>Sex</th>\n",
       "      <th>GeneralHealth</th>\n",
       "      <th>PhysicalHealthDays</th>\n",
       "      <th>MentalHealthDays</th>\n",
       "      <th>LastCheckupTime</th>\n",
       "      <th>PhysicalActivities</th>\n",
       "      <th>SleepHours</th>\n",
       "      <th>RemovedTeeth</th>\n",
       "      <th>HadHeartAttack</th>\n",
       "      <th>...</th>\n",
       "      <th>HeightInMeters</th>\n",
       "      <th>WeightInKilograms</th>\n",
       "      <th>BMI</th>\n",
       "      <th>AlcoholDrinkers</th>\n",
       "      <th>HIVTesting</th>\n",
       "      <th>FluVaxLast12</th>\n",
       "      <th>PneumoVaxEver</th>\n",
       "      <th>TetanusLast10Tdap</th>\n",
       "      <th>HighRiskLastYear</th>\n",
       "      <th>CovidPos</th>\n",
       "    </tr>\n",
       "  </thead>\n",
       "  <tbody>\n",
       "  </tbody>\n",
       "</table>\n",
       "<p>0 rows × 40 columns</p>\n",
       "</div>"
      ],
      "text/plain": [
       "Empty DataFrame\n",
       "Columns: [State, Sex, GeneralHealth, PhysicalHealthDays, MentalHealthDays, LastCheckupTime, PhysicalActivities, SleepHours, RemovedTeeth, HadHeartAttack, HadAngina, HadStroke, HadAsthma, HadSkinCancer, HadCOPD, HadDepressiveDisorder, HadKidneyDisease, HadArthritis, HadDiabetes, DeafOrHardOfHearing, BlindOrVisionDifficulty, DifficultyConcentrating, DifficultyWalking, DifficultyDressingBathing, DifficultyErrands, SmokerStatus, ECigaretteUsage, ChestScan, RaceEthnicityCategory, AgeCategory, HeightInMeters, WeightInKilograms, BMI, AlcoholDrinkers, HIVTesting, FluVaxLast12, PneumoVaxEver, TetanusLast10Tdap, HighRiskLastYear, CovidPos]\n",
       "Index: []\n",
       "\n",
       "[0 rows x 40 columns]"
      ]
     },
     "execution_count": 113,
     "metadata": {},
     "output_type": "execute_result"
    }
   ],
   "source": [
    "#Impute the missing values and check for any remaining missing values\n",
    "obj_cols = df.select_dtypes(include=[\"object\"]).columns\n",
    "num_cols = df.select_dtypes(include=[np.number]).columns\n",
    "\n",
    "for col in obj_cols:\n",
    "    df[col] = df[col].fillna(df[col].mode()[0])\n",
    "    \n",
    "for col in num_cols:\n",
    "    df[col] = df[col].fillna(df[col].median())\n",
    "    \n",
    "df[df.isna().any(axis=1)]"
   ]
  },
  {
   "cell_type": "markdown",
   "id": "372d6617",
   "metadata": {},
   "source": [
    "## Helper Functions"
   ]
  },
  {
   "cell_type": "code",
   "execution_count": 114,
   "id": "3d8c4ae7",
   "metadata": {},
   "outputs": [],
   "source": [
    "# Calculate and return a dictionary with the percent size of each value in a dataframe column\n",
    "def valueSplit(df, column = None):\n",
    "    if column != None:\n",
    "        countDict = df[column].value_counts().to_dict()\n",
    "    else:\n",
    "        countDict = df.value_counts().to_dict()\n",
    "        \n",
    "    totalCount = 0\n",
    "    for values in countDict.values():\n",
    "        totalCount += values\n",
    "    for key in countDict.keys():\n",
    "        countDict[key] = countDict[key] / totalCount * 100\n",
    "    \n",
    "    return countDict"
   ]
  },
  {
   "cell_type": "code",
   "execution_count": 115,
   "id": "c30963db",
   "metadata": {},
   "outputs": [],
   "source": [
    "# Returns the proportion of Yes values in the sample\n",
    "def getValueProportion(y):\n",
    "    values = valueSplit(y)\n",
    "    prob = values['Yes'] / values['No']\n",
    "    return prob"
   ]
  },
  {
   "cell_type": "code",
   "execution_count": 116,
   "id": "613926c9",
   "metadata": {},
   "outputs": [],
   "source": [
    "# Replace the categorical fields of the data with a numerical representation \n",
    "def euclidDistanceDataCleaning(dataframe):\n",
    "    EDDF = dataframe.drop(columns=[\"State\", \"BMI\", \"TetanusLast10Tdap\", 'HadDiabetes', 'RaceEthnicityCategory'])\n",
    "    origList = ['Yes', 'No', \n",
    "                'Female', 'Male', \n",
    "                'Excellent', 'Very good', 'Good', 'Fair', 'Poor',\n",
    "                'Within past year (anytime less than 12 months ago)', 'Within past 2 years (1 year but less than 2 years ago)', 'Within past 5 years (2 years but less than 5 years ago)', '5 or more years ago',\n",
    "                'None of them', '1 to 5', '6 or more, but not all', 'All',\n",
    "                'Current smoker - now smokes every day', 'Current smoker - now smokes some days', 'Former smoker', 'Never smoked',\n",
    "                'Never used e-cigarettes in my entire life', 'Not at all (right now)', 'Use them some days', 'Use them every day',\n",
    "                'Age 18 to 24', 'Age 25 to 29', 'Age 30 to 34', 'Age 35 to 39', 'Age 40 to 44', 'Age 45 to 49', 'Age 50 to 54', 'Age 55 to 59', 'Age 60 to 64', 'Age 65 to 69', 'Age 70 to 74', 'Age 75 to 79', 'Age 80 or older',\n",
    "                'Tested positive using home test without a health professional']\n",
    "    newList = [1, 0, \n",
    "               1, 0, \n",
    "               4, 3, 2, 1, 0,\n",
    "               0, 1, 2, 3,\n",
    "               0, 1, 2, 3,\n",
    "               3, 2, 1, 0,\n",
    "               0, 1, 2, 3,\n",
    "               21, 27, 32, 37, 42, 47, 52, 57, 62, 67, 72, 77, 85,\n",
    "               1]\n",
    "    return EDDF.replace(origList, newList)"
   ]
  },
  {
   "cell_type": "code",
   "execution_count": 117,
   "id": "9426f50f",
   "metadata": {},
   "outputs": [],
   "source": [
    "# Undersample the data so that the target variable has roughly a 50/50 split\n",
    "import random\n",
    "import time\n",
    "random.seed(time.time())\n",
    "\n",
    "def undersample(X, Y):\n",
    "    x = X.copy()\n",
    "    y = Y.copy()\n",
    "    prob = getValueProportion(y)\n",
    "    \n",
    "    indexList = []\n",
    "    for index, row in x.iterrows():\n",
    "        \n",
    "        if random.random() > prob and y[index] == 'No':\n",
    "            indexList.append(index)\n",
    "    \n",
    "    x.drop(index=indexList, inplace = True)\n",
    "    y.drop(index=indexList, inplace = True)\n",
    "    return x, y\n"
   ]
  },
  {
   "cell_type": "code",
   "execution_count": 118,
   "id": "1d53bf04",
   "metadata": {},
   "outputs": [],
   "source": [
    "# Helper function for displaying results\n",
    "from sklearn import metrics\n",
    "from sklearn.metrics import ConfusionMatrixDisplay\n",
    "import matplotlib.pyplot as plt\n",
    "\n",
    "def displayResults(y_actual, y_prediction):\n",
    "    print(f\"====== Accuracy and Error Rate ==============\")\n",
    "    acc_score = metrics.accuracy_score(y_actual, y_prediction)\n",
    "    print(f\"Accuracy score: {acc_score * 100}%.\")\n",
    "    print(f\"Error rate: {(1 - acc_score) * 100}%.\")\n",
    "\n",
    "    print(f\"========== Classification Report ============\")\n",
    "    print(metrics.classification_report(y_actual, y_prediction))\n",
    "\n",
    "    print(f\"============ Confusion Matrix ==============\")\n",
    "    _ = ConfusionMatrixDisplay.from_predictions(y_actual, y_prediction)\n",
    "    plt.title(\"Confusion Matrix\")\n",
    "    plt.show()\n"
   ]
  },
  {
   "cell_type": "code",
   "execution_count": 119,
   "id": "ad2110d8",
   "metadata": {},
   "outputs": [],
   "source": [
    "from sklearn.preprocessing import StandardScaler\n",
    "from sklearn.preprocessing import MinMaxScaler\n",
    "from sklearn.model_selection import train_test_split\n",
    "\n",
    "# Helper function for splitting and scaling the the data\n",
    "def splitAndScale(x, y, scalerType = \"Standard\", undersampleData = True, \n",
    "                  test_size = 0.3, random_state = 42, shuffle = True):\n",
    "    x_train, x_test, y_train, y_test = train_test_split(x, y, \n",
    "                                                        test_size=test_size, random_state=random_state, shuffle=shuffle)\n",
    "    \n",
    "    if scalerType == \"Standard\":\n",
    "        scalar = StandardScaler()\n",
    "    elif scalerType == \"MinMax\":\n",
    "        scalar = MinMaxScaler()\n",
    "    else:\n",
    "        raise ValueError('An invalid scalar was used.')\n",
    "                  \n",
    "    scaler = StandardScaler()\n",
    "    x_train = pd.DataFrame(scaler.fit_transform(x_train), columns=x.columns)\n",
    "    x_test = pd.DataFrame(scaler.transform(x_test), columns=x.columns)\n",
    "    y_train.reset_index(inplace=True, drop=True)\n",
    "    y_test.reset_index(inplace=True, drop=True)\n",
    "\n",
    "    # Undersample the data\n",
    "    if undersampleData:\n",
    "        x_train, y_train = undersample(x_train, y_train)\n",
    "                  \n",
    "    return x_train, x_test, y_train, y_test\n",
    "    \n",
    "        "
   ]
  },
  {
   "cell_type": "markdown",
   "id": "6ab9339c",
   "metadata": {},
   "source": [
    "## Split Data"
   ]
  },
  {
   "cell_type": "code",
   "execution_count": 120,
   "id": "088172ec",
   "metadata": {},
   "outputs": [
    {
     "data": {
      "text/plain": [
       "(445132, 34)"
      ]
     },
     "execution_count": 120,
     "metadata": {},
     "output_type": "execute_result"
    }
   ],
   "source": [
    "X = df.drop(columns = [\"HadHeartAttack\"])\n",
    "y = df[\"HadHeartAttack\"]\n",
    "X = euclidDistanceDataCleaning(X)\n",
    "X.shape"
   ]
  },
  {
   "cell_type": "markdown",
   "id": "5520fe32",
   "metadata": {},
   "source": [
    "## Support Vector Machines"
   ]
  },
  {
   "cell_type": "code",
   "execution_count": 121,
   "id": "9b704913",
   "metadata": {},
   "outputs": [],
   "source": [
    "# Perform a standard scaler transformation on the data for the SVM Model\n",
    "SVMX_train, SVMX_test, SVMy_train, SVMy_test = splitAndScale(X, y, scalerType = \"Standard\")"
   ]
  },
  {
   "cell_type": "code",
   "execution_count": 122,
   "id": "e4cb3e2b",
   "metadata": {},
   "outputs": [
    {
     "name": "stdout",
     "output_type": "stream",
     "text": [
      "====== Accuracy and Error Rate ==============\n",
      "Accuracy score: 83.27916729069942%.\n",
      "Error rate: 16.72083270930058%.\n",
      "========== Classification Report ============\n",
      "              precision    recall  f1-score   support\n",
      "\n",
      "          No       0.98      0.84      0.90    125936\n",
      "         Yes       0.22      0.75      0.34      7604\n",
      "\n",
      "    accuracy                           0.83    133540\n",
      "   macro avg       0.60      0.79      0.62    133540\n",
      "weighted avg       0.94      0.83      0.87    133540\n",
      "\n",
      "============ Confusion Matrix ==============\n"
     ]
    },
    {
     "data": {
      "image/png": "[encoded data removed]",
      "text/plain": [
       "<Figure size 432x288 with 2 Axes>"
      ]
     },
     "metadata": {
      "needs_background": "light"
     },
     "output_type": "display_data"
    }
   ],
   "source": [
    "from sklearn.linear_model import SGDClassifier\n",
    "\n",
    "SGDSVM_Model = SGDClassifier()\n",
    "SGDSVM_Model.fit(SVMX_train, SVMy_train)\n",
    "SGDSVMPrediction = SGDSVM_Model.predict(SVMX_test)\n",
    "displayResults(SVMy_test, SGDSVMPrediction)"
   ]
  },
  {
   "cell_type": "markdown",
   "id": "d44bcf8b",
   "metadata": {},
   "source": [
    "## One Class SVM"
   ]
  },
  {
   "cell_type": "code",
   "execution_count": 123,
   "id": "09dfb30c",
   "metadata": {},
   "outputs": [],
   "source": [
    "OneClassSVMX_train, OneClassSVMX_test, OneClassSVMy_train, OneClassSVMy_test = splitAndScale(X, y, \n",
    "                                                                                             undersampleData = False, \n",
    "                                                                                             scalerType = \"Standard\")"
   ]
  },
  {
   "cell_type": "code",
   "execution_count": 124,
   "id": "7aa4943c",
   "metadata": {},
   "outputs": [
    {
     "name": "stdout",
     "output_type": "stream",
     "text": [
      "====== Accuracy and Error Rate ==============\n",
      "Accuracy score: 71.3561479706455%.\n",
      "Error rate: 28.6438520293545%.\n",
      "========== Classification Report ============\n",
      "              precision    recall  f1-score   support\n",
      "\n",
      "          No       0.94      0.75      0.83    125936\n",
      "         Yes       0.03      0.14      0.05      7604\n",
      "\n",
      "    accuracy                           0.71    133540\n",
      "   macro avg       0.48      0.44      0.44    133540\n",
      "weighted avg       0.88      0.71      0.79    133540\n",
      "\n",
      "============ Confusion Matrix ==============\n"
     ]
    },
    {
     "data": {
      "image/png": "[encoded data removed]",
      "text/plain": [
       "<Figure size 432x288 with 2 Axes>"
      ]
     },
     "metadata": {
      "needs_background": "light"
     },
     "output_type": "display_data"
    }
   ],
   "source": [
    "from sklearn.linear_model import SGDOneClassSVM\n",
    "\n",
    "OneClassModel = SGDOneClassSVM(nu = getValueProportion(OneClassSVMy_train), random_state=42)\n",
    "OneClassModel.fit(OneClassSVMX_train)\n",
    "OneClassSGDSVMPrediction = OneClassModel.predict(OneClassSVMX_test)\n",
    "\n",
    "OneClassSGDSVMPredictionTransformed = np.where(OneClassSGDSVMPrediction == -1, \"Yes\", \"No\")\n",
    "displayResults(OneClassSVMy_test, OneClassSGDSVMPredictionTransformed)"
   ]
  },
  {
   "cell_type": "markdown",
   "id": "d7c0a190",
   "metadata": {},
   "source": [
    "## K-Nearest Neighbor"
   ]
  },
  {
   "cell_type": "code",
   "execution_count": 125,
   "id": "a20a060b",
   "metadata": {},
   "outputs": [],
   "source": [
    "# Scale the data for the KNN Model\n",
    "KNNX_train, KNNX_test, KNNy_train, KNNy_test = splitAndScale(X, y, scalerType = \"MinMax\")"
   ]
  },
  {
   "cell_type": "code",
   "execution_count": 126,
   "id": "bff289b9",
   "metadata": {},
   "outputs": [],
   "source": [
    "from sklearn import neighbors\n",
    "\n",
    "# Create and train the model and predict the result\n",
    "KNNPredictionDict = {}\n",
    "for n in [3, 5, 10]:\n",
    "    knn_model = neighbors.KNeighborsClassifier(n_neighbors = n)\n",
    "    knn_model.fit(KNNX_train, KNNy_train)\n",
    "    KNNPredictionDict[n] = knn_model.predict(KNNX_test)"
   ]
  },
  {
   "cell_type": "code",
   "execution_count": 127,
   "id": "87115f59",
   "metadata": {},
   "outputs": [
    {
     "name": "stdout",
     "output_type": "stream",
     "text": [
      "Results for 3 nearest neighbors\n",
      "====== Accuracy and Error Rate ==============\n",
      "Accuracy score: 77.02785682192601%.\n",
      "Error rate: 22.97214317807399%.\n",
      "========== Classification Report ============\n",
      "              precision    recall  f1-score   support\n",
      "\n",
      "          No       0.98      0.77      0.86    125936\n",
      "         Yes       0.16      0.74      0.27      7604\n",
      "\n",
      "    accuracy                           0.77    133540\n",
      "   macro avg       0.57      0.76      0.57    133540\n",
      "weighted avg       0.93      0.77      0.83    133540\n",
      "\n",
      "============ Confusion Matrix ==============\n"
     ]
    },
    {
     "data": {
      "image/png": "[encoded data removed]",
      "text/plain": [
       "<Figure size 432x288 with 2 Axes>"
      ]
     },
     "metadata": {
      "needs_background": "light"
     },
     "output_type": "display_data"
    },
    {
     "name": "stdout",
     "output_type": "stream",
     "text": [
      "Results for 5 nearest neighbors\n",
      "====== Accuracy and Error Rate ==============\n",
      "Accuracy score: 78.72397783435675%.\n",
      "Error rate: 21.276022165643248%.\n",
      "========== Classification Report ============\n",
      "              precision    recall  f1-score   support\n",
      "\n",
      "          No       0.98      0.79      0.88    125936\n",
      "         Yes       0.18      0.75      0.29      7604\n",
      "\n",
      "    accuracy                           0.79    133540\n",
      "   macro avg       0.58      0.77      0.58    133540\n",
      "weighted avg       0.94      0.79      0.84    133540\n",
      "\n",
      "============ Confusion Matrix ==============\n"
     ]
    },
    {
     "data": {
      "image/png": "[encoded data removed]",
      "text/plain": [
       "<Figure size 432x288 with 2 Axes>"
      ]
     },
     "metadata": {
      "needs_background": "light"
     },
     "output_type": "display_data"
    },
    {
     "name": "stdout",
     "output_type": "stream",
     "text": [
      "Results for 10 nearest neighbors\n",
      "====== Accuracy and Error Rate ==============\n",
      "Accuracy score: 83.37127452448705%.\n",
      "Error rate: 16.62872547551295%.\n",
      "========== Classification Report ============\n",
      "              precision    recall  f1-score   support\n",
      "\n",
      "          No       0.98      0.84      0.91    125936\n",
      "         Yes       0.21      0.71      0.33      7604\n",
      "\n",
      "    accuracy                           0.83    133540\n",
      "   macro avg       0.60      0.78      0.62    133540\n",
      "weighted avg       0.94      0.83      0.87    133540\n",
      "\n",
      "============ Confusion Matrix ==============\n"
     ]
    },
    {
     "data": {
      "image/png": "[encoded data removed]",
      "text/plain": [
       "<Figure size 432x288 with 2 Axes>"
      ]
     },
     "metadata": {
      "needs_background": "light"
     },
     "output_type": "display_data"
    }
   ],
   "source": [
    "# Evaluate and display results\n",
    "for n in KNNPredictionDict.keys():\n",
    "    print(\"Results for {} nearest neighbors\".format(n))\n",
    "    displayResults(KNNy_test, KNNPredictionDict[n])"
   ]
  },
  {
   "cell_type": "code",
   "execution_count": null,
   "id": "7afa45d4",
   "metadata": {},
   "outputs": [],
   "source": []
  }
 ],
 "metadata": {
  "kernelspec": {
   "display_name": "Python 3 (ipykernel)",
   "language": "python",
   "name": "python3"
  },
  "language_info": {
   "codemirror_mode": {
    "name": "ipython",
    "version": 3
   },
   "file_extension": ".py",
   "mimetype": "text/x-python",
   "name": "python",
   "nbconvert_exporter": "python",
   "pygments_lexer": "ipython3",
   "version": "3.9.12"
  }
 },
 "nbformat": 4,
 "nbformat_minor": 5
}
