{
 "cells": [
  {
   "cell_type": "markdown",
   "metadata": {},
   "source": [
    "# HW-3 KNN\n",
    "Wyatt Blair\n",
    "\n",
    "SID: 10420296\n",
    "\n",
    "2/26/24\n"
   ]
  },
  {
   "cell_type": "code",
   "execution_count": 1,
   "metadata": {},
   "outputs": [],
   "source": [
    "import pandas as pd\n",
    "import numpy as np\n",
    "import matplotlib.pyplot as plt\n",
    "import functools"
   ]
  },
  {
   "cell_type": "markdown",
   "metadata": {},
   "source": [
    "## Apply same pre-processing as in HW-2-EDA"
   ]
  },
  {
   "cell_type": "code",
   "execution_count": 2,
   "metadata": {},
   "outputs": [],
   "source": [
    "data = pd.read_csv('../data/breast-cancer-wisconsin.csv')\n",
    "\n",
    "data.replace(\"?\", np.NaN, inplace=True)\n",
    "data['F6'] = data['F6'].astype(float)\n",
    "\n",
    "for column in data:\n",
    "\n",
    "    series = data[column]\n",
    "    mean, median =  series.mean(), series.median()\n",
    "    data[column].fillna(mean, inplace=True)"
   ]
  },
  {
   "cell_type": "markdown",
   "metadata": {},
   "source": [
    "## Split dataset into train (70%) and test (30%)"
   ]
  },
  {
   "cell_type": "code",
   "execution_count": 3,
   "metadata": {},
   "outputs": [],
   "source": [
    "train = data.sample(frac=0.7)\n",
    "test = data.drop(index=train.index)"
   ]
  },
  {
   "cell_type": "markdown",
   "metadata": {},
   "source": [
    "## Define some distance metrics"
   ]
  },
  {
   "cell_type": "code",
   "execution_count": 4,
   "metadata": {},
   "outputs": [],
   "source": [
    "def minkowski_distance(x, y, p):\n",
    "\n",
    "    diff = x - y\n",
    "    power = diff ** p\n",
    "    total = power.sum(axis=1)\n",
    "    distance = total ** (1/p)\n",
    "\n",
    "    return distance\n",
    "\n",
    "def euclidean_distance(x, y):\n",
    "    return minkowski_distance(x, y, p=2)\n",
    "\n",
    "def manhattan_distance(x, y):\n",
    "\n",
    "    diff = x - y\n",
    "    absolute = abs(diff)\n",
    "    distance = absolute.sum(axis=1)\n",
    "\n",
    "    return distance"
   ]
  },
  {
   "cell_type": "markdown",
   "metadata": {},
   "source": [
    "## Define nearest neighbors functions"
   ]
  },
  {
   "cell_type": "code",
   "execution_count": 5,
   "metadata": {},
   "outputs": [],
   "source": [
    "def find_k_nearest_neighbors(point, k, distance_metric=euclidean_distance):\n",
    "\n",
    "    neighbors = train.copy()\n",
    "    feat_columns = [f\"F{i}\" for i in range(1, 10)]\n",
    "\n",
    "    y = np.broadcast_to(point[feat_columns].values, (len(train.index), 9))\n",
    "\n",
    "    x_data = neighbors[feat_columns].copy()\n",
    "    x = x_data.values\n",
    "\n",
    "    neighbors['distance'] = distance_metric(x, y)\n",
    "    neighbors.sort_values(by='distance', ascending=True, inplace=True)\n",
    "    nearest_neighbors = neighbors.head(k)\n",
    "\n",
    "    return nearest_neighbors\n",
    "\n",
    "def classify(neighbors):\n",
    "\n",
    "    neighbor_classes = neighbors['Class']\n",
    "    counts = neighbor_classes.value_counts()\n",
    "    closest_class = counts.sort_values().index[0]\n",
    "\n",
    "    return closest_class\n",
    "\n",
    "def predict(point, k, distance_metric=euclidean_distance):\n",
    "\n",
    "    nearest_neighbors = find_k_nearest_neighbors(point, k, distance_metric=distance_metric)\n",
    "    classification = classify(nearest_neighbors)\n",
    "\n",
    "    return classification\n"
   ]
  },
  {
   "cell_type": "markdown",
   "metadata": {},
   "source": [
    "## Make predictions on test set"
   ]
  },
  {
   "cell_type": "code",
   "execution_count": 6,
   "metadata": {},
   "outputs": [],
   "source": [
    "def test_knn(distance_metric, k_vals=[3, 5, 10]):\n",
    "    \n",
    "    accuracy_dict = {}\n",
    "    df = test.copy()\n",
    "\n",
    "    for k in k_vals:\n",
    "\n",
    "        predict_func = functools.partial(\n",
    "            predict,\n",
    "            k=k,\n",
    "            distance_metric=distance_metric,\n",
    "        )\n",
    "\n",
    "        df[f\"prediction_k={k}\"] = df.apply(predict_func, axis=1)\n",
    "        df[f\"correct_k={k}\"] = df['Class'] == df[f'prediction_k={k}']\n",
    "\n",
    "        percent_correct = df[f\"correct_k={k}\"].value_counts()[True] / len(df.index)\n",
    "        accuracy_dict.update({f'accuracy_k={k}' : percent_correct})\n",
    "    \n",
    "    return accuracy_dict\n"
   ]
  },
  {
   "cell_type": "code",
   "execution_count": 7,
   "metadata": {},
   "outputs": [
    {
     "data": {
      "text/plain": [
       "{'accuracy_k=3': 0.9333333333333333,\n",
       " 'accuracy_k=5': 0.9,\n",
       " 'accuracy_k=10': 0.8238095238095238}"
      ]
     },
     "execution_count": 7,
     "metadata": {},
     "output_type": "execute_result"
    }
   ],
   "source": [
    "test_knn(euclidean_distance)"
   ]
  },
  {
   "cell_type": "code",
   "execution_count": 8,
   "metadata": {},
   "outputs": [
    {
     "data": {
      "text/plain": [
       "{'accuracy_k=3': 0.9428571428571428,\n",
       " 'accuracy_k=5': 0.9238095238095239,\n",
       " 'accuracy_k=10': 0.8666666666666667}"
      ]
     },
     "execution_count": 8,
     "metadata": {},
     "output_type": "execute_result"
    }
   ],
   "source": [
    "test_knn(manhattan_distance)"
   ]
  },
  {
   "cell_type": "code",
   "execution_count": 9,
   "metadata": {},
   "outputs": [
    {
     "data": {
      "text/plain": [
       "{'accuracy_k=3': 0.9380952380952381,\n",
       " 'accuracy_k=5': 0.9047619047619048,\n",
       " 'accuracy_k=10': 0.8095238095238095}"
      ]
     },
     "execution_count": 9,
     "metadata": {},
     "output_type": "execute_result"
    }
   ],
   "source": [
    "test_knn(functools.partial(minkowski_distance, p=6))"
   ]
  },
  {
   "cell_type": "markdown",
   "metadata": {},
   "source": [
    "## According to these results, Manhattan Distance combined with k=3 are the optimal parameters for KNN on this dataset, achieving an accuracy of ~94.3% on the test set"
   ]
  },
  {
   "cell_type": "markdown",
   "metadata": {},
   "source": []
  }
 ],
 "metadata": {
  "kernelspec": {
   "display_name": "torch20",
   "language": "python",
   "name": "python3"
  },
  "language_info": {
   "codemirror_mode": {
    "name": "ipython",
    "version": 3
   },
   "file_extension": ".py",
   "mimetype": "text/x-python",
   "name": "python",
   "nbconvert_exporter": "python",
   "pygments_lexer": "ipython3",
   "version": "3.10.12"
  },
  "orig_nbformat": 4
 },
 "nbformat": 4,
 "nbformat_minor": 2
}
