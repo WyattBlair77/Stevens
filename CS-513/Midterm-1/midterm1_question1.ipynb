{
 "cells": [
  {
   "cell_type": "markdown",
   "metadata": {},
   "source": [
    "# CS-513 Midterm 1\n",
    "\n",
    "## Question 1\n",
    "___\n",
    "Wyatt Blair\n",
    "\n",
    "3/26/24\n",
    "___\n"
   ]
  },
  {
   "cell_type": "markdown",
   "metadata": {},
   "source": [
    "#1 (10 Points)\n",
    "Is the following function a proper distance function?  Why?  Explain your answer. Measure the distance between (0, 0, 0) and (0, 1, 0) using the formula below.\n",
    "\n",
    "$d(x,y)=\\sum{(x_i- y_i) ^{1/3}}$\n"
   ]
  },
  {
   "cell_type": "code",
   "execution_count": 2,
   "metadata": {},
   "outputs": [],
   "source": [
    "import numpy as np"
   ]
  },
  {
   "cell_type": "code",
   "execution_count": 16,
   "metadata": {},
   "outputs": [],
   "source": [
    "def distance(x, y):\n",
    "\n",
    "    # need to cast vector dtypes to np.complex128 in order to\n",
    "    # account for imaginary numbers\n",
    "    x = x.astype(np.complex128)\n",
    "    y = y.astype(np.complex128)\n",
    "\n",
    "    terms = (x - y) ** (1/3)\n",
    "    val = terms.sum()\n",
    "\n",
    "    return val"
   ]
  },
  {
   "cell_type": "code",
   "execution_count": 17,
   "metadata": {},
   "outputs": [],
   "source": [
    "x = np.array([0,0,0])\n",
    "y = np.array([0,1,0])\n",
    "\n",
    "distance_between_points = distance(x, y)"
   ]
  },
  {
   "cell_type": "code",
   "execution_count": 18,
   "metadata": {},
   "outputs": [
    {
     "data": {
      "text/plain": [
       "(0.5000000000000001+0.8660254037844386j)"
      ]
     },
     "execution_count": 18,
     "metadata": {},
     "output_type": "execute_result"
    }
   ],
   "source": [
    "distance_between_points"
   ]
  },
  {
   "cell_type": "markdown",
   "metadata": {},
   "source": [
    "### Requirements for a valid distance metric:\n",
    "1. d(x, x) = 0\n",
    "2. if x $\\neq$ y, then d(x, y) > 0\n",
    "3. d(x,y) = d(y, x)\n",
    "4. d(x,z) $\\leq$ d(x,y) + d(y,z)"
   ]
  },
  {
   "cell_type": "code",
   "execution_count": 19,
   "metadata": {},
   "outputs": [
    {
     "data": {
      "text/plain": [
       "True"
      ]
     },
     "execution_count": 19,
     "metadata": {},
     "output_type": "execute_result"
    }
   ],
   "source": [
    "# 1)\n",
    "distance(x, x) == 0"
   ]
  },
  {
   "cell_type": "code",
   "execution_count": 29,
   "metadata": {},
   "outputs": [
    {
     "data": {
      "text/plain": [
       "True"
      ]
     },
     "execution_count": 29,
     "metadata": {},
     "output_type": "execute_result"
    }
   ],
   "source": [
    "# 2)\n",
    "random_vecs = -2 * np.random.random(size=(10000, 3)) + 1\n",
    "\n",
    "check_array = []\n",
    "for random_vec in random_vecs:\n",
    "\n",
    "    if (x == y).all(): continue\n",
    "    check = distance(x, random_vec) > 0\n",
    "    check_array.append(check)\n",
    "\n",
    "all(check_array)"
   ]
  },
  {
   "cell_type": "code",
   "execution_count": 22,
   "metadata": {},
   "outputs": [
    {
     "data": {
      "text/plain": [
       "False"
      ]
     },
     "execution_count": 22,
     "metadata": {},
     "output_type": "execute_result"
    }
   ],
   "source": [
    "# 3)\n",
    "distance(x,y) == distance(y,x)"
   ]
  },
  {
   "cell_type": "code",
   "execution_count": 23,
   "metadata": {},
   "outputs": [
    {
     "data": {
      "text/plain": [
       "True"
      ]
     },
     "execution_count": 23,
     "metadata": {},
     "output_type": "execute_result"
    }
   ],
   "source": [
    "# 4)\n",
    "z = np.array([1,2,3])\n",
    "distance(x,z) <= distance(x,y) + distance(y,z)"
   ]
  },
  {
   "cell_type": "markdown",
   "metadata": {},
   "source": [
    "### Since the proposed distance metric does not satisfy requirement three it is *not* a proper distance metric."
   ]
  },
  {
   "cell_type": "code",
   "execution_count": null,
   "metadata": {},
   "outputs": [],
   "source": []
  }
 ],
 "metadata": {
  "kernelspec": {
   "display_name": "torch20",
   "language": "python",
   "name": "python3"
  },
  "language_info": {
   "codemirror_mode": {
    "name": "ipython",
    "version": 3
   },
   "file_extension": ".py",
   "mimetype": "text/x-python",
   "name": "python",
   "nbconvert_exporter": "python",
   "pygments_lexer": "ipython3",
   "version": "3.10.10"
  }
 },
 "nbformat": 4,
 "nbformat_minor": 2
}
