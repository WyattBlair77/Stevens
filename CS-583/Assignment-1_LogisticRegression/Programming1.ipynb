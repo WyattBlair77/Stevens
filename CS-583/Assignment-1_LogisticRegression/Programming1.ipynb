{
 "cells": [
  {
   "cell_type": "markdown",
   "metadata": {},
   "source": [
    "# Programming Assignment: Numerical Optimization for Logistic Regression.\n",
    "\n",
    "### Name: Wyatt Blair\n"
   ]
  },
  {
   "cell_type": "markdown",
   "metadata": {},
   "source": [
    "## 0. You will do the following:\n",
    "\n",
    "1. Read the lecture note: [click here](https://github.com/wangshusen/DeepLearning/blob/master/LectureNotes/Logistic/paper/logistic.pdf)\n",
    "\n",
    "2. Read, complete, and run my code.\n",
    "\n",
    "3. **Implement mini-batch SGD** and evaluate the performance.\n",
    "\n",
    "4. Convert the .IPYNB file to .HTML file.\n",
    "\n",
    "    * The HTML file must contain **the code** and **the output after execution**.\n",
    "    \n",
    "    * Missing **the output after execution** will not be graded.\n",
    "    \n",
    "    \n",
    "5. Upload this .HTML file to your Google Drive, Dropbox, or your Github repo.  (If you submit the file to Google Drive or Dropbox, you must make the file \"open-access\". The delay caused by \"deny of access\" may result in late penalty.)\n",
    "\n",
    "6. On Canvas, submit the Google Drive/Dropbox/Github link to the HTML file.\n",
    "\n",
    "\n",
    "## Grading criteria:\n",
    "\n",
    "1. When computing the ```gradient``` and ```objective function value``` using a batch of samples, use **matrix-vector multiplication** rather than a FOR LOOP of **vector-vector multiplications**.\n",
    "\n",
    "2. Plot ```objective function value``` against ```epochs```. In the plot, compare GD, SGD, and MB-SGD (with $b=8$ and $b=64$). The plot must look reasonable."
   ]
  },
  {
   "cell_type": "code",
   "execution_count": null,
   "metadata": {},
   "outputs": [],
   "source": []
  },
  {
   "cell_type": "markdown",
   "metadata": {},
   "source": [
    "# 1. Data processing\n",
    "\n",
    "- Download the Diabete dataset from https://www.csie.ntu.edu.tw/~cjlin/libsvmtools/datasets/binary/diabetes\n",
    "- Load the data using sklearn.\n",
    "- Preprocess the data."
   ]
  },
  {
   "cell_type": "markdown",
   "metadata": {},
   "source": [
    "## 1.1. Load the data"
   ]
  },
  {
   "cell_type": "code",
   "execution_count": 2,
   "metadata": {},
   "outputs": [
    {
     "name": "stdout",
     "output_type": "stream",
     "text": [
      "Shape of x: (768, 8)\n",
      "Shape of y: (768,)\n"
     ]
    }
   ],
   "source": [
    "from sklearn import datasets\n",
    "import numpy\n",
    "\n",
    "x_sparse, y = datasets.load_svmlight_file('diabetes.txt')\n",
    "x = x_sparse.todense()\n",
    "\n",
    "print('Shape of x: ' + str(x.shape))\n",
    "print('Shape of y: ' + str(y.shape))"
   ]
  },
  {
   "cell_type": "markdown",
   "metadata": {},
   "source": [
    "## 1.2. Partition to training and test sets"
   ]
  },
  {
   "cell_type": "code",
   "execution_count": 3,
   "metadata": {},
   "outputs": [
    {
     "name": "stdout",
     "output_type": "stream",
     "text": [
      "Shape of x_train: (640, 8)\n",
      "Shape of x_test: (128, 8)\n",
      "Shape of y_train: (640, 1)\n",
      "Shape of y_test: (128, 1)\n"
     ]
    }
   ],
   "source": [
    "# partition the data to training and test sets\n",
    "n = x.shape[0]\n",
    "n_train = 640\n",
    "n_test = n - n_train\n",
    "\n",
    "rand_indices = numpy.random.permutation(n)\n",
    "train_indices = rand_indices[0:n_train]\n",
    "test_indices = rand_indices[n_train:n]\n",
    "\n",
    "x_train = x[train_indices, :]\n",
    "x_test = x[test_indices, :]\n",
    "y_train = y[train_indices].reshape(n_train, 1)\n",
    "y_test = y[test_indices].reshape(n_test, 1)\n",
    "\n",
    "print('Shape of x_train: ' + str(x_train.shape))\n",
    "print('Shape of x_test: ' + str(x_test.shape))\n",
    "print('Shape of y_train: ' + str(y_train.shape))\n",
    "print('Shape of y_test: ' + str(y_test.shape))"
   ]
  },
  {
   "cell_type": "markdown",
   "metadata": {},
   "source": [
    "## 1.3. Feature scaling"
   ]
  },
  {
   "cell_type": "markdown",
   "metadata": {},
   "source": [
    "Use the standardization to trainsform both training and test features"
   ]
  },
  {
   "cell_type": "code",
   "execution_count": 4,
   "metadata": {},
   "outputs": [
    {
     "name": "stdout",
     "output_type": "stream",
     "text": [
      "test mean = \n",
      "[[-0.08737278  0.09136872 -0.00215028  0.08449321 -0.01201877  0.11499101\n",
      "  -0.0163796  -0.11204751]]\n",
      "test std = \n",
      "[[0.83960074 0.97517084 0.91224499 0.96935365 1.09198258 1.00020155\n",
      "  1.02402599 0.9349931 ]]\n"
     ]
    }
   ],
   "source": [
    "# Standardization\n",
    "import numpy\n",
    "\n",
    "# calculate mu and sig using the training set\n",
    "d = x_train.shape[1]\n",
    "mu = numpy.mean(x_train, axis=0).reshape(1, d)\n",
    "sig = numpy.std(x_train, axis=0).reshape(1, d)\n",
    "\n",
    "# transform the training features\n",
    "x_train = (x_train - mu) / (sig + 1E-6)\n",
    "\n",
    "# transform the test features\n",
    "x_test = (x_test - mu) / (sig + 1E-6)\n",
    "\n",
    "print('test mean = ')\n",
    "print(numpy.mean(x_test, axis=0))\n",
    "\n",
    "print('test std = ')\n",
    "print(numpy.std(x_test, axis=0))"
   ]
  },
  {
   "cell_type": "markdown",
   "metadata": {},
   "source": [
    "## 1.4. Add a dimension of all ones"
   ]
  },
  {
   "cell_type": "code",
   "execution_count": 5,
   "metadata": {},
   "outputs": [
    {
     "name": "stdout",
     "output_type": "stream",
     "text": [
      "Shape of x_train: (640, 9)\n",
      "Shape of x_test: (128, 9)\n"
     ]
    }
   ],
   "source": [
    "n_train, d = x_train.shape\n",
    "x_train = numpy.concatenate((x_train, numpy.ones((n_train, 1))), axis=1)\n",
    "\n",
    "n_test, d = x_test.shape\n",
    "x_test = numpy.concatenate((x_test, numpy.ones((n_test, 1))), axis=1)\n",
    "\n",
    "print('Shape of x_train: ' + str(x_train.shape))\n",
    "print('Shape of x_test: ' + str(x_test.shape))"
   ]
  },
  {
   "cell_type": "markdown",
   "metadata": {},
   "source": [
    "# 2. Logistic regression model\n",
    "\n",
    "The objective function is $Q (w; X, y) = \\frac{1}{n} \\sum_{i=1}^n \\log \\Big( 1 + \\exp \\big( - y_i x_i^T w \\big) \\Big) + \\frac{\\lambda}{2} \\| w \\|_2^2 $."
   ]
  },
  {
   "cell_type": "code",
   "execution_count": 6,
   "metadata": {},
   "outputs": [],
   "source": [
    "# Calculate the objective function value\n",
    "# Inputs:\n",
    "#     w: d-by-1 matrix\n",
    "#     x: n-by-d matrix\n",
    "#     y: n-by-1 matrix\n",
    "#     lam: scalar, the regularization parameter\n",
    "# Return:\n",
    "#     objective function value (scalar)\n",
    "def objective(w, x, y, lam):\n",
    "    n, d = x.shape\n",
    "    yx = numpy.multiply(y, x) # n-by-d matrix\n",
    "    yxw = numpy.dot(yx, w) # n-by-1 matrix\n",
    "    vec1 = numpy.exp(-yxw) # n-by-1 matrix\n",
    "    vec2 = numpy.log(1 + vec1) # n-by-1 matrix\n",
    "    loss = numpy.mean(vec2) # scalar\n",
    "    reg = lam / 2 * numpy.sum(w * w) # scalar\n",
    "    return loss + reg\n",
    "    "
   ]
  },
  {
   "cell_type": "code",
   "execution_count": 7,
   "metadata": {},
   "outputs": [
    {
     "name": "stdout",
     "output_type": "stream",
     "text": [
      "Initial objective function value = 0.6931471805599453\n"
     ]
    }
   ],
   "source": [
    "# initialize w\n",
    "d = x_train.shape[1]\n",
    "w = numpy.zeros((d, 1))\n",
    "\n",
    "# evaluate the objective function value at w\n",
    "lam = 1E-6\n",
    "objval0 = objective(w, x_train, y_train, lam)\n",
    "print('Initial objective function value = ' + str(objval0))"
   ]
  },
  {
   "cell_type": "markdown",
   "metadata": {},
   "source": [
    "# 3. Numerical optimization"
   ]
  },
  {
   "cell_type": "markdown",
   "metadata": {},
   "source": [
    "## 3.1. Gradient descent\n"
   ]
  },
  {
   "cell_type": "markdown",
   "metadata": {},
   "source": [
    "The gradient at $w$ is $g = - \\frac{1}{n} \\sum_{i=1}^n \\frac{y_i x_i }{1 + \\exp ( y_i x_i^T w)} + \\lambda w$"
   ]
  },
  {
   "cell_type": "code",
   "execution_count": 8,
   "metadata": {},
   "outputs": [],
   "source": [
    "# Calculate the gradient\n",
    "# Inputs:\n",
    "#     w: d-by-1 matrix\n",
    "#     x: n-by-d matrix\n",
    "#     y: n-by-1 matrix\n",
    "#     lam: scalar, the regularization parameter\n",
    "# Return:\n",
    "#     g: g: d-by-1 matrix, full gradient\n",
    "def gradient(w, x, y, lam):\n",
    "    n, d = x.shape\n",
    "    yx = numpy.multiply(y, x) # n-by-d matrix\n",
    "    yxw = numpy.dot(yx, w) # n-by-1 matrix\n",
    "    vec1 = numpy.exp(yxw) # n-by-1 matrix\n",
    "    vec2 = numpy.divide(yx, 1+vec1) # n-by-d matrix\n",
    "    vec3 = -numpy.mean(vec2, axis=0).reshape(d, 1) # d-by-1 matrix\n",
    "    g = vec3 + lam * w\n",
    "    return g"
   ]
  },
  {
   "cell_type": "code",
   "execution_count": 9,
   "metadata": {},
   "outputs": [],
   "source": [
    "# Gradient descent for solving logistic regression\n",
    "# Inputs:\n",
    "#     x: n-by-d matrix\n",
    "#     y: n-by-1 matrix\n",
    "#     lam: scalar, the regularization parameter\n",
    "#     stepsize: scalar\n",
    "#     max_iter: integer, the maximal iterations\n",
    "#     w: d-by-1 matrix, initialization of w\n",
    "# Return:\n",
    "#     w: d-by-1 matrix, the solution\n",
    "#     objvals: a record of each iteration's objective value\n",
    "def grad_descent(x, y, lam, stepsize, max_iter=100, w=None):\n",
    "    n, d = x.shape\n",
    "    objvals = numpy.zeros(max_iter) # store the objective values\n",
    "    if w is None:\n",
    "        w = numpy.zeros((d, 1)) # zero initialization\n",
    "    \n",
    "    for t in range(max_iter):\n",
    "        objval = objective(w, x, y, lam)\n",
    "        objvals[t] = objval\n",
    "        print('Objective value at t=' + str(t) + ' is ' + str(objval))\n",
    "        g = gradient(w, x, y, lam)\n",
    "        w -= stepsize * g\n",
    "    \n",
    "    return w, objvals"
   ]
  },
  {
   "cell_type": "markdown",
   "metadata": {},
   "source": [
    "Run gradient descent."
   ]
  },
  {
   "cell_type": "code",
   "execution_count": 10,
   "metadata": {},
   "outputs": [
    {
     "name": "stdout",
     "output_type": "stream",
     "text": [
      "Objective value at t=0 is 0.6931471805599453\n",
      "Objective value at t=1 is 0.5886624179665494\n",
      "Objective value at t=2 is 0.5464512223754938\n",
      "Objective value at t=3 is 0.5237940789914791\n",
      "Objective value at t=4 is 0.5097231765548049\n",
      "Objective value at t=5 is 0.5002650732890348\n",
      "Objective value at t=6 is 0.49359069511965126\n",
      "Objective value at t=7 is 0.48872254276046984\n",
      "Objective value at t=8 is 0.4850848707465754\n",
      "Objective value at t=9 is 0.4823153167311442\n",
      "Objective value at t=10 is 0.48017474335892024\n",
      "Objective value at t=11 is 0.478499621813681\n",
      "Objective value at t=12 is 0.4771749669821337\n",
      "Objective value at t=13 is 0.4761180748001233\n",
      "Objective value at t=14 is 0.4752683213829597\n",
      "Objective value at t=15 is 0.47458054235816327\n",
      "Objective value at t=16 is 0.4740206143095881\n",
      "Objective value at t=17 is 0.4735624359566177\n",
      "Objective value at t=18 is 0.47318582364465434\n",
      "Objective value at t=19 is 0.47287501806300825\n",
      "Objective value at t=20 is 0.47261760787504636\n",
      "Objective value at t=21 is 0.47240374281929526\n",
      "Objective value at t=22 is 0.4722255510241472\n",
      "Objective value at t=23 is 0.47207670248449923\n",
      "Objective value at t=24 is 0.4719520785394803\n",
      "Objective value at t=25 is 0.4718475191620243\n",
      "Objective value at t=26 is 0.4717596280088767\n",
      "Objective value at t=27 is 0.4716856207915957\n",
      "Objective value at t=28 is 0.4716232064509138\n",
      "Objective value at t=29 is 0.47157049339150386\n",
      "Objective value at t=30 is 0.4715259150199575\n",
      "Objective value at t=31 is 0.47148817026534245\n",
      "Objective value at t=32 is 0.47145617581149846\n",
      "Objective value at t=33 is 0.47142902754472404\n",
      "Objective value at t=34 is 0.47140596929702505\n",
      "Objective value at t=35 is 0.4713863673978951\n",
      "Objective value at t=36 is 0.47136968987509115\n",
      "Objective value at t=37 is 0.4713554893945631\n",
      "Objective value at t=38 is 0.4713433892214107\n",
      "Objective value at t=39 is 0.47133307163194943\n",
      "Objective value at t=40 is 0.4713242683222505\n",
      "Objective value at t=41 is 0.4713167524487418\n",
      "Objective value at t=42 is 0.471310332007456\n",
      "Objective value at t=43 is 0.4713048443146863\n",
      "Objective value at t=44 is 0.4713001513964755\n",
      "Objective value at t=45 is 0.4712961361300475\n",
      "Objective value at t=46 is 0.47129269900892146\n",
      "Objective value at t=47 is 0.4712897554265232\n",
      "Objective value at t=48 is 0.47128723339177253\n",
      "Objective value at t=49 is 0.4712850716052803\n",
      "Objective value at t=50 is 0.4712832178371352\n",
      "Objective value at t=51 is 0.47128162755735653\n",
      "Objective value at t=52 is 0.47128026277836144\n",
      "Objective value at t=53 is 0.47127909107560473\n",
      "Objective value at t=54 is 0.4712780847581525\n",
      "Objective value at t=55 is 0.471277220165598\n",
      "Objective value at t=56 is 0.4712764770715596\n",
      "Objective value at t=57 is 0.4712758381772013\n",
      "Objective value at t=58 is 0.47127528868086077\n",
      "Objective value at t=59 is 0.4712748159120918\n",
      "Objective value at t=60 is 0.4712744090202686\n",
      "Objective value at t=61 is 0.47127405870944966\n",
      "Objective value at t=62 is 0.4712737570124952\n",
      "Objective value at t=63 is 0.47127349709851346\n",
      "Objective value at t=64 is 0.47127327310863343\n",
      "Objective value at t=65 is 0.47127308001586005\n",
      "Objective value at t=66 is 0.47127291350542594\n",
      "Objective value at t=67 is 0.47127276987258954\n",
      "Objective value at t=68 is 0.4712726459352994\n",
      "Objective value at t=69 is 0.4712725389595273\n",
      "Objective value at t=70 is 0.47127244659540835\n",
      "Objective value at t=71 is 0.4712723668225983\n",
      "Objective value at t=72 is 0.4712722979035025\n",
      "Objective value at t=73 is 0.47127223834322574\n",
      "Objective value at t=74 is 0.47127218685526395\n",
      "Objective value at t=75 is 0.4712721423321063\n",
      "Objective value at t=76 is 0.47127210382003276\n",
      "Objective value at t=77 is 0.4712720704975038\n",
      "Objective value at t=78 is 0.47127204165662245\n",
      "Objective value at t=79 is 0.4712720166872266\n",
      "Objective value at t=80 is 0.471271995063235\n",
      "Objective value at t=81 is 0.4712719763309228\n",
      "Objective value at t=82 is 0.4712719600988509\n",
      "Objective value at t=83 is 0.47127194602921313\n",
      "Objective value at t=84 is 0.4712719338304011\n",
      "Objective value at t=85 is 0.4712719232506095\n",
      "Objective value at t=86 is 0.4712719140723384\n",
      "Objective value at t=87 is 0.4712719061076641\n",
      "Objective value at t=88 is 0.47127189919416806\n",
      "Objective value at t=89 is 0.471271893191434\n",
      "Objective value at t=90 is 0.47127188797803116\n",
      "Objective value at t=91 is 0.47127188344891674\n",
      "Objective value at t=92 is 0.47127187951319705\n",
      "Objective value at t=93 is 0.47127187609219867\n",
      "Objective value at t=94 is 0.4712718731178055\n",
      "Objective value at t=95 is 0.4712718705310251\n",
      "Objective value at t=96 is 0.4712718682807514\n",
      "Objective value at t=97 is 0.47127186632269824\n",
      "Objective value at t=98 is 0.47127186461847753\n",
      "Objective value at t=99 is 0.47127186313480457\n"
     ]
    }
   ],
   "source": [
    "lam = 1E-6\n",
    "stepsize = 1.0\n",
    "w, objvals_gd = grad_descent(x_train, y_train, lam, stepsize)"
   ]
  },
  {
   "cell_type": "markdown",
   "metadata": {},
   "source": [
    "## 3.2. Stochastic gradient descent (SGD)\n",
    "\n",
    "Define $Q_i (w) = \\log \\Big( 1 + \\exp \\big( - y_i x_i^T w \\big) \\Big) + \\frac{\\lambda}{2} \\| w \\|_2^2 $.\n",
    "\n",
    "The stochastic gradient at $w$ is $g_i = \\frac{\\partial Q_i }{ \\partial w} = -\\frac{y_i x_i }{1 + \\exp ( y_i x_i^T w)} + \\lambda w$."
   ]
  },
  {
   "cell_type": "code",
   "execution_count": 11,
   "metadata": {},
   "outputs": [],
   "source": [
    "# Calculate the objective Q_i and the gradient of Q_i\n",
    "# Inputs:\n",
    "#     w: d-by-1 matrix\n",
    "#     xi: 1-by-d matrix\n",
    "#     yi: scalar\n",
    "#     lam: scalar, the regularization parameter\n",
    "# Return:\n",
    "#     obj: scalar, the objective Q_i\n",
    "#     g: d-by-1 matrix, gradient of Q_i\n",
    "def stochastic_objective_gradient(w, xi, yi, lam):\n",
    "    yx = yi * xi # 1-by-d matrix\n",
    "    yxw = float(numpy.dot(yx, w)) # scalar\n",
    "    \n",
    "    # calculate objective function Q_i\n",
    "    loss = numpy.log(1 + numpy.exp(-yxw)) # scalar\n",
    "    reg = lam / 2 * numpy.sum(w * w) # scalar\n",
    "    obj = loss + reg\n",
    "    \n",
    "    # calculate stochastic gradient\n",
    "    g_loss = -yx.T / (1 + numpy.exp(yxw)) # d-by-1 matrix\n",
    "    g = g_loss + lam * w # d-by-1 matrix\n",
    "    \n",
    "    return obj, g"
   ]
  },
  {
   "cell_type": "code",
   "execution_count": 12,
   "metadata": {},
   "outputs": [],
   "source": [
    "# SGD for solving logistic regression\n",
    "# Inputs:\n",
    "#     x: n-by-d matrix\n",
    "#     y: n-by-1 matrix\n",
    "#     lam: scalar, the regularization parameter\n",
    "#     stepsize: scalar\n",
    "#     max_epoch: integer, the maximal epochs\n",
    "#     w: d-by-1 matrix, initialization of w\n",
    "# Return:\n",
    "#     w: the solution\n",
    "#     objvals: record of each iteration's objective value\n",
    "def sgd(x, y, lam, stepsize, max_epoch=100, w=None):\n",
    "    n, d = x.shape\n",
    "    objvals = numpy.zeros(max_epoch) # store the objective values\n",
    "    if w is None:\n",
    "        w = numpy.zeros((d, 1)) # zero initialization\n",
    "    \n",
    "    for t in range(max_epoch):\n",
    "        # randomly shuffle the samples\n",
    "        rand_indices = numpy.random.permutation(n)\n",
    "        x_rand = x[rand_indices, :]\n",
    "        y_rand = y[rand_indices, :]\n",
    "        \n",
    "        objval = 0 # accumulate the objective values\n",
    "        for i in range(n):\n",
    "            xi = x_rand[i, :] # 1-by-d matrix\n",
    "            yi = float(y_rand[i, :]) # scalar\n",
    "            obj, g = stochastic_objective_gradient(w, xi, yi, lam)\n",
    "            objval += obj\n",
    "            w -= stepsize * g\n",
    "        \n",
    "        stepsize *= 0.9 # decrease step size\n",
    "        objval /= n\n",
    "        objvals[t] = objval\n",
    "        print('Objective value at epoch t=' + str(t) + ' is ' + str(objval))\n",
    "    \n",
    "    return w, objvals"
   ]
  },
  {
   "cell_type": "markdown",
   "metadata": {},
   "source": [
    "Run SGD."
   ]
  },
  {
   "cell_type": "code",
   "execution_count": 13,
   "metadata": {},
   "outputs": [
    {
     "name": "stdout",
     "output_type": "stream",
     "text": [
      "Objective value at epoch t=0 is 0.528341691929576\n",
      "Objective value at epoch t=1 is 0.5199930527229791\n",
      "Objective value at epoch t=2 is 0.5120634711409282\n",
      "Objective value at epoch t=3 is 0.502093479367924\n",
      "Objective value at epoch t=4 is 0.5036327765845153\n",
      "Objective value at epoch t=5 is 0.4994058267598172\n",
      "Objective value at epoch t=6 is 0.5014026676521808\n",
      "Objective value at epoch t=7 is 0.4956071739595277\n",
      "Objective value at epoch t=8 is 0.49296301496874084\n",
      "Objective value at epoch t=9 is 0.4911097516513718\n",
      "Objective value at epoch t=10 is 0.4912886850050338\n",
      "Objective value at epoch t=11 is 0.48739177428791824\n",
      "Objective value at epoch t=12 is 0.48912046746075843\n",
      "Objective value at epoch t=13 is 0.48588039326600063\n",
      "Objective value at epoch t=14 is 0.48489537652555964\n",
      "Objective value at epoch t=15 is 0.48279506120472704\n",
      "Objective value at epoch t=16 is 0.4819859113517679\n",
      "Objective value at epoch t=17 is 0.48230617989267854\n",
      "Objective value at epoch t=18 is 0.4804963794653484\n",
      "Objective value at epoch t=19 is 0.4790904716194813\n",
      "Objective value at epoch t=20 is 0.47953140208839695\n",
      "Objective value at epoch t=21 is 0.4779248696004886\n",
      "Objective value at epoch t=22 is 0.4773894668678939\n",
      "Objective value at epoch t=23 is 0.4770237115506191\n",
      "Objective value at epoch t=24 is 0.47635341623229105\n",
      "Objective value at epoch t=25 is 0.47612901388156414\n",
      "Objective value at epoch t=26 is 0.47538591121841894\n",
      "Objective value at epoch t=27 is 0.4751338105713245\n",
      "Objective value at epoch t=28 is 0.4743975589564119\n",
      "Objective value at epoch t=29 is 0.4745346081107331\n",
      "Objective value at epoch t=30 is 0.4741039379289771\n",
      "Objective value at epoch t=31 is 0.4737775779882266\n",
      "Objective value at epoch t=32 is 0.4735375873727549\n",
      "Objective value at epoch t=33 is 0.4734057571212606\n",
      "Objective value at epoch t=34 is 0.4731143170816887\n",
      "Objective value at epoch t=35 is 0.4729363123291305\n",
      "Objective value at epoch t=36 is 0.47284220738842997\n",
      "Objective value at epoch t=37 is 0.47266392953326974\n",
      "Objective value at epoch t=38 is 0.47248955191996317\n",
      "Objective value at epoch t=39 is 0.4724076046913007\n",
      "Objective value at epoch t=40 is 0.4722814987923153\n",
      "Objective value at epoch t=41 is 0.4721919405499314\n",
      "Objective value at epoch t=42 is 0.47210458804601246\n",
      "Objective value at epoch t=43 is 0.4720277498122618\n",
      "Objective value at epoch t=44 is 0.4719538261037236\n",
      "Objective value at epoch t=45 is 0.47188008541507537\n",
      "Objective value at epoch t=46 is 0.4718172914494262\n",
      "Objective value at epoch t=47 is 0.47176119444452747\n",
      "Objective value at epoch t=48 is 0.47171820329663994\n",
      "Objective value at epoch t=49 is 0.4716736547320073\n",
      "Objective value at epoch t=50 is 0.4716356723649338\n",
      "Objective value at epoch t=51 is 0.47159635286229895\n",
      "Objective value at epoch t=52 is 0.47156455795675767\n",
      "Objective value at epoch t=53 is 0.471537227552593\n",
      "Objective value at epoch t=54 is 0.4715095164891793\n",
      "Objective value at epoch t=55 is 0.47148620458335344\n",
      "Objective value at epoch t=56 is 0.47146504816029233\n",
      "Objective value at epoch t=57 is 0.47144596058448773\n",
      "Objective value at epoch t=58 is 0.4714281819977364\n",
      "Objective value at epoch t=59 is 0.4714130093595868\n",
      "Objective value at epoch t=60 is 0.4713991295602492\n",
      "Objective value at epoch t=61 is 0.4713862946221969\n",
      "Objective value at epoch t=62 is 0.4713748544099981\n",
      "Objective value at epoch t=63 is 0.47136445932340176\n",
      "Objective value at epoch t=64 is 0.4713555663059864\n",
      "Objective value at epoch t=65 is 0.47134714587427695\n",
      "Objective value at epoch t=66 is 0.4713397082528806\n",
      "Objective value at epoch t=67 is 0.47133299190629535\n",
      "Objective value at epoch t=68 is 0.4713269512026447\n",
      "Objective value at epoch t=69 is 0.4713215160366043\n",
      "Objective value at epoch t=70 is 0.471316585558068\n",
      "Objective value at epoch t=71 is 0.47131221242017884\n",
      "Objective value at epoch t=72 is 0.47130823268581556\n",
      "Objective value at epoch t=73 is 0.4713046600078263\n",
      "Objective value at epoch t=74 is 0.4713014355075889\n",
      "Objective value at epoch t=75 is 0.47129852839915803\n",
      "Objective value at epoch t=76 is 0.4712959288396972\n",
      "Objective value at epoch t=77 is 0.4712935685154343\n",
      "Objective value at epoch t=78 is 0.47129146289352253\n",
      "Objective value at epoch t=79 is 0.4712895640877795\n",
      "Objective value at epoch t=80 is 0.47128784874279306\n",
      "Objective value at epoch t=81 is 0.471286312078013\n",
      "Objective value at epoch t=82 is 0.4712849208706854\n",
      "Objective value at epoch t=83 is 0.4712836746935306\n",
      "Objective value at epoch t=84 is 0.4712825502018566\n",
      "Objective value at epoch t=85 is 0.47128153957398106\n",
      "Objective value at epoch t=86 is 0.47128062842007135\n",
      "Objective value at epoch t=87 is 0.4712798100890224\n",
      "Objective value at epoch t=88 is 0.4712790724646047\n",
      "Objective value at epoch t=89 is 0.4712784092291475\n",
      "Objective value at epoch t=90 is 0.4712778114307061\n",
      "Objective value at epoch t=91 is 0.47127727483133225\n",
      "Objective value at epoch t=92 is 0.4712767908155606\n",
      "Objective value at epoch t=93 is 0.47127635556324626\n",
      "Objective value at epoch t=94 is 0.47127596339607913\n",
      "Objective value at epoch t=95 is 0.4712756109835068\n",
      "Objective value at epoch t=96 is 0.47127529364953774\n",
      "Objective value at epoch t=97 is 0.4712750079481224\n",
      "Objective value at epoch t=98 is 0.47127475095408433\n",
      "Objective value at epoch t=99 is 0.4712745195064059\n"
     ]
    }
   ],
   "source": [
    "lam = 1E-6\n",
    "stepsize = 0.1\n",
    "w, objvals_sgd = sgd(x_train, y_train, lam, stepsize)"
   ]
  },
  {
   "cell_type": "markdown",
   "metadata": {},
   "source": [
    "# 4. Compare GD with SGD\n",
    "\n",
    "Plot objective function values against epochs."
   ]
  },
  {
   "cell_type": "code",
   "execution_count": 17,
   "metadata": {},
   "outputs": [
    {
     "data": {
      "image/png": "[encoded data removed]",
      "text/plain": [
       "<Figure size 600x400 with 1 Axes>"
      ]
     },
     "metadata": {},
     "output_type": "display_data"
    }
   ],
   "source": [
    "import matplotlib.pyplot as plt\n",
    "%matplotlib inline\n",
    "\n",
    "fig = plt.figure(figsize=(6, 4))\n",
    "\n",
    "epochs_gd = range(len(objvals_gd))\n",
    "epochs_sgd = range(len(objvals_sgd))\n",
    "\n",
    "line0, = plt.plot(epochs_gd, objvals_gd, '--b', lw=4)\n",
    "line1, = plt.plot(epochs_sgd, objvals_sgd, '-r', lw=2)\n",
    "plt.xlabel('Epochs', fontsize=20)\n",
    "plt.ylabel('Objective Value', fontsize=20)\n",
    "plt.xticks(fontsize=16)\n",
    "plt.yticks(fontsize=16)\n",
    "plt.legend([line0, line1], ['GD', 'SGD'], fontsize=20)\n",
    "plt.tight_layout()\n",
    "plt.show()\n",
    "fig.savefig('compare_gd_sgd.pdf', format='pdf', dpi=1200)"
   ]
  },
  {
   "cell_type": "markdown",
   "metadata": {},
   "source": [
    "# 5. Prediction"
   ]
  },
  {
   "cell_type": "code",
   "execution_count": 18,
   "metadata": {},
   "outputs": [],
   "source": [
    "# Predict class label\n",
    "# Inputs:\n",
    "#     w: d-by-1 matrix\n",
    "#     X: m-by-d matrix\n",
    "# Return:\n",
    "#     f: m-by-1 matrix, the predictions\n",
    "def predict(w, X):\n",
    "    xw = numpy.dot(X, w)\n",
    "    f = numpy.sign(xw)\n",
    "    return f"
   ]
  },
  {
   "cell_type": "code",
   "execution_count": 19,
   "metadata": {},
   "outputs": [
    {
     "name": "stdout",
     "output_type": "stream",
     "text": [
      "Training classification error is 0.221875\n"
     ]
    }
   ],
   "source": [
    "# evaluate training error\n",
    "f_train = predict(w, x_train)\n",
    "diff = numpy.abs(f_train - y_train) / 2\n",
    "error_train = numpy.mean(diff)\n",
    "print('Training classification error is ' + str(error_train))"
   ]
  },
  {
   "cell_type": "code",
   "execution_count": 20,
   "metadata": {},
   "outputs": [
    {
     "name": "stdout",
     "output_type": "stream",
     "text": [
      "Test classification error is 0.21875\n"
     ]
    }
   ],
   "source": [
    "# evaluate test error\n",
    "f_test = predict(w, x_test)\n",
    "diff = numpy.abs(f_test - y_test) / 2\n",
    "error_test = numpy.mean(diff)\n",
    "print('Test classification error is ' + str(error_test))"
   ]
  },
  {
   "cell_type": "markdown",
   "metadata": {},
   "source": [
    "# 6. Mini-batch SGD (fill the code)\n",
    "\n"
   ]
  },
  {
   "cell_type": "markdown",
   "metadata": {},
   "source": [
    "## 6.1. Compute the objective $Q_I$ and its gradient using a batch of samples\n",
    "\n",
    "Define $Q_I (w) = \\frac{1}{b} \\sum_{i \\in I} \\log \\Big( 1 + \\exp \\big( - y_i x_i^T w \\big) \\Big) + \\frac{\\lambda}{2} \\| w \\|_2^2 $, where $I$ is a set containing $b$ indices randomly drawn from $\\{ 1, \\cdots , n \\}$ without replacement.\n",
    "\n",
    "The stochastic gradient at $w$ is $g_I = \\frac{\\partial Q_I }{ \\partial w} = \\frac{1}{b} \\sum_{i \\in I} \\frac{- y_i x_i }{1 + \\exp ( y_i x_i^T w)} + \\lambda w$."
   ]
  },
  {
   "cell_type": "code",
   "execution_count": null,
   "metadata": {},
   "outputs": [],
   "source": [
    "# Calculate the objective Q_I and the gradient of Q_I\n",
    "# Inputs:\n",
    "#     w: d-by-1 matrix\n",
    "#     xi: b-by-d matrix\n",
    "#     yi: b-by-1 matrix\n",
    "#     lam: scalar, the regularization parameter\n",
    "#     b: integer, the batch size\n",
    "# Return:\n",
    "#     obj: scalar, the objective Q_i\n",
    "#     g: d-by-1 matrix, gradient of Q_i\n",
    "def mb_stochastic_objective_gradient(w, xi, yi, lam, b):\n",
    "    # Fill the function\n",
    "    # Follow the implementation of stochastic_objective_gradient\n",
    "    # Use matrix-vector multiplication; do not use FOR LOOP of vector-vector multiplications\n",
    "    ...\n",
    "    \n",
    "    return obj, g"
   ]
  },
  {
   "cell_type": "markdown",
   "metadata": {},
   "source": [
    "## 6.2. Implement mini-batch SGD\n",
    "\n",
    "Hints:\n",
    "1. In every epoch, randomly permute the $n$ samples (just like SGD).\n",
    "2. Each epoch has $\\frac{n}{b}$ iterations. In every iteration, use $b$ samples, and compute the gradient and objective using the ``mb_stochastic_objective_gradient`` function. In the next iteration, use the next $b$ samples, and so on.\n"
   ]
  },
  {
   "cell_type": "code",
   "execution_count": null,
   "metadata": {},
   "outputs": [],
   "source": [
    "# Mini-Batch SGD for solving logistic regression\n",
    "# Inputs:\n",
    "#     x: n-by-d matrix\n",
    "#     y: n-by-1 matrix\n",
    "#     lam: scalar, the regularization parameter\n",
    "#     b: integer, the batch size\n",
    "#     stepsize: scalar\n",
    "#     max_epoch: integer, the maximal epochs\n",
    "#     w: d-by-1 matrix, initialization of w\n",
    "# Return:\n",
    "#     w: the solution\n",
    "#     objvals: record of each iteration's objective value\n",
    "def mb_sgd(x, y, lam, b, stepsize, max_epoch=100, w=None):\n",
    "    # Fill the function\n",
    "    # Follow the implementation of sgd\n",
    "    # Record one objective value per epoch (not per iteration!)\n",
    "    ...\n",
    "    \n",
    "    return w, objvals"
   ]
  },
  {
   "cell_type": "markdown",
   "metadata": {},
   "source": [
    "## 6.3. Run MB-SGD"
   ]
  },
  {
   "cell_type": "code",
   "execution_count": null,
   "metadata": {},
   "outputs": [],
   "source": [
    "# MB-SGD with batch size b=8\n",
    "lam = 1E-6 # do not change\n",
    "b = 8 # do not change\n",
    "stepsize = 0.1 # you must tune this parameter\n",
    "\n",
    "w, objvals_mbsgd8 = mb_sgd(x_train, y_train, lam, b, stepsize)"
   ]
  },
  {
   "cell_type": "code",
   "execution_count": null,
   "metadata": {},
   "outputs": [],
   "source": [
    "# MB-SGD with batch size b=64\n",
    "lam = 1E-6 # do not change\n",
    "b = 64 # do not change\n",
    "stepsize = 0.1 # you must tune this parameter\n",
    "\n",
    "w, objvals_mbsgd64 = mb_sgd(x_train, y_train, lam, b, stepsize)"
   ]
  },
  {
   "cell_type": "markdown",
   "metadata": {},
   "source": [
    "# 7. Plot and compare GD, SGD, and MB-SGD"
   ]
  },
  {
   "cell_type": "markdown",
   "metadata": {},
   "source": [
    "You are required to compare the following algorithms:\n",
    "\n",
    "- Gradient descent (GD)\n",
    "\n",
    "- SGD\n",
    "\n",
    "- MB-SGD with b=8\n",
    "\n",
    "- MB-SGD with b=64\n",
    "\n",
    "Follow the code in Section 4 to plot ```objective function value``` against ```epochs```. There should be four curves in the plot; each curve corresponds to one algorithm."
   ]
  },
  {
   "cell_type": "markdown",
   "metadata": {},
   "source": [
    "Hint: Logistic regression with $\\ell_2$-norm regularization is a strongly convex optimization problem. All the algorithms will converge to the same solution. **In the end, the ``objective function value`` of the 4 algorithms will be the same. If not the same, your implementation must be wrong. Do NOT submit wrong code and wrong result!**"
   ]
  },
  {
   "cell_type": "code",
   "execution_count": null,
   "metadata": {},
   "outputs": [],
   "source": [
    "# plot the 4 curves:"
   ]
  },
  {
   "cell_type": "markdown",
   "metadata": {},
   "source": []
  }
 ],
 "metadata": {
  "kernelspec": {
   "display_name": "Python 3",
   "language": "python",
   "name": "python3"
  },
  "language_info": {
   "codemirror_mode": {
    "name": "ipython",
    "version": 3
   },
   "file_extension": ".py",
   "mimetype": "text/x-python",
   "name": "python",
   "nbconvert_exporter": "python",
   "pygments_lexer": "ipython3",
   "version": "3.10.12"
  }
 },
 "nbformat": 4,
 "nbformat_minor": 2
}
