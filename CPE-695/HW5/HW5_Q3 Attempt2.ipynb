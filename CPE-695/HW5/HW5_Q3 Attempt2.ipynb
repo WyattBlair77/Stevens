{
 "cells": [
  {
   "cell_type": "code",
   "execution_count": 1,
   "id": "b48b7c8d",
   "metadata": {},
   "outputs": [],
   "source": [
    "import numpy as np\n",
    "import pandas as pd\n",
    "import matplotlib.pyplot as plt\n",
    "import math"
   ]
  },
  {
   "cell_type": "markdown",
   "id": "01555104",
   "metadata": {},
   "source": [
    "# Q3)"
   ]
  },
  {
   "cell_type": "markdown",
   "id": "9ac78622",
   "metadata": {},
   "source": [
    "### Design a genetic algorithm to solve the polynomial fitting problem that we did in Homework #1. You need to implement a genetic algorithm using BOTH mutation AND crossover operations. You need to decide a mutation rate and a crossover rate.  \n",
    " \n",
    "### Plot the following in one figure: 1) the original noisy data, 2) the polynomial you obtained in  Homework  #1,  and  3)  the  polynomial  obtained  from  this  implementation.  Compare  and  discussion the difference in performance of the two polynomials obtained with two different  methods. "
   ]
  },
  {
   "cell_type": "code",
   "execution_count": 2,
   "id": "5c562bc3",
   "metadata": {},
   "outputs": [
    {
     "name": "stderr",
     "output_type": "stream",
     "text": [
      "C:\\Users\\wyatt\\AppData\\Local\\Temp\\ipykernel_7892\\18227241.py:2: MatplotlibDeprecationWarning: The seaborn styles shipped by Matplotlib are deprecated since 3.6, as they no longer correspond to the styles shipped by seaborn. However, they will remain available as 'seaborn-v0_8-<style>'. Alternatively, directly use the seaborn API instead.\n",
      "  plt.style.use('seaborn-whitegrid')\n"
     ]
    },
    {
     "data": {
      "text/plain": [
       "[<matplotlib.lines.Line2D at 0x16bfed60510>]"
      ]
     },
     "execution_count": 2,
     "metadata": {},
     "output_type": "execute_result"
    },
    {
     "data": {
      "image/png": "[encoded data removed]",
      "text/plain": [
       "<Figure size 640x480 with 1 Axes>"
      ]
     },
     "metadata": {},
     "output_type": "display_data"
    }
   ],
   "source": [
    "# FROM HW 1\n",
    "plt.style.use('seaborn-whitegrid') \n",
    "\n",
    "noise_scale = 100 \n",
    "number_of_samples = 50 \n",
    "\n",
    "x =  25*(np.random.rand(number_of_samples, 1) - 0.5) \n",
    "y = 5 * x + 15 * x**2 + 2 * x**3 + noise_scale*np.random.randn(number_of_samples, 1) \n",
    "\n",
    "plt.plot(x,y,'ro')"
   ]
  },
  {
   "cell_type": "code",
   "execution_count": 3,
   "id": "3b6cfa79",
   "metadata": {},
   "outputs": [],
   "source": [
    "def cubic(x, w):\n",
    "    \n",
    "    g = np.array([\n",
    "        x**0,\n",
    "        x**1,\n",
    "        x**2,\n",
    "        x**3,\n",
    "    ]).reshape(w.shape[0], -1)\n",
    "    \n",
    "    return w @ g\n",
    "    "
   ]
  },
  {
   "cell_type": "code",
   "execution_count": 4,
   "id": "67bda0ec",
   "metadata": {},
   "outputs": [],
   "source": [
    "class GeneticAlgorithm:\n",
    "    \n",
    "    def __init__(\n",
    "        self, \n",
    "        f, \n",
    "        x, \n",
    "        y_true, \n",
    "        M,\n",
    "        \n",
    "        population_size, \n",
    "        crossover_rate, \n",
    "        \n",
    "        p_organism_mutates,\n",
    "        p_allele_mutates,\n",
    "\n",
    "        fitness_threshold,\n",
    "        max_generations,\n",
    "    ):\n",
    "        \n",
    "        self.coeff_range = 20\n",
    "\n",
    "        self.f = f\n",
    "        self.x = x\n",
    "        self.y_true = y_true\n",
    "        self.y_true_mean = np.mean(self.y_true)*np.ones_like(y_true)\n",
    "\n",
    "        self.M = M\n",
    "        self.N = len(self.y_true)\n",
    "        \n",
    "        self.population_size = int(population_size)\n",
    "        self.crossover_rate = crossover_rate\n",
    "        \n",
    "        self.p_organism_mutates = p_organism_mutates\n",
    "        self.p_allele_mutates = p_allele_mutates\n",
    "        \n",
    "        self.selection_size = np.floor(self.crossover_rate*self.population_size)\n",
    "        \n",
    "        self.fitness_threshold = fitness_threshold\n",
    "        self.max_generations = max_generations\n",
    "        \n",
    "        self.P = self.create_population(self.population_size)\n",
    "        self.best_organism = self.arrange_organisms_by_fitness(self.P)[0]\n",
    "                \n",
    "    def create_organism(self):\n",
    "        \n",
    "        return np.random.uniform(- self.coeff_range, self.coeff_range, size=self.M)\n",
    "    \n",
    "    def create_population(self, population_size):\n",
    "        \n",
    "        return np.array(\n",
    "            [\n",
    "                self.create_organism()\n",
    "                for organism_num in range(population_size)\n",
    "            ]\n",
    "        )\n",
    "    \n",
    "    def mutate(self, organism):\n",
    "        \n",
    "        num_alleles_to_mutate = int(np.floor(self.p_allele_mutates * self.M))\n",
    "        mutation_mask = np.array(\n",
    "            [True]*num_alleles_to_mutate \n",
    "            + [False]*(self.M - num_alleles_to_mutate)\n",
    "        )\n",
    "        np.random.shuffle(mutation_mask)\n",
    "        \n",
    "        for allele_num, perform_mutation in enumerate(mutation_mask):\n",
    "            \n",
    "            if perform_mutation:\n",
    "                \n",
    "                mutation_strength = np.random.uniform(-self.coeff_range, self.coeff_range) / 2\n",
    "                organism[allele_num] += mutation_strength\n",
    "        \n",
    "        return organism\n",
    "    \n",
    "    def crossover(self, parent_organism1, parent_organism2):\n",
    "        \n",
    "        assert parent_organism1.shape == parent_organism2.shape\n",
    "        \n",
    "        parents = [parent_organism1, parent_organism2]\n",
    "        \n",
    "        organism_shape = parent_organism1.shape\n",
    "        crossover_mask = np.random.choice([-1, 1], size=organism_shape)\n",
    "        \n",
    "        child1 = [parents[crossover_mask[i]][i] for i in range(organism_shape[0])]        \n",
    "        child2 = [parents[-crossover_mask[i]][i] for i in range(organism_shape[0])]        \n",
    "        \n",
    "        return child1, child2\n",
    "        \n",
    "    def determine_fitness(self, organism):\n",
    "        \n",
    "        y_predicted = self.f(self.x, organism)\n",
    "                \n",
    "        sum_of_squares_total = (\n",
    "            (self.y_true_mean - y_predicted) ** 2\n",
    "        ).flatten().sum()\n",
    "        \n",
    "        sum_of_squares_regression = (\n",
    "            (self.y_true - y_predicted) ** 2\n",
    "        ).flatten().sum()\n",
    "        average_error = sum_of_squares_regression / self.N\n",
    "        coefficient_of_determination = (\n",
    "            1 - (sum_of_squares_regression / sum_of_squares_total)\n",
    "        ) * 100\n",
    "        \n",
    "        output = {\n",
    "            'SST': sum_of_squares_total,\n",
    "            'SSR': sum_of_squares_regression,\n",
    "            'Average Error': average_error,\n",
    "            'COD': coefficient_of_determination,\n",
    "            'Organism': organism,\n",
    "        }\n",
    "        \n",
    "        return output\n",
    "    \n",
    "    def arrange_organisms_by_fitness(self, population):\n",
    "        \n",
    "        fitnesses = sorted([\n",
    "            self.determine_fitness(organism)\n",
    "            for organism in population\n",
    "        ],\n",
    "            key=lambda fitness: fitness['Average Error'], reverse=False\n",
    "        )\n",
    "        \n",
    "        return fitnesses\n",
    "        \n",
    "    \n",
    "    def create_new_generation(self, P):\n",
    "        \n",
    "        survivors = np.array([\n",
    "            fitness_rating['Organism'] \n",
    "            for fitness_rating in self.arrange_organisms_by_fitness(P)[:int(self.selection_size)]\n",
    "        ])\n",
    "        \n",
    "        parents = np.array(\n",
    "            [\n",
    "                survivors[np.random.randint(0, survivors.shape[0],2)]\n",
    "                for parent_pair_num in range(int(np.floor(self.population_size/2)))\n",
    "            ]\n",
    "        )\n",
    "        \n",
    "        offspring = np.array(\n",
    "            [\n",
    "                child \n",
    "                for parent_pair in parents\n",
    "                for child in self.crossover(*parent_pair)\n",
    "\n",
    "            ]\n",
    "        )\n",
    "        \n",
    "        num_mutants = int(np.floor(self.p_organism_mutates * self.M))\n",
    "        mutation_decision_mask = np.array(\n",
    "            [True]*num_mutants \n",
    "            + [False]*(self.population_size - num_mutants)\n",
    "        )\n",
    "        np.random.shuffle(mutation_decision_mask)\n",
    "        \n",
    "        for mutant_num, perform_mutation in enumerate(mutation_decision_mask):\n",
    "            \n",
    "            if perform_mutation:\n",
    "                offspring[mutant_num] = self.mutate(offspring[mutant_num])\n",
    "        \n",
    "        return offspring\n",
    "        \n",
    "    def evolve(self):\n",
    "        \n",
    "        terminate = lambda best_organism, generation_count: best_organism['COD'] >= self.fitness_threshold or generation_count >= self.max_generations\n",
    "        \n",
    "        P = self.P\n",
    "        generation_count = 0\n",
    "        best_organism = self.arrange_organisms_by_fitness(P)[0]\n",
    "        \n",
    "        while not terminate(best_organism, generation_count):\n",
    "             \n",
    "#             print(\n",
    "#                 'Generation #%i/%i (%1.2f%%):\\n' \n",
    "#                 '| Best Organism: %s \\n'\n",
    "#                 '| Average Error: %1.3e \\n'\n",
    "#                 '| Population shape: %s \\n'\n",
    "#                 '| %s'% (\n",
    "#                     generation_count, \n",
    "#                     self.max_generations, \n",
    "#                     (generation_count/self.max_generations) * 100,\n",
    "#                     str(best_organism['Organism']), \n",
    "#                     best_organism['Average Error'],\n",
    "#                     P.shape,\n",
    "#                     '=='*25,\n",
    "#                 ), end='\\n\\n'\n",
    "#             )\n",
    "            \n",
    "            P = self.create_new_generation(P)\n",
    "            best_organism = self.arrange_organisms_by_fitness(P)[0]\n",
    "           \n",
    "            generation_count += 1\n",
    "            \n",
    "        return best_organism\n",
    "            "
   ]
  },
  {
   "cell_type": "code",
   "execution_count": 5,
   "id": "aa027d18",
   "metadata": {},
   "outputs": [],
   "source": [
    "crossover_rate = 0.1\n",
    "population_size = 5e4\n",
    "\n",
    "p_allele_mutates = 0.4\n",
    "p_organism_mutates = 0.5\n",
    "\n",
    "fitness_threshold = 0.98\n",
    "max_generations = 500\n",
    "\n",
    "GA = GeneticAlgorithm(\n",
    "    cubic, \n",
    "    x, \n",
    "    y, \n",
    "    4, \n",
    "    population_size=population_size,\n",
    "    crossover_rate=crossover_rate, \n",
    "    p_organism_mutates=p_organism_mutates,\n",
    "    p_allele_mutates=p_allele_mutates,\n",
    "    fitness_threshold=fitness_threshold,\n",
    "    max_generations=max_generations,\n",
    ")"
   ]
  },
  {
   "cell_type": "code",
   "execution_count": 6,
   "id": "b4f48e18",
   "metadata": {
    "scrolled": false
   },
   "outputs": [],
   "source": [
    "# GA.arrange_organisms_by_fitness(GA.P)"
   ]
  },
  {
   "cell_type": "code",
   "execution_count": 7,
   "id": "c07ac477",
   "metadata": {
    "scrolled": true
   },
   "outputs": [],
   "source": [
    "best_organism = GA.evolve()"
   ]
  },
  {
   "cell_type": "code",
   "execution_count": 8,
   "id": "17c4b6c1",
   "metadata": {},
   "outputs": [],
   "source": [
    "# Predicted values from HW 1:\n",
    "hw1_w = np.array([-28.11452636,   2.06279237,  15.3246926,    2.03888255])"
   ]
  },
  {
   "cell_type": "code",
   "execution_count": 12,
   "id": "1bb6b1b0",
   "metadata": {},
   "outputs": [
    {
     "data": {
      "text/plain": [
       "<matplotlib.legend.Legend at 0x16bfecb5650>"
      ]
     },
     "execution_count": 12,
     "metadata": {},
     "output_type": "execute_result"
    },
    {
     "data": {
      "image/png": "[encoded data removed]",
      "text/plain": [
       "<Figure size 1000x500 with 1 Axes>"
      ]
     },
     "metadata": {},
     "output_type": "display_data"
    }
   ],
   "source": [
    "sorted_x = np.array(sorted(x))\n",
    "\n",
    "hw1_predicted = cubic(sorted_x, hw1_w)\n",
    "hw5_predicted = cubic(sorted_x, best_organism['Organism'])\n",
    "\n",
    "fig, axs = plt.subplots(1, 1, figsize=(10, 5))\n",
    "\n",
    "axs.scatter(x, y, label='Real Data', color='green')\n",
    "axs.plot(sorted_x, hw1_predicted, label='HW1-Prediction')\n",
    "axs.plot(sorted_x, hw5_predicted, label='HW5-Prediction')\n",
    "\n",
    "axs.set_title('Comparing HW1 and HW5 Solution to Data')\n",
    "axs.set_xlabel('x')\n",
    "axs.set_ylabel('y')\n",
    "\n",
    "fig.legend()\n"
   ]
  },
  {
   "cell_type": "markdown",
   "id": "8e19f850",
   "metadata": {},
   "source": [
    "## Not only does the genetic algorithm take significantly longer than the the polyfit function to train-- it also does not perform as well."
   ]
  },
  {
   "cell_type": "code",
   "execution_count": null,
   "id": "0b9e1ade",
   "metadata": {},
   "outputs": [],
   "source": []
  }
 ],
 "metadata": {
  "kernelspec": {
   "display_name": "Python 3 (ipykernel)",
   "language": "python",
   "name": "python3"
  },
  "language_info": {
   "codemirror_mode": {
    "name": "ipython",
    "version": 3
   },
   "file_extension": ".py",
   "mimetype": "text/x-python",
   "name": "python",
   "nbconvert_exporter": "python",
   "pygments_lexer": "ipython3",
   "version": "3.11.0"
  }
 },
 "nbformat": 4,
 "nbformat_minor": 5
}
