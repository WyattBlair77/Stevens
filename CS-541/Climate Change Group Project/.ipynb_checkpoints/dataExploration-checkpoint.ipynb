{
 "cells": [
  {
   "cell_type": "code",
   "execution_count": 6,
   "id": "e796ddd4",
   "metadata": {},
   "outputs": [],
   "source": [
    "# ! pip install geopandas\n",
    "# ! pip install pandas"
   ]
  },
  {
   "cell_type": "code",
   "execution_count": 8,
   "id": "fabc5e07",
   "metadata": {},
   "outputs": [],
   "source": [
    "import pandas as pd\n",
    "import geopandas as gpd\n",
    "import os"
   ]
  },
  {
   "cell_type": "code",
   "execution_count": 9,
   "id": "f59849ba",
   "metadata": {},
   "outputs": [],
   "source": [
    "data_path = './data/'\n",
    "\n",
    "temp_by_city_filename = 'GlobalLandTemperaturesByCity.csv'\n",
    "temp_by_country_filename = 'GlobalLandTemperaturesByCity.csv'\n",
    "temp_by_major_city_filename = 'GlobalLandTemperaturesByCity.csv'\n",
    "temp_by_state_filename = 'GlobalLandTemperaturesByCity.csv'\n",
    "temp_filename = 'GlobalLandTemperaturesByCity.csv'\n",
    "\n",
    "carbon_emissions_filename = 'MER_T12_06.csv'\n",
    "\n"
   ]
  }
 ],
 "metadata": {
  "kernelspec": {
   "display_name": "Python 3 (ipykernel)",
   "language": "python",
   "name": "python3"
  },
  "language_info": {
   "codemirror_mode": {
    "name": "ipython",
    "version": 3
   },
   "file_extension": ".py",
   "mimetype": "text/x-python",
   "name": "python",
   "nbconvert_exporter": "python",
   "pygments_lexer": "ipython3",
   "version": "3.11.0"
  }
 },
 "nbformat": 4,
 "nbformat_minor": 5
}
