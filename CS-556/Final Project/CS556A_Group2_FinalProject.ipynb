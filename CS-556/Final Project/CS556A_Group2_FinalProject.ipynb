{
 "cells": [
  {
   "cell_type": "markdown",
   "id": "EgqV9d4wlMbk",
   "metadata": {
    "id": "EgqV9d4wlMbk"
   },
   "source": [
    "# Final Project - Titanic Classification Problem\n",
    "### Authors: Daniel Diner, Wyatt Blair, Craig Nathan, Marques White\n",
    "###### CS 556-A | Group 2 | Spring 2023\n",
    "\n",
    "\n",
    "---"
   ]
  },
  {
   "cell_type": "markdown",
   "id": "LNwHbLK4lAEm",
   "metadata": {
    "id": "LNwHbLK4lAEm"
   },
   "source": [
    "# Q2. Classification with Logistic Regression and SVM\n",
    "\n",
    "For this project we will be working with the [Titanic Data Set from Kaggle](https://www.kaggle.com/c/titanic). We'll be trying to predict a classification- survival or deceased.\n",
    "\n",
    " - Variable Name -  Variable Description \n",
    " - PassengerID - Passenger ID          \n",
    " - Survived - Survival (0 = No;1 = Yes)\n",
    " - Pclass - Passenger Class (1 = 1st; 2 = 2nd; 3 = 3rd)|\n",
    " - Name\t- Name\n",
    " - Sex - Sex\n",
    " - Age - Age\n",
    " - SibSp - Number of Siblings/Spouses Aboard\n",
    " - Parch - Number of Parents/Children Aboard\n",
    " - Ticket - Ticket Number \n",
    " - Fare - Passenger Fare\n",
    " - Cabin - Cabin \n",
    " - Embarked - Port of Embarkation (C = Cherbourg; Q = Queenstown; S = Southampton)|\n",
    "\n",
    "## Import Libraries\n",
    "Import all necessary libraries\n"
   ]
  },
  {
   "cell_type": "code",
   "execution_count": 53,
   "id": "0D2TyLyplAEn",
   "metadata": {
    "id": "0D2TyLyplAEn",
    "tags": []
   },
   "outputs": [],
   "source": [
    "import pandas as pd \n",
    "import matplotlib.pyplot as plt\n",
    "import seaborn as sns\n",
    "\n",
    "from sklearn.model_selection import train_test_split\n",
    "from sklearn.linear_model import LogisticRegression\n",
    "from sklearn.svm import SVC\n",
    "\n",
    "from sklearn.metrics import confusion_matrix\n",
    "from sklearn.metrics import classification_report\n",
    "from sklearn.metrics import accuracy_score\n",
    "from sklearn.metrics import precision_recall_fscore_support\n",
    "from sklearn.metrics import roc_curve, auc,precision_recall_curve\n",
    "\n",
    "from sklearn.pipeline import Pipeline\n",
    "from sklearn.preprocessing import MinMaxScaler\n",
    "from sklearn.calibration import CalibrationDisplay\n",
    "\n",
    "import numpy as np"
   ]
  },
  {
   "cell_type": "markdown",
   "id": "EkOMoWf4lAEo",
   "metadata": {
    "id": "EkOMoWf4lAEo"
   },
   "source": [
    "Our target variable will be Survived.  Use the rest of the fields mentioned above to predict whether a passenger survived the Titanic shipwreck."
   ]
  },
  {
   "cell_type": "markdown",
   "id": "iK6HsOeplAEo",
   "metadata": {
    "id": "iK6HsOeplAEo"
   },
   "source": [
    "### b.\tData Loading / Preprocessing (__Each of us do this individually - will compare at the end__)\n",
    "#### i.\tLoading\n",
    "1. Load the data <df_train.csv> and <df_test.csv> as a pandas dataframe using the ‘pandas.read_csv’ function. The ‘df_test.csv’ has been preprocessed (I.e., null values have been dropped, certain columns etc. have been dropped) and should not be changed apart from splitting the the dataframe into X_test and y_test.  The ‘df_train’ data has NOT been preprocessed and you will need to preprocess and prepare the ‘df_train’ dataframe. Note: Neither df_train nor df_test have been scaled.  The next few steps will enumerate data preprocessing, scaling requirements we need to perform."
   ]
  },
  {
   "cell_type": "code",
   "execution_count": 54,
   "id": "6JvIqKorlAEo",
   "metadata": {
    "colab": {
     "base_uri": "https://localhost:8080/"
    },
    "id": "6JvIqKorlAEo",
    "outputId": "29393a23-1485-424d-9d56-9862ea00c193"
   },
   "outputs": [],
   "source": [
    "import os\n",
    "\n",
    "# Set the project directory correctly for colab and jupyter environments\n",
    "try:\n",
    "    from google.colab import drive\n",
    "    drive.mount('/content/drive')\n",
    "    PROJECT_DIR = '/content/drive/MyDrive/CS-556-Final-Project/' # Google Drive project directory\n",
    "except ImportError:\n",
    "    PROJECT_DIR = os.getcwd() # Jupyter Notebook project directory\n",
    "\n",
    "# Set the data directory\n",
    "data_dir = os.path.join(PROJECT_DIR, 'data/')"
   ]
  },
  {
   "cell_type": "code",
   "execution_count": 55,
   "id": "eVySwZG2mYDQ",
   "metadata": {
    "id": "eVySwZG2mYDQ"
   },
   "outputs": [],
   "source": [
    "# Load data\n",
    "df_train = pd.read_csv(data_dir + 'df_train.csv')\n",
    "df_test = pd.read_csv(data_dir + 'df_test.csv')"
   ]
  },
  {
   "cell_type": "markdown",
   "id": "arogL3eplAEo",
   "metadata": {
    "id": "arogL3eplAEo"
   },
   "source": [
    "2. The resulting dataframe (I.e., df_train) should have the shape (712,12) indicating that there are 712 instances and 12 columns."
   ]
  },
  {
   "cell_type": "code",
   "execution_count": 56,
   "id": "537faa64",
   "metadata": {},
   "outputs": [
    {
     "data": {
      "text/plain": [
       "(712, 12)"
      ]
     },
     "execution_count": 56,
     "metadata": {},
     "output_type": "execute_result"
    }
   ],
   "source": [
    "df_train.shape"
   ]
  },
  {
   "cell_type": "code",
   "execution_count": 57,
   "id": "c764a636",
   "metadata": {},
   "outputs": [
    {
     "data": {
      "text/html": [
       "<div>\n",
       "<style scoped>\n",
       "    .dataframe tbody tr th:only-of-type {\n",
       "        vertical-align: middle;\n",
       "    }\n",
       "\n",
       "    .dataframe tbody tr th {\n",
       "        vertical-align: top;\n",
       "    }\n",
       "\n",
       "    .dataframe thead th {\n",
       "        text-align: right;\n",
       "    }\n",
       "</style>\n",
       "<table border=\"1\" class=\"dataframe\">\n",
       "  <thead>\n",
       "    <tr style=\"text-align: right;\">\n",
       "      <th></th>\n",
       "      <th>PassengerId</th>\n",
       "      <th>Pclass</th>\n",
       "      <th>Name</th>\n",
       "      <th>Sex</th>\n",
       "      <th>Age</th>\n",
       "      <th>SibSp</th>\n",
       "      <th>Parch</th>\n",
       "      <th>Ticket</th>\n",
       "      <th>Fare</th>\n",
       "      <th>Cabin</th>\n",
       "      <th>Embarked</th>\n",
       "      <th>Survived</th>\n",
       "    </tr>\n",
       "  </thead>\n",
       "  <tbody>\n",
       "    <tr>\n",
       "      <th>0</th>\n",
       "      <td>299</td>\n",
       "      <td>1</td>\n",
       "      <td>Saalfeld, Mr. Adolphe</td>\n",
       "      <td>male</td>\n",
       "      <td>NaN</td>\n",
       "      <td>0</td>\n",
       "      <td>0</td>\n",
       "      <td>19988</td>\n",
       "      <td>30.5000</td>\n",
       "      <td>C106</td>\n",
       "      <td>S</td>\n",
       "      <td>1</td>\n",
       "    </tr>\n",
       "    <tr>\n",
       "      <th>1</th>\n",
       "      <td>9</td>\n",
       "      <td>3</td>\n",
       "      <td>Johnson, Mrs. Oscar W (Elisabeth Vilhelmina Berg)</td>\n",
       "      <td>female</td>\n",
       "      <td>27.0</td>\n",
       "      <td>0</td>\n",
       "      <td>2</td>\n",
       "      <td>347742</td>\n",
       "      <td>11.1333</td>\n",
       "      <td>NaN</td>\n",
       "      <td>S</td>\n",
       "      <td>1</td>\n",
       "    </tr>\n",
       "    <tr>\n",
       "      <th>2</th>\n",
       "      <td>414</td>\n",
       "      <td>2</td>\n",
       "      <td>Cunningham, Mr. Alfred Fleming</td>\n",
       "      <td>male</td>\n",
       "      <td>NaN</td>\n",
       "      <td>0</td>\n",
       "      <td>0</td>\n",
       "      <td>239853</td>\n",
       "      <td>0.0000</td>\n",
       "      <td>NaN</td>\n",
       "      <td>S</td>\n",
       "      <td>0</td>\n",
       "    </tr>\n",
       "    <tr>\n",
       "      <th>3</th>\n",
       "      <td>542</td>\n",
       "      <td>3</td>\n",
       "      <td>Andersson, Miss. Ingeborg Constanzia</td>\n",
       "      <td>female</td>\n",
       "      <td>9.0</td>\n",
       "      <td>4</td>\n",
       "      <td>2</td>\n",
       "      <td>347082</td>\n",
       "      <td>31.2750</td>\n",
       "      <td>NaN</td>\n",
       "      <td>S</td>\n",
       "      <td>0</td>\n",
       "    </tr>\n",
       "    <tr>\n",
       "      <th>4</th>\n",
       "      <td>557</td>\n",
       "      <td>1</td>\n",
       "      <td>Duff Gordon, Lady. (Lucille Christiana Sutherl...</td>\n",
       "      <td>female</td>\n",
       "      <td>48.0</td>\n",
       "      <td>1</td>\n",
       "      <td>0</td>\n",
       "      <td>11755</td>\n",
       "      <td>39.6000</td>\n",
       "      <td>A16</td>\n",
       "      <td>C</td>\n",
       "      <td>1</td>\n",
       "    </tr>\n",
       "  </tbody>\n",
       "</table>\n",
       "</div>"
      ],
      "text/plain": [
       "   PassengerId  Pclass                                               Name   \n",
       "0          299       1                              Saalfeld, Mr. Adolphe  \\\n",
       "1            9       3  Johnson, Mrs. Oscar W (Elisabeth Vilhelmina Berg)   \n",
       "2          414       2                     Cunningham, Mr. Alfred Fleming   \n",
       "3          542       3               Andersson, Miss. Ingeborg Constanzia   \n",
       "4          557       1  Duff Gordon, Lady. (Lucille Christiana Sutherl...   \n",
       "\n",
       "      Sex   Age  SibSp  Parch  Ticket     Fare Cabin Embarked  Survived  \n",
       "0    male   NaN      0      0   19988  30.5000  C106        S         1  \n",
       "1  female  27.0      0      2  347742  11.1333   NaN        S         1  \n",
       "2    male   NaN      0      0  239853   0.0000   NaN        S         0  \n",
       "3  female   9.0      4      2  347082  31.2750   NaN        S         0  \n",
       "4  female  48.0      1      0   11755  39.6000   A16        C         1  "
      ]
     },
     "execution_count": 57,
     "metadata": {},
     "output_type": "execute_result"
    }
   ],
   "source": [
    "df_train.head(5)"
   ]
  },
  {
   "cell_type": "markdown",
   "id": "MS5OHARElAEo",
   "metadata": {
    "id": "MS5OHARElAEo"
   },
   "source": [
    "3. In df_train, dataframe, currently you have 12 columns which are the following – PassengerID, Pclass, Name, Sex, Age, SibSp, Parch, Ticket, Fare, Cabin, Embarked and the Survived column (target variable)."
   ]
  },
  {
   "cell_type": "code",
   "execution_count": 58,
   "id": "DiPGY0KAlAEp",
   "metadata": {
    "id": "DiPGY0KAlAEp"
   },
   "outputs": [
    {
     "data": {
      "text/plain": [
       "['PassengerId',\n",
       " 'Pclass',\n",
       " 'Name',\n",
       " 'Sex',\n",
       " 'Age',\n",
       " 'SibSp',\n",
       " 'Parch',\n",
       " 'Ticket',\n",
       " 'Fare',\n",
       " 'Cabin',\n",
       " 'Embarked',\n",
       " 'Survived']"
      ]
     },
     "execution_count": 58,
     "metadata": {},
     "output_type": "execute_result"
    }
   ],
   "source": [
    "df_train.columns.to_list()"
   ]
  },
  {
   "cell_type": "markdown",
   "id": "2NNo9m5HlAEp",
   "metadata": {
    "id": "2NNo9m5HlAEp"
   },
   "source": [
    "4. Use the ‘pandas.isnull().sum()’ function check if there are any missing values in the df_train dataframe. Report which columns have missing (i.e., null) values and provide the number of the null values in the columns."
   ]
  },
  {
   "cell_type": "code",
   "execution_count": 59,
   "id": "GcHAbXNGlAEp",
   "metadata": {
    "id": "GcHAbXNGlAEp"
   },
   "outputs": [
    {
     "data": {
      "text/plain": [
       "PassengerId      0\n",
       "Pclass           0\n",
       "Name             0\n",
       "Sex              0\n",
       "Age            138\n",
       "SibSp            0\n",
       "Parch            0\n",
       "Ticket           0\n",
       "Fare             0\n",
       "Cabin          541\n",
       "Embarked         2\n",
       "Survived         0\n",
       "dtype: int64"
      ]
     },
     "execution_count": 59,
     "metadata": {},
     "output_type": "execute_result"
    }
   ],
   "source": [
    "df_train.isnull().sum()"
   ]
  },
  {
   "cell_type": "markdown",
   "id": "X_3Yu6dJlAEp",
   "metadata": {
    "id": "X_3Yu6dJlAEp"
   },
   "source": [
    "5. Use the ‘pandas.DataFrame.drop()’ function to drop the ‘Cabin’, ‘PassengerID’, ‘Name’ and ‘Ticket’ columns. "
   ]
  },
  {
   "cell_type": "code",
   "execution_count": 60,
   "id": "aB0SeivflAEp",
   "metadata": {
    "id": "aB0SeivflAEp"
   },
   "outputs": [],
   "source": [
    "df_train = df_train.drop(['Cabin', 'PassengerId', 'Name', 'Ticket'], axis=1)"
   ]
  },
  {
   "cell_type": "markdown",
   "id": "iWhrv8q-lAEp",
   "metadata": {
    "id": "iWhrv8q-lAEp"
   },
   "source": [
    "6. Use the ‘pandas.DataFrame.fillna()’ function to replace the NA values in the ‘Age’ column with the mean value of the ‘Age’ column. Note: This process is called `imputation` (i.e., filling null values with a pre-specified value) and we are employing one strategy called mean imputation, but other strategies can also be employed in general.  \n",
    "Use the ‘dropna()’ function to drop any remaining rows that consist of NA values."
   ]
  },
  {
   "cell_type": "code",
   "execution_count": 61,
   "id": "r65zkKfSlAEp",
   "metadata": {
    "id": "r65zkKfSlAEp"
   },
   "outputs": [],
   "source": [
    "mean_age = df_train.Age.mean()\n",
    "df_train = df_train.fillna(value=mean_age)\n",
    "\n",
    "df_train = df_train.dropna(axis=0)"
   ]
  },
  {
   "cell_type": "markdown",
   "id": "EK4lc1ndlAEp",
   "metadata": {
    "id": "EK4lc1ndlAEp"
   },
   "source": [
    "7. Your task is to use the feature columns to predict the target column. This can be cast as a classification problem.  \n",
    "8. Create a pandas dataframe X_train of features (by dropping the ‘Survival’ column from the df_train dataframe). Create a pandas Series object of targets y_train (by only considering the ‘Survival’ column from the df_train dataframe). Moving forward, we will be working with X_train and y_train. At this point also split the df_test into X_test and y_test by dropping the ‘Survival’ column and storing the features into X_test. Store the ‘Survival’ column in y_test."
   ]
  },
  {
   "cell_type": "code",
   "execution_count": 62,
   "id": "NcNT6muZlAEp",
   "metadata": {
    "id": "NcNT6muZlAEp"
   },
   "outputs": [],
   "source": [
    "target = 'Survived'\n",
    "\n",
    "X_train, y_train = df_train.drop([target], axis=1), df_train[target]\n",
    "X_test, y_test = df_test.drop([target], axis=1), df_test[target]"
   ]
  },
  {
   "cell_type": "markdown",
   "id": "3Z7e7jCPlAEp",
   "metadata": {
    "id": "3Z7e7jCPlAEp"
   },
   "source": [
    "#### ii. Data Visualization\n",
    "\n",
    "1. Using matplotlib employ a scatter plot using ‘matplotlib.pyplot.scatter’ between the age of the passengers and the price of their fare. Label the x-axis and the y-axis along with the giving the plot a title."
   ]
  },
  {
   "cell_type": "code",
   "execution_count": 63,
   "id": "WBy1RPOIlAEp",
   "metadata": {
    "id": "WBy1RPOIlAEp"
   },
   "outputs": [],
   "source": [
    "def plot_age_and_fare(dataset):\n",
    "    \n",
    "    x_values = dataset.Age\n",
    "    y_values = dataset.Fare\n",
    "    \n",
    "    fig, axs = plt.subplots(1,1, figsize=(5, 5))\n",
    "    axs.scatter(x_values, y_values)\n",
    "    \n",
    "    axs.set_xlabel('Age')\n",
    "    axs.set_ylabel('Fare')\n",
    "    axs.set_title('Age and Fare of Titanic Passangers')\n",
    "    \n",
    "    axs.grid()\n",
    "    \n",
    "    plt.show()"
   ]
  },
  {
   "cell_type": "code",
   "execution_count": 64,
   "id": "21b1f669",
   "metadata": {},
   "outputs": [],
   "source": [
    "full_dataset = pd.concat([df_train, df_test])"
   ]
  },
  {
   "cell_type": "code",
   "execution_count": 65,
   "id": "58df65f4",
   "metadata": {},
   "outputs": [
    {
     "data": {
      "image/png": "[encoded data removed]",
      "text/plain": [
       "<Figure size 500x500 with 1 Axes>"
      ]
     },
     "metadata": {},
     "output_type": "display_data"
    }
   ],
   "source": [
    "plot_age_and_fare(full_dataset)"
   ]
  },
  {
   "cell_type": "markdown",
   "id": "mQIqWnWolAEp",
   "metadata": {
    "id": "mQIqWnWolAEp"
   },
   "source": [
    "2. **Only for this question** use the df_train dataframe. Using matplotlib visualize the number of males and females that survived and their respective passenger classes on two separate bar chart plots using ‘matplotlib.pyplot.bar’ (Passenger Class column). "
   ]
  },
  {
   "cell_type": "code",
   "execution_count": 66,
   "id": "hiw5dPwrlAEq",
   "metadata": {
    "id": "hiw5dPwrlAEq"
   },
   "outputs": [],
   "source": [
    "def plot_survivors_by_gender(dataset):\n",
    "    \n",
    "    male_data = dataset[dataset.Sex == 'male']\n",
    "    female_data = dataset[dataset.Sex == 'female']\n",
    "    \n",
    "    male_survival = male_data.Survived.value_counts()\n",
    "    female_survival = female_data.Survived.value_counts()\n",
    "    \n",
    "    num_male_survivors = male_survival[1]\n",
    "    num_female_survivors = female_survival[1]  \n",
    "    \n",
    "    fig, axs = plt.subplots(1, 1, figsize=(5, 5))\n",
    "    axs.bar(['Female', 'Male'], [num_female_survivors, num_male_survivors])\n",
    "    \n",
    "    axs.set_xlabel('Gender')\n",
    "    axs.set_ylabel('Number of Survivors')\n",
    "    axs.set_title('Titanic Survivors by Gender')\n",
    "    \n",
    "    plt.show()"
   ]
  },
  {
   "cell_type": "code",
   "execution_count": 67,
   "id": "8f91df3c",
   "metadata": {},
   "outputs": [
    {
     "data": {
      "image/png": "[encoded data removed]",
      "text/plain": [
       "<Figure size 500x500 with 1 Axes>"
      ]
     },
     "metadata": {},
     "output_type": "display_data"
    }
   ],
   "source": [
    "plot_survivors_by_gender(df_train)"
   ]
  },
  {
   "cell_type": "markdown",
   "id": "avtafzY6lAEq",
   "metadata": {
    "id": "avtafzY6lAEq"
   },
   "source": [
    "3. Using the Target variable (Survived) in y_train plot a bar chart showing the distribution of the ‘Survived’ column. "
   ]
  },
  {
   "cell_type": "code",
   "execution_count": 68,
   "id": "zCtznxtklAEq",
   "metadata": {
    "id": "zCtznxtklAEq"
   },
   "outputs": [],
   "source": [
    "def plot_survival(dataset):\n",
    "    \n",
    "    survival_counts = dataset.Survived.value_counts()\n",
    "    \n",
    "    num_survived, num_perished = survival_counts[1], survival_counts[0]\n",
    "    \n",
    "    fig, axs = plt.subplots(1, 1, figsize=(5, 5))\n",
    "    axs.bar(['Survived', 'Perished'], [num_survived, num_perished])\n",
    "    \n",
    "    axs.set_xlabel('Survival')\n",
    "    axs.set_ylabel('Number of People')\n",
    "    axs.set_title('Survival Rates of Individuals on the Titanic')\n",
    "    \n",
    "    plt.show()"
   ]
  },
  {
   "cell_type": "code",
   "execution_count": 69,
   "id": "5b71204d",
   "metadata": {},
   "outputs": [
    {
     "data": {
      "image/png": "[encoded data removed]",
      "text/plain": [
       "<Figure size 500x500 with 1 Axes>"
      ]
     },
     "metadata": {},
     "output_type": "display_data"
    }
   ],
   "source": [
    "plot_survival(df_train)"
   ]
  },
  {
   "cell_type": "markdown",
   "id": "fUOmNeLPlAEq",
   "metadata": {
    "id": "fUOmNeLPlAEq"
   },
   "source": [
    "4. So far you should have successfully been able to load, preprocess and visualize your data. Use the ‘pd.get_dummies()’ function to convert categorical data into dummy variables (‘Sex’ and ‘Embarked’). Make sure to pass `drop_first=True` to the `get_dummies()` function. (Perform this only on X_train store the result back into X_train). "
   ]
  },
  {
   "cell_type": "code",
   "execution_count": 70,
   "id": "mlu_MnIvlAEq",
   "metadata": {
    "id": "mlu_MnIvlAEq"
   },
   "outputs": [],
   "source": [
    "X_train['Sex'] = pd.get_dummies(X_train.Sex, drop_first=True).astype(int)"
   ]
  },
  {
   "cell_type": "code",
   "execution_count": 71,
   "id": "3bae6658",
   "metadata": {},
   "outputs": [],
   "source": [
    "X_train[['Embarked-C', 'Embarked-Q', 'Embarked-S']] = pd.get_dummies(X_train.Embarked, drop_first=True).astype(int)\n",
    "X_train = X_train.drop(['Embarked'], axis=1)"
   ]
  },
  {
   "cell_type": "code",
   "execution_count": 72,
   "id": "d95f4e57",
   "metadata": {},
   "outputs": [
    {
     "data": {
      "text/html": [
       "<div>\n",
       "<style scoped>\n",
       "    .dataframe tbody tr th:only-of-type {\n",
       "        vertical-align: middle;\n",
       "    }\n",
       "\n",
       "    .dataframe tbody tr th {\n",
       "        vertical-align: top;\n",
       "    }\n",
       "\n",
       "    .dataframe thead th {\n",
       "        text-align: right;\n",
       "    }\n",
       "</style>\n",
       "<table border=\"1\" class=\"dataframe\">\n",
       "  <thead>\n",
       "    <tr style=\"text-align: right;\">\n",
       "      <th></th>\n",
       "      <th>Pclass</th>\n",
       "      <th>Sex</th>\n",
       "      <th>Age</th>\n",
       "      <th>SibSp</th>\n",
       "      <th>Parch</th>\n",
       "      <th>Fare</th>\n",
       "      <th>Embarked-C</th>\n",
       "      <th>Embarked-Q</th>\n",
       "      <th>Embarked-S</th>\n",
       "    </tr>\n",
       "  </thead>\n",
       "  <tbody>\n",
       "    <tr>\n",
       "      <th>0</th>\n",
       "      <td>1</td>\n",
       "      <td>1</td>\n",
       "      <td>29.811847</td>\n",
       "      <td>0</td>\n",
       "      <td>0</td>\n",
       "      <td>30.5000</td>\n",
       "      <td>0</td>\n",
       "      <td>0</td>\n",
       "      <td>1</td>\n",
       "    </tr>\n",
       "    <tr>\n",
       "      <th>1</th>\n",
       "      <td>3</td>\n",
       "      <td>0</td>\n",
       "      <td>27.000000</td>\n",
       "      <td>0</td>\n",
       "      <td>2</td>\n",
       "      <td>11.1333</td>\n",
       "      <td>0</td>\n",
       "      <td>0</td>\n",
       "      <td>1</td>\n",
       "    </tr>\n",
       "    <tr>\n",
       "      <th>2</th>\n",
       "      <td>2</td>\n",
       "      <td>1</td>\n",
       "      <td>29.811847</td>\n",
       "      <td>0</td>\n",
       "      <td>0</td>\n",
       "      <td>0.0000</td>\n",
       "      <td>0</td>\n",
       "      <td>0</td>\n",
       "      <td>1</td>\n",
       "    </tr>\n",
       "    <tr>\n",
       "      <th>3</th>\n",
       "      <td>3</td>\n",
       "      <td>0</td>\n",
       "      <td>9.000000</td>\n",
       "      <td>4</td>\n",
       "      <td>2</td>\n",
       "      <td>31.2750</td>\n",
       "      <td>0</td>\n",
       "      <td>0</td>\n",
       "      <td>1</td>\n",
       "    </tr>\n",
       "    <tr>\n",
       "      <th>4</th>\n",
       "      <td>1</td>\n",
       "      <td>0</td>\n",
       "      <td>48.000000</td>\n",
       "      <td>1</td>\n",
       "      <td>0</td>\n",
       "      <td>39.6000</td>\n",
       "      <td>1</td>\n",
       "      <td>0</td>\n",
       "      <td>0</td>\n",
       "    </tr>\n",
       "  </tbody>\n",
       "</table>\n",
       "</div>"
      ],
      "text/plain": [
       "   Pclass  Sex        Age  SibSp  Parch     Fare  Embarked-C  Embarked-Q   \n",
       "0       1    1  29.811847      0      0  30.5000           0           0  \\\n",
       "1       3    0  27.000000      0      2  11.1333           0           0   \n",
       "2       2    1  29.811847      0      0   0.0000           0           0   \n",
       "3       3    0   9.000000      4      2  31.2750           0           0   \n",
       "4       1    0  48.000000      1      0  39.6000           1           0   \n",
       "\n",
       "   Embarked-S  \n",
       "0           1  \n",
       "1           1  \n",
       "2           1  \n",
       "3           1  \n",
       "4           0  "
      ]
     },
     "execution_count": 72,
     "metadata": {},
     "output_type": "execute_result"
    }
   ],
   "source": [
    "X_train.head(5)"
   ]
  },
  {
   "cell_type": "markdown",
   "id": "ypQleffIlAEq",
   "metadata": {
    "id": "ypQleffIlAEq"
   },
   "source": [
    "#### iii. Data Scaling\n",
    "\n",
    "1. Employ X_train and MinMaxScaler only on the continuous attributes. Employ the ‘fit_transform()’ function of the scaler to retrieve the new (scaled) version of the data. Store the scaled values in X_train again. "
   ]
  },
  {
   "cell_type": "code",
   "execution_count": 74,
   "id": "O8ZOhaL4lAEq",
   "metadata": {
    "id": "O8ZOhaL4lAEq"
   },
   "outputs": [],
   "source": [
    "continuous_vars = ['Age', 'Fare']\n",
    "scaler = MinMaxScaler()\n",
    "\n",
    "X_train_continuous = X_train[continuous_vars]\n",
    "scaler.fit(X_train_continuous)\n",
    "\n",
    "X_train_continuous_normalized = scaler.transform(X_train_continuous)\n",
    "X_train[continuous_vars] = X_train_continuous_normalized"
   ]
  },
  {
   "cell_type": "code",
   "execution_count": 75,
   "id": "a70e76bb",
   "metadata": {},
   "outputs": [
    {
     "data": {
      "text/html": [
       "<div>\n",
       "<style scoped>\n",
       "    .dataframe tbody tr th:only-of-type {\n",
       "        vertical-align: middle;\n",
       "    }\n",
       "\n",
       "    .dataframe tbody tr th {\n",
       "        vertical-align: top;\n",
       "    }\n",
       "\n",
       "    .dataframe thead th {\n",
       "        text-align: right;\n",
       "    }\n",
       "</style>\n",
       "<table border=\"1\" class=\"dataframe\">\n",
       "  <thead>\n",
       "    <tr style=\"text-align: right;\">\n",
       "      <th></th>\n",
       "      <th>Pclass</th>\n",
       "      <th>Sex</th>\n",
       "      <th>Age</th>\n",
       "      <th>SibSp</th>\n",
       "      <th>Parch</th>\n",
       "      <th>Fare</th>\n",
       "      <th>Embarked-C</th>\n",
       "      <th>Embarked-Q</th>\n",
       "      <th>Embarked-S</th>\n",
       "    </tr>\n",
       "  </thead>\n",
       "  <tbody>\n",
       "    <tr>\n",
       "      <th>0</th>\n",
       "      <td>1</td>\n",
       "      <td>1</td>\n",
       "      <td>0.369337</td>\n",
       "      <td>0</td>\n",
       "      <td>0</td>\n",
       "      <td>0.059532</td>\n",
       "      <td>0</td>\n",
       "      <td>0</td>\n",
       "      <td>1</td>\n",
       "    </tr>\n",
       "    <tr>\n",
       "      <th>1</th>\n",
       "      <td>3</td>\n",
       "      <td>0</td>\n",
       "      <td>0.334004</td>\n",
       "      <td>0</td>\n",
       "      <td>2</td>\n",
       "      <td>0.021731</td>\n",
       "      <td>0</td>\n",
       "      <td>0</td>\n",
       "      <td>1</td>\n",
       "    </tr>\n",
       "    <tr>\n",
       "      <th>2</th>\n",
       "      <td>2</td>\n",
       "      <td>1</td>\n",
       "      <td>0.369337</td>\n",
       "      <td>0</td>\n",
       "      <td>0</td>\n",
       "      <td>0.000000</td>\n",
       "      <td>0</td>\n",
       "      <td>0</td>\n",
       "      <td>1</td>\n",
       "    </tr>\n",
       "    <tr>\n",
       "      <th>3</th>\n",
       "      <td>3</td>\n",
       "      <td>0</td>\n",
       "      <td>0.107816</td>\n",
       "      <td>4</td>\n",
       "      <td>2</td>\n",
       "      <td>0.061045</td>\n",
       "      <td>0</td>\n",
       "      <td>0</td>\n",
       "      <td>1</td>\n",
       "    </tr>\n",
       "    <tr>\n",
       "      <th>4</th>\n",
       "      <td>1</td>\n",
       "      <td>0</td>\n",
       "      <td>0.597889</td>\n",
       "      <td>1</td>\n",
       "      <td>0</td>\n",
       "      <td>0.077294</td>\n",
       "      <td>1</td>\n",
       "      <td>0</td>\n",
       "      <td>0</td>\n",
       "    </tr>\n",
       "  </tbody>\n",
       "</table>\n",
       "</div>"
      ],
      "text/plain": [
       "   Pclass  Sex       Age  SibSp  Parch      Fare  Embarked-C  Embarked-Q   \n",
       "0       1    1  0.369337      0      0  0.059532           0           0  \\\n",
       "1       3    0  0.334004      0      2  0.021731           0           0   \n",
       "2       2    1  0.369337      0      0  0.000000           0           0   \n",
       "3       3    0  0.107816      4      2  0.061045           0           0   \n",
       "4       1    0  0.597889      1      0  0.077294           1           0   \n",
       "\n",
       "   Embarked-S  \n",
       "0           1  \n",
       "1           1  \n",
       "2           1  \n",
       "3           1  \n",
       "4           0  "
      ]
     },
     "execution_count": 75,
     "metadata": {},
     "output_type": "execute_result"
    }
   ],
   "source": [
    "X_train.head(5)"
   ]
  },
  {
   "cell_type": "markdown",
   "id": "_RLewJUDlAEq",
   "metadata": {
    "id": "_RLewJUDlAEq"
   },
   "source": [
    "2. Scale the X_test using the scaler you have just fit, this time using the `transform()` function. Note: store the scaled values back into X_test.  At the end of this step, you must have X_train, X_test, all scaled according to the MinMaxScaler."
   ]
  },
  {
   "cell_type": "code",
   "execution_count": 76,
   "id": "1_9s4EwWlAEq",
   "metadata": {
    "id": "1_9s4EwWlAEq"
   },
   "outputs": [],
   "source": [
    "X_test_continuous_normalized = scaler.transform(X_test[continuous_vars])\n",
    "X_test[continuous_vars] = X_test_continuous_normalized"
   ]
  },
  {
   "cell_type": "markdown",
   "id": "ntGkxpE9lAEq",
   "metadata": {
    "id": "ntGkxpE9lAEq",
    "tags": []
   },
   "source": [
    "### c. Modelling\n",
    "\n",
    "#### i. (<u>__Daniel__</u>) Modelling (Model Instantiation / Training) using Logistic Regression classifier\n",
    "\n",
    "1. Employ the Logistic Regression classifier from sklearn and instantiate the model. Label this model as ‘model_lr’  "
   ]
  },
  {
   "cell_type": "code",
   "execution_count": null,
   "id": "eKlStzlLlAEq",
   "metadata": {
    "id": "eKlStzlLlAEq"
   },
   "outputs": [],
   "source": []
  },
  {
   "cell_type": "markdown",
   "id": "fz9xNvBilAEq",
   "metadata": {
    "id": "fz9xNvBilAEq"
   },
   "source": [
    "2. Once instantiated, `fit()` the model using the scaled X_train, y_train data."
   ]
  },
  {
   "cell_type": "code",
   "execution_count": null,
   "id": "tskZ4wR9lAEq",
   "metadata": {
    "id": "tskZ4wR9lAEq"
   },
   "outputs": [],
   "source": []
  },
  {
   "cell_type": "markdown",
   "id": "xYZaA3H3lAEq",
   "metadata": {
    "id": "xYZaA3H3lAEq"
   },
   "source": [
    "3. Employ the `predict()` function to obtain predictions on X_test and store this in a variable labeled as ‘y_pred_lr’."
   ]
  },
  {
   "cell_type": "code",
   "execution_count": null,
   "id": "iG0Dlry4lAEq",
   "metadata": {
    "id": "iG0Dlry4lAEq"
   },
   "outputs": [],
   "source": []
  },
  {
   "cell_type": "markdown",
   "id": "70-cbqRglAEq",
   "metadata": {
    "id": "70-cbqRglAEq"
   },
   "source": [
    "4. Employ the ‘accuracy_score’ function by using the ‘y_pred_lr’ and ‘y_test’ variables as the functions parameters and print the accuracy of the Logistic Regression model. "
   ]
  },
  {
   "cell_type": "code",
   "execution_count": null,
   "id": "vOiQiR3QlAEq",
   "metadata": {
    "id": "vOiQiR3QlAEq"
   },
   "outputs": [],
   "source": []
  },
  {
   "cell_type": "markdown",
   "id": "Y2PNyfYUlAEq",
   "metadata": {
    "id": "Y2PNyfYUlAEq"
   },
   "source": [
    "#### ii. (<u>__Craig__</u>) Modelling (Model Instantiation / Training) using Support Vector Machine Classifier\n",
    "\n",
    "1. Employ the Support Vector Machine (SVM) classifier from sklearn () and instantiate the model. Make sure to set `probability=True` when creating the model. Label this model as ‘model_svm’"
   ]
  },
  {
   "cell_type": "code",
   "execution_count": null,
   "id": "bAQ1pMhFlAEq",
   "metadata": {
    "id": "bAQ1pMhFlAEq"
   },
   "outputs": [],
   "source": []
  },
  {
   "cell_type": "markdown",
   "id": "3_DrwZltlAEr",
   "metadata": {
    "id": "3_DrwZltlAEr"
   },
   "source": [
    "2. Once instantiated, ‘fit()’ the model using the scaled X_train, y_train data."
   ]
  },
  {
   "cell_type": "code",
   "execution_count": null,
   "id": "yTcvTpMglAEr",
   "metadata": {
    "id": "yTcvTpMglAEr"
   },
   "outputs": [],
   "source": []
  },
  {
   "cell_type": "markdown",
   "id": "Ct6eoEGglAEr",
   "metadata": {
    "id": "Ct6eoEGglAEr"
   },
   "source": [
    "3. Employ the `predict()` function to obtain predictions on X_test and store this in a variable labeled as ‘y_pred_lr’."
   ]
  },
  {
   "cell_type": "code",
   "execution_count": null,
   "id": "0oJFsVPelAEr",
   "metadata": {
    "id": "0oJFsVPelAEr"
   },
   "outputs": [],
   "source": []
  },
  {
   "cell_type": "markdown",
   "id": "f4OaUHv1lAEr",
   "metadata": {
    "id": "f4OaUHv1lAEr"
   },
   "source": [
    "4. Employ the ‘accuracy_score’ function by using the ‘y_pred_lr’ and ‘y_test’ variables as the functions parameters and print the accuracy of the Logistic Regression model. "
   ]
  },
  {
   "cell_type": "code",
   "execution_count": null,
   "id": "dU0b_UjmlAEr",
   "metadata": {
    "id": "dU0b_UjmlAEr"
   },
   "outputs": [],
   "source": []
  },
  {
   "cell_type": "markdown",
   "id": "ynUDW5GVlAEr",
   "metadata": {
    "id": "ynUDW5GVlAEr"
   },
   "source": [
    "#### iii. (<u>__Wyatt__</u>) Modelling Logistic Regression Classifier with the addition of noise on the target variable.\n",
    "\n",
    "In the data repository you should see three noisy datasets – `df_train_noise20`, `df_train_40`, `df_train_60`. These datasets have already been preprocessed. In each dataset `df_train_noise<integer>`, the integer indicates the percentage of noise injected into the target variable in that training set. The noise can be considered a result of incorrect class labelling of a particular instance. For example, in `df_train_noise20`, 20% of the instances have an incorrect target label in the training set. Our goal will be to train a set of classification models on such noisy training data and test on a clean test set (i.e., same as what we have been using so far `df_test`).\n",
    "\n",
    "Load the `df_train_noise<nl>` (nl means noise level and is a place holder for the integer percentage) datasets and split the data into `X_train_<nl>` and `y_train_<nl>` (e.g., if working with `df_train_noise20` we would split the data and store it in variables named `X_train_20`, `y_train_20`). `X_train_<nl>` should store the features and `y_train_<nl>` should store the target variable.\n",
    "\n",
    "**Repeat the following steps (1 – 4) for the 20%, 40%, 60% noise level datasets.**  \n",
    "Train a new Logistic Regression model on the new training and use the pre-existing `X_test` and `y_test` to evaluate your model. Label this model as `model_lr_noise_<nl>`. Specifically, do the following:\n",
    "1. Employ a new Logistic Regression classifier from sklearn and instantiate the model. Label this model as `model_lr_noise<nl>`\n",
    "2. Once instantiated, `fit()` the model using the `X_train_<nl>` and `y_train_<nl>` data.\n",
    "3. Employ the `predict()` function to obtain predictions on `X_test` and store this in a variable labeled as `y_pred_lr_noise<nl>`.\n",
    "4. Employ the `accuracy_score` function and print the accuracy of the new Logistic Regression model."
   ]
  },
  {
   "cell_type": "code",
   "execution_count": 118,
   "id": "LUornOMflAEr",
   "metadata": {
    "id": "LUornOMflAEr"
   },
   "outputs": [],
   "source": [
    "def train_model(noise_level):\n",
    "    \n",
    "    # Load Data\n",
    "    target = 'Survived'\n",
    "    train = pd.read_csv(f'./data/df_train_noise{noise_level}.csv')\n",
    "    test = pd.read_csv('./data/df_test.csv')\n",
    "    \n",
    "    X_train, y_train = train.drop(target, axis=1), train[target]\n",
    "    X_test, y_test = test.drop(target, axis=1), test[target]\n",
    "    \n",
    "    # 1) Employ a new Logistic Regression classifier from sklearn and instantiate the model\n",
    "    model = LogisticRegression(random_state=0)\n",
    "    \n",
    "    # 2) Once instantiated, fit() the model using the X_train_<nl> and y_train_<nl> data\n",
    "    model.fit(X_train, y_train)\n",
    "    \n",
    "    # 3) Employ the predict() function to obtain predictions on X_test and store this in a \n",
    "    #    variable labeled as y_pred_lr_noise<nl>    \n",
    "    y_pred = model.predict(X_test)\n",
    "    \n",
    "    # 4) Employ the accuracy_score function and print the accuracy of the new Logistic Regression model\n",
    "    acc = accuracy_score(y_test, y_pred)\n",
    "    \n",
    "    output = {\n",
    "        'model': model,\n",
    "        'predictions': y_pred,\n",
    "        'accuracy': acc\n",
    "    }\n",
    "    \n",
    "    print(f'Noise level-{noise_level}-Model Accuracy: {acc*100}%')\n",
    "    \n",
    "    return output"
   ]
  },
  {
   "cell_type": "code",
   "execution_count": 119,
   "id": "a1e58894",
   "metadata": {
    "scrolled": false
   },
   "outputs": [
    {
     "name": "stdout",
     "output_type": "stream",
     "text": [
      "Noise level-20-Model Accuracy: 68.71508379888269%\n"
     ]
    }
   ],
   "source": [
    "output_20 = train_model(20)"
   ]
  },
  {
   "cell_type": "code",
   "execution_count": 120,
   "id": "b2e6a492",
   "metadata": {
    "scrolled": false
   },
   "outputs": [
    {
     "name": "stdout",
     "output_type": "stream",
     "text": [
      "Noise level-40-Model Accuracy: 68.15642458100558%\n"
     ]
    }
   ],
   "source": [
    "output_20 = train_model(40)"
   ]
  },
  {
   "cell_type": "code",
   "execution_count": 121,
   "id": "5e123213",
   "metadata": {
    "scrolled": false
   },
   "outputs": [
    {
     "name": "stdout",
     "output_type": "stream",
     "text": [
      "Noise level-60-Model Accuracy: 30.726256983240223%\n"
     ]
    }
   ],
   "source": [
    "output_20 = train_model(60)"
   ]
  },
  {
   "cell_type": "code",
   "execution_count": null,
   "id": "f3dd603e",
   "metadata": {},
   "outputs": [],
   "source": []
  },
  {
   "cell_type": "markdown",
   "id": "HAy8izcslAEr",
   "metadata": {
    "id": "HAy8izcslAEr"
   },
   "source": [
    "#### iv. (<u>__Marques__</u>) Modelling Support Vector Machine (SVM) Classifier with the addition of noise on the target variable.\n",
    "\n",
    "In the data repository you should see three noisy datasets – `df_train_noise20`, `df_train_40`, `df_train_60`. These datasets have already been preprocessed. In each dataset `df_train_noise<integer>`, the integer indicates the percentage of noise injected into the target variable in that training set. The noise can be considered a result of incorrect class labelling of a particular instance. For example, in `df_train_noise20`, 20% of the instances have an incorrect target label in the training set. Our goal will be to train a set of classification models on such noisy training data and test on a clean test set (i.e., same as what we have been using so far `df_test`).  \n",
    "\n",
    "Load the `df_train_noise<nl>` (nl means noise level and is a place holder for the integer percentage) datasets and split the data into `X_train_<nl>` and `y_train_<nl>` (e.g., if working with `df_train_noise20`’ we would split the data and store it in variables named `X_train_20`, `y_train_20`). `X_train_<nl>` should store the features and `y_train_<nl>` should store the target variable. \n",
    "     \n",
    "**Repeat the following steps (1 – 4) for the 20%, 40%, 60% noise datasets.**\n",
    "Train a new SVM classification model on the new training and use the pre-existing `X_test` and `y_test` to evaluate your model. Label this model as `model_svm_noise_<nl>`.  Specifically, do the following:\n",
    "1. Employ a new SVM classifier from sklearn and instantiate the model. Label this model as `model_svm_noise<nl>`\n",
    "2. Once instantiated, `fit()` the model using the `X_train_<nl>` and `y_train_<nl>` data. \n",
    "3. Employ the `predict()` function to obtain predictions on `X_test` and store this in a variable labeled as `y_pred_svm_noise<nl>`.  \n",
    "4. Employ the `accuracy_score` function and print the accuracy of the new Logistic Regression model. "
   ]
  },
  {
   "cell_type": "code",
   "execution_count": null,
   "id": "pgZnJzhVlAEs",
   "metadata": {
    "id": "pgZnJzhVlAEs"
   },
   "outputs": [],
   "source": []
  },
  {
   "cell_type": "markdown",
   "id": "vLxTHnoelAEs",
   "metadata": {
    "id": "vLxTHnoelAEs"
   },
   "source": [
    "### d. Evaluation (__Each of us do this individually - will compare at the end__)\n",
    "\n",
    "#### i. Report F1 Score, Precision, Recall, Accuracy (All on the test set X_test, y_test)\n",
    "\n",
    "1. Employ a `classification_report()` function from sklearn.metrics to report the precision recall and f1 score for each class for the `model_lr` model and the `model_svm` along with a confusion matrix for each of them. "
   ]
  },
  {
   "cell_type": "code",
   "execution_count": null,
   "id": "IGaLtA7LlAEs",
   "metadata": {
    "id": "IGaLtA7LlAEs"
   },
   "outputs": [],
   "source": []
  },
  {
   "cell_type": "markdown",
   "id": "TMoBPItKlAEs",
   "metadata": {
    "id": "TMoBPItKlAEs"
   },
   "source": [
    "#### ii. Report the accuracy and classification report for each of the three noisy models (`model_lr_noise<nl>`, `model_svm_noise<nl>`). "
   ]
  },
  {
   "cell_type": "code",
   "execution_count": null,
   "id": "195NmEb4lAEs",
   "metadata": {
    "id": "195NmEb4lAEs"
   },
   "outputs": [],
   "source": []
  },
  {
   "cell_type": "markdown",
   "id": "v2RN8eAzlAEs",
   "metadata": {
    "id": "v2RN8eAzlAEs"
   },
   "source": [
    "#### iii. Make a calibration plot for each of the models without noisy data (`model_lr`, `model_svm`).\n",
    "\n",
    "Use the CalibrationDisplay class from sklearn.calibration to make your plot."
   ]
  },
  {
   "cell_type": "code",
   "execution_count": null,
   "id": "W1HIgicVlAEs",
   "metadata": {
    "id": "W1HIgicVlAEs"
   },
   "outputs": [],
   "source": []
  }
 ],
 "metadata": {
  "colab": {
   "provenance": []
  },
  "kernelspec": {
   "display_name": "Python 3 (ipykernel)",
   "language": "python",
   "name": "python3"
  },
  "language_info": {
   "codemirror_mode": {
    "name": "ipython",
    "version": 3
   },
   "file_extension": ".py",
   "mimetype": "text/x-python",
   "name": "python",
   "nbconvert_exporter": "python",
   "pygments_lexer": "ipython3",
   "version": "3.11.3"
  }
 },
 "nbformat": 4,
 "nbformat_minor": 5
}
