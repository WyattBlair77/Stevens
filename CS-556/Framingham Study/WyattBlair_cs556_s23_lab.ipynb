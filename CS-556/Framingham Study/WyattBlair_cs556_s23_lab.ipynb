{
 "cells": [
  {
   "cell_type": "markdown",
   "metadata": {},
   "source": [
    "# Predicting Heart Diseases with Logistic Regression and SVM"
   ]
  },
  {
   "cell_type": "markdown",
   "metadata": {},
   "source": [
    "At this stage in the course, you're familiar with the steps required in a Data Science project. This lab will bring everything you've learned together and guide you through the process."
   ]
  },
  {
   "cell_type": "markdown",
   "metadata": {},
   "source": [
    "### Import Libraries"
   ]
  },
  {
   "cell_type": "markdown",
   "metadata": {},
   "source": [
    "Import the libraries that you will use to do the lab. (Pandas, Numpy, mathplotlib, sklearn, etc)"
   ]
  },
  {
   "cell_type": "code",
   "execution_count": 1,
   "metadata": {},
   "outputs": [],
   "source": [
    "# ! pip install pandas\n",
    "# ! pip install nump\n",
    "# ! pip install matplotlib\n",
    "# ! pip install scikit-learn\n",
    "# ! pip install seaborn"
   ]
  },
  {
   "cell_type": "code",
   "execution_count": 2,
   "metadata": {},
   "outputs": [],
   "source": [
    "### TODO: Import libraries\n",
    "import pandas as pd\n",
    "import numpy as np\n",
    "import matplotlib.pyplot as plt\n",
    "import sklearn\n",
    "import seaborn as sns"
   ]
  },
  {
   "cell_type": "markdown",
   "metadata": {},
   "source": [
    "### The Data\n",
    "\n",
    "The \"Framingham\" heart disease dataset includes over 1289 records,16 columns and 15 attributes. The goal of the dataset is to predict whether the patient has 10-year risk of future (CHD) coronary heart disease\n"
   ]
  },
  {
   "cell_type": "markdown",
   "metadata": {},
   "source": [
    "Read the framingham.csv file into a pandas dataframe. Use read_csv method of pandas (https://pandas.pydata.org/docs/reference/api/pandas.read_csv.html) "
   ]
  },
  {
   "cell_type": "code",
   "execution_count": 3,
   "metadata": {},
   "outputs": [],
   "source": [
    "# TODO: Read in the data\n",
    "data = pd.read_csv('./framingham.csv')"
   ]
  },
  {
   "cell_type": "code",
   "execution_count": 4,
   "metadata": {},
   "outputs": [
    {
     "data": {
      "text/html": [
       "<div>\n",
       "<style scoped>\n",
       "    .dataframe tbody tr th:only-of-type {\n",
       "        vertical-align: middle;\n",
       "    }\n",
       "\n",
       "    .dataframe tbody tr th {\n",
       "        vertical-align: top;\n",
       "    }\n",
       "\n",
       "    .dataframe thead th {\n",
       "        text-align: right;\n",
       "    }\n",
       "</style>\n",
       "<table border=\"1\" class=\"dataframe\">\n",
       "  <thead>\n",
       "    <tr style=\"text-align: right;\">\n",
       "      <th></th>\n",
       "      <th>male</th>\n",
       "      <th>age</th>\n",
       "      <th>education</th>\n",
       "      <th>currentSmoker</th>\n",
       "      <th>cigsPerDay</th>\n",
       "      <th>BPMeds</th>\n",
       "      <th>prevalentStroke</th>\n",
       "      <th>prevalentHyp</th>\n",
       "      <th>diabetes</th>\n",
       "      <th>totChol</th>\n",
       "      <th>sysBP</th>\n",
       "      <th>diaBP</th>\n",
       "      <th>BMI</th>\n",
       "      <th>heartRate</th>\n",
       "      <th>glucose</th>\n",
       "      <th>TenYearCHD</th>\n",
       "    </tr>\n",
       "  </thead>\n",
       "  <tbody>\n",
       "    <tr>\n",
       "      <th>0</th>\n",
       "      <td>0</td>\n",
       "      <td>37</td>\n",
       "      <td>2.0</td>\n",
       "      <td>1</td>\n",
       "      <td>30.0</td>\n",
       "      <td>0.0</td>\n",
       "      <td>0</td>\n",
       "      <td>0</td>\n",
       "      <td>0</td>\n",
       "      <td>NaN</td>\n",
       "      <td>115.0</td>\n",
       "      <td>79.0</td>\n",
       "      <td>28.41</td>\n",
       "      <td>85.0</td>\n",
       "      <td>NaN</td>\n",
       "      <td>0</td>\n",
       "    </tr>\n",
       "    <tr>\n",
       "      <th>1</th>\n",
       "      <td>0</td>\n",
       "      <td>61</td>\n",
       "      <td>1.0</td>\n",
       "      <td>0</td>\n",
       "      <td>0.0</td>\n",
       "      <td>0.0</td>\n",
       "      <td>0</td>\n",
       "      <td>0</td>\n",
       "      <td>0</td>\n",
       "      <td>NaN</td>\n",
       "      <td>115.0</td>\n",
       "      <td>60.0</td>\n",
       "      <td>25.50</td>\n",
       "      <td>76.0</td>\n",
       "      <td>99.0</td>\n",
       "      <td>0</td>\n",
       "    </tr>\n",
       "    <tr>\n",
       "      <th>2</th>\n",
       "      <td>1</td>\n",
       "      <td>44</td>\n",
       "      <td>2.0</td>\n",
       "      <td>1</td>\n",
       "      <td>15.0</td>\n",
       "      <td>0.0</td>\n",
       "      <td>0</td>\n",
       "      <td>0</td>\n",
       "      <td>0</td>\n",
       "      <td>209.0</td>\n",
       "      <td>127.0</td>\n",
       "      <td>86.0</td>\n",
       "      <td>26.41</td>\n",
       "      <td>85.0</td>\n",
       "      <td>88.0</td>\n",
       "      <td>0</td>\n",
       "    </tr>\n",
       "    <tr>\n",
       "      <th>3</th>\n",
       "      <td>1</td>\n",
       "      <td>47</td>\n",
       "      <td>3.0</td>\n",
       "      <td>1</td>\n",
       "      <td>15.0</td>\n",
       "      <td>0.0</td>\n",
       "      <td>0</td>\n",
       "      <td>1</td>\n",
       "      <td>0</td>\n",
       "      <td>220.0</td>\n",
       "      <td>127.0</td>\n",
       "      <td>93.0</td>\n",
       "      <td>30.70</td>\n",
       "      <td>82.0</td>\n",
       "      <td>57.0</td>\n",
       "      <td>0</td>\n",
       "    </tr>\n",
       "    <tr>\n",
       "      <th>4</th>\n",
       "      <td>0</td>\n",
       "      <td>41</td>\n",
       "      <td>3.0</td>\n",
       "      <td>1</td>\n",
       "      <td>3.0</td>\n",
       "      <td>0.0</td>\n",
       "      <td>0</td>\n",
       "      <td>0</td>\n",
       "      <td>0</td>\n",
       "      <td>140.0</td>\n",
       "      <td>110.0</td>\n",
       "      <td>60.0</td>\n",
       "      <td>23.38</td>\n",
       "      <td>65.0</td>\n",
       "      <td>82.0</td>\n",
       "      <td>0</td>\n",
       "    </tr>\n",
       "  </tbody>\n",
       "</table>\n",
       "</div>"
      ],
      "text/plain": [
       "   male  age  education  currentSmoker  cigsPerDay  BPMeds  prevalentStroke  \\\n",
       "0     0   37        2.0              1        30.0     0.0                0   \n",
       "1     0   61        1.0              0         0.0     0.0                0   \n",
       "2     1   44        2.0              1        15.0     0.0                0   \n",
       "3     1   47        3.0              1        15.0     0.0                0   \n",
       "4     0   41        3.0              1         3.0     0.0                0   \n",
       "\n",
       "   prevalentHyp  diabetes  totChol  sysBP  diaBP    BMI  heartRate  glucose  \\\n",
       "0             0         0      NaN  115.0   79.0  28.41       85.0      NaN   \n",
       "1             0         0      NaN  115.0   60.0  25.50       76.0     99.0   \n",
       "2             0         0    209.0  127.0   86.0  26.41       85.0     88.0   \n",
       "3             1         0    220.0  127.0   93.0  30.70       82.0     57.0   \n",
       "4             0         0    140.0  110.0   60.0  23.38       65.0     82.0   \n",
       "\n",
       "   TenYearCHD  \n",
       "0           0  \n",
       "1           0  \n",
       "2           0  \n",
       "3           0  \n",
       "4           0  "
      ]
     },
     "execution_count": 4,
     "metadata": {},
     "output_type": "execute_result"
    }
   ],
   "source": [
    "# TODO: Output the head of the DataFrame.\n",
    "data.head(5)"
   ]
  },
  {
   "cell_type": "markdown",
   "metadata": {},
   "source": [
    "## Exploratory Data Analysis\n",
    "\n",
    "Exploratory data analysis is an essential step that helps us understand our data in a descriptive manner. Understanding our data helps us prioritize how to clean, modify and featurize it to make it ready for ML models. Let's begin some exploratory data analysis! We'll start by checking out missing data!\n",
    "\n",
    "#### Missing Data\n",
    "\n",
    "We can use seaborn to create a simple heatmap to see where we are missing data! https://seaborn.pydata.org/generated/seaborn.heatmap.html"
   ]
  },
  {
   "cell_type": "code",
   "execution_count": 5,
   "metadata": {
    "scrolled": false
   },
   "outputs": [
    {
     "data": {
      "image/png": "[encoded data removed]",
      "text/plain": [
       "<Figure size 1000x1000 with 2 Axes>"
      ]
     },
     "metadata": {},
     "output_type": "display_data"
    }
   ],
   "source": [
    "# TODO: Create a heatmap of the DataFrame to visualize missing data\n",
    "\n",
    "# create a heatmap of missing data points\n",
    "plt.figure(figsize=(10, 10))\n",
    "plt.title(\"Heatmap of Missing Data\")\n",
    "sns.heatmap(data.isnull())\n",
    "\n",
    "# set the x and y-axis labels\n",
    "plt.xticks(np.arange(data.shape[1]), data.columns, rotation=45)\n",
    "\n",
    "# show the plot\n",
    "plt.show()\n"
   ]
  },
  {
   "cell_type": "markdown",
   "metadata": {},
   "source": [
    "Now that we have visualized our missing data, there are muliple ways to tackle it. If not a lot of data is missing under each column(feature) we can use techniques to replace the data, such as replacing it with mean, median or mode. However, if a lot of data is missing ( say about > 90%) then it may be better to drop the feature altogether, since then replacing the missing values can cause a change in the inherent structure of the data. In this lab, we will drop all rows with missing data, but feel free to try using different techniques too."
   ]
  },
  {
   "cell_type": "markdown",
   "metadata": {},
   "source": [
    "### Drop Missing Data\n",
    "\n",
    "Use method dropna of pandas to remove missing values. https://pandas.pydata.org/docs/reference/api/pandas.DataFrame.dropna.html"
   ]
  },
  {
   "cell_type": "code",
   "execution_count": 6,
   "metadata": {},
   "outputs": [],
   "source": [
    "# TODO: Drop the rows with missing data\n",
    "data = data.dropna()"
   ]
  },
  {
   "cell_type": "markdown",
   "metadata": {},
   "source": [
    "### Visualize the data to see if classes are balanced"
   ]
  },
  {
   "cell_type": "markdown",
   "metadata": {},
   "source": [
    "Class(Target Variable) imbalance is very problematic since it can lead to biases in models. If we have a dataset where 90% target variables are 1 and 10% target varuiables are 0, then we can just predict every data point as 1. This way, we will have 90% accuracy on our dataset, but this is wrong. We can deal with class imbalance using upsampling, downsampling and SMOTE."
   ]
  },
  {
   "cell_type": "markdown",
   "metadata": {},
   "source": [
    "Use method countplot of seaborn to plot the number of people with and without heart disease (TenYearCHD). Refer to: https://seaborn.pydata.org/generated/seaborn.countplot.html"
   ]
  },
  {
   "cell_type": "code",
   "execution_count": 7,
   "metadata": {},
   "outputs": [
    {
     "data": {
      "image/png": "[encoded data removed]",
      "text/plain": [
       "<Figure size 640x480 with 1 Axes>"
      ]
     },
     "metadata": {},
     "output_type": "display_data"
    }
   ],
   "source": [
    "# TODO: Plot the count of people with and without heart disease (TenYearCHD)\n",
    "col = 'TenYearCHD'\n",
    "\n",
    "ax = sns.countplot(data=data, x=col)\n",
    "plt.show()"
   ]
  },
  {
   "cell_type": "markdown",
   "metadata": {},
   "source": [
    "We see that our classes are not imbalanced"
   ]
  },
  {
   "cell_type": "markdown",
   "metadata": {},
   "source": [
    "We can also see the distribution of classes grouped by gender. Display the distribution as a countplot. "
   ]
  },
  {
   "cell_type": "code",
   "execution_count": null,
   "metadata": {},
   "outputs": [],
   "source": []
  },
  {
   "cell_type": "code",
   "execution_count": 8,
   "metadata": {},
   "outputs": [
    {
     "data": {
      "image/png": "[encoded data removed]",
      "text/plain": [
       "<Figure size 640x480 with 1 Axes>"
      ]
     },
     "metadata": {},
     "output_type": "display_data"
    }
   ],
   "source": [
    "# TODO: Group the data by gender\n",
    "sns.countplot(data=data, x=col, hue='male')\n",
    "plt.show()"
   ]
  },
  {
   "cell_type": "markdown",
   "metadata": {},
   "source": [
    "All of this exploratory data analysis gives us a good idea about our dataset."
   ]
  },
  {
   "cell_type": "markdown",
   "metadata": {},
   "source": [
    "### Data Standardization "
   ]
  },
  {
   "cell_type": "markdown",
   "metadata": {},
   "source": [
    "Data standardization is a data processing workflow that converts the structure of different datasets into one common format of data. It deals with the transformation of datasets after the data are collected from different sources and before it is loaded into models."
   ]
  },
  {
   "cell_type": "markdown",
   "metadata": {},
   "source": [
    "We will use the StandardScaler library to standardize the data :- https://scikit-learn.org/stable/modules/generated/sklearn.preprocessing.StandardScaler.html"
   ]
  },
  {
   "cell_type": "code",
   "execution_count": 9,
   "metadata": {},
   "outputs": [],
   "source": [
    "# TODO: Import the library\n",
    "from sklearn.preprocessing import StandardScaler"
   ]
  },
  {
   "cell_type": "code",
   "execution_count": 10,
   "metadata": {},
   "outputs": [],
   "source": [
    "# TODO: Make a list of all numeric features of our dataset\n",
    "numeric_features = data.select_dtypes(include='number').columns.tolist()"
   ]
  },
  {
   "cell_type": "code",
   "execution_count": 11,
   "metadata": {},
   "outputs": [],
   "source": [
    "numeric_features.remove('TenYearCHD')"
   ]
  },
  {
   "cell_type": "markdown",
   "metadata": {},
   "source": [
    "Now apply fit_transform() method of Standard Scaler to normalize all numeric features. "
   ]
  },
  {
   "cell_type": "code",
   "execution_count": 12,
   "metadata": {},
   "outputs": [],
   "source": [
    "# TODO: Normalize the numeric features\n",
    "X = data[numeric_features]\n",
    "\n",
    "scaler = StandardScaler()\n",
    "data[numeric_features] = scaler.fit_transform(X)"
   ]
  },
  {
   "cell_type": "code",
   "execution_count": 13,
   "metadata": {},
   "outputs": [
    {
     "data": {
      "text/html": [
       "<div>\n",
       "<style scoped>\n",
       "    .dataframe tbody tr th:only-of-type {\n",
       "        vertical-align: middle;\n",
       "    }\n",
       "\n",
       "    .dataframe tbody tr th {\n",
       "        vertical-align: top;\n",
       "    }\n",
       "\n",
       "    .dataframe thead th {\n",
       "        text-align: right;\n",
       "    }\n",
       "</style>\n",
       "<table border=\"1\" class=\"dataframe\">\n",
       "  <thead>\n",
       "    <tr style=\"text-align: right;\">\n",
       "      <th></th>\n",
       "      <th>male</th>\n",
       "      <th>age</th>\n",
       "      <th>education</th>\n",
       "      <th>currentSmoker</th>\n",
       "      <th>cigsPerDay</th>\n",
       "      <th>BPMeds</th>\n",
       "      <th>prevalentStroke</th>\n",
       "      <th>prevalentHyp</th>\n",
       "      <th>diabetes</th>\n",
       "      <th>totChol</th>\n",
       "      <th>sysBP</th>\n",
       "      <th>diaBP</th>\n",
       "      <th>BMI</th>\n",
       "      <th>heartRate</th>\n",
       "      <th>glucose</th>\n",
       "      <th>TenYearCHD</th>\n",
       "    </tr>\n",
       "  </thead>\n",
       "  <tbody>\n",
       "    <tr>\n",
       "      <th>2</th>\n",
       "      <td>1.013545</td>\n",
       "      <td>-0.852262</td>\n",
       "      <td>0.086818</td>\n",
       "      <td>0.997313</td>\n",
       "      <td>0.431861</td>\n",
       "      <td>-0.218935</td>\n",
       "      <td>-0.090208</td>\n",
       "      <td>-0.810408</td>\n",
       "      <td>-0.20978</td>\n",
       "      <td>-0.686549</td>\n",
       "      <td>-0.415531</td>\n",
       "      <td>0.079783</td>\n",
       "      <td>0.039784</td>\n",
       "      <td>0.737159</td>\n",
       "      <td>0.099742</td>\n",
       "      <td>0</td>\n",
       "    </tr>\n",
       "    <tr>\n",
       "      <th>3</th>\n",
       "      <td>1.013545</td>\n",
       "      <td>-0.502640</td>\n",
       "      <td>1.064616</td>\n",
       "      <td>0.997313</td>\n",
       "      <td>0.431861</td>\n",
       "      <td>-0.218935</td>\n",
       "      <td>-0.090208</td>\n",
       "      <td>1.233947</td>\n",
       "      <td>-0.20978</td>\n",
       "      <td>-0.453261</td>\n",
       "      <td>-0.415531</td>\n",
       "      <td>0.606828</td>\n",
       "      <td>1.008981</td>\n",
       "      <td>0.491341</td>\n",
       "      <td>-0.829773</td>\n",
       "      <td>0</td>\n",
       "    </tr>\n",
       "    <tr>\n",
       "      <th>4</th>\n",
       "      <td>-0.986636</td>\n",
       "      <td>-1.201883</td>\n",
       "      <td>1.064616</td>\n",
       "      <td>0.997313</td>\n",
       "      <td>-0.547512</td>\n",
       "      <td>-0.218935</td>\n",
       "      <td>-0.090208</td>\n",
       "      <td>-0.810408</td>\n",
       "      <td>-0.20978</td>\n",
       "      <td>-2.149901</td>\n",
       "      <td>-1.095556</td>\n",
       "      <td>-1.877814</td>\n",
       "      <td>-0.644754</td>\n",
       "      <td>-0.901625</td>\n",
       "      <td>-0.080164</td>\n",
       "      <td>0</td>\n",
       "    </tr>\n",
       "    <tr>\n",
       "      <th>5</th>\n",
       "      <td>-0.986636</td>\n",
       "      <td>-0.153018</td>\n",
       "      <td>0.086818</td>\n",
       "      <td>0.997313</td>\n",
       "      <td>0.839934</td>\n",
       "      <td>-0.218935</td>\n",
       "      <td>-0.090208</td>\n",
       "      <td>-0.810408</td>\n",
       "      <td>-0.20978</td>\n",
       "      <td>0.352642</td>\n",
       "      <td>-0.575537</td>\n",
       "      <td>-1.124892</td>\n",
       "      <td>-1.471621</td>\n",
       "      <td>0.327463</td>\n",
       "      <td>-0.409992</td>\n",
       "      <td>0</td>\n",
       "    </tr>\n",
       "    <tr>\n",
       "      <th>6</th>\n",
       "      <td>1.013545</td>\n",
       "      <td>0.196603</td>\n",
       "      <td>-0.890980</td>\n",
       "      <td>0.997313</td>\n",
       "      <td>0.431861</td>\n",
       "      <td>-0.218935</td>\n",
       "      <td>-0.090208</td>\n",
       "      <td>1.233947</td>\n",
       "      <td>-0.20978</td>\n",
       "      <td>0.395058</td>\n",
       "      <td>0.184491</td>\n",
       "      <td>0.230367</td>\n",
       "      <td>-0.583755</td>\n",
       "      <td>1.638491</td>\n",
       "      <td>-0.230086</td>\n",
       "      <td>0</td>\n",
       "    </tr>\n",
       "    <tr>\n",
       "      <th>7</th>\n",
       "      <td>-0.986636</td>\n",
       "      <td>-1.085343</td>\n",
       "      <td>0.086818</td>\n",
       "      <td>0.997313</td>\n",
       "      <td>0.839934</td>\n",
       "      <td>-0.218935</td>\n",
       "      <td>-0.090208</td>\n",
       "      <td>1.233947</td>\n",
       "      <td>-0.20978</td>\n",
       "      <td>-0.962253</td>\n",
       "      <td>0.304496</td>\n",
       "      <td>0.155075</td>\n",
       "      <td>0.771765</td>\n",
       "      <td>1.720430</td>\n",
       "      <td>-0.739820</td>\n",
       "      <td>0</td>\n",
       "    </tr>\n",
       "    <tr>\n",
       "      <th>8</th>\n",
       "      <td>-0.986636</td>\n",
       "      <td>1.362009</td>\n",
       "      <td>2.042414</td>\n",
       "      <td>-1.002694</td>\n",
       "      <td>-0.792356</td>\n",
       "      <td>-0.218935</td>\n",
       "      <td>-0.090208</td>\n",
       "      <td>-0.810408</td>\n",
       "      <td>-0.20978</td>\n",
       "      <td>0.225394</td>\n",
       "      <td>-0.675541</td>\n",
       "      <td>-0.748431</td>\n",
       "      <td>-0.436907</td>\n",
       "      <td>0.163585</td>\n",
       "      <td>-0.230086</td>\n",
       "      <td>0</td>\n",
       "    </tr>\n",
       "    <tr>\n",
       "      <th>9</th>\n",
       "      <td>-0.986636</td>\n",
       "      <td>-0.852262</td>\n",
       "      <td>-0.890980</td>\n",
       "      <td>0.997313</td>\n",
       "      <td>-0.057825</td>\n",
       "      <td>-0.218935</td>\n",
       "      <td>-0.090208</td>\n",
       "      <td>-0.810408</td>\n",
       "      <td>-0.20978</td>\n",
       "      <td>-0.219974</td>\n",
       "      <td>-1.375567</td>\n",
       "      <td>-0.899016</td>\n",
       "      <td>-0.952005</td>\n",
       "      <td>-0.328051</td>\n",
       "      <td>-0.050180</td>\n",
       "      <td>0</td>\n",
       "    </tr>\n",
       "    <tr>\n",
       "      <th>10</th>\n",
       "      <td>1.013545</td>\n",
       "      <td>-1.551505</td>\n",
       "      <td>1.064616</td>\n",
       "      <td>0.997313</td>\n",
       "      <td>1.084777</td>\n",
       "      <td>-0.218935</td>\n",
       "      <td>-0.090208</td>\n",
       "      <td>1.233947</td>\n",
       "      <td>-0.20978</td>\n",
       "      <td>-1.619701</td>\n",
       "      <td>-0.375530</td>\n",
       "      <td>-0.371970</td>\n",
       "      <td>-0.138693</td>\n",
       "      <td>1.146855</td>\n",
       "      <td>0.009789</td>\n",
       "      <td>0</td>\n",
       "    </tr>\n",
       "    <tr>\n",
       "      <th>11</th>\n",
       "      <td>-0.986636</td>\n",
       "      <td>-0.153018</td>\n",
       "      <td>-0.890980</td>\n",
       "      <td>-1.002694</td>\n",
       "      <td>-0.792356</td>\n",
       "      <td>-0.218935</td>\n",
       "      <td>-0.090208</td>\n",
       "      <td>-0.810408</td>\n",
       "      <td>-0.20978</td>\n",
       "      <td>0.819218</td>\n",
       "      <td>-0.455533</td>\n",
       "      <td>-0.673139</td>\n",
       "      <td>-0.997189</td>\n",
       "      <td>-0.901625</td>\n",
       "      <td>-0.320039</td>\n",
       "      <td>0</td>\n",
       "    </tr>\n",
       "  </tbody>\n",
       "</table>\n",
       "</div>"
      ],
      "text/plain": [
       "        male       age  education  currentSmoker  cigsPerDay    BPMeds  \\\n",
       "2   1.013545 -0.852262   0.086818       0.997313    0.431861 -0.218935   \n",
       "3   1.013545 -0.502640   1.064616       0.997313    0.431861 -0.218935   \n",
       "4  -0.986636 -1.201883   1.064616       0.997313   -0.547512 -0.218935   \n",
       "5  -0.986636 -0.153018   0.086818       0.997313    0.839934 -0.218935   \n",
       "6   1.013545  0.196603  -0.890980       0.997313    0.431861 -0.218935   \n",
       "7  -0.986636 -1.085343   0.086818       0.997313    0.839934 -0.218935   \n",
       "8  -0.986636  1.362009   2.042414      -1.002694   -0.792356 -0.218935   \n",
       "9  -0.986636 -0.852262  -0.890980       0.997313   -0.057825 -0.218935   \n",
       "10  1.013545 -1.551505   1.064616       0.997313    1.084777 -0.218935   \n",
       "11 -0.986636 -0.153018  -0.890980      -1.002694   -0.792356 -0.218935   \n",
       "\n",
       "    prevalentStroke  prevalentHyp  diabetes   totChol     sysBP     diaBP  \\\n",
       "2         -0.090208     -0.810408  -0.20978 -0.686549 -0.415531  0.079783   \n",
       "3         -0.090208      1.233947  -0.20978 -0.453261 -0.415531  0.606828   \n",
       "4         -0.090208     -0.810408  -0.20978 -2.149901 -1.095556 -1.877814   \n",
       "5         -0.090208     -0.810408  -0.20978  0.352642 -0.575537 -1.124892   \n",
       "6         -0.090208      1.233947  -0.20978  0.395058  0.184491  0.230367   \n",
       "7         -0.090208      1.233947  -0.20978 -0.962253  0.304496  0.155075   \n",
       "8         -0.090208     -0.810408  -0.20978  0.225394 -0.675541 -0.748431   \n",
       "9         -0.090208     -0.810408  -0.20978 -0.219974 -1.375567 -0.899016   \n",
       "10        -0.090208      1.233947  -0.20978 -1.619701 -0.375530 -0.371970   \n",
       "11        -0.090208     -0.810408  -0.20978  0.819218 -0.455533 -0.673139   \n",
       "\n",
       "         BMI  heartRate   glucose  TenYearCHD  \n",
       "2   0.039784   0.737159  0.099742           0  \n",
       "3   1.008981   0.491341 -0.829773           0  \n",
       "4  -0.644754  -0.901625 -0.080164           0  \n",
       "5  -1.471621   0.327463 -0.409992           0  \n",
       "6  -0.583755   1.638491 -0.230086           0  \n",
       "7   0.771765   1.720430 -0.739820           0  \n",
       "8  -0.436907   0.163585 -0.230086           0  \n",
       "9  -0.952005  -0.328051 -0.050180           0  \n",
       "10 -0.138693   1.146855  0.009789           0  \n",
       "11 -0.997189  -0.901625 -0.320039           0  "
      ]
     },
     "execution_count": 13,
     "metadata": {},
     "output_type": "execute_result"
    }
   ],
   "source": [
    "# TODO: Output the head of the DataFrame\n",
    "data.head(10)"
   ]
  },
  {
   "cell_type": "markdown",
   "metadata": {},
   "source": [
    "\n",
    "\n",
    "### Train Test Split\n",
    "Let's start by splitting our data into a training set (80%) and test set (20%). Refer to : https://scikit-learn.org/stable/modules/generated/sklearn.model_selection.train_test_split.html"
   ]
  },
  {
   "cell_type": "code",
   "execution_count": 14,
   "metadata": {},
   "outputs": [],
   "source": [
    "from sklearn.model_selection import train_test_split"
   ]
  },
  {
   "cell_type": "code",
   "execution_count": 15,
   "metadata": {},
   "outputs": [],
   "source": [
    "target = 'TenYearCHD'\n",
    "X, y = data.drop(target, axis=1), data[target]\n",
    "\n",
    "\n",
    "X_train, X_test, y_train, y_test = train_test_split(X, y, test_size=0.2)"
   ]
  },
  {
   "cell_type": "markdown",
   "metadata": {},
   "source": [
    "## Building a Logistic Regression model\n"
   ]
  },
  {
   "cell_type": "markdown",
   "metadata": {},
   "source": [
    "### Training and Predicting"
   ]
  },
  {
   "cell_type": "code",
   "execution_count": 16,
   "metadata": {},
   "outputs": [],
   "source": [
    "from sklearn.linear_model import LogisticRegression"
   ]
  },
  {
   "cell_type": "markdown",
   "metadata": {},
   "source": [
    "Create an instance of Logistic Regression. Refer to: https://scikit-learn.org/stable/modules/generated/sklearn.linear_model.LogisticRegression.html"
   ]
  },
  {
   "cell_type": "code",
   "execution_count": 17,
   "metadata": {},
   "outputs": [],
   "source": [
    "logmodel = LogisticRegression(random_state=0)"
   ]
  },
  {
   "cell_type": "markdown",
   "metadata": {},
   "source": [
    "Call method fit() to train the logistic regression model. "
   ]
  },
  {
   "cell_type": "code",
   "execution_count": 18,
   "metadata": {},
   "outputs": [
    {
     "data": {
      "text/html": [
       "<style>#sk-container-id-1 {color: black;background-color: white;}#sk-container-id-1 pre{padding: 0;}#sk-container-id-1 div.sk-toggleable {background-color: white;}#sk-container-id-1 label.sk-toggleable__label {cursor: pointer;display: block;width: 100%;margin-bottom: 0;padding: 0.3em;box-sizing: border-box;text-align: center;}#sk-container-id-1 label.sk-toggleable__label-arrow:before {content: \"▸\";float: left;margin-right: 0.25em;color: #696969;}#sk-container-id-1 label.sk-toggleable__label-arrow:hover:before {color: black;}#sk-container-id-1 div.sk-estimator:hover label.sk-toggleable__label-arrow:before {color: black;}#sk-container-id-1 div.sk-toggleable__content {max-height: 0;max-width: 0;overflow: hidden;text-align: left;background-color: #f0f8ff;}#sk-container-id-1 div.sk-toggleable__content pre {margin: 0.2em;color: black;border-radius: 0.25em;background-color: #f0f8ff;}#sk-container-id-1 input.sk-toggleable__control:checked~div.sk-toggleable__content {max-height: 200px;max-width: 100%;overflow: auto;}#sk-container-id-1 input.sk-toggleable__control:checked~label.sk-toggleable__label-arrow:before {content: \"▾\";}#sk-container-id-1 div.sk-estimator input.sk-toggleable__control:checked~label.sk-toggleable__label {background-color: #d4ebff;}#sk-container-id-1 div.sk-label input.sk-toggleable__control:checked~label.sk-toggleable__label {background-color: #d4ebff;}#sk-container-id-1 input.sk-hidden--visually {border: 0;clip: rect(1px 1px 1px 1px);clip: rect(1px, 1px, 1px, 1px);height: 1px;margin: -1px;overflow: hidden;padding: 0;position: absolute;width: 1px;}#sk-container-id-1 div.sk-estimator {font-family: monospace;background-color: #f0f8ff;border: 1px dotted black;border-radius: 0.25em;box-sizing: border-box;margin-bottom: 0.5em;}#sk-container-id-1 div.sk-estimator:hover {background-color: #d4ebff;}#sk-container-id-1 div.sk-parallel-item::after {content: \"\";width: 100%;border-bottom: 1px solid gray;flex-grow: 1;}#sk-container-id-1 div.sk-label:hover label.sk-toggleable__label {background-color: #d4ebff;}#sk-container-id-1 div.sk-serial::before {content: \"\";position: absolute;border-left: 1px solid gray;box-sizing: border-box;top: 0;bottom: 0;left: 50%;z-index: 0;}#sk-container-id-1 div.sk-serial {display: flex;flex-direction: column;align-items: center;background-color: white;padding-right: 0.2em;padding-left: 0.2em;position: relative;}#sk-container-id-1 div.sk-item {position: relative;z-index: 1;}#sk-container-id-1 div.sk-parallel {display: flex;align-items: stretch;justify-content: center;background-color: white;position: relative;}#sk-container-id-1 div.sk-item::before, #sk-container-id-1 div.sk-parallel-item::before {content: \"\";position: absolute;border-left: 1px solid gray;box-sizing: border-box;top: 0;bottom: 0;left: 50%;z-index: -1;}#sk-container-id-1 div.sk-parallel-item {display: flex;flex-direction: column;z-index: 1;position: relative;background-color: white;}#sk-container-id-1 div.sk-parallel-item:first-child::after {align-self: flex-end;width: 50%;}#sk-container-id-1 div.sk-parallel-item:last-child::after {align-self: flex-start;width: 50%;}#sk-container-id-1 div.sk-parallel-item:only-child::after {width: 0;}#sk-container-id-1 div.sk-dashed-wrapped {border: 1px dashed gray;margin: 0 0.4em 0.5em 0.4em;box-sizing: border-box;padding-bottom: 0.4em;background-color: white;}#sk-container-id-1 div.sk-label label {font-family: monospace;font-weight: bold;display: inline-block;line-height: 1.2em;}#sk-container-id-1 div.sk-label-container {text-align: center;}#sk-container-id-1 div.sk-container {/* jupyter's `normalize.less` sets `[hidden] { display: none; }` but bootstrap.min.css set `[hidden] { display: none !important; }` so we also need the `!important` here to be able to override the default hidden behavior on the sphinx rendered scikit-learn.org. See: https://github.com/scikit-learn/scikit-learn/issues/21755 */display: inline-block !important;position: relative;}#sk-container-id-1 div.sk-text-repr-fallback {display: none;}</style><div id=\"sk-container-id-1\" class=\"sk-top-container\"><div class=\"sk-text-repr-fallback\"><pre>LogisticRegression(random_state=0)</pre><b>In a Jupyter environment, please rerun this cell to show the HTML representation or trust the notebook. <br />On GitHub, the HTML representation is unable to render, please try loading this page with nbviewer.org.</b></div><div class=\"sk-container\" hidden><div class=\"sk-item\"><div class=\"sk-estimator sk-toggleable\"><input class=\"sk-toggleable__control sk-hidden--visually\" id=\"sk-estimator-id-1\" type=\"checkbox\" checked><label for=\"sk-estimator-id-1\" class=\"sk-toggleable__label sk-toggleable__label-arrow\">LogisticRegression</label><div class=\"sk-toggleable__content\"><pre>LogisticRegression(random_state=0)</pre></div></div></div></div></div>"
      ],
      "text/plain": [
       "LogisticRegression(random_state=0)"
      ]
     },
     "execution_count": 18,
     "metadata": {},
     "output_type": "execute_result"
    }
   ],
   "source": [
    "logmodel.fit(X_train, y_train)"
   ]
  },
  {
   "cell_type": "markdown",
   "metadata": {},
   "source": [
    "Call method predict() of logistic regression to make predictions for the test set. "
   ]
  },
  {
   "cell_type": "code",
   "execution_count": 19,
   "metadata": {},
   "outputs": [],
   "source": [
    "predictions = logmodel.predict(X_test)"
   ]
  },
  {
   "cell_type": "markdown",
   "metadata": {},
   "source": [
    "### Evaluation\n",
    "\n",
    "1. Precision: tell us the proportion of positive indentifications that was actually correct. \n",
    "$$ Precision = \\frac{True\\_Pos}{True\\_Pos + False\\_Pos}$$\n",
    "\n",
    "\n",
    "2. Recall: tells us the proportion of actuall positives that was indentified correctly. \n",
    "$$ Recall = \\frac{True\\_Pos}{True\\_Pos + False\\_Neg}$$\n",
    "\n",
    "\n",
    "3. F1-score: F1 score is the harmonic mean of precision and recall. \n",
    "\n",
    "We can check precision,recall,f1-score using classification report! \n",
    "\n",
    "Refer to: https://scikit-learn.org/stable/modules/generated/sklearn.metrics.classification_report.html"
   ]
  },
  {
   "cell_type": "code",
   "execution_count": 20,
   "metadata": {},
   "outputs": [],
   "source": [
    "from sklearn.metrics import classification_report, confusion_matrix"
   ]
  },
  {
   "cell_type": "code",
   "execution_count": 21,
   "metadata": {
    "scrolled": false
   },
   "outputs": [
    {
     "name": "stdout",
     "output_type": "stream",
     "text": [
      "              precision    recall  f1-score   support\n",
      "\n",
      "           0       0.73      0.74      0.74       111\n",
      "           1       0.74      0.73      0.74       112\n",
      "\n",
      "    accuracy                           0.74       223\n",
      "   macro avg       0.74      0.74      0.74       223\n",
      "weighted avg       0.74      0.74      0.74       223\n",
      "\n"
     ]
    }
   ],
   "source": [
    "# TODO: Print the classification report\n",
    "print(classification_report(y_test, predictions))"
   ]
  },
  {
   "cell_type": "markdown",
   "metadata": {},
   "source": [
    "## Building a Support Vector Classifier model\n"
   ]
  },
  {
   "cell_type": "code",
   "execution_count": 22,
   "metadata": {},
   "outputs": [
    {
     "data": {
      "text/html": [
       "<style>#sk-container-id-2 {color: black;background-color: white;}#sk-container-id-2 pre{padding: 0;}#sk-container-id-2 div.sk-toggleable {background-color: white;}#sk-container-id-2 label.sk-toggleable__label {cursor: pointer;display: block;width: 100%;margin-bottom: 0;padding: 0.3em;box-sizing: border-box;text-align: center;}#sk-container-id-2 label.sk-toggleable__label-arrow:before {content: \"▸\";float: left;margin-right: 0.25em;color: #696969;}#sk-container-id-2 label.sk-toggleable__label-arrow:hover:before {color: black;}#sk-container-id-2 div.sk-estimator:hover label.sk-toggleable__label-arrow:before {color: black;}#sk-container-id-2 div.sk-toggleable__content {max-height: 0;max-width: 0;overflow: hidden;text-align: left;background-color: #f0f8ff;}#sk-container-id-2 div.sk-toggleable__content pre {margin: 0.2em;color: black;border-radius: 0.25em;background-color: #f0f8ff;}#sk-container-id-2 input.sk-toggleable__control:checked~div.sk-toggleable__content {max-height: 200px;max-width: 100%;overflow: auto;}#sk-container-id-2 input.sk-toggleable__control:checked~label.sk-toggleable__label-arrow:before {content: \"▾\";}#sk-container-id-2 div.sk-estimator input.sk-toggleable__control:checked~label.sk-toggleable__label {background-color: #d4ebff;}#sk-container-id-2 div.sk-label input.sk-toggleable__control:checked~label.sk-toggleable__label {background-color: #d4ebff;}#sk-container-id-2 input.sk-hidden--visually {border: 0;clip: rect(1px 1px 1px 1px);clip: rect(1px, 1px, 1px, 1px);height: 1px;margin: -1px;overflow: hidden;padding: 0;position: absolute;width: 1px;}#sk-container-id-2 div.sk-estimator {font-family: monospace;background-color: #f0f8ff;border: 1px dotted black;border-radius: 0.25em;box-sizing: border-box;margin-bottom: 0.5em;}#sk-container-id-2 div.sk-estimator:hover {background-color: #d4ebff;}#sk-container-id-2 div.sk-parallel-item::after {content: \"\";width: 100%;border-bottom: 1px solid gray;flex-grow: 1;}#sk-container-id-2 div.sk-label:hover label.sk-toggleable__label {background-color: #d4ebff;}#sk-container-id-2 div.sk-serial::before {content: \"\";position: absolute;border-left: 1px solid gray;box-sizing: border-box;top: 0;bottom: 0;left: 50%;z-index: 0;}#sk-container-id-2 div.sk-serial {display: flex;flex-direction: column;align-items: center;background-color: white;padding-right: 0.2em;padding-left: 0.2em;position: relative;}#sk-container-id-2 div.sk-item {position: relative;z-index: 1;}#sk-container-id-2 div.sk-parallel {display: flex;align-items: stretch;justify-content: center;background-color: white;position: relative;}#sk-container-id-2 div.sk-item::before, #sk-container-id-2 div.sk-parallel-item::before {content: \"\";position: absolute;border-left: 1px solid gray;box-sizing: border-box;top: 0;bottom: 0;left: 50%;z-index: -1;}#sk-container-id-2 div.sk-parallel-item {display: flex;flex-direction: column;z-index: 1;position: relative;background-color: white;}#sk-container-id-2 div.sk-parallel-item:first-child::after {align-self: flex-end;width: 50%;}#sk-container-id-2 div.sk-parallel-item:last-child::after {align-self: flex-start;width: 50%;}#sk-container-id-2 div.sk-parallel-item:only-child::after {width: 0;}#sk-container-id-2 div.sk-dashed-wrapped {border: 1px dashed gray;margin: 0 0.4em 0.5em 0.4em;box-sizing: border-box;padding-bottom: 0.4em;background-color: white;}#sk-container-id-2 div.sk-label label {font-family: monospace;font-weight: bold;display: inline-block;line-height: 1.2em;}#sk-container-id-2 div.sk-label-container {text-align: center;}#sk-container-id-2 div.sk-container {/* jupyter's `normalize.less` sets `[hidden] { display: none; }` but bootstrap.min.css set `[hidden] { display: none !important; }` so we also need the `!important` here to be able to override the default hidden behavior on the sphinx rendered scikit-learn.org. See: https://github.com/scikit-learn/scikit-learn/issues/21755 */display: inline-block !important;position: relative;}#sk-container-id-2 div.sk-text-repr-fallback {display: none;}</style><div id=\"sk-container-id-2\" class=\"sk-top-container\"><div class=\"sk-text-repr-fallback\"><pre>SVC()</pre><b>In a Jupyter environment, please rerun this cell to show the HTML representation or trust the notebook. <br />On GitHub, the HTML representation is unable to render, please try loading this page with nbviewer.org.</b></div><div class=\"sk-container\" hidden><div class=\"sk-item\"><div class=\"sk-estimator sk-toggleable\"><input class=\"sk-toggleable__control sk-hidden--visually\" id=\"sk-estimator-id-2\" type=\"checkbox\" checked><label for=\"sk-estimator-id-2\" class=\"sk-toggleable__label sk-toggleable__label-arrow\">SVC</label><div class=\"sk-toggleable__content\"><pre>SVC()</pre></div></div></div></div></div>"
      ],
      "text/plain": [
       "SVC()"
      ]
     },
     "execution_count": 22,
     "metadata": {},
     "output_type": "execute_result"
    }
   ],
   "source": [
    "from sklearn.svm import SVC\n",
    "svc_model = SVC()\n",
    "svc_model.fit(X_train, y_train)\n",
    "# TODO: fit the model"
   ]
  },
  {
   "cell_type": "code",
   "execution_count": 23,
   "metadata": {},
   "outputs": [],
   "source": [
    "predictions = svc_model.predict(X_test)"
   ]
  },
  {
   "cell_type": "code",
   "execution_count": 24,
   "metadata": {},
   "outputs": [
    {
     "name": "stdout",
     "output_type": "stream",
     "text": [
      "              precision    recall  f1-score   support\n",
      "\n",
      "           0       0.67      0.77      0.71       111\n",
      "           1       0.73      0.62      0.67       112\n",
      "\n",
      "    accuracy                           0.70       223\n",
      "   macro avg       0.70      0.70      0.69       223\n",
      "weighted avg       0.70      0.70      0.69       223\n",
      "\n"
     ]
    }
   ],
   "source": [
    "# TODO: Print the classification report\n",
    "print(classification_report(y_test, predictions))"
   ]
  },
  {
   "cell_type": "code",
   "execution_count": 25,
   "metadata": {
    "scrolled": true
   },
   "outputs": [
    {
     "name": "stdout",
     "output_type": "stream",
     "text": [
      "[[85 26]\n",
      " [42 70]]\n"
     ]
    }
   ],
   "source": [
    "# TODO: Print the confusion matrix\n",
    "print(confusion_matrix(y_test, predictions))"
   ]
  },
  {
   "cell_type": "markdown",
   "metadata": {},
   "source": [
    "#### Use Grid search \n",
    "\n",
    "Grid search is a process that searches exhaustively through a manually specified subset of the hyperparameter space of the targeted algorithm. We need to specify the parameters to search through for best results. \n",
    "\n",
    "For SVM we will tune these hyperparameters:\n",
    "\n",
    "1. Parameter 'C': determines how much you want to avoid missclassfying each training examples. \n",
    "2. Parameter 'gamma': Defiens how far the influence of a single training example reaches. High gamma will consider only points close to the hyperplane, and low gamma will consider points at a greater distance\n",
    "\n",
    "Now we will use GridSearchCV to find the best parameters for the model. Refer to: https://scikit-learn.org/stable/modules/grid_search.html"
   ]
  },
  {
   "cell_type": "code",
   "execution_count": 26,
   "metadata": {},
   "outputs": [],
   "source": [
    "from sklearn.model_selection import GridSearchCV"
   ]
  },
  {
   "cell_type": "code",
   "execution_count": 83,
   "metadata": {},
   "outputs": [],
   "source": [
    "param_grid = {\n",
    "    'C': np.linspace(1e-2, 1e6, num=10), \n",
    "    'gamma': np.linspace(1, 1e-6, num=10)\n",
    "} "
   ]
  },
  {
   "cell_type": "code",
   "execution_count": 84,
   "metadata": {
    "scrolled": true
   },
   "outputs": [
    {
     "name": "stdout",
     "output_type": "stream",
     "text": [
      "Fitting 5 folds for each of 100 candidates, totalling 500 fits\n",
      "[CV 1/5] END .................C=0.01, gamma=1.0;, score=0.503 total time=   0.0s\n",
      "[CV 2/5] END .................C=0.01, gamma=1.0;, score=0.503 total time=   0.0s\n",
      "[CV 3/5] END .................C=0.01, gamma=1.0;, score=0.500 total time=   0.0s\n",
      "[CV 4/5] END .................C=0.01, gamma=1.0;, score=0.500 total time=   0.0s\n",
      "[CV 5/5] END .................C=0.01, gamma=1.0;, score=0.500 total time=   0.0s\n",
      "[CV 1/5] END ............C=0.01, gamma=0.888889;, score=0.503 total time=   0.0s\n",
      "[CV 2/5] END ............C=0.01, gamma=0.888889;, score=0.503 total time=   0.0s\n",
      "[CV 3/5] END ............C=0.01, gamma=0.888889;, score=0.500 total time=   0.0s\n",
      "[CV 4/5] END ............C=0.01, gamma=0.888889;, score=0.500 total time=   0.0s\n",
      "[CV 5/5] END ............C=0.01, gamma=0.888889;, score=0.500 total time=   0.0s\n",
      "[CV 1/5] END ............C=0.01, gamma=0.777778;, score=0.503 total time=   0.0s\n",
      "[CV 2/5] END ............C=0.01, gamma=0.777778;, score=0.503 total time=   0.0s\n",
      "[CV 3/5] END ............C=0.01, gamma=0.777778;, score=0.500 total time=   0.0s\n",
      "[CV 4/5] END ............C=0.01, gamma=0.777778;, score=0.500 total time=   0.0s\n",
      "[CV 5/5] END ............C=0.01, gamma=0.777778;, score=0.500 total time=   0.0s\n",
      "[CV 1/5] END ............C=0.01, gamma=0.666667;, score=0.503 total time=   0.0s\n",
      "[CV 2/5] END ............C=0.01, gamma=0.666667;, score=0.503 total time=   0.0s\n",
      "[CV 3/5] END ............C=0.01, gamma=0.666667;, score=0.500 total time=   0.0s\n",
      "[CV 4/5] END ............C=0.01, gamma=0.666667;, score=0.500 total time=   0.0s\n",
      "[CV 5/5] END ............C=0.01, gamma=0.666667;, score=0.500 total time=   0.0s\n",
      "[CV 1/5] END ..C=0.01, gamma=0.5555559999999999;, score=0.503 total time=   0.0s\n",
      "[CV 2/5] END ..C=0.01, gamma=0.5555559999999999;, score=0.503 total time=   0.0s\n",
      "[CV 3/5] END ..C=0.01, gamma=0.5555559999999999;, score=0.500 total time=   0.0s\n",
      "[CV 4/5] END ..C=0.01, gamma=0.5555559999999999;, score=0.500 total time=   0.0s\n",
      "[CV 5/5] END ..C=0.01, gamma=0.5555559999999999;, score=0.500 total time=   0.0s\n",
      "[CV 1/5] END ............C=0.01, gamma=0.444445;, score=0.503 total time=   0.0s\n",
      "[CV 2/5] END ............C=0.01, gamma=0.444445;, score=0.503 total time=   0.0s\n",
      "[CV 3/5] END ............C=0.01, gamma=0.444445;, score=0.500 total time=   0.0s\n",
      "[CV 4/5] END ............C=0.01, gamma=0.444445;, score=0.500 total time=   0.0s\n",
      "[CV 5/5] END ............C=0.01, gamma=0.444445;, score=0.500 total time=   0.0s\n",
      "[CV 1/5] END ............C=0.01, gamma=0.333334;, score=0.503 total time=   0.0s\n",
      "[CV 2/5] END ............C=0.01, gamma=0.333334;, score=0.503 total time=   0.0s\n",
      "[CV 3/5] END ............C=0.01, gamma=0.333334;, score=0.500 total time=   0.0s\n",
      "[CV 4/5] END ............C=0.01, gamma=0.333334;, score=0.500 total time=   0.0s\n",
      "[CV 5/5] END ............C=0.01, gamma=0.333334;, score=0.500 total time=   0.0s\n",
      "[CV 1/5] END .C=0.01, gamma=0.22222299999999995;, score=0.503 total time=   0.0s\n",
      "[CV 2/5] END .C=0.01, gamma=0.22222299999999995;, score=0.503 total time=   0.0s\n",
      "[CV 3/5] END .C=0.01, gamma=0.22222299999999995;, score=0.500 total time=   0.0s\n",
      "[CV 4/5] END .C=0.01, gamma=0.22222299999999995;, score=0.500 total time=   0.0s\n",
      "[CV 5/5] END .C=0.01, gamma=0.22222299999999995;, score=0.500 total time=   0.0s\n",
      "[CV 1/5] END .C=0.01, gamma=0.11111199999999999;, score=0.503 total time=   0.0s\n",
      "[CV 2/5] END .C=0.01, gamma=0.11111199999999999;, score=0.503 total time=   0.0s\n",
      "[CV 3/5] END .C=0.01, gamma=0.11111199999999999;, score=0.500 total time=   0.0s\n",
      "[CV 4/5] END .C=0.01, gamma=0.11111199999999999;, score=0.500 total time=   0.0s\n",
      "[CV 5/5] END .C=0.01, gamma=0.11111199999999999;, score=0.500 total time=   0.0s\n",
      "[CV 1/5] END ...............C=0.01, gamma=1e-06;, score=0.503 total time=   0.0s\n",
      "[CV 2/5] END ...............C=0.01, gamma=1e-06;, score=0.503 total time=   0.0s\n",
      "[CV 3/5] END ...............C=0.01, gamma=1e-06;, score=0.500 total time=   0.0s\n",
      "[CV 4/5] END ...............C=0.01, gamma=1e-06;, score=0.500 total time=   0.0s\n",
      "[CV 5/5] END ...............C=0.01, gamma=1e-06;, score=0.500 total time=   0.0s\n",
      "[CV 1/5] END ............C=111111.12, gamma=1.0;, score=0.587 total time=   0.0s\n",
      "[CV 2/5] END ............C=111111.12, gamma=1.0;, score=0.603 total time=   0.0s\n",
      "[CV 3/5] END ............C=111111.12, gamma=1.0;, score=0.579 total time=   0.0s\n",
      "[CV 4/5] END ............C=111111.12, gamma=1.0;, score=0.545 total time=   0.0s\n",
      "[CV 5/5] END ............C=111111.12, gamma=1.0;, score=0.579 total time=   0.0s\n",
      "[CV 1/5] END .......C=111111.12, gamma=0.888889;, score=0.587 total time=   0.0s\n",
      "[CV 2/5] END .......C=111111.12, gamma=0.888889;, score=0.603 total time=   0.0s\n",
      "[CV 3/5] END .......C=111111.12, gamma=0.888889;, score=0.562 total time=   0.0s\n",
      "[CV 4/5] END .......C=111111.12, gamma=0.888889;, score=0.545 total time=   0.0s\n",
      "[CV 5/5] END .......C=111111.12, gamma=0.888889;, score=0.596 total time=   0.0s\n",
      "[CV 1/5] END .......C=111111.12, gamma=0.777778;, score=0.587 total time=   0.0s\n",
      "[CV 2/5] END .......C=111111.12, gamma=0.777778;, score=0.598 total time=   0.0s\n",
      "[CV 3/5] END .......C=111111.12, gamma=0.777778;, score=0.551 total time=   0.0s\n",
      "[CV 4/5] END .......C=111111.12, gamma=0.777778;, score=0.545 total time=   0.0s\n",
      "[CV 5/5] END .......C=111111.12, gamma=0.777778;, score=0.590 total time=   0.0s\n",
      "[CV 1/5] END .......C=111111.12, gamma=0.666667;, score=0.592 total time=   0.0s\n",
      "[CV 2/5] END .......C=111111.12, gamma=0.666667;, score=0.615 total time=   0.0s\n",
      "[CV 3/5] END .......C=111111.12, gamma=0.666667;, score=0.562 total time=   0.0s\n",
      "[CV 4/5] END .......C=111111.12, gamma=0.666667;, score=0.556 total time=   0.0s\n",
      "[CV 5/5] END .......C=111111.12, gamma=0.666667;, score=0.596 total time=   0.0s\n",
      "[CV 1/5] END C=111111.12, gamma=0.5555559999999999;, score=0.581 total time=   0.0s\n",
      "[CV 2/5] END C=111111.12, gamma=0.5555559999999999;, score=0.592 total time=   0.0s\n",
      "[CV 3/5] END C=111111.12, gamma=0.5555559999999999;, score=0.573 total time=   0.0s\n",
      "[CV 4/5] END C=111111.12, gamma=0.5555559999999999;, score=0.579 total time=   0.0s\n",
      "[CV 5/5] END C=111111.12, gamma=0.5555559999999999;, score=0.590 total time=   0.0s\n",
      "[CV 1/5] END .......C=111111.12, gamma=0.444445;, score=0.559 total time=   0.0s\n",
      "[CV 2/5] END .......C=111111.12, gamma=0.444445;, score=0.587 total time=   0.0s\n",
      "[CV 3/5] END .......C=111111.12, gamma=0.444445;, score=0.573 total time=   0.0s\n",
      "[CV 4/5] END .......C=111111.12, gamma=0.444445;, score=0.590 total time=   0.0s\n",
      "[CV 5/5] END .......C=111111.12, gamma=0.444445;, score=0.590 total time=   0.0s\n",
      "[CV 1/5] END .......C=111111.12, gamma=0.333334;, score=0.547 total time=   0.0s\n",
      "[CV 2/5] END .......C=111111.12, gamma=0.333334;, score=0.570 total time=   0.0s\n",
      "[CV 3/5] END .......C=111111.12, gamma=0.333334;, score=0.579 total time=   0.0s\n",
      "[CV 4/5] END .......C=111111.12, gamma=0.333334;, score=0.601 total time=   0.0s\n",
      "[CV 5/5] END .......C=111111.12, gamma=0.333334;, score=0.579 total time=   0.0s\n",
      "[CV 1/5] END C=111111.12, gamma=0.22222299999999995;, score=0.564 total time=   0.0s\n",
      "[CV 2/5] END C=111111.12, gamma=0.22222299999999995;, score=0.575 total time=   0.0s\n",
      "[CV 3/5] END C=111111.12, gamma=0.22222299999999995;, score=0.596 total time=   0.0s\n",
      "[CV 4/5] END C=111111.12, gamma=0.22222299999999995;, score=0.596 total time=   0.0s\n",
      "[CV 5/5] END C=111111.12, gamma=0.22222299999999995;, score=0.567 total time=   0.0s\n",
      "[CV 1/5] END C=111111.12, gamma=0.11111199999999999;, score=0.553 total time=   0.0s\n",
      "[CV 2/5] END C=111111.12, gamma=0.11111199999999999;, score=0.581 total time=   0.0s\n",
      "[CV 3/5] END C=111111.12, gamma=0.11111199999999999;, score=0.618 total time=   0.0s\n",
      "[CV 4/5] END C=111111.12, gamma=0.11111199999999999;, score=0.579 total time=   0.0s\n",
      "[CV 5/5] END C=111111.12, gamma=0.11111199999999999;, score=0.562 total time=   0.0s\n",
      "[CV 1/5] END ..........C=111111.12, gamma=1e-06;, score=0.687 total time=   0.0s\n",
      "[CV 2/5] END ..........C=111111.12, gamma=1e-06;, score=0.654 total time=   0.0s\n",
      "[CV 3/5] END ..........C=111111.12, gamma=1e-06;, score=0.669 total time=   0.0s\n",
      "[CV 4/5] END ..........C=111111.12, gamma=1e-06;, score=0.669 total time=   0.0s\n",
      "[CV 5/5] END ..........C=111111.12, gamma=1e-06;, score=0.669 total time=   0.0s\n",
      "[CV 1/5] END ............C=222222.23, gamma=1.0;, score=0.587 total time=   0.0s\n",
      "[CV 2/5] END ............C=222222.23, gamma=1.0;, score=0.603 total time=   0.0s\n",
      "[CV 3/5] END ............C=222222.23, gamma=1.0;, score=0.579 total time=   0.0s\n",
      "[CV 4/5] END ............C=222222.23, gamma=1.0;, score=0.545 total time=   0.0s\n",
      "[CV 5/5] END ............C=222222.23, gamma=1.0;, score=0.579 total time=   0.0s\n",
      "[CV 1/5] END .......C=222222.23, gamma=0.888889;, score=0.587 total time=   0.0s\n",
      "[CV 2/5] END .......C=222222.23, gamma=0.888889;, score=0.603 total time=   0.0s\n"
     ]
    },
    {
     "name": "stdout",
     "output_type": "stream",
     "text": [
      "[CV 3/5] END .......C=222222.23, gamma=0.888889;, score=0.562 total time=   0.0s\n",
      "[CV 4/5] END .......C=222222.23, gamma=0.888889;, score=0.545 total time=   0.0s\n",
      "[CV 5/5] END .......C=222222.23, gamma=0.888889;, score=0.596 total time=   0.0s\n",
      "[CV 1/5] END .......C=222222.23, gamma=0.777778;, score=0.587 total time=   0.0s\n",
      "[CV 2/5] END .......C=222222.23, gamma=0.777778;, score=0.598 total time=   0.0s\n",
      "[CV 3/5] END .......C=222222.23, gamma=0.777778;, score=0.551 total time=   0.0s\n",
      "[CV 4/5] END .......C=222222.23, gamma=0.777778;, score=0.545 total time=   0.0s\n",
      "[CV 5/5] END .......C=222222.23, gamma=0.777778;, score=0.590 total time=   0.0s\n",
      "[CV 1/5] END .......C=222222.23, gamma=0.666667;, score=0.592 total time=   0.0s\n",
      "[CV 2/5] END .......C=222222.23, gamma=0.666667;, score=0.615 total time=   0.0s\n",
      "[CV 3/5] END .......C=222222.23, gamma=0.666667;, score=0.562 total time=   0.0s\n",
      "[CV 4/5] END .......C=222222.23, gamma=0.666667;, score=0.556 total time=   0.0s\n",
      "[CV 5/5] END .......C=222222.23, gamma=0.666667;, score=0.596 total time=   0.0s\n",
      "[CV 1/5] END C=222222.23, gamma=0.5555559999999999;, score=0.581 total time=   0.0s\n",
      "[CV 2/5] END C=222222.23, gamma=0.5555559999999999;, score=0.592 total time=   0.0s\n",
      "[CV 3/5] END C=222222.23, gamma=0.5555559999999999;, score=0.573 total time=   0.0s\n",
      "[CV 4/5] END C=222222.23, gamma=0.5555559999999999;, score=0.579 total time=   0.0s\n",
      "[CV 5/5] END C=222222.23, gamma=0.5555559999999999;, score=0.590 total time=   0.0s\n",
      "[CV 1/5] END .......C=222222.23, gamma=0.444445;, score=0.559 total time=   0.0s\n",
      "[CV 2/5] END .......C=222222.23, gamma=0.444445;, score=0.587 total time=   0.0s\n",
      "[CV 3/5] END .......C=222222.23, gamma=0.444445;, score=0.573 total time=   0.0s\n",
      "[CV 4/5] END .......C=222222.23, gamma=0.444445;, score=0.590 total time=   0.0s\n",
      "[CV 5/5] END .......C=222222.23, gamma=0.444445;, score=0.590 total time=   0.0s\n",
      "[CV 1/5] END .......C=222222.23, gamma=0.333334;, score=0.547 total time=   0.0s\n",
      "[CV 2/5] END .......C=222222.23, gamma=0.333334;, score=0.570 total time=   0.0s\n",
      "[CV 3/5] END .......C=222222.23, gamma=0.333334;, score=0.579 total time=   0.0s\n",
      "[CV 4/5] END .......C=222222.23, gamma=0.333334;, score=0.601 total time=   0.0s\n",
      "[CV 5/5] END .......C=222222.23, gamma=0.333334;, score=0.579 total time=   0.0s\n",
      "[CV 1/5] END C=222222.23, gamma=0.22222299999999995;, score=0.564 total time=   0.0s\n",
      "[CV 2/5] END C=222222.23, gamma=0.22222299999999995;, score=0.575 total time=   0.0s\n",
      "[CV 3/5] END C=222222.23, gamma=0.22222299999999995;, score=0.596 total time=   0.0s\n",
      "[CV 4/5] END C=222222.23, gamma=0.22222299999999995;, score=0.596 total time=   0.0s\n",
      "[CV 5/5] END C=222222.23, gamma=0.22222299999999995;, score=0.567 total time=   0.0s\n",
      "[CV 1/5] END C=222222.23, gamma=0.11111199999999999;, score=0.553 total time=   0.0s\n",
      "[CV 2/5] END C=222222.23, gamma=0.11111199999999999;, score=0.581 total time=   0.0s\n",
      "[CV 3/5] END C=222222.23, gamma=0.11111199999999999;, score=0.618 total time=   0.0s\n",
      "[CV 4/5] END C=222222.23, gamma=0.11111199999999999;, score=0.579 total time=   0.0s\n",
      "[CV 5/5] END C=222222.23, gamma=0.11111199999999999;, score=0.562 total time=   0.0s\n",
      "[CV 1/5] END ..........C=222222.23, gamma=1e-06;, score=0.682 total time=   0.0s\n",
      "[CV 2/5] END ..........C=222222.23, gamma=1e-06;, score=0.654 total time=   0.0s\n",
      "[CV 3/5] END ..........C=222222.23, gamma=1e-06;, score=0.652 total time=   0.0s\n",
      "[CV 4/5] END ..........C=222222.23, gamma=1e-06;, score=0.663 total time=   0.0s\n",
      "[CV 5/5] END ..........C=222222.23, gamma=1e-06;, score=0.674 total time=   0.0s\n",
      "[CV 1/5] END ............C=333333.34, gamma=1.0;, score=0.587 total time=   0.0s\n",
      "[CV 2/5] END ............C=333333.34, gamma=1.0;, score=0.603 total time=   0.0s\n",
      "[CV 3/5] END ............C=333333.34, gamma=1.0;, score=0.579 total time=   0.0s\n",
      "[CV 4/5] END ............C=333333.34, gamma=1.0;, score=0.545 total time=   0.0s\n",
      "[CV 5/5] END ............C=333333.34, gamma=1.0;, score=0.579 total time=   0.0s\n",
      "[CV 1/5] END .......C=333333.34, gamma=0.888889;, score=0.587 total time=   0.0s\n",
      "[CV 2/5] END .......C=333333.34, gamma=0.888889;, score=0.603 total time=   0.0s\n",
      "[CV 3/5] END .......C=333333.34, gamma=0.888889;, score=0.562 total time=   0.0s\n",
      "[CV 4/5] END .......C=333333.34, gamma=0.888889;, score=0.545 total time=   0.0s\n",
      "[CV 5/5] END .......C=333333.34, gamma=0.888889;, score=0.596 total time=   0.0s\n",
      "[CV 1/5] END .......C=333333.34, gamma=0.777778;, score=0.587 total time=   0.0s\n",
      "[CV 2/5] END .......C=333333.34, gamma=0.777778;, score=0.598 total time=   0.0s\n",
      "[CV 3/5] END .......C=333333.34, gamma=0.777778;, score=0.551 total time=   0.0s\n",
      "[CV 4/5] END .......C=333333.34, gamma=0.777778;, score=0.545 total time=   0.0s\n",
      "[CV 5/5] END .......C=333333.34, gamma=0.777778;, score=0.590 total time=   0.0s\n",
      "[CV 1/5] END .......C=333333.34, gamma=0.666667;, score=0.592 total time=   0.0s\n",
      "[CV 2/5] END .......C=333333.34, gamma=0.666667;, score=0.615 total time=   0.0s\n",
      "[CV 3/5] END .......C=333333.34, gamma=0.666667;, score=0.562 total time=   0.0s\n",
      "[CV 4/5] END .......C=333333.34, gamma=0.666667;, score=0.556 total time=   0.0s\n",
      "[CV 5/5] END .......C=333333.34, gamma=0.666667;, score=0.596 total time=   0.0s\n",
      "[CV 1/5] END C=333333.34, gamma=0.5555559999999999;, score=0.581 total time=   0.0s\n",
      "[CV 2/5] END C=333333.34, gamma=0.5555559999999999;, score=0.592 total time=   0.0s\n",
      "[CV 3/5] END C=333333.34, gamma=0.5555559999999999;, score=0.573 total time=   0.0s\n",
      "[CV 4/5] END C=333333.34, gamma=0.5555559999999999;, score=0.579 total time=   0.0s\n",
      "[CV 5/5] END C=333333.34, gamma=0.5555559999999999;, score=0.590 total time=   0.0s\n",
      "[CV 1/5] END .......C=333333.34, gamma=0.444445;, score=0.559 total time=   0.0s\n",
      "[CV 2/5] END .......C=333333.34, gamma=0.444445;, score=0.587 total time=   0.0s\n",
      "[CV 3/5] END .......C=333333.34, gamma=0.444445;, score=0.573 total time=   0.0s\n",
      "[CV 4/5] END .......C=333333.34, gamma=0.444445;, score=0.590 total time=   0.0s\n",
      "[CV 5/5] END .......C=333333.34, gamma=0.444445;, score=0.590 total time=   0.0s\n",
      "[CV 1/5] END .......C=333333.34, gamma=0.333334;, score=0.547 total time=   0.0s\n",
      "[CV 2/5] END .......C=333333.34, gamma=0.333334;, score=0.570 total time=   0.0s\n",
      "[CV 3/5] END .......C=333333.34, gamma=0.333334;, score=0.579 total time=   0.0s\n",
      "[CV 4/5] END .......C=333333.34, gamma=0.333334;, score=0.601 total time=   0.0s\n",
      "[CV 5/5] END .......C=333333.34, gamma=0.333334;, score=0.579 total time=   0.0s\n",
      "[CV 1/5] END C=333333.34, gamma=0.22222299999999995;, score=0.564 total time=   0.0s\n",
      "[CV 2/5] END C=333333.34, gamma=0.22222299999999995;, score=0.575 total time=   0.0s\n",
      "[CV 3/5] END C=333333.34, gamma=0.22222299999999995;, score=0.596 total time=   0.0s\n",
      "[CV 4/5] END C=333333.34, gamma=0.22222299999999995;, score=0.596 total time=   0.0s\n",
      "[CV 5/5] END C=333333.34, gamma=0.22222299999999995;, score=0.567 total time=   0.0s\n",
      "[CV 1/5] END C=333333.34, gamma=0.11111199999999999;, score=0.553 total time=   0.0s\n",
      "[CV 2/5] END C=333333.34, gamma=0.11111199999999999;, score=0.581 total time=   0.0s\n",
      "[CV 3/5] END C=333333.34, gamma=0.11111199999999999;, score=0.618 total time=   0.0s\n",
      "[CV 4/5] END C=333333.34, gamma=0.11111199999999999;, score=0.579 total time=   0.0s\n",
      "[CV 5/5] END C=333333.34, gamma=0.11111199999999999;, score=0.562 total time=   0.0s\n",
      "[CV 1/5] END ..........C=333333.34, gamma=1e-06;, score=0.676 total time=   0.0s\n",
      "[CV 2/5] END ..........C=333333.34, gamma=1e-06;, score=0.648 total time=   0.0s\n",
      "[CV 3/5] END ..........C=333333.34, gamma=1e-06;, score=0.669 total time=   0.0s\n",
      "[CV 4/5] END ..........C=333333.34, gamma=1e-06;, score=0.657 total time=   0.0s\n",
      "[CV 5/5] END ..........C=333333.34, gamma=1e-06;, score=0.680 total time=   0.0s\n",
      "[CV 1/5] END ............C=444444.45, gamma=1.0;, score=0.587 total time=   0.0s\n",
      "[CV 2/5] END ............C=444444.45, gamma=1.0;, score=0.603 total time=   0.0s\n",
      "[CV 3/5] END ............C=444444.45, gamma=1.0;, score=0.579 total time=   0.0s\n",
      "[CV 4/5] END ............C=444444.45, gamma=1.0;, score=0.545 total time=   0.0s\n",
      "[CV 5/5] END ............C=444444.45, gamma=1.0;, score=0.579 total time=   0.0s\n",
      "[CV 1/5] END .......C=444444.45, gamma=0.888889;, score=0.587 total time=   0.0s\n",
      "[CV 2/5] END .......C=444444.45, gamma=0.888889;, score=0.603 total time=   0.0s\n",
      "[CV 3/5] END .......C=444444.45, gamma=0.888889;, score=0.562 total time=   0.0s\n",
      "[CV 4/5] END .......C=444444.45, gamma=0.888889;, score=0.545 total time=   0.0s\n",
      "[CV 5/5] END .......C=444444.45, gamma=0.888889;, score=0.596 total time=   0.0s\n",
      "[CV 1/5] END .......C=444444.45, gamma=0.777778;, score=0.587 total time=   0.0s\n",
      "[CV 2/5] END .......C=444444.45, gamma=0.777778;, score=0.598 total time=   0.0s\n",
      "[CV 3/5] END .......C=444444.45, gamma=0.777778;, score=0.551 total time=   0.0s\n",
      "[CV 4/5] END .......C=444444.45, gamma=0.777778;, score=0.545 total time=   0.0s\n",
      "[CV 5/5] END .......C=444444.45, gamma=0.777778;, score=0.590 total time=   0.0s\n",
      "[CV 1/5] END .......C=444444.45, gamma=0.666667;, score=0.592 total time=   0.0s\n"
     ]
    },
    {
     "name": "stdout",
     "output_type": "stream",
     "text": [
      "[CV 2/5] END .......C=444444.45, gamma=0.666667;, score=0.615 total time=   0.0s\n",
      "[CV 3/5] END .......C=444444.45, gamma=0.666667;, score=0.562 total time=   0.0s\n",
      "[CV 4/5] END .......C=444444.45, gamma=0.666667;, score=0.556 total time=   0.0s\n",
      "[CV 5/5] END .......C=444444.45, gamma=0.666667;, score=0.596 total time=   0.0s\n",
      "[CV 1/5] END C=444444.45, gamma=0.5555559999999999;, score=0.581 total time=   0.0s\n",
      "[CV 2/5] END C=444444.45, gamma=0.5555559999999999;, score=0.592 total time=   0.0s\n",
      "[CV 3/5] END C=444444.45, gamma=0.5555559999999999;, score=0.573 total time=   0.0s\n",
      "[CV 4/5] END C=444444.45, gamma=0.5555559999999999;, score=0.579 total time=   0.0s\n",
      "[CV 5/5] END C=444444.45, gamma=0.5555559999999999;, score=0.590 total time=   0.0s\n",
      "[CV 1/5] END .......C=444444.45, gamma=0.444445;, score=0.559 total time=   0.0s\n",
      "[CV 2/5] END .......C=444444.45, gamma=0.444445;, score=0.587 total time=   0.0s\n",
      "[CV 3/5] END .......C=444444.45, gamma=0.444445;, score=0.573 total time=   0.0s\n",
      "[CV 4/5] END .......C=444444.45, gamma=0.444445;, score=0.590 total time=   0.0s\n",
      "[CV 5/5] END .......C=444444.45, gamma=0.444445;, score=0.590 total time=   0.0s\n",
      "[CV 1/5] END .......C=444444.45, gamma=0.333334;, score=0.547 total time=   0.0s\n",
      "[CV 2/5] END .......C=444444.45, gamma=0.333334;, score=0.570 total time=   0.0s\n",
      "[CV 3/5] END .......C=444444.45, gamma=0.333334;, score=0.579 total time=   0.0s\n",
      "[CV 4/5] END .......C=444444.45, gamma=0.333334;, score=0.601 total time=   0.0s\n",
      "[CV 5/5] END .......C=444444.45, gamma=0.333334;, score=0.579 total time=   0.0s\n",
      "[CV 1/5] END C=444444.45, gamma=0.22222299999999995;, score=0.564 total time=   0.0s\n",
      "[CV 2/5] END C=444444.45, gamma=0.22222299999999995;, score=0.575 total time=   0.0s\n",
      "[CV 3/5] END C=444444.45, gamma=0.22222299999999995;, score=0.596 total time=   0.0s\n",
      "[CV 4/5] END C=444444.45, gamma=0.22222299999999995;, score=0.596 total time=   0.0s\n",
      "[CV 5/5] END C=444444.45, gamma=0.22222299999999995;, score=0.567 total time=   0.0s\n",
      "[CV 1/5] END C=444444.45, gamma=0.11111199999999999;, score=0.553 total time=   0.0s\n",
      "[CV 2/5] END C=444444.45, gamma=0.11111199999999999;, score=0.581 total time=   0.0s\n",
      "[CV 3/5] END C=444444.45, gamma=0.11111199999999999;, score=0.618 total time=   0.0s\n",
      "[CV 4/5] END C=444444.45, gamma=0.11111199999999999;, score=0.579 total time=   0.0s\n",
      "[CV 5/5] END C=444444.45, gamma=0.11111199999999999;, score=0.562 total time=   0.0s\n",
      "[CV 1/5] END ..........C=444444.45, gamma=1e-06;, score=0.676 total time=   0.0s\n",
      "[CV 2/5] END ..........C=444444.45, gamma=1e-06;, score=0.654 total time=   0.0s\n",
      "[CV 3/5] END ..........C=444444.45, gamma=1e-06;, score=0.669 total time=   0.0s\n",
      "[CV 4/5] END ..........C=444444.45, gamma=1e-06;, score=0.663 total time=   0.0s\n",
      "[CV 5/5] END ..........C=444444.45, gamma=1e-06;, score=0.685 total time=   0.0s\n",
      "[CV 1/5] END ............C=555555.56, gamma=1.0;, score=0.587 total time=   0.0s\n",
      "[CV 2/5] END ............C=555555.56, gamma=1.0;, score=0.603 total time=   0.0s\n",
      "[CV 3/5] END ............C=555555.56, gamma=1.0;, score=0.579 total time=   0.0s\n",
      "[CV 4/5] END ............C=555555.56, gamma=1.0;, score=0.545 total time=   0.0s\n",
      "[CV 5/5] END ............C=555555.56, gamma=1.0;, score=0.579 total time=   0.0s\n",
      "[CV 1/5] END .......C=555555.56, gamma=0.888889;, score=0.587 total time=   0.0s\n",
      "[CV 2/5] END .......C=555555.56, gamma=0.888889;, score=0.603 total time=   0.0s\n",
      "[CV 3/5] END .......C=555555.56, gamma=0.888889;, score=0.562 total time=   0.0s\n",
      "[CV 4/5] END .......C=555555.56, gamma=0.888889;, score=0.545 total time=   0.0s\n",
      "[CV 5/5] END .......C=555555.56, gamma=0.888889;, score=0.596 total time=   0.0s\n",
      "[CV 1/5] END .......C=555555.56, gamma=0.777778;, score=0.587 total time=   0.0s\n",
      "[CV 2/5] END .......C=555555.56, gamma=0.777778;, score=0.598 total time=   0.0s\n",
      "[CV 3/5] END .......C=555555.56, gamma=0.777778;, score=0.551 total time=   0.0s\n",
      "[CV 4/5] END .......C=555555.56, gamma=0.777778;, score=0.545 total time=   0.0s\n",
      "[CV 5/5] END .......C=555555.56, gamma=0.777778;, score=0.590 total time=   0.0s\n",
      "[CV 1/5] END .......C=555555.56, gamma=0.666667;, score=0.592 total time=   0.0s\n",
      "[CV 2/5] END .......C=555555.56, gamma=0.666667;, score=0.615 total time=   0.0s\n",
      "[CV 3/5] END .......C=555555.56, gamma=0.666667;, score=0.562 total time=   0.0s\n",
      "[CV 4/5] END .......C=555555.56, gamma=0.666667;, score=0.556 total time=   0.0s\n",
      "[CV 5/5] END .......C=555555.56, gamma=0.666667;, score=0.596 total time=   0.0s\n",
      "[CV 1/5] END C=555555.56, gamma=0.5555559999999999;, score=0.581 total time=   0.0s\n",
      "[CV 2/5] END C=555555.56, gamma=0.5555559999999999;, score=0.592 total time=   0.0s\n",
      "[CV 3/5] END C=555555.56, gamma=0.5555559999999999;, score=0.573 total time=   0.0s\n",
      "[CV 4/5] END C=555555.56, gamma=0.5555559999999999;, score=0.579 total time=   0.0s\n",
      "[CV 5/5] END C=555555.56, gamma=0.5555559999999999;, score=0.590 total time=   0.0s\n",
      "[CV 1/5] END .......C=555555.56, gamma=0.444445;, score=0.559 total time=   0.0s\n",
      "[CV 2/5] END .......C=555555.56, gamma=0.444445;, score=0.587 total time=   0.0s\n",
      "[CV 3/5] END .......C=555555.56, gamma=0.444445;, score=0.573 total time=   0.0s\n",
      "[CV 4/5] END .......C=555555.56, gamma=0.444445;, score=0.590 total time=   0.0s\n",
      "[CV 5/5] END .......C=555555.56, gamma=0.444445;, score=0.590 total time=   0.0s\n",
      "[CV 1/5] END .......C=555555.56, gamma=0.333334;, score=0.547 total time=   0.0s\n",
      "[CV 2/5] END .......C=555555.56, gamma=0.333334;, score=0.570 total time=   0.0s\n",
      "[CV 3/5] END .......C=555555.56, gamma=0.333334;, score=0.579 total time=   0.0s\n",
      "[CV 4/5] END .......C=555555.56, gamma=0.333334;, score=0.601 total time=   0.0s\n",
      "[CV 5/5] END .......C=555555.56, gamma=0.333334;, score=0.579 total time=   0.0s\n",
      "[CV 1/5] END C=555555.56, gamma=0.22222299999999995;, score=0.564 total time=   0.0s\n",
      "[CV 2/5] END C=555555.56, gamma=0.22222299999999995;, score=0.575 total time=   0.0s\n",
      "[CV 3/5] END C=555555.56, gamma=0.22222299999999995;, score=0.596 total time=   0.0s\n",
      "[CV 4/5] END C=555555.56, gamma=0.22222299999999995;, score=0.596 total time=   0.0s\n",
      "[CV 5/5] END C=555555.56, gamma=0.22222299999999995;, score=0.567 total time=   0.0s\n",
      "[CV 1/5] END C=555555.56, gamma=0.11111199999999999;, score=0.553 total time=   0.0s\n",
      "[CV 2/5] END C=555555.56, gamma=0.11111199999999999;, score=0.581 total time=   0.0s\n",
      "[CV 3/5] END C=555555.56, gamma=0.11111199999999999;, score=0.618 total time=   0.0s\n",
      "[CV 4/5] END C=555555.56, gamma=0.11111199999999999;, score=0.579 total time=   0.0s\n",
      "[CV 5/5] END C=555555.56, gamma=0.11111199999999999;, score=0.562 total time=   0.0s\n",
      "[CV 1/5] END ..........C=555555.56, gamma=1e-06;, score=0.670 total time=   0.0s\n",
      "[CV 2/5] END ..........C=555555.56, gamma=1e-06;, score=0.659 total time=   0.0s\n",
      "[CV 3/5] END ..........C=555555.56, gamma=1e-06;, score=0.652 total time=   0.0s\n",
      "[CV 4/5] END ..........C=555555.56, gamma=1e-06;, score=0.669 total time=   0.0s\n",
      "[CV 5/5] END ..........C=555555.56, gamma=1e-06;, score=0.685 total time=   0.0s\n",
      "[CV 1/5] END ............C=666666.67, gamma=1.0;, score=0.587 total time=   0.0s\n",
      "[CV 2/5] END ............C=666666.67, gamma=1.0;, score=0.603 total time=   0.0s\n",
      "[CV 3/5] END ............C=666666.67, gamma=1.0;, score=0.579 total time=   0.0s\n",
      "[CV 4/5] END ............C=666666.67, gamma=1.0;, score=0.545 total time=   0.0s\n",
      "[CV 5/5] END ............C=666666.67, gamma=1.0;, score=0.579 total time=   0.0s\n",
      "[CV 1/5] END .......C=666666.67, gamma=0.888889;, score=0.587 total time=   0.0s\n",
      "[CV 2/5] END .......C=666666.67, gamma=0.888889;, score=0.603 total time=   0.0s\n",
      "[CV 3/5] END .......C=666666.67, gamma=0.888889;, score=0.562 total time=   0.0s\n",
      "[CV 4/5] END .......C=666666.67, gamma=0.888889;, score=0.545 total time=   0.0s\n",
      "[CV 5/5] END .......C=666666.67, gamma=0.888889;, score=0.596 total time=   0.0s\n",
      "[CV 1/5] END .......C=666666.67, gamma=0.777778;, score=0.587 total time=   0.0s\n",
      "[CV 2/5] END .......C=666666.67, gamma=0.777778;, score=0.598 total time=   0.0s\n",
      "[CV 3/5] END .......C=666666.67, gamma=0.777778;, score=0.551 total time=   0.0s\n",
      "[CV 4/5] END .......C=666666.67, gamma=0.777778;, score=0.545 total time=   0.0s\n",
      "[CV 5/5] END .......C=666666.67, gamma=0.777778;, score=0.590 total time=   0.0s\n",
      "[CV 1/5] END .......C=666666.67, gamma=0.666667;, score=0.592 total time=   0.0s\n",
      "[CV 2/5] END .......C=666666.67, gamma=0.666667;, score=0.615 total time=   0.0s\n",
      "[CV 3/5] END .......C=666666.67, gamma=0.666667;, score=0.562 total time=   0.0s\n",
      "[CV 4/5] END .......C=666666.67, gamma=0.666667;, score=0.556 total time=   0.0s\n",
      "[CV 5/5] END .......C=666666.67, gamma=0.666667;, score=0.596 total time=   0.0s\n",
      "[CV 1/5] END C=666666.67, gamma=0.5555559999999999;, score=0.581 total time=   0.0s\n",
      "[CV 2/5] END C=666666.67, gamma=0.5555559999999999;, score=0.592 total time=   0.0s\n",
      "[CV 3/5] END C=666666.67, gamma=0.5555559999999999;, score=0.573 total time=   0.0s\n"
     ]
    },
    {
     "name": "stdout",
     "output_type": "stream",
     "text": [
      "[CV 4/5] END C=666666.67, gamma=0.5555559999999999;, score=0.579 total time=   0.0s\n",
      "[CV 5/5] END C=666666.67, gamma=0.5555559999999999;, score=0.590 total time=   0.0s\n",
      "[CV 1/5] END .......C=666666.67, gamma=0.444445;, score=0.559 total time=   0.0s\n",
      "[CV 2/5] END .......C=666666.67, gamma=0.444445;, score=0.587 total time=   0.0s\n",
      "[CV 3/5] END .......C=666666.67, gamma=0.444445;, score=0.573 total time=   0.0s\n",
      "[CV 4/5] END .......C=666666.67, gamma=0.444445;, score=0.590 total time=   0.0s\n",
      "[CV 5/5] END .......C=666666.67, gamma=0.444445;, score=0.590 total time=   0.0s\n",
      "[CV 1/5] END .......C=666666.67, gamma=0.333334;, score=0.547 total time=   0.0s\n",
      "[CV 2/5] END .......C=666666.67, gamma=0.333334;, score=0.570 total time=   0.0s\n",
      "[CV 3/5] END .......C=666666.67, gamma=0.333334;, score=0.579 total time=   0.0s\n",
      "[CV 4/5] END .......C=666666.67, gamma=0.333334;, score=0.601 total time=   0.0s\n",
      "[CV 5/5] END .......C=666666.67, gamma=0.333334;, score=0.579 total time=   0.0s\n",
      "[CV 1/5] END C=666666.67, gamma=0.22222299999999995;, score=0.564 total time=   0.0s\n",
      "[CV 2/5] END C=666666.67, gamma=0.22222299999999995;, score=0.575 total time=   0.0s\n",
      "[CV 3/5] END C=666666.67, gamma=0.22222299999999995;, score=0.596 total time=   0.0s\n",
      "[CV 4/5] END C=666666.67, gamma=0.22222299999999995;, score=0.596 total time=   0.0s\n",
      "[CV 5/5] END C=666666.67, gamma=0.22222299999999995;, score=0.567 total time=   0.0s\n",
      "[CV 1/5] END C=666666.67, gamma=0.11111199999999999;, score=0.553 total time=   0.0s\n",
      "[CV 2/5] END C=666666.67, gamma=0.11111199999999999;, score=0.581 total time=   0.0s\n",
      "[CV 3/5] END C=666666.67, gamma=0.11111199999999999;, score=0.618 total time=   0.0s\n",
      "[CV 4/5] END C=666666.67, gamma=0.11111199999999999;, score=0.579 total time=   0.0s\n",
      "[CV 5/5] END C=666666.67, gamma=0.11111199999999999;, score=0.562 total time=   0.0s\n",
      "[CV 1/5] END ..........C=666666.67, gamma=1e-06;, score=0.670 total time=   0.0s\n",
      "[CV 2/5] END ..........C=666666.67, gamma=1e-06;, score=0.654 total time=   0.0s\n",
      "[CV 3/5] END ..........C=666666.67, gamma=1e-06;, score=0.652 total time=   0.0s\n",
      "[CV 4/5] END ..........C=666666.67, gamma=1e-06;, score=0.674 total time=   0.0s\n",
      "[CV 5/5] END ..........C=666666.67, gamma=1e-06;, score=0.680 total time=   0.0s\n",
      "[CV 1/5] END ............C=777777.78, gamma=1.0;, score=0.587 total time=   0.0s\n",
      "[CV 2/5] END ............C=777777.78, gamma=1.0;, score=0.603 total time=   0.0s\n",
      "[CV 3/5] END ............C=777777.78, gamma=1.0;, score=0.579 total time=   0.0s\n",
      "[CV 4/5] END ............C=777777.78, gamma=1.0;, score=0.545 total time=   0.0s\n",
      "[CV 5/5] END ............C=777777.78, gamma=1.0;, score=0.579 total time=   0.0s\n",
      "[CV 1/5] END .......C=777777.78, gamma=0.888889;, score=0.587 total time=   0.0s\n",
      "[CV 2/5] END .......C=777777.78, gamma=0.888889;, score=0.603 total time=   0.0s\n",
      "[CV 3/5] END .......C=777777.78, gamma=0.888889;, score=0.562 total time=   0.0s\n",
      "[CV 4/5] END .......C=777777.78, gamma=0.888889;, score=0.545 total time=   0.0s\n",
      "[CV 5/5] END .......C=777777.78, gamma=0.888889;, score=0.596 total time=   0.0s\n",
      "[CV 1/5] END .......C=777777.78, gamma=0.777778;, score=0.587 total time=   0.0s\n",
      "[CV 2/5] END .......C=777777.78, gamma=0.777778;, score=0.598 total time=   0.0s\n",
      "[CV 3/5] END .......C=777777.78, gamma=0.777778;, score=0.551 total time=   0.0s\n",
      "[CV 4/5] END .......C=777777.78, gamma=0.777778;, score=0.545 total time=   0.0s\n",
      "[CV 5/5] END .......C=777777.78, gamma=0.777778;, score=0.590 total time=   0.0s\n",
      "[CV 1/5] END .......C=777777.78, gamma=0.666667;, score=0.592 total time=   0.0s\n",
      "[CV 2/5] END .......C=777777.78, gamma=0.666667;, score=0.615 total time=   0.0s\n",
      "[CV 3/5] END .......C=777777.78, gamma=0.666667;, score=0.562 total time=   0.0s\n",
      "[CV 4/5] END .......C=777777.78, gamma=0.666667;, score=0.556 total time=   0.0s\n",
      "[CV 5/5] END .......C=777777.78, gamma=0.666667;, score=0.596 total time=   0.0s\n",
      "[CV 1/5] END C=777777.78, gamma=0.5555559999999999;, score=0.581 total time=   0.0s\n",
      "[CV 2/5] END C=777777.78, gamma=0.5555559999999999;, score=0.592 total time=   0.0s\n",
      "[CV 3/5] END C=777777.78, gamma=0.5555559999999999;, score=0.573 total time=   0.0s\n",
      "[CV 4/5] END C=777777.78, gamma=0.5555559999999999;, score=0.579 total time=   0.0s\n",
      "[CV 5/5] END C=777777.78, gamma=0.5555559999999999;, score=0.590 total time=   0.0s\n",
      "[CV 1/5] END .......C=777777.78, gamma=0.444445;, score=0.559 total time=   0.0s\n",
      "[CV 2/5] END .......C=777777.78, gamma=0.444445;, score=0.587 total time=   0.0s\n",
      "[CV 3/5] END .......C=777777.78, gamma=0.444445;, score=0.573 total time=   0.0s\n",
      "[CV 4/5] END .......C=777777.78, gamma=0.444445;, score=0.590 total time=   0.0s\n",
      "[CV 5/5] END .......C=777777.78, gamma=0.444445;, score=0.590 total time=   0.0s\n",
      "[CV 1/5] END .......C=777777.78, gamma=0.333334;, score=0.547 total time=   0.0s\n",
      "[CV 2/5] END .......C=777777.78, gamma=0.333334;, score=0.570 total time=   0.0s\n",
      "[CV 3/5] END .......C=777777.78, gamma=0.333334;, score=0.579 total time=   0.0s\n",
      "[CV 4/5] END .......C=777777.78, gamma=0.333334;, score=0.601 total time=   0.0s\n",
      "[CV 5/5] END .......C=777777.78, gamma=0.333334;, score=0.579 total time=   0.0s\n",
      "[CV 1/5] END C=777777.78, gamma=0.22222299999999995;, score=0.564 total time=   0.0s\n",
      "[CV 2/5] END C=777777.78, gamma=0.22222299999999995;, score=0.575 total time=   0.0s\n",
      "[CV 3/5] END C=777777.78, gamma=0.22222299999999995;, score=0.596 total time=   0.0s\n",
      "[CV 4/5] END C=777777.78, gamma=0.22222299999999995;, score=0.596 total time=   0.0s\n",
      "[CV 5/5] END C=777777.78, gamma=0.22222299999999995;, score=0.567 total time=   0.0s\n",
      "[CV 1/5] END C=777777.78, gamma=0.11111199999999999;, score=0.553 total time=   0.0s\n",
      "[CV 2/5] END C=777777.78, gamma=0.11111199999999999;, score=0.581 total time=   0.0s\n",
      "[CV 3/5] END C=777777.78, gamma=0.11111199999999999;, score=0.618 total time=   0.0s\n",
      "[CV 4/5] END C=777777.78, gamma=0.11111199999999999;, score=0.579 total time=   0.0s\n",
      "[CV 5/5] END C=777777.78, gamma=0.11111199999999999;, score=0.562 total time=   0.0s\n",
      "[CV 1/5] END ..........C=777777.78, gamma=1e-06;, score=0.665 total time=   0.0s\n",
      "[CV 2/5] END ..........C=777777.78, gamma=1e-06;, score=0.659 total time=   0.0s\n",
      "[CV 3/5] END ..........C=777777.78, gamma=1e-06;, score=0.663 total time=   0.0s\n",
      "[CV 4/5] END ..........C=777777.78, gamma=1e-06;, score=0.663 total time=   0.0s\n",
      "[CV 5/5] END ..........C=777777.78, gamma=1e-06;, score=0.685 total time=   0.0s\n",
      "[CV 1/5] END ............C=888888.89, gamma=1.0;, score=0.587 total time=   0.0s\n",
      "[CV 2/5] END ............C=888888.89, gamma=1.0;, score=0.603 total time=   0.0s\n",
      "[CV 3/5] END ............C=888888.89, gamma=1.0;, score=0.579 total time=   0.0s\n",
      "[CV 4/5] END ............C=888888.89, gamma=1.0;, score=0.545 total time=   0.0s\n",
      "[CV 5/5] END ............C=888888.89, gamma=1.0;, score=0.579 total time=   0.0s\n",
      "[CV 1/5] END .......C=888888.89, gamma=0.888889;, score=0.587 total time=   0.0s\n",
      "[CV 2/5] END .......C=888888.89, gamma=0.888889;, score=0.603 total time=   0.0s\n",
      "[CV 3/5] END .......C=888888.89, gamma=0.888889;, score=0.562 total time=   0.0s\n",
      "[CV 4/5] END .......C=888888.89, gamma=0.888889;, score=0.545 total time=   0.0s\n",
      "[CV 5/5] END .......C=888888.89, gamma=0.888889;, score=0.596 total time=   0.0s\n",
      "[CV 1/5] END .......C=888888.89, gamma=0.777778;, score=0.587 total time=   0.0s\n",
      "[CV 2/5] END .......C=888888.89, gamma=0.777778;, score=0.598 total time=   0.0s\n",
      "[CV 3/5] END .......C=888888.89, gamma=0.777778;, score=0.551 total time=   0.0s\n",
      "[CV 4/5] END .......C=888888.89, gamma=0.777778;, score=0.545 total time=   0.0s\n",
      "[CV 5/5] END .......C=888888.89, gamma=0.777778;, score=0.590 total time=   0.0s\n",
      "[CV 1/5] END .......C=888888.89, gamma=0.666667;, score=0.592 total time=   0.0s\n",
      "[CV 2/5] END .......C=888888.89, gamma=0.666667;, score=0.615 total time=   0.0s\n",
      "[CV 3/5] END .......C=888888.89, gamma=0.666667;, score=0.562 total time=   0.0s\n",
      "[CV 4/5] END .......C=888888.89, gamma=0.666667;, score=0.556 total time=   0.0s\n",
      "[CV 5/5] END .......C=888888.89, gamma=0.666667;, score=0.596 total time=   0.0s\n",
      "[CV 1/5] END C=888888.89, gamma=0.5555559999999999;, score=0.581 total time=   0.0s\n",
      "[CV 2/5] END C=888888.89, gamma=0.5555559999999999;, score=0.592 total time=   0.0s\n",
      "[CV 3/5] END C=888888.89, gamma=0.5555559999999999;, score=0.573 total time=   0.0s\n",
      "[CV 4/5] END C=888888.89, gamma=0.5555559999999999;, score=0.579 total time=   0.0s\n",
      "[CV 5/5] END C=888888.89, gamma=0.5555559999999999;, score=0.590 total time=   0.0s\n",
      "[CV 1/5] END .......C=888888.89, gamma=0.444445;, score=0.559 total time=   0.0s\n",
      "[CV 2/5] END .......C=888888.89, gamma=0.444445;, score=0.587 total time=   0.0s\n"
     ]
    },
    {
     "name": "stdout",
     "output_type": "stream",
     "text": [
      "[CV 3/5] END .......C=888888.89, gamma=0.444445;, score=0.573 total time=   0.0s\n",
      "[CV 4/5] END .......C=888888.89, gamma=0.444445;, score=0.590 total time=   0.0s\n",
      "[CV 5/5] END .......C=888888.89, gamma=0.444445;, score=0.590 total time=   0.0s\n",
      "[CV 1/5] END .......C=888888.89, gamma=0.333334;, score=0.547 total time=   0.0s\n",
      "[CV 2/5] END .......C=888888.89, gamma=0.333334;, score=0.570 total time=   0.0s\n",
      "[CV 3/5] END .......C=888888.89, gamma=0.333334;, score=0.579 total time=   0.0s\n",
      "[CV 4/5] END .......C=888888.89, gamma=0.333334;, score=0.601 total time=   0.0s\n",
      "[CV 5/5] END .......C=888888.89, gamma=0.333334;, score=0.579 total time=   0.0s\n",
      "[CV 1/5] END C=888888.89, gamma=0.22222299999999995;, score=0.564 total time=   0.0s\n",
      "[CV 2/5] END C=888888.89, gamma=0.22222299999999995;, score=0.575 total time=   0.0s\n",
      "[CV 3/5] END C=888888.89, gamma=0.22222299999999995;, score=0.596 total time=   0.0s\n",
      "[CV 4/5] END C=888888.89, gamma=0.22222299999999995;, score=0.596 total time=   0.0s\n",
      "[CV 5/5] END C=888888.89, gamma=0.22222299999999995;, score=0.567 total time=   0.0s\n",
      "[CV 1/5] END C=888888.89, gamma=0.11111199999999999;, score=0.553 total time=   0.0s\n",
      "[CV 2/5] END C=888888.89, gamma=0.11111199999999999;, score=0.581 total time=   0.0s\n",
      "[CV 3/5] END C=888888.89, gamma=0.11111199999999999;, score=0.618 total time=   0.0s\n",
      "[CV 4/5] END C=888888.89, gamma=0.11111199999999999;, score=0.579 total time=   0.0s\n",
      "[CV 5/5] END C=888888.89, gamma=0.11111199999999999;, score=0.562 total time=   0.0s\n",
      "[CV 1/5] END ..........C=888888.89, gamma=1e-06;, score=0.665 total time=   0.0s\n",
      "[CV 2/5] END ..........C=888888.89, gamma=1e-06;, score=0.654 total time=   0.0s\n",
      "[CV 3/5] END ..........C=888888.89, gamma=1e-06;, score=0.657 total time=   0.0s\n",
      "[CV 4/5] END ..........C=888888.89, gamma=1e-06;, score=0.685 total time=   0.0s\n",
      "[CV 5/5] END ..........C=888888.89, gamma=1e-06;, score=0.685 total time=   0.0s\n",
      "[CV 1/5] END ............C=1000000.0, gamma=1.0;, score=0.587 total time=   0.0s\n",
      "[CV 2/5] END ............C=1000000.0, gamma=1.0;, score=0.603 total time=   0.0s\n",
      "[CV 3/5] END ............C=1000000.0, gamma=1.0;, score=0.579 total time=   0.0s\n",
      "[CV 4/5] END ............C=1000000.0, gamma=1.0;, score=0.545 total time=   0.0s\n",
      "[CV 5/5] END ............C=1000000.0, gamma=1.0;, score=0.579 total time=   0.0s\n",
      "[CV 1/5] END .......C=1000000.0, gamma=0.888889;, score=0.587 total time=   0.0s\n",
      "[CV 2/5] END .......C=1000000.0, gamma=0.888889;, score=0.603 total time=   0.0s\n",
      "[CV 3/5] END .......C=1000000.0, gamma=0.888889;, score=0.562 total time=   0.0s\n",
      "[CV 4/5] END .......C=1000000.0, gamma=0.888889;, score=0.545 total time=   0.0s\n",
      "[CV 5/5] END .......C=1000000.0, gamma=0.888889;, score=0.596 total time=   0.0s\n",
      "[CV 1/5] END .......C=1000000.0, gamma=0.777778;, score=0.587 total time=   0.0s\n",
      "[CV 2/5] END .......C=1000000.0, gamma=0.777778;, score=0.598 total time=   0.0s\n",
      "[CV 3/5] END .......C=1000000.0, gamma=0.777778;, score=0.551 total time=   0.0s\n",
      "[CV 4/5] END .......C=1000000.0, gamma=0.777778;, score=0.545 total time=   0.0s\n",
      "[CV 5/5] END .......C=1000000.0, gamma=0.777778;, score=0.590 total time=   0.0s\n",
      "[CV 1/5] END .......C=1000000.0, gamma=0.666667;, score=0.592 total time=   0.0s\n",
      "[CV 2/5] END .......C=1000000.0, gamma=0.666667;, score=0.615 total time=   0.0s\n",
      "[CV 3/5] END .......C=1000000.0, gamma=0.666667;, score=0.562 total time=   0.0s\n",
      "[CV 4/5] END .......C=1000000.0, gamma=0.666667;, score=0.556 total time=   0.0s\n",
      "[CV 5/5] END .......C=1000000.0, gamma=0.666667;, score=0.596 total time=   0.0s\n",
      "[CV 1/5] END C=1000000.0, gamma=0.5555559999999999;, score=0.581 total time=   0.0s\n",
      "[CV 2/5] END C=1000000.0, gamma=0.5555559999999999;, score=0.592 total time=   0.0s\n",
      "[CV 3/5] END C=1000000.0, gamma=0.5555559999999999;, score=0.573 total time=   0.0s\n",
      "[CV 4/5] END C=1000000.0, gamma=0.5555559999999999;, score=0.579 total time=   0.0s\n",
      "[CV 5/5] END C=1000000.0, gamma=0.5555559999999999;, score=0.590 total time=   0.0s\n",
      "[CV 1/5] END .......C=1000000.0, gamma=0.444445;, score=0.559 total time=   0.0s\n",
      "[CV 2/5] END .......C=1000000.0, gamma=0.444445;, score=0.587 total time=   0.0s\n",
      "[CV 3/5] END .......C=1000000.0, gamma=0.444445;, score=0.573 total time=   0.0s\n",
      "[CV 4/5] END .......C=1000000.0, gamma=0.444445;, score=0.590 total time=   0.0s\n",
      "[CV 5/5] END .......C=1000000.0, gamma=0.444445;, score=0.590 total time=   0.0s\n",
      "[CV 1/5] END .......C=1000000.0, gamma=0.333334;, score=0.547 total time=   0.0s\n",
      "[CV 2/5] END .......C=1000000.0, gamma=0.333334;, score=0.570 total time=   0.0s\n",
      "[CV 3/5] END .......C=1000000.0, gamma=0.333334;, score=0.579 total time=   0.0s\n",
      "[CV 4/5] END .......C=1000000.0, gamma=0.333334;, score=0.601 total time=   0.0s\n",
      "[CV 5/5] END .......C=1000000.0, gamma=0.333334;, score=0.579 total time=   0.0s\n",
      "[CV 1/5] END C=1000000.0, gamma=0.22222299999999995;, score=0.564 total time=   0.0s\n",
      "[CV 2/5] END C=1000000.0, gamma=0.22222299999999995;, score=0.575 total time=   0.0s\n",
      "[CV 3/5] END C=1000000.0, gamma=0.22222299999999995;, score=0.596 total time=   0.0s\n",
      "[CV 4/5] END C=1000000.0, gamma=0.22222299999999995;, score=0.596 total time=   0.0s\n",
      "[CV 5/5] END C=1000000.0, gamma=0.22222299999999995;, score=0.567 total time=   0.0s\n",
      "[CV 1/5] END C=1000000.0, gamma=0.11111199999999999;, score=0.553 total time=   0.0s\n",
      "[CV 2/5] END C=1000000.0, gamma=0.11111199999999999;, score=0.581 total time=   0.0s\n",
      "[CV 3/5] END C=1000000.0, gamma=0.11111199999999999;, score=0.618 total time=   0.0s\n",
      "[CV 4/5] END C=1000000.0, gamma=0.11111199999999999;, score=0.579 total time=   0.0s\n",
      "[CV 5/5] END C=1000000.0, gamma=0.11111199999999999;, score=0.562 total time=   0.0s\n",
      "[CV 1/5] END ..........C=1000000.0, gamma=1e-06;, score=0.659 total time=   0.0s\n",
      "[CV 2/5] END ..........C=1000000.0, gamma=1e-06;, score=0.659 total time=   0.0s\n",
      "[CV 3/5] END ..........C=1000000.0, gamma=1e-06;, score=0.652 total time=   0.0s\n",
      "[CV 4/5] END ..........C=1000000.0, gamma=1e-06;, score=0.669 total time=   0.0s\n",
      "[CV 5/5] END ..........C=1000000.0, gamma=1e-06;, score=0.691 total time=   0.0s\n"
     ]
    },
    {
     "data": {
      "text/html": [
       "<style>#sk-container-id-9 {color: black;background-color: white;}#sk-container-id-9 pre{padding: 0;}#sk-container-id-9 div.sk-toggleable {background-color: white;}#sk-container-id-9 label.sk-toggleable__label {cursor: pointer;display: block;width: 100%;margin-bottom: 0;padding: 0.3em;box-sizing: border-box;text-align: center;}#sk-container-id-9 label.sk-toggleable__label-arrow:before {content: \"▸\";float: left;margin-right: 0.25em;color: #696969;}#sk-container-id-9 label.sk-toggleable__label-arrow:hover:before {color: black;}#sk-container-id-9 div.sk-estimator:hover label.sk-toggleable__label-arrow:before {color: black;}#sk-container-id-9 div.sk-toggleable__content {max-height: 0;max-width: 0;overflow: hidden;text-align: left;background-color: #f0f8ff;}#sk-container-id-9 div.sk-toggleable__content pre {margin: 0.2em;color: black;border-radius: 0.25em;background-color: #f0f8ff;}#sk-container-id-9 input.sk-toggleable__control:checked~div.sk-toggleable__content {max-height: 200px;max-width: 100%;overflow: auto;}#sk-container-id-9 input.sk-toggleable__control:checked~label.sk-toggleable__label-arrow:before {content: \"▾\";}#sk-container-id-9 div.sk-estimator input.sk-toggleable__control:checked~label.sk-toggleable__label {background-color: #d4ebff;}#sk-container-id-9 div.sk-label input.sk-toggleable__control:checked~label.sk-toggleable__label {background-color: #d4ebff;}#sk-container-id-9 input.sk-hidden--visually {border: 0;clip: rect(1px 1px 1px 1px);clip: rect(1px, 1px, 1px, 1px);height: 1px;margin: -1px;overflow: hidden;padding: 0;position: absolute;width: 1px;}#sk-container-id-9 div.sk-estimator {font-family: monospace;background-color: #f0f8ff;border: 1px dotted black;border-radius: 0.25em;box-sizing: border-box;margin-bottom: 0.5em;}#sk-container-id-9 div.sk-estimator:hover {background-color: #d4ebff;}#sk-container-id-9 div.sk-parallel-item::after {content: \"\";width: 100%;border-bottom: 1px solid gray;flex-grow: 1;}#sk-container-id-9 div.sk-label:hover label.sk-toggleable__label {background-color: #d4ebff;}#sk-container-id-9 div.sk-serial::before {content: \"\";position: absolute;border-left: 1px solid gray;box-sizing: border-box;top: 0;bottom: 0;left: 50%;z-index: 0;}#sk-container-id-9 div.sk-serial {display: flex;flex-direction: column;align-items: center;background-color: white;padding-right: 0.2em;padding-left: 0.2em;position: relative;}#sk-container-id-9 div.sk-item {position: relative;z-index: 1;}#sk-container-id-9 div.sk-parallel {display: flex;align-items: stretch;justify-content: center;background-color: white;position: relative;}#sk-container-id-9 div.sk-item::before, #sk-container-id-9 div.sk-parallel-item::before {content: \"\";position: absolute;border-left: 1px solid gray;box-sizing: border-box;top: 0;bottom: 0;left: 50%;z-index: -1;}#sk-container-id-9 div.sk-parallel-item {display: flex;flex-direction: column;z-index: 1;position: relative;background-color: white;}#sk-container-id-9 div.sk-parallel-item:first-child::after {align-self: flex-end;width: 50%;}#sk-container-id-9 div.sk-parallel-item:last-child::after {align-self: flex-start;width: 50%;}#sk-container-id-9 div.sk-parallel-item:only-child::after {width: 0;}#sk-container-id-9 div.sk-dashed-wrapped {border: 1px dashed gray;margin: 0 0.4em 0.5em 0.4em;box-sizing: border-box;padding-bottom: 0.4em;background-color: white;}#sk-container-id-9 div.sk-label label {font-family: monospace;font-weight: bold;display: inline-block;line-height: 1.2em;}#sk-container-id-9 div.sk-label-container {text-align: center;}#sk-container-id-9 div.sk-container {/* jupyter's `normalize.less` sets `[hidden] { display: none; }` but bootstrap.min.css set `[hidden] { display: none !important; }` so we also need the `!important` here to be able to override the default hidden behavior on the sphinx rendered scikit-learn.org. See: https://github.com/scikit-learn/scikit-learn/issues/21755 */display: inline-block !important;position: relative;}#sk-container-id-9 div.sk-text-repr-fallback {display: none;}</style><div id=\"sk-container-id-9\" class=\"sk-top-container\"><div class=\"sk-text-repr-fallback\"><pre>GridSearchCV(cv=5, estimator=SVC(),\n",
       "             param_grid={&#x27;C&#x27;: array([1.0000000e-02, 1.1111112e+05, 2.2222223e+05, 3.3333334e+05,\n",
       "       4.4444445e+05, 5.5555556e+05, 6.6666667e+05, 7.7777778e+05,\n",
       "       8.8888889e+05, 1.0000000e+06]),\n",
       "                         &#x27;gamma&#x27;: array([1.00000e+00, 8.88889e-01, 7.77778e-01, 6.66667e-01, 5.55556e-01,\n",
       "       4.44445e-01, 3.33334e-01, 2.22223e-01, 1.11112e-01, 1.00000e-06])},\n",
       "             verbose=3)</pre><b>In a Jupyter environment, please rerun this cell to show the HTML representation or trust the notebook. <br />On GitHub, the HTML representation is unable to render, please try loading this page with nbviewer.org.</b></div><div class=\"sk-container\" hidden><div class=\"sk-item sk-dashed-wrapped\"><div class=\"sk-label-container\"><div class=\"sk-label sk-toggleable\"><input class=\"sk-toggleable__control sk-hidden--visually\" id=\"sk-estimator-id-21\" type=\"checkbox\" ><label for=\"sk-estimator-id-21\" class=\"sk-toggleable__label sk-toggleable__label-arrow\">GridSearchCV</label><div class=\"sk-toggleable__content\"><pre>GridSearchCV(cv=5, estimator=SVC(),\n",
       "             param_grid={&#x27;C&#x27;: array([1.0000000e-02, 1.1111112e+05, 2.2222223e+05, 3.3333334e+05,\n",
       "       4.4444445e+05, 5.5555556e+05, 6.6666667e+05, 7.7777778e+05,\n",
       "       8.8888889e+05, 1.0000000e+06]),\n",
       "                         &#x27;gamma&#x27;: array([1.00000e+00, 8.88889e-01, 7.77778e-01, 6.66667e-01, 5.55556e-01,\n",
       "       4.44445e-01, 3.33334e-01, 2.22223e-01, 1.11112e-01, 1.00000e-06])},\n",
       "             verbose=3)</pre></div></div></div><div class=\"sk-parallel\"><div class=\"sk-parallel-item\"><div class=\"sk-item\"><div class=\"sk-label-container\"><div class=\"sk-label sk-toggleable\"><input class=\"sk-toggleable__control sk-hidden--visually\" id=\"sk-estimator-id-22\" type=\"checkbox\" ><label for=\"sk-estimator-id-22\" class=\"sk-toggleable__label sk-toggleable__label-arrow\">estimator: SVC</label><div class=\"sk-toggleable__content\"><pre>SVC()</pre></div></div></div><div class=\"sk-serial\"><div class=\"sk-item\"><div class=\"sk-estimator sk-toggleable\"><input class=\"sk-toggleable__control sk-hidden--visually\" id=\"sk-estimator-id-23\" type=\"checkbox\" ><label for=\"sk-estimator-id-23\" class=\"sk-toggleable__label sk-toggleable__label-arrow\">SVC</label><div class=\"sk-toggleable__content\"><pre>SVC()</pre></div></div></div></div></div></div></div></div></div></div>"
      ],
      "text/plain": [
       "GridSearchCV(cv=5, estimator=SVC(),\n",
       "             param_grid={'C': array([1.0000000e-02, 1.1111112e+05, 2.2222223e+05, 3.3333334e+05,\n",
       "       4.4444445e+05, 5.5555556e+05, 6.6666667e+05, 7.7777778e+05,\n",
       "       8.8888889e+05, 1.0000000e+06]),\n",
       "                         'gamma': array([1.00000e+00, 8.88889e-01, 7.77778e-01, 6.66667e-01, 5.55556e-01,\n",
       "       4.44445e-01, 3.33334e-01, 2.22223e-01, 1.11112e-01, 1.00000e-06])},\n",
       "             verbose=3)"
      ]
     },
     "execution_count": 84,
     "metadata": {},
     "output_type": "execute_result"
    }
   ],
   "source": [
    "svc_model = SVC()\n",
    "grid = GridSearchCV(svc_model, param_grid, cv=5, verbose=3)\n",
    "grid.fit(X_train, y_train)\n",
    "# TODO: Fit the grid"
   ]
  },
  {
   "cell_type": "code",
   "execution_count": 85,
   "metadata": {},
   "outputs": [],
   "source": [
    "grid_predictions = grid.predict(X_test)"
   ]
  },
  {
   "cell_type": "code",
   "execution_count": 86,
   "metadata": {},
   "outputs": [
    {
     "name": "stdout",
     "output_type": "stream",
     "text": [
      "              precision    recall  f1-score   support\n",
      "\n",
      "           0       0.71      0.74      0.72       111\n",
      "           1       0.73      0.70      0.71       112\n",
      "\n",
      "    accuracy                           0.72       223\n",
      "   macro avg       0.72      0.72      0.72       223\n",
      "weighted avg       0.72      0.72      0.72       223\n",
      "\n"
     ]
    }
   ],
   "source": [
    "# TODO: Print the classification report\n",
    "print(classification_report(y_test, grid_predictions))"
   ]
  },
  {
   "cell_type": "code",
   "execution_count": 87,
   "metadata": {},
   "outputs": [
    {
     "name": "stdout",
     "output_type": "stream",
     "text": [
      "[[82 29]\n",
      " [34 78]]\n"
     ]
    }
   ],
   "source": [
    "# TODO: Print the confusion matrix\n",
    "print(confusion_matrix(y_test, grid_predictions))"
   ]
  },
  {
   "cell_type": "markdown",
   "metadata": {},
   "source": [
    "### Observations and results"
   ]
  },
  {
   "cell_type": "markdown",
   "metadata": {},
   "source": [
    "Write down your observations"
   ]
  },
  {
   "cell_type": "code",
   "execution_count": 88,
   "metadata": {},
   "outputs": [
    {
     "data": {
      "text/plain": [
       "['mean_fit_time',\n",
       " 'std_fit_time',\n",
       " 'mean_score_time',\n",
       " 'std_score_time',\n",
       " 'param_C',\n",
       " 'param_gamma',\n",
       " 'params',\n",
       " 'split0_test_score',\n",
       " 'split1_test_score',\n",
       " 'split2_test_score',\n",
       " 'split3_test_score',\n",
       " 'split4_test_score',\n",
       " 'mean_test_score',\n",
       " 'std_test_score',\n",
       " 'rank_test_score']"
      ]
     },
     "execution_count": 88,
     "metadata": {},
     "output_type": "execute_result"
    }
   ],
   "source": [
    "# TODO: Compare the accuracy of the models\n",
    "list(grid.cv_results_.keys())"
   ]
  },
  {
   "cell_type": "code",
   "execution_count": 89,
   "metadata": {},
   "outputs": [
    {
     "data": {
      "image/png": "[encoded data removed]",
      "text/plain": [
       "<Figure size 640x480 with 1 Axes>"
      ]
     },
     "metadata": {},
     "output_type": "display_data"
    }
   ],
   "source": [
    "results = pd.DataFrame(grid.cv_results_)\n",
    "\n",
    "# select columns with best parameters and score\n",
    "desired_cols = ['param_gamma', 'mean_test_score']\n",
    "desired_results = results[desired_cols]\n",
    "\n",
    "# plot results using seaborn's barplot function\n",
    "sns.barplot(x='param_gamma', y='mean_test_score', data=desired_results)\n",
    "plt.title('Accuracy of Best Models from GridSearchCV-- Gamma')\n",
    "plt.ylabel('Mean Test Accuracy')\n",
    "\n",
    "plt.xticks(rotation=90)\n",
    "\n",
    "plt.show()"
   ]
  },
  {
   "cell_type": "code",
   "execution_count": 90,
   "metadata": {},
   "outputs": [
    {
     "data": {
      "image/png": "[encoded data removed]",
      "text/plain": [
       "<Figure size 640x480 with 1 Axes>"
      ]
     },
     "metadata": {},
     "output_type": "display_data"
    }
   ],
   "source": [
    "\n",
    "# select columns with best parameters and score\n",
    "desired_cols = ['param_C', 'mean_test_score']\n",
    "desired_results = results[desired_cols]\n",
    "\n",
    "# plot results using seaborn's barplot function\n",
    "sns.barplot(x='param_C', y='mean_test_score', data=desired_results)\n",
    "plt.title('Accuracy of Best Models from GridSearchCV-- C')\n",
    "plt.ylabel('Mean Test Accuracy')\n",
    "\n",
    "plt.xticks(rotation=90)\n",
    "\n",
    "plt.show()"
   ]
  },
  {
   "cell_type": "code",
   "execution_count": 91,
   "metadata": {},
   "outputs": [
    {
     "name": "stdout",
     "output_type": "stream",
     "text": [
      "{'C': 888888.89, 'gamma': 1e-06}\n"
     ]
    }
   ],
   "source": [
    "print(grid.best_params_)"
   ]
  },
  {
   "cell_type": "markdown",
   "metadata": {},
   "source": [
    "## It seems the best model performance was achieved when a high C value and a low gamma value was used"
   ]
  },
  {
   "cell_type": "code",
   "execution_count": null,
   "metadata": {},
   "outputs": [],
   "source": []
  },
  {
   "cell_type": "code",
   "execution_count": null,
   "metadata": {},
   "outputs": [],
   "source": []
  },
  {
   "cell_type": "code",
   "execution_count": null,
   "metadata": {},
   "outputs": [],
   "source": []
  },
  {
   "cell_type": "code",
   "execution_count": null,
   "metadata": {},
   "outputs": [],
   "source": []
  }
 ],
 "metadata": {
  "kernelspec": {
   "display_name": "Python 3 (ipykernel)",
   "language": "python",
   "name": "python3"
  },
  "language_info": {
   "codemirror_mode": {
    "name": "ipython",
    "version": 3
   },
   "file_extension": ".py",
   "mimetype": "text/x-python",
   "name": "python",
   "nbconvert_exporter": "python",
   "pygments_lexer": "ipython3",
   "version": "3.11.0"
  }
 },
 "nbformat": 4,
 "nbformat_minor": 4
}
