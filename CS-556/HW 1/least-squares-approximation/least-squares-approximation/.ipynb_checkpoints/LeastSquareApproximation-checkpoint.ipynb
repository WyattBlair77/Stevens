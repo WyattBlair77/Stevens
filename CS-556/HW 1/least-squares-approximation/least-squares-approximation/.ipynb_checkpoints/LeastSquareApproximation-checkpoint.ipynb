{
 "cells": [
  {
   "cell_type": "markdown",
   "metadata": {
    "id": "tjibPXKwiPHc"
   },
   "source": [
    "# Part 1"
   ]
  },
  {
   "cell_type": "markdown",
   "metadata": {
    "id": "IaGBUPjizekd"
   },
   "source": [
    "### Q1) Create a function to add two 3x3 matrices. Each matrix is represented as a list of lists. The function takes two parameters and returns the computed matrix. Do not use numpy for computation."
   ]
  },
  {
   "cell_type": "code",
   "execution_count": 14,
   "metadata": {
    "id": "v2PvkQcxzeke"
   },
   "outputs": [],
   "source": [
    "def add_matrices(matrix_a, matrix_b):\n",
    "    \n",
    "    result = [\n",
    "        [\n",
    "            a + b\n",
    "            for a, b in zip(a_row, b_row)\n",
    "        ]\n",
    "        for a_row, b_row in zip(matrix_a, matrix_b)\n",
    "    ]\n",
    "    \n",
    "    return result\n",
    "\n"
   ]
  },
  {
   "cell_type": "code",
   "execution_count": 15,
   "metadata": {},
   "outputs": [
    {
     "name": "stdout",
     "output_type": "stream",
     "text": [
      "[[10, 10, 10], [10, 10, 10], [10, 10, 10]]\n"
     ]
    }
   ],
   "source": [
    "a_mat = [[1, 2, 3], [4, 5, 6], [7, 8, 9]]\n",
    "b_mat = [[9, 8, 7], [6, 5, 4], [3, 2, 1]]\n",
    "\n",
    "# Should only have 10s in the resulting matrix\n",
    "result = add_matricies(a_mat, b_mat)\n",
    "print(result)"
   ]
  },
  {
   "cell_type": "markdown",
   "metadata": {
    "id": "a41svUpJzekf"
   },
   "source": [
    "\n",
    "### Q2) Now solve the above question using numpy "
   ]
  },
  {
   "cell_type": "code",
   "execution_count": 18,
   "metadata": {
    "id": "3FAI9ta8zekg"
   },
   "outputs": [],
   "source": [
    "import numpy as np\n",
    "add_matrices_numpy = lambda matrix_a,matrix_b: np.array(matrix_a) + np.array(matrix_b)"
   ]
  },
  {
   "cell_type": "code",
   "execution_count": 20,
   "metadata": {
    "id": "Y6mpsfgOiPHf",
    "outputId": "3335a2a8-12e5-4069-b66e-dd03a68e0781"
   },
   "outputs": [
    {
     "name": "stdout",
     "output_type": "stream",
     "text": [
      "result1:\n",
      "[17, 15, 4]\n",
      "[10, 12, 9]\n",
      "[11, 13, 18]\n",
      "==================================================\n",
      "result2:\n",
      "[17 15  4]\n",
      "[10 12  9]\n",
      "[11 13 18]\n"
     ]
    }
   ],
   "source": [
    "#Sample output\n",
    "X = [[12,7,3],\n",
    "    [4 ,5,6],\n",
    "    [7 ,8,9]]\n",
    "\n",
    "Y = [[5,8,1],\n",
    "    [6,7,3],\n",
    "    [4,5,9]]\n",
    "\n",
    "result1 = add_matrices(X,Y)\n",
    "result2 = add_matrices_numpy(X,Y)\n",
    "\n",
    "print('result1:')\n",
    "for r in result1:\n",
    "    print(r)\n",
    "print('='*50)\n",
    "print('result2:')\n",
    "for r in result2:\n",
    "    print(r)"
   ]
  },
  {
   "cell_type": "markdown",
   "metadata": {
    "id": "qWv0tAzozekg"
   },
   "source": [
    "### Q3)  Create a function to multiply two 3x3 matrices. Each matrix is represented as a list of lists. The function takes two parameters and returns the computed matrix. Do not use numpy for computation."
   ]
  },
  {
   "cell_type": "code",
   "execution_count": 41,
   "metadata": {
    "id": "Lf90MWn2zekg"
   },
   "outputs": [],
   "source": [
    "def multiply_matrixes(matrix_a, matrix_b):\n",
    "    \n",
    "    result = [\n",
    "        [\n",
    "            sum(\n",
    "                a*b \n",
    "                for a,b in zip(a_row, b_col)\n",
    "            ) \n",
    "            for b_col in zip(*matrix_b)\n",
    "        ] \n",
    "        for a_row in matrix_a\n",
    "    ]\n",
    "\n",
    "    return result"
   ]
  },
  {
   "cell_type": "code",
   "execution_count": 42,
   "metadata": {},
   "outputs": [
    {
     "name": "stdout",
     "output_type": "stream",
     "text": [
      "[30, 24, 18]\n",
      "[84, 69, 54]\n",
      "[138, 114, 90]\n"
     ]
    }
   ],
   "source": [
    "a_mat = [[1, 2, 3], [4, 5, 6], [7, 8, 9]]\n",
    "b_mat = [[9, 8, 7], [6, 5, 4], [3, 2, 1]]\n",
    "\n",
    "result = multiply_matrixes(a_mat, b_mat)\n",
    "for r in result:\n",
    "    print(r)"
   ]
  },
  {
   "cell_type": "markdown",
   "metadata": {
    "id": "LpHXaW-Azekg"
   },
   "source": [
    "### Q4) Now solve the above question using numpy"
   ]
  },
  {
   "cell_type": "code",
   "execution_count": 50,
   "metadata": {
    "id": "qcaIf4WDzekg"
   },
   "outputs": [],
   "source": [
    "def multiply_matrices_numpy(matrix_a,matrix_b):\n",
    "    \n",
    "    return np.array(matrix_a) @ np.array(matrix_b)"
   ]
  },
  {
   "cell_type": "code",
   "execution_count": 51,
   "metadata": {
    "id": "NLqJ6JXFiPHg",
    "outputId": "3a5bf791-327d-4e06-b856-e3e0086770d3"
   },
   "outputs": [
    {
     "name": "stdout",
     "output_type": "stream",
     "text": [
      "result1:\n",
      "[114, 160, 60, 27]\n",
      "[74, 97, 73, 14]\n",
      "[119, 157, 112, 23]\n",
      "==================================================\n",
      "result2:\n",
      "[114 160  60  27]\n",
      "[74 97 73 14]\n",
      "[119 157 112  23]\n"
     ]
    }
   ],
   "source": [
    "#sample output\n",
    "X = [[12,7,3],\n",
    "    [4 ,5,6],\n",
    "    [7 ,8,9]]\n",
    "\n",
    "Y = [[5,8,1,2],\n",
    "    [6,7,3,0],\n",
    "    [4,5,9,1]]\n",
    "\n",
    "result1 = multiply_matrixes(X,Y)\n",
    "result2 = multiply_matrices_numpy(X,Y)\n",
    "\n",
    "print('result1:')\n",
    "for r in result1:\n",
    "    print(r)\n",
    "print('='*50)\n",
    "print('result2:')\n",
    "for r in result2:\n",
    "    print(r)"
   ]
  },
  {
   "cell_type": "markdown",
   "metadata": {
    "id": "5EPXLe5dzopF"
   },
   "source": [
    "### Q5) Create a function to find transpose of a matrices. Matrix is represented as a list of lists. The function takes one parameters and returns the computed matrix. Do not use numpy for computation."
   ]
  },
  {
   "cell_type": "code",
   "execution_count": 60,
   "metadata": {
    "id": "TkgvWXoWzoQV"
   },
   "outputs": [],
   "source": [
    "def transpose_matrix(matrix):\n",
    "    \n",
    "    num_rows, num_cols = len(matrix), len(matrix[0])\n",
    "    matrix_T = [[0 for i in range(num_rows)] for j in range(num_cols)]\n",
    "    \n",
    "    for i in range(num_rows):\n",
    "        for j in range(num_cols):\n",
    "            \n",
    "            matrix_T[j][i] = matrix[i][j]\n",
    "        \n",
    "    return matrix_T"
   ]
  },
  {
   "cell_type": "code",
   "execution_count": 61,
   "metadata": {},
   "outputs": [
    {
     "name": "stdout",
     "output_type": "stream",
     "text": [
      "[1, 4, 7]\n",
      "[2, 5, 8]\n",
      "[3, 6, 9]\n"
     ]
    }
   ],
   "source": [
    "a_mat = [[1, 2, 3], [4, 5, 6], [7, 8, 9]]\n",
    "for r in transpose(a_mat):\n",
    "    print(r)"
   ]
  },
  {
   "cell_type": "markdown",
   "metadata": {
    "id": "9X3cCXCk0OqB"
   },
   "source": [
    "### Q6) Now solve the above question using numpy"
   ]
  },
  {
   "cell_type": "code",
   "execution_count": 64,
   "metadata": {
    "id": "EfHDvFc40TCL"
   },
   "outputs": [],
   "source": [
    "def transpose_matrix_numpy(matrix_a):\n",
    "    return np.array(matrix_a).T"
   ]
  },
  {
   "cell_type": "code",
   "execution_count": 65,
   "metadata": {
    "colab": {
     "base_uri": "https://localhost:8080/"
    },
    "id": "sD_-x7lYitEc",
    "outputId": "8151d806-90b0-4885-b076-320bcf9e4047"
   },
   "outputs": [
    {
     "name": "stdout",
     "output_type": "stream",
     "text": [
      "[12, 4, 3]\n",
      "[7, 5, 8]\n"
     ]
    }
   ],
   "source": [
    "#sample output\n",
    "X = [[12,7],\n",
    "    [4 ,5],\n",
    "    [3 ,8]]\n",
    "\n",
    "result = transpose_matrix(X)\n",
    "\n",
    "for r in result:\n",
    "    print(r)"
   ]
  },
  {
   "cell_type": "markdown",
   "metadata": {
    "id": "vobv9PY-0tee"
   },
   "source": [
    "### Q7) Create a function to find inverse of a matrix. Matrix is represented as a list of lists. The function takes one parameters and returns the computed matrix. You can use numpy. "
   ]
  },
  {
   "cell_type": "code",
   "execution_count": 66,
   "metadata": {
    "id": "PcxkHUHa0svR"
   },
   "outputs": [],
   "source": [
    "def inverse_matrix(matrix_a):\n",
    "    \n",
    "    a, b, c, d = matrix_a[0][0], matrix_a[0][1], matrix_a[1][0], matrix_a[1][1]\n",
    "    K = a*d - b*c\n",
    "    \n",
    "    result = [\n",
    "        [d/K, -b/K], \n",
    "        [-c/K, a/K]\n",
    "    ]\n",
    "    \n",
    "    return result"
   ]
  },
  {
   "cell_type": "code",
   "execution_count": 115,
   "metadata": {
    "colab": {
     "base_uri": "https://localhost:8080/"
    },
    "id": "ATRMy6iCkDmx",
    "outputId": "c784f979-1d82-4c0f-fe4b-3c1b76f06fd8"
   },
   "outputs": [
    {
     "name": "stdout",
     "output_type": "stream",
     "text": [
      "[5.0, -7.0]\n",
      "[-2.0, 3.0]\n"
     ]
    }
   ],
   "source": [
    "#sample output\n",
    "X= [[3, 7],\n",
    "    [2, 5]]\n",
    "\n",
    "result = inverse_matrix(X)\n",
    "\n",
    "for r in result:\n",
    "    print(r)"
   ]
  },
  {
   "cell_type": "markdown",
   "metadata": {
    "id": "XQg0h-vsol4u"
   },
   "source": [
    "\n",
    "### (Bonus points) Try to find inverse of 3x3 matrix without using numpy"
   ]
  },
  {
   "cell_type": "code",
   "execution_count": 70,
   "metadata": {
    "id": "P8w0TojxodBg"
   },
   "outputs": [],
   "source": [
    "def exclude_rows_and_cols(matrix, row, col):\n",
    "    \n",
    "    num_rows, num_cols = len(matrix), len(matrix[0])\n",
    "    \n",
    "    small_mat = [\n",
    "        [\n",
    "            matrix[i][j] for j in range(num_cols) if j != col\n",
    "        ]\n",
    "        for i in range(num_rows) if i != row\n",
    "    ]\n",
    "    \n",
    "    return small_mat\n",
    "\n",
    "def determinant_2d(matrix):\n",
    "    a, b, c, d = matrix[0][0], matrix[0][1], matrix[1][0], matrix[1][1]\n",
    "    K = a*d - b*c\n",
    "    \n",
    "    return K\n",
    "\n",
    "def determinant_3d(matrix):\n",
    "    \n",
    "    a, b, c = matrix[0][0], matrix[0][1], matrix[0][2]\n",
    "    \n",
    "    K1 = a * determinant_2d(exclude_rows_and_cols(matrix, 0, 0))\n",
    "    K2 = b * determinant_2d(exclude_rows_and_cols(matrix, 0, 1))\n",
    "    K3 = c * determinant_2d(exclude_rows_and_cols(matrix, 0, 2))\n",
    "    \n",
    "    K =  K1 - K2 + K3\n",
    "    \n",
    "    return K\n",
    "    \n",
    "def inverse_matrix_3x3(matrix):\n",
    "    \n",
    "    K = determinant_3d(matrix)\n",
    "    inverse_mat = [\n",
    "        [\n",
    "            determinant_2d(exclude_rows_and_cols(matrix, row, col)) / K\n",
    "            for col in range(3)\n",
    "        ]\n",
    "        \n",
    "        for row in range(3)\n",
    "    ]\n",
    "    \n",
    "    return inverse_mat"
   ]
  },
  {
   "cell_type": "code",
   "execution_count": 74,
   "metadata": {
    "colab": {
     "base_uri": "https://localhost:8080/"
    },
    "id": "uVdrdnUnl7rv",
    "outputId": "b2e7e137-f9b9-40d3-ae1f-ceb22e09a279"
   },
   "outputs": [
    {
     "name": "stdout",
     "output_type": "stream",
     "text": [
      "[-24.0, -20.0, -5.0]\n",
      "[-18.0, -15.0, -4.0]\n",
      "[5.0, 4.0, 1.0]\n"
     ]
    }
   ],
   "source": [
    "#sample output for bonus\n",
    "X = [[1, 2, 3],\n",
    "     [0, 1, 4],\n",
    "     [5, 6, 0]]\n",
    "\n",
    "result = inverse_matrix_3x3(X)\n",
    "\n",
    "for r in result:\n",
    "    print(r)"
   ]
  },
  {
   "cell_type": "markdown",
   "metadata": {
    "id": "1PQ4NmR06KF4"
   },
   "source": [
    "# Part 2"
   ]
  },
  {
   "cell_type": "markdown",
   "metadata": {
    "id": "KMd44j526QxT"
   },
   "source": [
    "1. Import the necessary libraries. For this assignment, we'll need `numpy`, `matplotlib.pyplot`, and `pandas`. For some of the longer module names, remember we can alias them using `as` to make their types easier to work with."
   ]
  },
  {
   "cell_type": "code",
   "execution_count": 75,
   "metadata": {
    "id": "pbV8-X0xsAHV"
   },
   "outputs": [],
   "source": [
    "import numpy as np\n",
    "import matplotlib.pyplot as plt\n",
    "import pandas as pd"
   ]
  },
  {
   "cell_type": "markdown",
   "metadata": {
    "id": "CIN14yHE6e0S"
   },
   "source": [
    "2. Open and load the CSV file `Salary_Data.csv` into a Pandas dataframe. Name the dataframe variable something unique, like 'data' or 'df'. Remember that for CSV files, there's a built-in Pandas function for reading their data."
   ]
  },
  {
   "cell_type": "code",
   "execution_count": 76,
   "metadata": {
    "id": "YLk-wAnwsA5i"
   },
   "outputs": [],
   "source": [
    "salary_data = pd.read_csv('./salary_data.csv')"
   ]
  },
  {
   "cell_type": "markdown",
   "metadata": {
    "id": "CZ9Z2o876gsR"
   },
   "source": [
    "3. Use the dataframe you created to print the first 5 items (the 'head') to the output. Utilize Pandas' built-in functions for this!"
   ]
  },
  {
   "cell_type": "code",
   "execution_count": 78,
   "metadata": {
    "colab": {
     "base_uri": "https://localhost:8080/"
    },
    "id": "WCzQIk6nrzII",
    "outputId": "c27939e3-d38c-4ed7-a64e-8daa724b2ce0"
   },
   "outputs": [
    {
     "data": {
      "text/html": [
       "<div>\n",
       "<style scoped>\n",
       "    .dataframe tbody tr th:only-of-type {\n",
       "        vertical-align: middle;\n",
       "    }\n",
       "\n",
       "    .dataframe tbody tr th {\n",
       "        vertical-align: top;\n",
       "    }\n",
       "\n",
       "    .dataframe thead th {\n",
       "        text-align: right;\n",
       "    }\n",
       "</style>\n",
       "<table border=\"1\" class=\"dataframe\">\n",
       "  <thead>\n",
       "    <tr style=\"text-align: right;\">\n",
       "      <th></th>\n",
       "      <th>YearsExperience</th>\n",
       "      <th>Salary</th>\n",
       "    </tr>\n",
       "  </thead>\n",
       "  <tbody>\n",
       "    <tr>\n",
       "      <th>0</th>\n",
       "      <td>1.1</td>\n",
       "      <td>39343.0</td>\n",
       "    </tr>\n",
       "    <tr>\n",
       "      <th>1</th>\n",
       "      <td>1.3</td>\n",
       "      <td>46205.0</td>\n",
       "    </tr>\n",
       "    <tr>\n",
       "      <th>2</th>\n",
       "      <td>1.5</td>\n",
       "      <td>37731.0</td>\n",
       "    </tr>\n",
       "    <tr>\n",
       "      <th>3</th>\n",
       "      <td>2.0</td>\n",
       "      <td>43525.0</td>\n",
       "    </tr>\n",
       "    <tr>\n",
       "      <th>4</th>\n",
       "      <td>2.2</td>\n",
       "      <td>39891.0</td>\n",
       "    </tr>\n",
       "  </tbody>\n",
       "</table>\n",
       "</div>"
      ],
      "text/plain": [
       "   YearsExperience   Salary\n",
       "0              1.1  39343.0\n",
       "1              1.3  46205.0\n",
       "2              1.5  37731.0\n",
       "3              2.0  43525.0\n",
       "4              2.2  39891.0"
      ]
     },
     "execution_count": 78,
     "metadata": {},
     "output_type": "execute_result"
    }
   ],
   "source": [
    "salary_data.head(5)"
   ]
  },
  {
   "cell_type": "markdown",
   "metadata": {
    "id": "0fxjfIan6yFD"
   },
   "source": [
    "4. Create a scatter plot using the Pandas dataframe. Make the X-axis years of experience, and the Y-axis the corresponding salary. Output the result. If you've done everything up to this point correctly, it should look like the following image:"
   ]
  },
  {
   "cell_type": "code",
   "execution_count": 83,
   "metadata": {
    "colab": {
     "base_uri": "https://localhost:8080/",
     "height": 282
    },
    "id": "3qKNxAs_puwy",
    "outputId": "1493d474-a0bf-4f0e-cb0d-8146ac315faa"
   },
   "outputs": [
    {
     "data": {
      "image/png": "[encoded data removed]",
      "text/plain": [
       "<Figure size 500x500 with 1 Axes>"
      ]
     },
     "metadata": {},
     "output_type": "display_data"
    }
   ],
   "source": [
    "x, y = salary_data['YearsExperience'], salary_data['Salary']\n",
    "\n",
    "fig, axs = plt.subplots(1,1, figsize=(5, 5))\n",
    "\n",
    "axs.scatter(x, y)\n",
    "\n",
    "axs.set_xlabel('Years of Experience')\n",
    "axs.set_ylabel('Salary')\n",
    "axs.set_title('Salary vs. Years of Experience')\n",
    "\n",
    "plt.show()"
   ]
  },
  {
   "cell_type": "markdown",
   "metadata": {
    "id": "v5jKlqei7CLI"
   },
   "source": [
    "5. Implement the Least Squares approximation, to find a straight line that best approximates the data we've been provided with and plotted in the previous question. We'll be implementing this system manually - you're **not** allowed to use an external library like `numpy.linalg` to solve. You will, however, want to use the `numpy` constructions for numbers and matrices we already imported to manipulate your data.\n",
    "\n",
    "    > As a refresher, the Least Squares Approximation finds values $\\theta_0, \\theta_1$ such that $y = \\theta_0 + \\theta_1x$ is an accurate approximation of the trend of the data provided.\n",
    "    > \n",
    "    > In matrix form:\n",
    "    > $$A = [1 , X]$$\n",
    "    > \n",
    "    > $A$ can be thought of as a column of $1$'s and a column of sample $x$ values. Then, we define $\\theta$ as:\n",
    "    > \n",
    "    > $$\\theta = [\\theta_0, \\theta_1]^t$$\n",
    "    > \n",
    "    > So $b = A \\theta$\n",
    "    > \n",
    "    > To find the approximate result, we can use the pseudo-inverse of A:\n",
    "$$\\theta = [(A^t A)^{(-1)} A^t] b$$"
   ]
  },
  {
   "cell_type": "code",
   "execution_count": 116,
   "metadata": {
    "id": "iq7dnhrLsC39"
   },
   "outputs": [],
   "source": [
    "def normal_equation(x, y):\n",
    "    \n",
    "    A = np.column_stack((np.ones_like(x), x))\n",
    "    theta = (np.linalg.inv(A.T @ A) @ A.T) @ y\n",
    "    \n",
    "    return theta\n",
    "\n",
    "def linear(x, theta):\n",
    "    \n",
    "    A = np.column_stack((np.ones_like(x), x))\n",
    "    return A @ theta\n",
    "    "
   ]
  },
  {
   "cell_type": "code",
   "execution_count": 117,
   "metadata": {},
   "outputs": [
    {
     "name": "stdout",
     "output_type": "stream",
     "text": [
      "[25792.20019867  9449.96232146]\n"
     ]
    }
   ],
   "source": [
    "theta = normal_equation(x, y)\n",
    "print(theta)"
   ]
  },
  {
   "cell_type": "markdown",
   "metadata": {
    "id": "VdG1Kldl7R2C"
   },
   "source": [
    "6. On top of the scatter plot you created in part **4**, we now want to use our calculated $\\theta$ to draw our approximate linear regression onto the plot surface. Start with the plot from earlier, and then use the `matplotlib.pyplot.plot` function to plot the predicted line from an array of $x_{pred}$ and $y_{pred}$ predictions. You'll need to likely compute $A$ for each section of the line in order to compute $y=A \\cdot \\theta$ for a given point - think about how you can use Numpy and matrices to calculate all of the points in the line at once!\n",
    "    If you've correctly set up your linear regression, as the end result you should see something that looks like this:\n",
    "\n",
    "    ![](o2.png)"
   ]
  },
  {
   "cell_type": "code",
   "execution_count": 120,
   "metadata": {
    "colab": {
     "base_uri": "https://localhost:8080/",
     "height": 291
    },
    "id": "UmX0g3WErl-w",
    "outputId": "b92e339a-ed9c-45a0-d89f-2ecb78d4be29"
   },
   "outputs": [
    {
     "data": {
      "image/png": "[encoded data removed]",
      "text/plain": [
       "<Figure size 500x500 with 1 Axes>"
      ]
     },
     "metadata": {},
     "output_type": "display_data"
    }
   ],
   "source": [
    "x, y = salary_data['YearsExperience'], salary_data['Salary']\n",
    "\n",
    "fig, axs = plt.subplots(1,1, figsize=(5, 5))\n",
    "\n",
    "axs.scatter(x, y)\n",
    "axs.plot(x, linear(x, theta), label='Line of Best Fit')\n",
    "\n",
    "axs.set_xlabel('Years of Experience')\n",
    "axs.set_ylabel('Salary')\n",
    "axs.set_title('Salary vs. Years of Experience')\n",
    "\n",
    "fig.legend()\n",
    "\n",
    "plt.show()"
   ]
  },
  {
   "cell_type": "code",
   "execution_count": null,
   "metadata": {},
   "outputs": [],
   "source": []
  },
  {
   "cell_type": "code",
   "execution_count": null,
   "metadata": {},
   "outputs": [],
   "source": []
  }
 ],
 "metadata": {
  "colab": {
   "provenance": []
  },
  "kernelspec": {
   "display_name": "Python 3 (ipykernel)",
   "language": "python",
   "name": "python3"
  },
  "language_info": {
   "codemirror_mode": {
    "name": "ipython",
    "version": 3
   },
   "file_extension": ".py",
   "mimetype": "text/x-python",
   "name": "python",
   "nbconvert_exporter": "python",
   "pygments_lexer": "ipython3",
   "version": "3.11.0"
  }
 },
 "nbformat": 4,
 "nbformat_minor": 1
}
